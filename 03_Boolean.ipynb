{
 "cells": [
  {
   "cell_type": "markdown",
   "id": "4d370a53",
   "metadata": {},
   "source": [
    "# Boolean"
   ]
  },
  {
   "cell_type": "code",
   "execution_count": 1,
   "id": "addf6d5c",
   "metadata": {},
   "outputs": [
    {
     "name": "stdout",
     "output_type": "stream",
     "text": [
      "n = 5\n",
      "True\n"
     ]
    }
   ],
   "source": [
    "# 1\n",
    "n = int(input(\"n = \"))\n",
    "print(n > 0)"
   ]
  },
  {
   "cell_type": "code",
   "execution_count": 3,
   "id": "8626c9f7",
   "metadata": {},
   "outputs": [
    {
     "name": "stdout",
     "output_type": "stream",
     "text": [
      "n = 5\n",
      "True\n"
     ]
    }
   ],
   "source": [
    "# 2\n",
    "n = int(input(\"n = \"))\n",
    "print(n % 2 != 0)"
   ]
  },
  {
   "cell_type": "code",
   "execution_count": 4,
   "id": "6a7024fd",
   "metadata": {},
   "outputs": [
    {
     "name": "stdout",
     "output_type": "stream",
     "text": [
      "n = 10\n",
      "True\n"
     ]
    }
   ],
   "source": [
    "# 3\n",
    "n = int(input(\"n = \"))\n",
    "print( n % 2 == 0)"
   ]
  },
  {
   "cell_type": "code",
   "execution_count": 5,
   "id": "32f86c79",
   "metadata": {},
   "outputs": [
    {
     "name": "stdout",
     "output_type": "stream",
     "text": [
      "a = 5\n",
      "b = 2\n",
      "True\n"
     ]
    }
   ],
   "source": [
    "# 4\n",
    "a = int(input(\"a = \"))\n",
    "b = int(input(\"b = \"))\n",
    "print(a > 2 and b <= 3)"
   ]
  },
  {
   "cell_type": "code",
   "execution_count": 6,
   "id": "e5646571",
   "metadata": {},
   "outputs": [
    {
     "name": "stdout",
     "output_type": "stream",
     "text": [
      "a = 4\n",
      "b = -5\n",
      "True\n"
     ]
    }
   ],
   "source": [
    "# 5\n",
    "a = int(input(\"a = \"))\n",
    "b = int(input(\"b = \"))\n",
    "print(a >= 0 or b < -2)"
   ]
  },
  {
   "cell_type": "code",
   "execution_count": 7,
   "id": "322ad0f7",
   "metadata": {},
   "outputs": [
    {
     "name": "stdout",
     "output_type": "stream",
     "text": [
      "a = 1\n",
      "b = 2\n",
      "c = 3\n",
      "True\n"
     ]
    }
   ],
   "source": [
    "# 6\n",
    "a = int(input(\"a = \"))\n",
    "b = int(input(\"b = \"))\n",
    "c = int(input(\"c = \"))\n",
    "print(a <= b <= c)"
   ]
  },
  {
   "cell_type": "code",
   "execution_count": 8,
   "id": "2da57cb6",
   "metadata": {},
   "outputs": [
    {
     "name": "stdout",
     "output_type": "stream",
     "text": [
      "a = 1\n",
      "b = 3\n",
      "c = 5\n",
      "True\n"
     ]
    }
   ],
   "source": [
    "# 7\n",
    "a = int(input(\"a = \"))\n",
    "b = int(input(\"b = \"))\n",
    "c = int(input(\"c = \"))\n",
    "print(b > a and b < c)"
   ]
  },
  {
   "cell_type": "code",
   "execution_count": 10,
   "id": "169531bc",
   "metadata": {},
   "outputs": [
    {
     "name": "stdout",
     "output_type": "stream",
     "text": [
      "a = 7\n",
      "b = 9\n",
      "True\n"
     ]
    }
   ],
   "source": [
    "# 8 \n",
    "a = int(input(\"a = \"))\n",
    "b = int(input(\"b = \"))\n",
    "print(a % 2 != 0 and b % 2 != 0)"
   ]
  },
  {
   "cell_type": "code",
   "execution_count": 11,
   "id": "197996d4",
   "metadata": {},
   "outputs": [
    {
     "name": "stdout",
     "output_type": "stream",
     "text": [
      "a = 4\n",
      "b = 5\n",
      "True\n"
     ]
    }
   ],
   "source": [
    "# 9\n",
    "a = int(input(\"a = \"))\n",
    "b = int(input(\"b = \"))\n",
    "print(a % 2 != 0 or b % 2 != 0)"
   ]
  },
  {
   "cell_type": "code",
   "execution_count": 14,
   "id": "a722fc56",
   "metadata": {},
   "outputs": [
    {
     "name": "stdout",
     "output_type": "stream",
     "text": [
      "a = 2\n",
      "b = 2\n",
      "False\n"
     ]
    }
   ],
   "source": [
    "# 10\n",
    "a = int(input(\"a = \"))\n",
    "b = int(input(\"b = \"))\n",
    "print((a % 2 != 0 and b % 2 == 0) or (a % 2 == 0 and b % 2 != 0))"
   ]
  },
  {
   "cell_type": "code",
   "execution_count": 15,
   "id": "0fee9882",
   "metadata": {},
   "outputs": [
    {
     "name": "stdout",
     "output_type": "stream",
     "text": [
      "a = 3\n",
      "b = 5\n",
      "True\n"
     ]
    }
   ],
   "source": [
    "# 11\n",
    "a = int(input(\"a = \"))\n",
    "b = int(input(\"b = \"))\n",
    "print((a % 2 != 0 and b % 2 != 0) or (a % 2 == 0 and b % 2 == 0))"
   ]
  },
  {
   "cell_type": "code",
   "execution_count": 16,
   "id": "2cf8701a",
   "metadata": {},
   "outputs": [
    {
     "name": "stdout",
     "output_type": "stream",
     "text": [
      "a = -1\n",
      "b = 2\n",
      "c = 4\n",
      "False\n"
     ]
    }
   ],
   "source": [
    "# 12\n",
    "a = int(input(\"a = \"))\n",
    "b = int(input(\"b = \"))\n",
    "c = int(input(\"c = \"))\n",
    "print(a > 0 and b > 0 and c > 0)"
   ]
  },
  {
   "cell_type": "code",
   "execution_count": 17,
   "id": "ff7d8d37",
   "metadata": {},
   "outputs": [
    {
     "name": "stdout",
     "output_type": "stream",
     "text": [
      "a = -2\n",
      "b = 5\n",
      "c = -1\n",
      "True\n"
     ]
    }
   ],
   "source": [
    "# 13\n",
    "a = int(input(\"a = \"))\n",
    "b = int(input(\"b = \"))\n",
    "c = int(input(\"c = \"))\n",
    "print(a > 0 or b > 0 or c > 0)"
   ]
  },
  {
   "cell_type": "code",
   "execution_count": 18,
   "id": "992d3d58",
   "metadata": {},
   "outputs": [
    {
     "name": "stdout",
     "output_type": "stream",
     "text": [
      "a = 1\n",
      "b = 2\n",
      "c = -3\n",
      "True\n"
     ]
    }
   ],
   "source": [
    "# 14\n",
    "a = int(input(\"a = \"))\n",
    "b = int(input(\"b = \"))\n",
    "c = int(input(\"c = \"))\n",
    "print((a > 0 and b > 0 and c < 0) or (a > 0 and b < 0 and c > 0) or (a < 0 and b > 0 and c > 0))"
   ]
  },
  {
   "cell_type": "code",
   "execution_count": 22,
   "id": "a84b22ee",
   "metadata": {},
   "outputs": [
    {
     "name": "stdout",
     "output_type": "stream",
     "text": [
      "a = -1\n",
      "b = -2\n",
      "c = 3\n",
      "False\n"
     ]
    }
   ],
   "source": [
    "# 15\n",
    "a = int(input(\"a = \"))\n",
    "b = int(input(\"b = \"))\n",
    "c = int(input(\"c = \"))\n",
    "print((a > 0 and b > 0 and c < 0) or (a > 0 and b < 0 and c > 0) or (a < 0 and b > 0 and c > 0))"
   ]
  },
  {
   "cell_type": "code",
   "execution_count": 23,
   "id": "ecc70221",
   "metadata": {},
   "outputs": [
    {
     "name": "stdout",
     "output_type": "stream",
     "text": [
      "a = 24\n",
      "True\n"
     ]
    }
   ],
   "source": [
    "# 16 \n",
    "a = int(input(\"a = \"))\n",
    "print(a < 100 and a > 10 and a % 2 == 0)"
   ]
  },
  {
   "cell_type": "code",
   "execution_count": 25,
   "id": "544b79ba",
   "metadata": {},
   "outputs": [
    {
     "name": "stdout",
     "output_type": "stream",
     "text": [
      "a = 33\n",
      "False\n"
     ]
    }
   ],
   "source": [
    "# 17 \n",
    "a = int(input(\"a = \"))\n",
    "print(a < 1000 and a > 100 and a % 2 != 0)"
   ]
  },
  {
   "cell_type": "code",
   "execution_count": 27,
   "id": "1208413e",
   "metadata": {},
   "outputs": [
    {
     "name": "stdout",
     "output_type": "stream",
     "text": [
      "a = 1\n",
      "b = 3\n",
      "c = 1\n",
      "True\n"
     ]
    }
   ],
   "source": [
    "# 18\n",
    "a = int(input(\"a = \"))\n",
    "b = int(input(\"b = \"))\n",
    "c = int(input(\"c = \"))\n",
    "print((a == 1 and b == 1) or (a ==1 and c == 1) or (b == 1 and c == 1))"
   ]
  },
  {
   "cell_type": "code",
   "execution_count": 30,
   "id": "d2749689",
   "metadata": {},
   "outputs": [
    {
     "name": "stdout",
     "output_type": "stream",
     "text": [
      "a = -2\n",
      "b = 2\n",
      "c = 1\n",
      "True\n"
     ]
    }
   ],
   "source": [
    "# 19\n",
    "a = int(input(\"a = \"))\n",
    "b = int(input(\"b = \"))\n",
    "c = int(input(\"c = \"))\n",
    "print(a == -b or c == -b or a == -c)"
   ]
  },
  {
   "cell_type": "code",
   "execution_count": 34,
   "id": "9290ba8e",
   "metadata": {},
   "outputs": [
    {
     "name": "stdout",
     "output_type": "stream",
     "text": [
      "n = 122\n",
      "False\n"
     ]
    }
   ],
   "source": [
    "# 20\n",
    "n = int(input(\"n = \"))\n",
    "print(n // 100 != n % 100 // 10 and n % 100 // 10 != n % 10)"
   ]
  },
  {
   "cell_type": "code",
   "execution_count": 40,
   "id": "0acc5e34",
   "metadata": {},
   "outputs": [
    {
     "name": "stdout",
     "output_type": "stream",
     "text": [
      "n = 345\n",
      "True\n"
     ]
    }
   ],
   "source": [
    "# 21\n",
    "n = int(input(\"n = \"))\n",
    "print(n % 10 > n % 100 // 10 and n % 100 // 10 > n // 100)"
   ]
  },
  {
   "cell_type": "code",
   "execution_count": 44,
   "id": "968aca88",
   "metadata": {},
   "outputs": [
    {
     "name": "stdout",
     "output_type": "stream",
     "text": [
      "n = 321\n",
      "True\n"
     ]
    }
   ],
   "source": [
    "# 22\n",
    "n = int(input(\"n = \"))\n",
    "print((n % 10 > n % 100 // 10 and n % 100 // 10 > n // 100) or (n % 10 < n % 100 // 10 and n % 100 // 10 < n // 100))"
   ]
  },
  {
   "cell_type": "code",
   "execution_count": 45,
   "id": "e1aa2c73",
   "metadata": {},
   "outputs": [
    {
     "name": "stdout",
     "output_type": "stream",
     "text": [
      "n = 121\n",
      "True\n"
     ]
    }
   ],
   "source": [
    "# 23\n",
    "n = int(input(\"n = \"))\n",
    "print(n % 10 == n // 100)"
   ]
  },
  {
   "cell_type": "code",
   "execution_count": 51,
   "id": "0bb140c6",
   "metadata": {},
   "outputs": [
    {
     "name": "stdout",
     "output_type": "stream",
     "text": [
      "a = 1\n",
      "b = 0\n",
      "c = -4\n",
      "True\n"
     ]
    }
   ],
   "source": [
    "# 24\n",
    "a = int(input(\"a = \"))\n",
    "b = int(input(\"b = \"))\n",
    "c = int(input(\"c = \"))\n",
    "print(b ** 2 - 4 * a * c >= 0 )"
   ]
  },
  {
   "cell_type": "code",
   "execution_count": 52,
   "id": "43d718ad",
   "metadata": {},
   "outputs": [
    {
     "name": "stdout",
     "output_type": "stream",
     "text": [
      "x = -3\n",
      "y = 3\n",
      "True\n"
     ]
    }
   ],
   "source": [
    "# 25\n",
    "x = int(input(\"x = \"))\n",
    "y = int(input(\"y = \"))\n",
    "print(x < 0 and y > 0)"
   ]
  },
  {
   "cell_type": "code",
   "execution_count": 2,
   "id": "8a521501",
   "metadata": {},
   "outputs": [
    {
     "name": "stdout",
     "output_type": "stream",
     "text": [
      "x = 4\n",
      "y = -4\n",
      "True\n"
     ]
    }
   ],
   "source": [
    "# 26\n",
    "x = int(input(\"x = \"))\n",
    "y = int(input(\"y = \"))\n",
    "print(x > 0 and y < 0)"
   ]
  },
  {
   "cell_type": "code",
   "execution_count": 3,
   "id": "5b883f9e",
   "metadata": {},
   "outputs": [
    {
     "name": "stdout",
     "output_type": "stream",
     "text": [
      "x = 4\n",
      "y = 4\n",
      "False\n"
     ]
    }
   ],
   "source": [
    "# 27\n",
    "x = int(input(\"x = \"))\n",
    "y = int(input(\"y = \"))\n",
    "print(x < 0 and y > 0)"
   ]
  },
  {
   "cell_type": "code",
   "execution_count": 4,
   "id": "1d958ced",
   "metadata": {},
   "outputs": [
    {
     "name": "stdout",
     "output_type": "stream",
     "text": [
      "x = -6\n",
      "y = -4\n",
      "True\n"
     ]
    }
   ],
   "source": [
    "# 28\n",
    "x = int(input(\"x = \"))\n",
    "y = int(input(\"y = \")) \n",
    "print((x > 0 and y > 0) or (x < 0 and y < 0))"
   ]
  },
  {
   "cell_type": "code",
   "execution_count": 6,
   "id": "26ce0a97",
   "metadata": {},
   "outputs": [
    {
     "name": "stdout",
     "output_type": "stream",
     "text": [
      "x = 3\n",
      "y = 4\n",
      "x1 = 1\n",
      "y1 = 7\n",
      "x2 = 9\n",
      "y2 = 2\n",
      "True\n"
     ]
    }
   ],
   "source": [
    "# 29\n",
    "x = int(input(\"x = \"))\n",
    "y = int(input(\"y = \")) \n",
    "x1 = int(input(\"x1 = \"))\n",
    "y1 = int(input(\"y1 = \")) \n",
    "x2 = int(input(\"x2 = \"))\n",
    "y2 = int(input(\"y2 = \")) \n",
    "print(y1 > y and x1 < x and y2 < y and x2 > x)"
   ]
  },
  {
   "cell_type": "code",
   "execution_count": 9,
   "id": "081972a8",
   "metadata": {},
   "outputs": [
    {
     "name": "stdout",
     "output_type": "stream",
     "text": [
      "a = 555\n",
      "b = 555\n",
      "c = 555\n",
      "True\n"
     ]
    }
   ],
   "source": [
    "# 30\n",
    "a = int(input(\"a = \"))\n",
    "b = int(input(\"b = \"))\n",
    "c = int(input(\"c = \"))\n",
    "print(a == b and b == c and a + b > c and a + c > b and b + c > a)\n"
   ]
  },
  {
   "cell_type": "code",
   "execution_count": 10,
   "id": "2f3f5cf5",
   "metadata": {},
   "outputs": [
    {
     "name": "stdout",
     "output_type": "stream",
     "text": [
      "a = 6\n",
      "b = 6\n",
      "c = 7\n",
      "True\n"
     ]
    }
   ],
   "source": [
    "# 31\n",
    "a = int(input(\"a = \"))\n",
    "b = int(input(\"b = \"))\n",
    "c = int(input(\"c = \"))\n",
    "print((a == b or b == c or a == c) and a + b > c and a + c > b and b + c > a)"
   ]
  },
  {
   "cell_type": "code",
   "execution_count": 13,
   "id": "82daf772",
   "metadata": {},
   "outputs": [
    {
     "name": "stdout",
     "output_type": "stream",
     "text": [
      "a = 3\n",
      "b = 4\n",
      "c = 5\n",
      "True\n"
     ]
    }
   ],
   "source": [
    "# 32\n",
    "a = int(input(\"a = \"))\n",
    "b = int(input(\"b = \"))\n",
    "c = int(input(\"c = \"))\n",
    "print(a + b >= c and a + c >= b and b + c >= a and (c ** 2 == a ** 2 + b ** 2 or a ** 2 == c ** 2 + b ** 2 or b ** 2 == a ** 2 + c ** 2  ))"
   ]
  },
  {
   "cell_type": "code",
   "execution_count": 15,
   "id": "7bcfd87e",
   "metadata": {},
   "outputs": [
    {
     "name": "stdout",
     "output_type": "stream",
     "text": [
      "a = 1\n",
      "b = 5\n",
      "c = 7\n",
      "False\n"
     ]
    }
   ],
   "source": [
    "# 33\n",
    "a = int(input(\"a = \"))\n",
    "b = int(input(\"b = \"))\n",
    "c = int(input(\"c = \"))\n",
    "print(a + b > c and a + c >= b and b + c > a)"
   ]
  },
  {
   "cell_type": "code",
   "execution_count": 25,
   "id": "64ee12d3",
   "metadata": {},
   "outputs": [
    {
     "name": "stdout",
     "output_type": "stream",
     "text": [
      "x = 8\n",
      "y = 2\n",
      "False\n"
     ]
    }
   ],
   "source": [
    "# 34\n",
    "x = int(input(\"x = \"))\n",
    "y = int(input(\"y = \"))\n",
    "print( (x + y) % 2 != 0)"
   ]
  },
  {
   "cell_type": "code",
   "execution_count": 29,
   "id": "56aa2895",
   "metadata": {},
   "outputs": [
    {
     "name": "stdout",
     "output_type": "stream",
     "text": [
      "x1 = 4\n",
      "y1 = 8\n",
      "x2 = 4\n",
      "y2 = 1\n",
      "False\n"
     ]
    }
   ],
   "source": [
    "# 35\n",
    "x1 = int(input(\"x1 = \"))\n",
    "y1 = int(input(\"y1 = \"))\n",
    "x2 = int(input(\"x2 = \"))\n",
    "y2 = int(input(\"y2 = \"))\n",
    "print((x1 + y1) % 2 == (x2 + y2) % 2)"
   ]
  },
  {
   "cell_type": "code",
   "execution_count": 3,
   "id": "81f10639",
   "metadata": {},
   "outputs": [
    {
     "name": "stdout",
     "output_type": "stream",
     "text": [
      "x1 = 4\n",
      "y1 = 5\n",
      "x2 = 7\n",
      "y2 = 5\n",
      "True\n"
     ]
    }
   ],
   "source": [
    "# 36\n",
    "x1 = int(input(\"x1 = \"))\n",
    "y1 = int(input(\"y1 = \"))\n",
    "x2 = int(input(\"x2 = \"))\n",
    "y2 = int(input(\"y2 = \"))\n",
    "\n",
    "print(x1 == x2 or y1 == y2)"
   ]
  },
  {
   "cell_type": "code",
   "execution_count": 4,
   "id": "3ff2767a",
   "metadata": {},
   "outputs": [
    {
     "name": "stdout",
     "output_type": "stream",
     "text": [
      "x1 = 7\n",
      "y1 = 3\n",
      "x2 = 8\n",
      "y2 = 4\n",
      "True\n"
     ]
    }
   ],
   "source": [
    "# 37\n",
    "x1 = int(input(\"x1 = \"))\n",
    "y1 = int(input(\"y1 = \"))\n",
    "x2 = int(input(\"x2 = \"))\n",
    "y2 = int(input(\"y2 = \"))\n",
    "a = x1 == x2 or y1 == y2\n",
    "b = (x1 + 1 == x2 and y1 +1 == y2) or (x1 - 1 == x2 and y1 - 1 == y2)\n",
    "c = (x1 - 1 == x2 and y1 + 1 == y2) or (x1 + 1 == x2 and y1 - 1 == y2)\n",
    "print(a or b or c)"
   ]
  },
  {
   "cell_type": "code",
   "execution_count": 11,
   "id": "dbb98e03",
   "metadata": {},
   "outputs": [
    {
     "name": "stdout",
     "output_type": "stream",
     "text": [
      "x1 = 5\n",
      "y1 = 3\n",
      "x2 = 7\n",
      "y2 = 1\n",
      "True\n"
     ]
    }
   ],
   "source": [
    "# 38\n",
    "x1 = int(input(\"x1 = \"))\n",
    "y1 = int(input(\"y1 = \"))\n",
    "x2 = int(input(\"x2 = \"))\n",
    "y2 = int(input(\"y2 = \"))\n",
    "a = (abs(x1 - x2) == abs(y1 - y2))\n",
    "print(a)"
   ]
  },
  {
   "cell_type": "code",
   "execution_count": 13,
   "id": "cbffbc65",
   "metadata": {},
   "outputs": [
    {
     "name": "stdout",
     "output_type": "stream",
     "text": [
      "x1 = 4\n",
      "y1 = 3\n",
      "x2 = 8\n",
      "y2 = 7\n",
      "True\n"
     ]
    }
   ],
   "source": [
    "# 39\n",
    "x1 = int(input(\"x1 = \"))\n",
    "y1 = int(input(\"y1 = \"))\n",
    "x2 = int(input(\"x2 = \"))\n",
    "y2 = int(input(\"y2 = \"))\n",
    "a = (x1 == x2 or y1 == y2)\n",
    "b =  (abs(x1 - x2) == abs(y1 - y2)) \n",
    "print(a or b)"
   ]
  },
  {
   "cell_type": "code",
   "execution_count": 9,
   "id": "502cbc99",
   "metadata": {},
   "outputs": [
    {
     "name": "stdout",
     "output_type": "stream",
     "text": [
      "x1 = 5\n",
      "y1 = 4\n",
      "x2 = 6\n",
      "y2 = 2\n",
      "True\n",
      "x1 = 5\n",
      "y1 = 4\n",
      "x2 = 6\n",
      "y2 = 2\n",
      "True\n"
     ]
    }
   ],
   "source": [
    "# 40\n",
    "#1\n",
    "x1 = int(input(\"x1 = \"))\n",
    "y1 = int(input(\"y1 = \"))\n",
    "x2 = int(input(\"x2 = \"))\n",
    "y2 = int(input(\"y2 = \"))\n",
    "a = (x2 - 1 == x1 and y2 - 2 == y1) or (x2 + 1 == x1 and y2 - 2 == y1) or (x2 + 1 == x1 and y2 + 2 == y1) or (x2 - 1 == x1 and y2 + 2 == y1)\n",
    "b = (x2 - 2 == x1 and y2 - 1 == y1) or (x2 + 2 == x1 and y2 - 1 == y1) or (x1 - 2 == x2 and y1 - 1 == y2) or (x1 + 2 == y2 and y1 - 1 == y2)\n",
    "print(a or b)\n",
    "\n",
    "\n",
    "\n",
    "# 2\n",
    "a = x2 == x1-2 or x2 == x1+2 and y2 == y1 + 1 or y2 == y1 - 1\n",
    "b = y2 == y1 - 2 or y2 == y1 + 2 and x2 == x1 + 1 or x2 == x1 - 1\n",
    "print(a or b)\n",
    "\n",
    "#3\n",
    "a = abs(x1 - x2) == 2 and y"
   ]
  },
  {
   "cell_type": "code",
   "execution_count": null,
   "id": "441f123a",
   "metadata": {},
   "outputs": [],
   "source": []
  },
  {
   "cell_type": "code",
   "execution_count": null,
   "id": "cd814401",
   "metadata": {},
   "outputs": [],
   "source": []
  }
 ],
 "metadata": {
  "kernelspec": {
   "display_name": "Python 3 (ipykernel)",
   "language": "python",
   "name": "python3"
  },
  "language_info": {
   "codemirror_mode": {
    "name": "ipython",
    "version": 3
   },
   "file_extension": ".py",
   "mimetype": "text/x-python",
   "name": "python",
   "nbconvert_exporter": "python",
   "pygments_lexer": "ipython3",
   "version": "3.9.7"
  }
 },
 "nbformat": 4,
 "nbformat_minor": 5
}
