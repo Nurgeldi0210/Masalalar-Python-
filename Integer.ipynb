{
 "cells": [
  {
   "cell_type": "code",
   "execution_count": 1,
   "id": "0555d448",
   "metadata": {},
   "outputs": [
    {
     "name": "stdout",
     "output_type": "stream",
     "text": [
      "l = 200\n",
      "2.0 m\n"
     ]
    }
   ],
   "source": [
    "# 1\n",
    "l = int(input(\"l = \"))\n",
    "m = l / 100\n",
    "print(m, \"m\")"
   ]
  },
  {
   "cell_type": "code",
   "execution_count": 2,
   "id": "401e0d38",
   "metadata": {
    "scrolled": true
   },
   "outputs": [
    {
     "name": "stdout",
     "output_type": "stream",
     "text": [
      "m = 50000\n",
      "50.0 tonna\n"
     ]
    }
   ],
   "source": [
    "# 2\n",
    "m = int(input(\"m = \"))\n",
    "t = m / 1000\n",
    "print(t, \"tonna\")"
   ]
  },
  {
   "cell_type": "code",
   "execution_count": 3,
   "id": "ee8694c7",
   "metadata": {},
   "outputs": [
    {
     "name": "stdout",
     "output_type": "stream",
     "text": [
      "bayt = 12456\n",
      "12 kb\n"
     ]
    }
   ],
   "source": [
    "# 3\n",
    "b = int(input(\"bayt = \"))\n",
    "kb = b // 1024\n",
    "\n",
    "print(kb, \"kb\")\n",
    "\n"
   ]
  },
  {
   "cell_type": "code",
   "execution_count": 4,
   "id": "a37b3764",
   "metadata": {},
   "outputs": [
    {
     "name": "stdout",
     "output_type": "stream",
     "text": [
      "a > b\n",
      "a = 7\n",
      "b = 3\n",
      "2\n"
     ]
    }
   ],
   "source": [
    "# 4\n",
    "print(\"a > b\")\n",
    "a = int(input(\"a = \"))\n",
    "b = int(input(\"b = \"))\n",
    "print(a // b)"
   ]
  },
  {
   "cell_type": "code",
   "execution_count": 5,
   "id": "c466087b",
   "metadata": {},
   "outputs": [
    {
     "name": "stdout",
     "output_type": "stream",
     "text": [
      "a > b\n",
      "a = 7\n",
      "b = 3\n",
      "1\n"
     ]
    }
   ],
   "source": [
    "# 5\n",
    "print(\"a > b\")\n",
    "a = int(input(\"a = \"))\n",
    "b = int(input(\"b = \"))\n",
    "print(a % b)"
   ]
  },
  {
   "cell_type": "code",
   "execution_count": 6,
   "id": "35cbb888",
   "metadata": {},
   "outputs": [
    {
     "name": "stdout",
     "output_type": "stream",
     "text": [
      "son = 74\n",
      "7 4\n"
     ]
    }
   ],
   "source": [
    "# 6\n",
    "son = int(input(\"son = \"))\n",
    "a = son // 10\n",
    "b = son % 10\n",
    "print(a, b, sep = \" \")"
   ]
  },
  {
   "cell_type": "code",
   "execution_count": 7,
   "id": "bf975434",
   "metadata": {},
   "outputs": [
    {
     "name": "stdout",
     "output_type": "stream",
     "text": [
      "son = 74\n",
      "11\n"
     ]
    }
   ],
   "source": [
    "# 7 \n",
    "son = int(input(\"son = \"))\n",
    "a = son // 10\n",
    "b = son % 10\n",
    "print(a + b)"
   ]
  },
  {
   "cell_type": "code",
   "execution_count": 9,
   "id": "dc883f63",
   "metadata": {},
   "outputs": [
    {
     "name": "stdout",
     "output_type": "stream",
     "text": [
      "son = 89\n",
      "98\n"
     ]
    }
   ],
   "source": [
    "# 8\n",
    "son = int(input(\"son = \"))\n",
    "a = son // 10\n",
    "b = son % 10\n",
    "son = b * 10 + a\n",
    "print(son)"
   ]
  },
  {
   "cell_type": "code",
   "execution_count": 11,
   "id": "875ebd5a",
   "metadata": {},
   "outputs": [
    {
     "name": "stdout",
     "output_type": "stream",
     "text": [
      "son = 456\n",
      "4\n"
     ]
    }
   ],
   "source": [
    "# 9\n",
    "son = int(input(\"son = \"))\n",
    "yuz = son // 100\n",
    "print(yuz)"
   ]
  },
  {
   "cell_type": "code",
   "execution_count": 14,
   "id": "21af2a24",
   "metadata": {},
   "outputs": [
    {
     "name": "stdout",
     "output_type": "stream",
     "text": [
      "son = 234\n",
      "4 3\n"
     ]
    }
   ],
   "source": [
    "# 10\n",
    "son = int(input(\"son = \"))\n",
    "birlik = son % 10\n",
    "onlik = (son % 100) // 10\n",
    "print(birlik, onlik, sep= \" \")"
   ]
  },
  {
   "cell_type": "code",
   "execution_count": 16,
   "id": "4bb3b1a2",
   "metadata": {},
   "outputs": [
    {
     "name": "stdout",
     "output_type": "stream",
     "text": [
      "son = 123\n",
      "6\n"
     ]
    }
   ],
   "source": [
    "# 11\n",
    "son = int(input(\"son = \"))\n",
    "S = son % 10 + (son % 100) // 10 + son // 100\n",
    "print(S)"
   ]
  },
  {
   "cell_type": "code",
   "execution_count": 18,
   "id": "43b2cf73",
   "metadata": {},
   "outputs": [
    {
     "name": "stdout",
     "output_type": "stream",
     "text": [
      "123\n",
      "321\n"
     ]
    }
   ],
   "source": [
    "# 12\n",
    "son = int(input())\n",
    "birlik = son % 10\n",
    "onlik = son % 100 // 10\n",
    "yuzlik = son // 100\n",
    "son2 = birlik * 100 + onlik * 10 + yuzlik\n",
    "print(son2)"
   ]
  },
  {
   "cell_type": "code",
   "execution_count": 19,
   "id": "2d5fcc71",
   "metadata": {},
   "outputs": [
    {
     "name": "stdout",
     "output_type": "stream",
     "text": [
      "son = 123\n",
      "312\n"
     ]
    }
   ],
   "source": [
    "# 13\n",
    "son = int(input(\"son = \"))\n",
    "a = son % 10\n",
    "b = son // 10\n",
    "son2 = a * 100 + b\n",
    "print(son2)"
   ]
  },
  {
   "cell_type": "code",
   "execution_count": 20,
   "id": "89fd9ed1",
   "metadata": {},
   "outputs": [
    {
     "name": "stdout",
     "output_type": "stream",
     "text": [
      "son = 123\n",
      "231\n"
     ]
    }
   ],
   "source": [
    "# 14 \n",
    "son = int(input(\"son = \"))\n",
    "a = son % 100\n",
    "b = son // 100\n",
    "son2 = a * 10 + b\n",
    "print(son2)"
   ]
  },
  {
   "cell_type": "code",
   "execution_count": 22,
   "id": "6126028f",
   "metadata": {},
   "outputs": [
    {
     "name": "stdout",
     "output_type": "stream",
     "text": [
      "son = 123\n",
      "213\n"
     ]
    }
   ],
   "source": [
    "# 15\n",
    "son = int(input(\"son = \"))\n",
    "S = ((son % 100) // 10) * 100 + (son // 100) * 10 + son % 10  \n",
    "print(S)"
   ]
  },
  {
   "cell_type": "code",
   "execution_count": 23,
   "id": "44b7da16",
   "metadata": {},
   "outputs": [
    {
     "name": "stdout",
     "output_type": "stream",
     "text": [
      "son = 123\n",
      "132\n"
     ]
    }
   ],
   "source": [
    "# 16\n",
    "son = int(input(\"son = \"))\n",
    "S = (son // 100) * 100 + (son % 10) * 10 + (son % 100) // 10\n",
    "print(S)"
   ]
  },
  {
   "cell_type": "code",
   "execution_count": 25,
   "id": "0039393e",
   "metadata": {},
   "outputs": [
    {
     "name": "stdout",
     "output_type": "stream",
     "text": [
      "son > 999\n",
      "son = 1324354657\n",
      "6\n"
     ]
    }
   ],
   "source": [
    "# 17 \n",
    "print(\"son > 999\")\n",
    "son = int(input(\"son = \"))\n",
    "S = son % 1000 // 100\n",
    "print(S)"
   ]
  },
  {
   "cell_type": "code",
   "execution_count": 27,
   "id": "ece73f15",
   "metadata": {},
   "outputs": [
    {
     "name": "stdout",
     "output_type": "stream",
     "text": [
      "son > 999\n",
      "son = 12345\n",
      "2\n"
     ]
    }
   ],
   "source": [
    "# 18\n",
    "print(\"son > 999\")\n",
    "son = int(input(\"son = \"))\n",
    "S = son % 10000 // 1000\n",
    "print(S)"
   ]
  },
  {
   "cell_type": "code",
   "execution_count": 29,
   "id": "46bb6ed8",
   "metadata": {},
   "outputs": [
    {
     "name": "stdout",
     "output_type": "stream",
     "text": [
      "sekunt = 3600\n",
      "60  minut\n"
     ]
    }
   ],
   "source": [
    "# 19 \n",
    "sekunt = int(input(\"sekunt = \"))\n",
    "minut = sekunt // 60\n",
    "print(minut, \" minut\")"
   ]
  },
  {
   "cell_type": "code",
   "execution_count": 32,
   "id": "cea73142",
   "metadata": {},
   "outputs": [
    {
     "name": "stdout",
     "output_type": "stream",
     "text": [
      "sekunt = 7250\n",
      "2 soat\n"
     ]
    }
   ],
   "source": [
    "# 20\n",
    "sekunt = int(input(\"sekunt = \"))\n",
    "soat = sekunt // 3600\n",
    "print(soat, \"soat\")"
   ]
  },
  {
   "cell_type": "code",
   "execution_count": 33,
   "id": "b4a1b69f",
   "metadata": {},
   "outputs": [
    {
     "name": "stdout",
     "output_type": "stream",
     "text": [
      "sekunt = 1234\n",
      "20  minut 34 sekunt\n"
     ]
    }
   ],
   "source": [
    "# 21\n",
    "sekunt = int(input(\"sekunt = \"))\n",
    "minut = sekunt // 60\n",
    "sekunt = sekunt % 60\n",
    "print(minut, \" minut\", sekunt, \"sekunt\")"
   ]
  },
  {
   "cell_type": "code",
   "execution_count": 35,
   "id": "b32b7d0f",
   "metadata": {},
   "outputs": [
    {
     "name": "stdout",
     "output_type": "stream",
     "text": [
      "sekunt = 3665\n",
      "1 soat 65 sekunt\n"
     ]
    }
   ],
   "source": [
    "# 22\n",
    "sekunt = int(input(\"sekunt = \"))\n",
    "soat = sekunt // 3600\n",
    "sekunt = sekunt  - soat * 3600\n",
    "print(soat, 'soat', sekunt, 'sekunt')"
   ]
  },
  {
   "cell_type": "code",
   "execution_count": 38,
   "id": "3469faf4",
   "metadata": {},
   "outputs": [
    {
     "name": "stdout",
     "output_type": "stream",
     "text": [
      "sekunt = 3665\n",
      "1 soat 1 minut 5 sekunt\n"
     ]
    }
   ],
   "source": [
    "# 23\n",
    "sekunt = int(input(\"sekunt = \"))\n",
    "soat = sekunt // 3600\n",
    "minut = (sekunt % 3600) // 60\n",
    "sekunt = sekunt % 60\n",
    "print(soat, \"soat\", minut, 'minut', sekunt, 'sekunt')"
   ]
  },
  {
   "cell_type": "code",
   "execution_count": 40,
   "id": "592055a8",
   "metadata": {},
   "outputs": [
    {
     "name": "stdout",
     "output_type": "stream",
     "text": [
      "k = 13\n",
      "6\n"
     ]
    }
   ],
   "source": [
    "# 24\n",
    "k = int(input(\"k = \"))\n",
    "print(k % 7)"
   ]
  },
  {
   "cell_type": "code",
   "execution_count": 42,
   "id": "1615c056",
   "metadata": {},
   "outputs": [
    {
     "name": "stdout",
     "output_type": "stream",
     "text": [
      "k = 4\n",
      "0\n"
     ]
    }
   ],
   "source": [
    "# 25\n",
    "k = int(input(\"k = \"))\n",
    "print((k-4)%7)"
   ]
  },
  {
   "cell_type": "code",
   "execution_count": 53,
   "id": "5bc4dba4",
   "metadata": {},
   "outputs": [
    {
     "name": "stdout",
     "output_type": "stream",
     "text": [
      "k = 15\n",
      "2\n"
     ]
    }
   ],
   "source": [
    "# 26\n",
    "k = int(input(\"k = \"))\n",
    "print((k + 1) % 7 )"
   ]
  },
  {
   "cell_type": "code",
   "execution_count": 57,
   "id": "ff5e4244",
   "metadata": {},
   "outputs": [
    {
     "name": "stdout",
     "output_type": "stream",
     "text": [
      "k = 20\n",
      "5\n"
     ]
    }
   ],
   "source": [
    "# 27\n",
    "k = int(input(\"k = \"))\n",
    "print((k - 1) % 7)"
   ]
  },
  {
   "cell_type": "code",
   "execution_count": 61,
   "id": "2a85b5a5",
   "metadata": {},
   "outputs": [
    {
     "name": "stdout",
     "output_type": "stream",
     "text": [
      "1 <= n <= 7 \n",
      "1 <= k <= 365\n",
      "n = 6\n",
      "k = 30\n",
      "0\n"
     ]
    }
   ],
   "source": [
    "# 28\n",
    "print(\"1 <= n <= 7 \\n1 <= k <= 365\")\n",
    "n = int(input(\"n = \"))\n",
    "k = int(input(\"k = \"))\n",
    "print((k + n - 1) % 7)"
   ]
  },
  {
   "cell_type": "code",
   "execution_count": 16,
   "id": "bcbc4a76",
   "metadata": {
    "scrolled": false
   },
   "outputs": [
    {
     "name": "stdout",
     "output_type": "stream",
     "text": [
      "a = 3\n",
      "b = 5\n",
      "c = 2\n",
      "2 joylashgan kv - lar soni 7 joylashmagan qism yuzasi\n"
     ]
    }
   ],
   "source": [
    "# 29\n",
    "a = int(input(\"a = \"))\n",
    "b = int(input(\"b = \"))\n",
    "c = int(input(\"c = \"))\n",
    "a1 = a - a % c \n",
    "b1 = b - b % c\n",
    "print((a1 * b1) // c ** 2   , \"joylashgan kv - lar soni\", a * b -  (a1 * b1)   , \"joylashmagan qism yuzasi\")\n"
   ]
  },
  {
   "cell_type": "code",
   "execution_count": 66,
   "id": "3f075f96",
   "metadata": {},
   "outputs": [
    {
     "name": "stdout",
     "output_type": "stream",
     "text": [
      "yil = 1500\n",
      "16\n"
     ]
    }
   ],
   "source": [
    "# 30\n",
    "yil = int(input(\"yil = \"))\n",
    "print(yil // 100 + 1)"
   ]
  }
 ],
 "metadata": {
  "kernelspec": {
   "display_name": "Python 3",
   "language": "python",
   "name": "python3"
  },
  "language_info": {
   "codemirror_mode": {
    "name": "ipython",
    "version": 3
   },
   "file_extension": ".py",
   "mimetype": "text/x-python",
   "name": "python",
   "nbconvert_exporter": "python",
   "pygments_lexer": "ipython3",
   "version": "3.8.8"
  }
 },
 "nbformat": 4,
 "nbformat_minor": 5
}
