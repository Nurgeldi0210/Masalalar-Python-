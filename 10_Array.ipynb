{
 "cells": [
  {
   "cell_type": "markdown",
   "id": "20f38cab",
   "metadata": {},
   "source": [
    "# ARRAY\n"
   ]
  },
  {
   "cell_type": "code",
   "execution_count": 10,
   "id": "ab774324",
   "metadata": {},
   "outputs": [
    {
     "name": "stdout",
     "output_type": "stream",
     "text": [
      "n = 5\n",
      "[1, 3, 5, 7, 9]\n"
     ]
    }
   ],
   "source": [
    "# 1 \n",
    "n = int(input(\"n = \"))\n",
    "a = [1]\n",
    "for _ in range(n-1):\n",
    "    a.append(a[-1]+2)\n",
    "    k += 2\n",
    "print(a)\n",
    "    "
   ]
  },
  {
   "cell_type": "code",
   "execution_count": 11,
   "id": "e4298fc5",
   "metadata": {},
   "outputs": [
    {
     "name": "stdout",
     "output_type": "stream",
     "text": [
      "n = 5\n",
      "[1, 2, 4, 8, 16]\n"
     ]
    }
   ],
   "source": [
    "# 2\n",
    "n = int(input(\"n = \"))\n",
    "a = [1]\n",
    "for _ in range(n-1):\n",
    "    a.append(2*a[-1])\n",
    "    k += 1\n",
    "print(a)"
   ]
  },
  {
   "cell_type": "code",
   "execution_count": 6,
   "id": "30fcc033",
   "metadata": {},
   "outputs": [
    {
     "name": "stdout",
     "output_type": "stream",
     "text": [
      "n = 4\n",
      "a1 = 4\n",
      "d = 4\n",
      "[4, 8, 12, 16]\n"
     ]
    }
   ],
   "source": [
    "# 3\n",
    "n = int(input(\"n = \"))\n",
    "a1 = int(input(\"a1 = \"))\n",
    "d = int(input(\"d = \"))\n",
    "a = [a1]\n",
    "\n",
    "for _ in range(n-1):\n",
    "    a.append(a[-1] + d)\n",
    "    \n",
    "print(a)"
   ]
  },
  {
   "cell_type": "code",
   "execution_count": 12,
   "id": "444f858b",
   "metadata": {},
   "outputs": [
    {
     "name": "stdout",
     "output_type": "stream",
     "text": [
      "n = 5\n",
      "a1 = 2\n",
      "d = 3\n",
      "[2, 6, 18, 54, 162]\n"
     ]
    }
   ],
   "source": [
    "# 4\n",
    "n = int(input(\"n = \"))\n",
    "a1 = int(input(\"a1 = \"))\n",
    "d = int(input(\"d = \"))\n",
    "\n",
    "a = [a1]\n",
    "\n",
    "for _ in range(n - 1):\n",
    "    a.append(a[-1]*d)\n",
    "\n",
    "print(a)\n",
    "\n"
   ]
  },
  {
   "cell_type": "code",
   "execution_count": 14,
   "id": "fe0ea061",
   "metadata": {},
   "outputs": [
    {
     "name": "stdout",
     "output_type": "stream",
     "text": [
      "n = 10\n",
      "[0, 1, 1, 2, 3, 5, 8, 13, 21, 34]\n"
     ]
    }
   ],
   "source": [
    "# 5\n",
    "n = int(input(\"n = \"))\n",
    "\n",
    "a = [0,1]\n",
    "\n",
    "for _ in range(n - 2):\n",
    "    a.append(a[-1] + a[-2])\n",
    "print(a)"
   ]
  },
  {
   "cell_type": "code",
   "execution_count": 22,
   "id": "21cce96a",
   "metadata": {},
   "outputs": [
    {
     "name": "stdout",
     "output_type": "stream",
     "text": [
      "n = 5\n",
      "a = 1\n",
      "b = 3\n",
      "[1, 3, 4, 8, 16]\n"
     ]
    }
   ],
   "source": [
    "# 6\n",
    "n = int(input(\"n = \"))\n",
    "a = int(input(\"a = \"))\n",
    "b = int(input(\"b = \"))\n",
    "\n",
    "c = [a,b]\n",
    "\n",
    "for _ in range(n-2):\n",
    "    c.append(sum(c))\n",
    "    \n",
    "\n",
    "print(c)"
   ]
  },
  {
   "cell_type": "code",
   "execution_count": 22,
   "id": "104173b4",
   "metadata": {},
   "outputs": [
    {
     "name": "stdout",
     "output_type": "stream",
     "text": [
      "n = 5\n",
      "a = 1\n",
      "a = 2\n",
      "a = 3\n",
      "a = 4\n",
      "a = 5\n",
      "5\n",
      "4\n",
      "3\n",
      "2\n",
      "1\n"
     ]
    }
   ],
   "source": [
    "# 7 \n",
    "n = int(input(\"n = \"))\n",
    "a = []\n",
    "for _ in range(n):\n",
    "    a.append(int(input(\"a = \")))\n",
    "    \n",
    "for i in range(len(a)):\n",
    "    print(a[-i-1])\n"
   ]
  },
  {
   "cell_type": "code",
   "execution_count": 25,
   "id": "d8acdac0",
   "metadata": {},
   "outputs": [
    {
     "name": "stdout",
     "output_type": "stream",
     "text": [
      "n = 5\n",
      "a = 1\n",
      "a = 2\n",
      "a = 3\n",
      "a = 4\n",
      "a = 5\n",
      "1 3 5 \n",
      "Toqlari soni :  3\n"
     ]
    }
   ],
   "source": [
    "# 8\n",
    "n = int(input(\"n = \"))\n",
    "\n",
    "a = []\n",
    "\n",
    "for _ in range(n):\n",
    "    a.append(int(input(\"a = \")))\n",
    "s = 0\n",
    "for i in range(len(a)):\n",
    "    if a[i] % 2 != 0:\n",
    "        print(a[i], end=\" \")\n",
    "        s += 1\n",
    "print(\"\\nToqlari soni : \", s)"
   ]
  },
  {
   "cell_type": "code",
   "execution_count": 26,
   "id": "a8652c2d",
   "metadata": {},
   "outputs": [
    {
     "name": "stdout",
     "output_type": "stream",
     "text": [
      "n = 5\n",
      "a = 1\n",
      "a = 2\n",
      "a = 3\n",
      "a = 4\n",
      "a = 5\n",
      "4 2 \n",
      "Juftlari soni :  2\n"
     ]
    }
   ],
   "source": [
    "# 9\n",
    "n = int(input(\"n = \"))\n",
    "\n",
    "a = []\n",
    "\n",
    "for _ in range(n):\n",
    "    a.append(int(input(\"a = \")))\n",
    "s = 0\n",
    "for i in range(len(a)):\n",
    "    if a[-i-1] % 2 == 0:\n",
    "        print(a[-i-1], end=\" \")\n",
    "        s += 1\n",
    "print(\"\\nJuftlari soni : \", s)"
   ]
  },
  {
   "cell_type": "code",
   "execution_count": 27,
   "id": "c6bc3f7f",
   "metadata": {},
   "outputs": [
    {
     "name": "stdout",
     "output_type": "stream",
     "text": [
      "n = 6\n",
      "a = 4\n",
      "a = 5\n",
      "a = 7\n",
      "a = 8\n",
      "a = 6\n",
      "a = 9\n",
      "4 8 6 9 7 5 "
     ]
    }
   ],
   "source": [
    "# 10\n",
    "n = int(input(\"n = \"))\n",
    "\n",
    "a = []\n",
    "\n",
    "for _ in range(n):\n",
    "    a.append(int(input(\"a = \")))\n",
    "    \n",
    "for i in range(len(a)):\n",
    "    if a[i] % 2 == 0:\n",
    "        print(a[i],end=\" \")\n",
    "\n",
    "for i in range(len(a)):\n",
    "    if a[-i-1] % 2 != 0:\n",
    "        print(a[-i-1],end=\" \")"
   ]
  },
  {
   "cell_type": "code",
   "execution_count": 30,
   "id": "2626a0f5",
   "metadata": {},
   "outputs": [
    {
     "name": "stdout",
     "output_type": "stream",
     "text": [
      "n = 5\n",
      "k = 2\n",
      "a = 0\n",
      "a = 1\n",
      "a = 2\n",
      "a = 3\n",
      "a = 4\n",
      "0 2 4 "
     ]
    }
   ],
   "source": [
    "# 11\n",
    "n = int(input(\"n = \"))\n",
    "k = int(input(\"k = \"))\n",
    "a = []\n",
    "\n",
    "for _ in range(n):\n",
    "    a.append(int(input(\"a = \")))\n",
    "\n",
    "for i in range(0,n,k):\n",
    "    print(a[i],end=\" \")\n",
    "    "
   ]
  },
  {
   "cell_type": "code",
   "execution_count": 32,
   "id": "be19aff7",
   "metadata": {},
   "outputs": [
    {
     "name": "stdout",
     "output_type": "stream",
     "text": [
      "n = 5\n",
      "a = 0\n",
      "a = 1\n",
      "a = 2\n",
      "a = 3\n",
      "a = 4\n",
      "0 2 4 "
     ]
    }
   ],
   "source": [
    "# 12\n",
    "n = int(input(\"n = \"))\n",
    "\n",
    "a = []\n",
    "\n",
    "for _ in range(n):\n",
    "    a.append(int(input(\"a = \")))\n",
    "\n",
    "for i in range(0,n,2):\n",
    "    print(a[i],end=\" \")\n",
    "    "
   ]
  },
  {
   "cell_type": "code",
   "execution_count": 39,
   "id": "cee17662",
   "metadata": {},
   "outputs": [
    {
     "name": "stdout",
     "output_type": "stream",
     "text": [
      "n = 6\n",
      "a = 0\n",
      "a = 1\n",
      "a = 2\n",
      "a = 3\n",
      "a = 4\n",
      "a = 5\n",
      "5 ---> 5\n",
      "3 ---> 3\n",
      "1 ---> 1\n"
     ]
    }
   ],
   "source": [
    "# 13\n",
    "n = int(input(\"n = \"))\n",
    "\n",
    "a = []\n",
    "\n",
    "for _ in range(n):\n",
    "    a.append(int(input(\"a = \")))\n",
    "    \n",
    "for i in range(1,n,2):\n",
    "    print(a[n-i], end=\" \")\n"
   ]
  },
  {
   "cell_type": "code",
   "execution_count": 41,
   "id": "2bbf4f87",
   "metadata": {},
   "outputs": [
    {
     "name": "stdout",
     "output_type": "stream",
     "text": [
      "n = 6\n",
      "a = 0\n",
      "a = 1\n",
      "a = 2\n",
      "a = 3\n",
      "a = 4\n",
      "a = 5\n",
      "0 2 4 1 3 5 "
     ]
    }
   ],
   "source": [
    "# 14\n",
    "n = int(input(\"n = \"))\n",
    "\n",
    "a = []\n",
    "\n",
    "for _ in range(n):\n",
    "    a.append(int(input(\"a = \")))\n",
    "    \n",
    "for i in range(0,n,2):\n",
    "    print(a[i],end=\" \")\n",
    "\n",
    "for i in range(1,n,2):\n",
    "    print(a[i],end=\" \")"
   ]
  },
  {
   "cell_type": "code",
   "execution_count": 43,
   "id": "be7f64f9",
   "metadata": {},
   "outputs": [
    {
     "name": "stdout",
     "output_type": "stream",
     "text": [
      "n = 6\n",
      "a = 0\n",
      "a = 1\n",
      "a = 2\n",
      "a = 3\n",
      "a = 4\n",
      "a = 5\n",
      "1 3 5 4 2 0 "
     ]
    }
   ],
   "source": [
    "# 15\n",
    "n = int(input(\"n = \"))\n",
    "\n",
    "a = []\n",
    "\n",
    "for _ in range(n):\n",
    "    a.append(int(input(\"a = \")))\n",
    "    \n",
    "for i in range(1,n,2):\n",
    "    print(a[i],end=\" \")\n",
    "    \n",
    "for i in range(n-1,-1,-2):\n",
    "    print(a[i-1],end=\" \")"
   ]
  },
  {
   "cell_type": "code",
   "execution_count": 1,
   "id": "f4f29ef4",
   "metadata": {},
   "outputs": [
    {
     "name": "stdout",
     "output_type": "stream",
     "text": [
      "n = 6\n",
      "a = 0\n",
      "a = 1\n",
      "a = 2\n",
      "a = 3\n",
      "a = 4\n",
      "a = 5\n",
      "[0, 1, 2, 3, 4, 5]\n",
      "0 5 1 4 2 3 "
     ]
    }
   ],
   "source": [
    "# 16\n",
    "n = int(input(\"n = \"))\n",
    "\n",
    "a = []\n",
    "\n",
    "for _ in range(n):\n",
    "    a.append(int(input(\"a = \")))\n",
    "    \n",
    "print(a)\n",
    "i = 0\n",
    "n = len(a)-1\n",
    "\n",
    "while i<=n:\n",
    "    print(a[i],end=' ')\n",
    "    i+=1\n",
    "    if i>n:\n",
    "        break\n",
    "    print(a[n],end=' ')\n",
    "    n-=1"
   ]
  },
  {
   "cell_type": "code",
   "execution_count": 23,
   "id": "4b03211f",
   "metadata": {},
   "outputs": [
    {
     "name": "stdout",
     "output_type": "stream",
     "text": [
      "n = 7\n",
      "a = 0\n",
      "a = 1\n",
      "a = 2\n",
      "a = 3\n",
      "a = 4\n",
      "a = 5\n",
      "a = 6\n",
      "[0, 1, 2, 3, 4, 5, 6]\n",
      "0 1 6 5 2 3 4 "
     ]
    }
   ],
   "source": [
    "# 17\n",
    "n = int(input(\"n = \"))\n",
    "\n",
    "a = []\n",
    "\n",
    "for _ in range(n):\n",
    "    a.append(int(input(\"a = \")))\n",
    "    \n",
    "print(a)\n",
    "\n",
    "if len(a)<4:\n",
    "    for i in range(len(a)):\n",
    "        print(a[i],end=' ')\n",
    "else:\n",
    "    i = 0\n",
    "    n = len(a)-1\n",
    "    while i<=n:\n",
    "        if len(a)%4==0 or len(a)%4==2:\n",
    "            print(a[i],a[i+1],sep=' ', end=\" \")\n",
    "            i += 2\n",
    "            if i>n:\n",
    "                break\n",
    "            print(a[n],a[n-1],sep=\" \",end=\" \")\n",
    "            n -= 2\n",
    "        elif len(a)%4==1:\n",
    "            print(a[i],sep=' ', end=\" \")\n",
    "            if i>=n:\n",
    "                break\n",
    "            print(a[i+1],sep=\" \",end=\" \")\n",
    "            i += 2\n",
    "            print(a[n],a[n-1],sep=\" \",end=\" \")\n",
    "            n -= 2\n",
    "        \n",
    "        elif len(a)%4==3:\n",
    "            print(a[i],a[i+1],sep=' ', end=\" \")\n",
    "            i += 2\n",
    "            \n",
    "            print(a[n],sep=\" \",end=\" \") \n",
    "            \n",
    "            if i>=n:\n",
    "                break\n",
    "                \n",
    "            print(a[n-1],sep=\" \",end=\" \")\n",
    "            n -= 2\n",
    "            \n",
    "            "
   ]
  },
  {
   "cell_type": "code",
   "execution_count": 86,
   "id": "91eec5d3",
   "metadata": {},
   "outputs": [
    {
     "name": "stdout",
     "output_type": "stream",
     "text": [
      "n = 5\n",
      "a = 1\n",
      "a = 2\n",
      "a = 3\n",
      "a = 4\n",
      "a = 5\n",
      "[1, 2, 3, 4, 5]\n",
      "1\n"
     ]
    }
   ],
   "source": [
    "# 18\n",
    "n = int(input(\"n = \"))\n",
    "\n",
    "a = []\n",
    "\n",
    "for _ in range(n):\n",
    "    a.append(int(input(\"a = \")))\n",
    "print(a)\n",
    "for i in range(len(a)):\n",
    "    if a[i]<a[-1]:\n",
    "        print(a[i])\n",
    "        break"
   ]
  },
  {
   "cell_type": "code",
   "execution_count": 93,
   "id": "6638c4eb",
   "metadata": {},
   "outputs": [
    {
     "name": "stdout",
     "output_type": "stream",
     "text": [
      "n = 5\n",
      "a = 1\n",
      "a = 2\n",
      "a = 3\n",
      "a = 4\n",
      "a = 5\n",
      "3 4\n"
     ]
    }
   ],
   "source": [
    "# 19\n",
    "n = int(input(\"n = \"))\n",
    "\n",
    "a = []\n",
    "\n",
    "for _ in range(n):\n",
    "    a.append(int(input(\"a = \")))\n",
    "\n",
    "x = 1\n",
    "\n",
    "for i in range(len(a)):\n",
    "    if a[0]<a[-i-1]<a[-1]:\n",
    "        print(len(a)-i-1)\n",
    "        x = 0\n",
    "        break\n",
    "if x:\n",
    "    print(0)"
   ]
  },
  {
   "cell_type": "code",
   "execution_count": 94,
   "id": "24e20bec",
   "metadata": {},
   "outputs": [
    {
     "name": "stdout",
     "output_type": "stream",
     "text": [
      "n = 7\n",
      "k = 1\n",
      "l = 5\n",
      "a = 1\n",
      "a = 2\n",
      "a = 3\n",
      "a = 4\n",
      "a = 5\n",
      "a = 6\n",
      "a = 7\n",
      "20\n"
     ]
    }
   ],
   "source": [
    "# 20\n",
    "n = int(input(\"n = \"))\n",
    "k = int(input(\"k = \"))\n",
    "l = int(input(\"l = \"))\n",
    "\n",
    "a = []\n",
    "\n",
    "for _ in range(n):\n",
    "    a.append(int(input(\"a = \")))\n",
    "s = 0\n",
    "\n",
    "for i in range(k,l+1):\n",
    "    s += a[i]\n",
    "print(s)\n"
   ]
  },
  {
   "cell_type": "code",
   "execution_count": 97,
   "id": "7a0c1664",
   "metadata": {},
   "outputs": [
    {
     "name": "stdout",
     "output_type": "stream",
     "text": [
      "n = 7\n",
      "k = 1\n",
      "l = 2\n",
      "a = 3\n",
      "a = 4\n",
      "a = 5\n",
      "a = 6\n",
      "a = 7\n",
      "a = 8\n",
      "a = 9\n",
      "4.5\n"
     ]
    }
   ],
   "source": [
    "# 21\n",
    "n = int(input(\"n = \"))\n",
    "k = int(input(\"k = \"))\n",
    "l = int(input(\"l = \"))\n",
    "\n",
    "a = []\n",
    "\n",
    "for _ in range(n):\n",
    "    a.append(int(input(\"a = \")))\n",
    "s = 0\n",
    "\n",
    "for i in range(k,l+1):\n",
    "    s += a[i]\n",
    "print(s/(l-k+1))\n"
   ]
  },
  {
   "cell_type": "code",
   "execution_count": 99,
   "id": "9bb4ce48",
   "metadata": {},
   "outputs": [
    {
     "name": "stdout",
     "output_type": "stream",
     "text": [
      "n = 5\n",
      "k = 2\n",
      "l = 4\n",
      "a = 1\n",
      "a = 2\n",
      "a = 3\n",
      "a = 4\n",
      "a = 5\n",
      "3\n"
     ]
    }
   ],
   "source": [
    "# 22\n",
    "n = int(input(\"n = \"))\n",
    "k = int(input(\"k = \"))\n",
    "l = int(input(\"l = \"))\n",
    "\n",
    "a = []\n",
    "\n",
    "for _ in range(n):\n",
    "    a.append(int(input(\"a = \")))\n",
    "    \n",
    "s = 0\n",
    "\n",
    "for i in range(len(a)):\n",
    "    if k <= i <= l:\n",
    "        continue\n",
    "    else:\n",
    "        s += a[i]\n",
    "        \n",
    "print(s)"
   ]
  },
  {
   "cell_type": "code",
   "execution_count": 105,
   "id": "f0b3357a",
   "metadata": {},
   "outputs": [
    {
     "name": "stdout",
     "output_type": "stream",
     "text": [
      "n = 5\n",
      "k = 2\n",
      "l = 4\n",
      "a = 1\n",
      "a = 2\n",
      "a = 3\n",
      "a = 4\n",
      "a = 5\n",
      "1.5\n"
     ]
    }
   ],
   "source": [
    "# 23\n",
    "n = int(input(\"n = \"))\n",
    "k = int(input(\"k = \"))\n",
    "l = int(input(\"l = \"))\n",
    "\n",
    "a = []\n",
    "\n",
    "for _ in range(n):\n",
    "    a.append(int(input(\"a = \")))\n",
    "    \n",
    "s = 0\n",
    "\n",
    "for i in range(len(a)):\n",
    "    if k <= i <= l:\n",
    "        continue\n",
    "    else:\n",
    "        s += a[i]\n",
    "        \n",
    "print(s/(len(a) - (l-k+1))) "
   ]
  },
  {
   "cell_type": "code",
   "execution_count": 7,
   "id": "21046466",
   "metadata": {},
   "outputs": [
    {
     "name": "stdout",
     "output_type": "stream",
     "text": [
      "n = 5\n",
      "a = 1\n",
      "a = 2\n",
      "a = 3\n",
      "a = 4\n",
      "a = 5\n",
      "1\n"
     ]
    }
   ],
   "source": [
    "# 24\n",
    "n = int(input(\"n = \"))\n",
    "\n",
    "a = []\n",
    "\n",
    "for _ in range(n):\n",
    "    a.append(int(input(\"a = \")))\n",
    "    \n",
    "x = False\n",
    "\n",
    "for i in range(3,n):\n",
    "    if a[i-2] - a[i-3] == a[i] - a[i-1]:\n",
    "        x = False\n",
    "        \n",
    "    else:\n",
    "        x = True\n",
    "        break\n",
    "    \n",
    "if x:\n",
    "    print(0)\n",
    "else:\n",
    "    print(a[-1]-a[-2])\n",
    "    \n",
    "    \n"
   ]
  },
  {
   "cell_type": "code",
   "execution_count": 9,
   "id": "5b726eb3",
   "metadata": {},
   "outputs": [
    {
     "name": "stdout",
     "output_type": "stream",
     "text": [
      "n = 3\n",
      "a = 1\n",
      "a = 4\n",
      "a = 3\n",
      "0\n"
     ]
    }
   ],
   "source": [
    "# 25\n",
    "n = int(input(\"n = \"))\n",
    "\n",
    "a = []\n",
    "\n",
    "for _ in range(n):\n",
    "    a.append(int(input(\"a = \")))\n",
    "    \n",
    "x = False\n",
    "\n",
    "for i in range(3,n):\n",
    "    if a[i-2] / a[i-3] == a[i] / a[i-1]:\n",
    "        x = False\n",
    "        \n",
    "    else:\n",
    "        x = True\n",
    "        break\n",
    "    \n",
    "if x:\n",
    "    print(0)\n",
    "else:\n",
    "    print(a[-1]//a[-2])"
   ]
  },
  {
   "cell_type": "code",
   "execution_count": 18,
   "id": "5f62e1c6",
   "metadata": {},
   "outputs": [
    {
     "name": "stdout",
     "output_type": "stream",
     "text": [
      "n = 4\n",
      "a = 1\n",
      "a = 3\n",
      "a = 2\n",
      "a = 4\n",
      "1\n"
     ]
    }
   ],
   "source": [
    "# 26\n",
    "n = int(input(\"n = \"))\n",
    "\n",
    "a = []\n",
    "\n",
    "for _ in range(n):\n",
    "    a.append(int(input(\"a = \")))\n",
    "    \n",
    "x = False\n",
    "for i in range(1,n):\n",
    "    \n",
    "    if a[i]%2!=a[i-1]%2:\n",
    "        x = False\n",
    "        \n",
    "    else:\n",
    "        print(i)\n",
    "        x = True\n",
    "        break\n",
    "    \n",
    "if not x:\n",
    "    print(0)"
   ]
  },
  {
   "cell_type": "code",
   "execution_count": 6,
   "id": "b6e6aee8",
   "metadata": {},
   "outputs": [
    {
     "name": "stdout",
     "output_type": "stream",
     "text": [
      "n = 3\n",
      "a = -1\n",
      "a = 1\n",
      "a = -1\n",
      "0\n"
     ]
    }
   ],
   "source": [
    "# 27\n",
    "n = int(input(\"n = \"))\n",
    "\n",
    "a = []\n",
    "\n",
    "for _ in range(n):\n",
    "    a.append(int(input(\"a = \")))\n",
    "    \n",
    "for i in range(1,n):    \n",
    "    if a[i]*a[i-1]>0:\n",
    "        print(i)    \n",
    "        break\n",
    "    \n",
    "else:\n",
    "    print(0)"
   ]
  },
  {
   "cell_type": "code",
   "execution_count": 31,
   "id": "592f13ea",
   "metadata": {},
   "outputs": [
    {
     "name": "stdout",
     "output_type": "stream",
     "text": [
      "n = 4\n",
      "a = -1\n",
      "a = 4\n",
      "a = 32\n",
      "a = 64\n",
      "-1\n"
     ]
    }
   ],
   "source": [
    "# 28\n",
    "n = int(input(\"n = \"))\n",
    "\n",
    "a = []\n",
    "\n",
    "for _ in range(n):\n",
    "    a.append(int(input(\"a = \")))\n",
    "    \n",
    "b = a[0]\n",
    "for i in range(2,n,2):\n",
    "    b = min(b,a[i])\n",
    "    \n",
    "print(b)"
   ]
  },
  {
   "cell_type": "code",
   "execution_count": 32,
   "id": "f5e669fd",
   "metadata": {},
   "outputs": [
    {
     "name": "stdout",
     "output_type": "stream",
     "text": [
      "n = 5\n",
      "a = 1\n",
      "a = 2\n",
      "a = 3\n",
      "a = 4\n",
      "a = 5\n",
      "4\n"
     ]
    }
   ],
   "source": [
    "# 29\n",
    "n = int(input(\"n = \"))\n",
    "\n",
    "a = []\n",
    "\n",
    "for _ in range(n):\n",
    "    a.append(int(input(\"a = \")))\n",
    "    \n",
    "b = a[1]\n",
    "for i in range(3,n,2):\n",
    "    b = max(b,a[i])\n",
    "    \n",
    "print(b)"
   ]
  },
  {
   "cell_type": "code",
   "execution_count": 36,
   "id": "2407fbe7",
   "metadata": {},
   "outputs": [
    {
     "name": "stdout",
     "output_type": "stream",
     "text": [
      "n = 5\n",
      "a = 1\n",
      "a = 2\n",
      "a = 3\n",
      "a = 34\n",
      "a = 4\n",
      "3 \n",
      "1\n"
     ]
    }
   ],
   "source": [
    "# 30\n",
    "n = int(input(\"n = \"))\n",
    "\n",
    "a = []\n",
    "\n",
    "for _ in range(n):\n",
    "    a.append(int(input(\"a = \")))\n",
    "    \n",
    "s = 0\n",
    "\n",
    "for i in range(1,n):\n",
    "    if a[i-1] > a[i]:\n",
    "        print(i-1,end= \" \")\n",
    "        s += 1\n",
    "        \n",
    "print('\\n',s,sep=\"\")\n"
   ]
  },
  {
   "cell_type": "code",
   "execution_count": 38,
   "id": "b1bf632d",
   "metadata": {
    "scrolled": false
   },
   "outputs": [
    {
     "name": "stdout",
     "output_type": "stream",
     "text": [
      "n = 5\n",
      "a = 1\n",
      "a = 2\n",
      "a = 3\n",
      "a = 34\n",
      "a = 4\n",
      "3 2 1 \n",
      "3\n"
     ]
    }
   ],
   "source": [
    "# 31\n",
    "n = int(input(\"n = \"))\n",
    "\n",
    "a = []\n",
    "\n",
    "for _ in range(n):\n",
    "    a.append(int(input(\"a = \")))\n",
    "    \n",
    "s = 0\n",
    "\n",
    "for i in range(n-1,0,-1):\n",
    "    if a[i-1] < a[i]:\n",
    "        print(i,end= \" \")\n",
    "        s += 1\n",
    "        \n",
    "print('\\n',s,sep=\"\")\n"
   ]
  },
  {
   "cell_type": "code",
   "execution_count": 39,
   "id": "adcb6965",
   "metadata": {},
   "outputs": [
    {
     "name": "stdout",
     "output_type": "stream",
     "text": [
      "n = 5\n",
      "a = 3\n",
      "a = 2\n",
      "a = 3\n",
      "a = 1\n",
      "a = 4\n",
      "1 3 "
     ]
    }
   ],
   "source": [
    "# 32\n",
    "n = int(input(\"n = \"))\n",
    "\n",
    "a = []\n",
    "\n",
    "for _ in range(n):\n",
    "    a.append(int(input(\"a = \")))\n",
    "    \n",
    "\n",
    "for i in range(2,n):\n",
    "    if a[i-1]<a[i] and a[i-1]<a[i-2]:\n",
    "        print(i-1,end=\" \")\n",
    "        \n"
   ]
  },
  {
   "cell_type": "code",
   "execution_count": 8,
   "id": "758cd7d0",
   "metadata": {
    "scrolled": true
   },
   "outputs": [
    {
     "name": "stdout",
     "output_type": "stream",
     "text": [
      "n = 4\n",
      "a = 1\n",
      "a = 2\n",
      "a = 3\n",
      "a = 2\n",
      "1 "
     ]
    }
   ],
   "source": [
    "# 33\n",
    "\n",
    "n = int(input(\"n = \"))\n",
    "\n",
    "a = []\n",
    "\n",
    "for _ in range(n):\n",
    "    a.append(int(input(\"a = \")))\n",
    "a.reverse()\n",
    "\n",
    "for i in range(2,n):\n",
    "    if a[i-1]>a[i] and a[i-1]>a[i-2]:\n",
    "        print(a[i-1],end=\" \")\n",
    "        break"
   ]
  },
  {
   "cell_type": "code",
   "execution_count": 4,
   "id": "d1741250",
   "metadata": {},
   "outputs": [
    {
     "name": "stdout",
     "output_type": "stream",
     "text": [
      "n = 8\n",
      "a = 2\n",
      "a = 1\n",
      "a = 3\n",
      "a = 4\n",
      "a = 7\n",
      "a = 5\n",
      "a = 8\n",
      "a = 5\n",
      "[2, 1, 3, 4, 7, 5, 8, 5]\n",
      "5\n"
     ]
    }
   ],
   "source": [
    "# 34\n",
    "n = int(input(\"n = \"))\n",
    "\n",
    "a = []\n",
    "\n",
    "for _ in range(n):\n",
    "    a.append(int(input(\"a = \")))\n",
    "    \n",
    "b = []\n",
    "for i in range(2,n):\n",
    "    if a[i-1]<a[i] and a[i-1]<a[i-2]:\n",
    "        b.append(a[i-1])\n",
    "\n",
    "print(a)\n",
    "print(max(b))\n",
    "        \n"
   ]
  },
  {
   "cell_type": "code",
   "execution_count": 5,
   "id": "e5ee2091",
   "metadata": {},
   "outputs": [
    {
     "name": "stdout",
     "output_type": "stream",
     "text": [
      "n = 6\n",
      "a = 1\n",
      "a = 5\n",
      "a = 3\n",
      "a = 4\n",
      "a = 7\n",
      "a = 5\n",
      "[1, 5, 3, 4, 7, 5]\n",
      "5\n"
     ]
    }
   ],
   "source": [
    "# 35\n",
    "\n",
    "n = int(input(\"n = \"))\n",
    "\n",
    "a = []\n",
    "\n",
    "for _ in range(n):\n",
    "    a.append(int(input(\"a = \")))\n",
    "\n",
    "b = []\n",
    "for i in range(2,n):\n",
    "    if a[i-1]>a[i] and a[i-1]>a[i-2]:\n",
    "        b.append(a[-1])\n",
    "        \n",
    "print(a)\n",
    "print(min(b))"
   ]
  },
  {
   "cell_type": "code",
   "execution_count": 9,
   "id": "50dd71c4",
   "metadata": {},
   "outputs": [
    {
     "name": "stdout",
     "output_type": "stream",
     "text": [
      "n = 1\n",
      "a = 1\n",
      "1\n",
      "1\n"
     ]
    }
   ],
   "source": [
    "# 36\n",
    "n = int(input(\"n = \"))\n",
    "\n",
    "a = []\n",
    "\n",
    "for _ in range(n):\n",
    "    a.append(int(input(\"a = \")))\n",
    "\n",
    "\n",
    "\n",
    "print(len(a))\n",
    "for i in range(2,n):\n",
    "    \n",
    "    if a[i-1]>a[i] and a[i-1]>a[i-2]:\n",
    "        del a[i-1]\n",
    "    \n",
    "    if a[i-1]<a[i] and a[i-1]<a[i-2]:\n",
    "        del a[i-1]\n",
    "        \n",
    "if len(a)==0:\n",
    "    print(0)\n",
    "else:\n",
    "    print(max(a))"
   ]
  },
  {
   "cell_type": "code",
   "execution_count": 3,
   "id": "7cc75be1",
   "metadata": {},
   "outputs": [
    {
     "name": "stdout",
     "output_type": "stream",
     "text": [
      "n = 10\n",
      "[10, 7, 0, 1, 8, 9, 0, 5, 10, 6]\n",
      "2\n"
     ]
    }
   ],
   "source": [
    "# 37\n",
    "from random import randint\n",
    "\n",
    "n = int(input(\"n = \"))\n",
    "a = [randint(0,10) for i in range(n)]\n",
    "print(a)\n",
    "s  = 0\n",
    "for i in range(1,n-1):\n",
    "    if  a[i-1] < a[i] > a[i+1]:\n",
    "        s += 1\n",
    "        \n",
    "if a[-2] < a[-1]:\n",
    "    s = 1 \n",
    "        \n",
    "print(s)\n",
    "        \n",
    "    "
   ]
  },
  {
   "cell_type": "code",
   "execution_count": 4,
   "id": "7054ab0b",
   "metadata": {},
   "outputs": [
    {
     "name": "stdout",
     "output_type": "stream",
     "text": [
      "n = 10\n",
      "[5, 3, 1, 4, 4, 8, 4, 0, 4, 8]\n",
      "2\n"
     ]
    }
   ],
   "source": [
    "# 38\n",
    "from random import randint\n",
    "\n",
    "n = int(input(\"n = \"))\n",
    "a = [randint(0,10) for i in range(n)]\n",
    "print(a)\n",
    "s  = 0\n",
    "for i in range(1,n-1):\n",
    "    if  a[i-1] > a[i] <= a[i+1]:\n",
    "        s += 1\n",
    "        \n",
    "if a[-2] > a[-1]:\n",
    "    s = 1 \n",
    "        \n",
    "print(s)\n",
    "        "
   ]
  },
  {
   "cell_type": "code",
   "execution_count": 11,
   "id": "63c96eaa",
   "metadata": {},
   "outputs": [
    {
     "name": "stdout",
     "output_type": "stream",
     "text": [
      "n = 10\n",
      "[8, 5, 9, 10, 10, 3, 1, 3, 3, 2]\n",
      "4\n"
     ]
    }
   ],
   "source": [
    "# 39\n",
    "from random import randint\n",
    "\n",
    "n = int(input(\"n = \"))\n",
    "a = [randint(0,10) for i in range(n)]\n",
    "print(a)\n",
    "s  = 0\n",
    "for i in range(1,n-1):\n",
    "    if  a[i-1] > a[i] <= a[i+1]:\n",
    "        s += 1\n",
    "        \n",
    "    if  a[i-1] < a[i] >= a[i+1]:\n",
    "        s += 1\n",
    "    \n",
    "\n",
    "if a[-3] < a[-2] < a[-1]:\n",
    "    s = 1 \n",
    "elif a[-3] < a[-2] > a[-1]:\n",
    "    s = 1 \n",
    "        \n",
    "print(s)\n",
    "        "
   ]
  },
  {
   "cell_type": "code",
   "execution_count": 14,
   "id": "715d2f2a",
   "metadata": {},
   "outputs": [
    {
     "name": "stdout",
     "output_type": "stream",
     "text": [
      "n = 5\n",
      "r = 6\n",
      "a = 1\n",
      "a = 2\n",
      "a = 3\n",
      "a = 4\n",
      "a = 5\n",
      "5\n"
     ]
    }
   ],
   "source": [
    "# 40\n",
    "n = int(input(\"n = \"))\n",
    "r = int(input(\"r = \"))\n",
    "a = []\n",
    "\n",
    "for _ in range(n):\n",
    "    a.append(int(input(\"a = \")))\n",
    "    if len(a) == 1:\n",
    "        x = abs(a[-1] - r)\n",
    "        ind = a.index(a[-1])\n",
    "        \n",
    "    if x > abs(a[-1] - r):\n",
    "        x = abs(a[-1] - r)\n",
    "        ind = a.index(a[-1])\n",
    "        \n",
    "print(a[ind])\n",
    "\n"
   ]
  },
  {
   "cell_type": "code",
   "execution_count": 17,
   "id": "b484686b",
   "metadata": {},
   "outputs": [
    {
     "name": "stdout",
     "output_type": "stream",
     "text": [
      "n = 5\n",
      "a = 5\n",
      "a = 1\n",
      "a = 2\n",
      "a = 3\n",
      "a = 5\n",
      "5 3\n"
     ]
    }
   ],
   "source": [
    "# 41\n",
    "n = int(input(\"n = \"))\n",
    "\n",
    "a = []\n",
    "\n",
    "for i in range(n):\n",
    "    a.append(int(input(\"a = \")))\n",
    "    if len(a) >= 2:\n",
    "        if len(a) == 2:\n",
    "            s = a[-1] + a[-2]\n",
    "            index1 = a.index(a[-1])\n",
    "            index2 = a.index(a[-2])\n",
    "            \n",
    "        if s < a[-1] + a[-2]:\n",
    "            s = a[-1] + a[-2]\n",
    "            index1 = a.index(a[-1])\n",
    "            index2 = a.index(a[-2])\n",
    "            \n",
    "print(a[index1],a[index2],sep=\" \")"
   ]
  },
  {
   "cell_type": "code",
   "execution_count": 18,
   "id": "7d311a09",
   "metadata": {},
   "outputs": [
    {
     "name": "stdout",
     "output_type": "stream",
     "text": [
      "n = 4\n",
      "r = 5\n",
      "a = 5\n",
      "a = 1\n",
      "a = 2\n",
      "a = 3\n",
      "3 2\n"
     ]
    }
   ],
   "source": [
    "# 41\n",
    "n = int(input(\"n = \"))\n",
    "r = int(input(\"r = \"))\n",
    "\n",
    "a = []\n",
    "\n",
    "for i in range(n):\n",
    "    a.append(int(input(\"a = \")))\n",
    "    if len(a) >= 2:\n",
    "        if len(a) == 2:\n",
    "            s = abs(a[-1] + a[-2] - r)\n",
    "            index1 = a.index(a[-1])\n",
    "            index2 = a.index(a[-2])\n",
    "            \n",
    "        if s >abs(a[-1] + a[-2] - r):\n",
    "            s = abs(a[-1] + a[-2] - r)\n",
    "            index1 = a.index(a[-1])\n",
    "            index2 = a.index(a[-2])\n",
    "            \n",
    "print(a[index1],a[index2],sep=\" \")"
   ]
  },
  {
   "cell_type": "code",
   "execution_count": 71,
   "id": "aa35c565",
   "metadata": {},
   "outputs": [
    {
     "name": "stdout",
     "output_type": "stream",
     "text": [
      "n = 10\n",
      "[0, 5, 6, 6, 8, 8, 8, 9, 10, 10]\n",
      "5\n"
     ]
    }
   ],
   "source": [
    "# 43\n",
    "from random import randint\n",
    "n = int(input(\"n = \"))\n",
    "\n",
    "a = [randint(0,10) for i in range(n)]\n",
    "a.sort()\n",
    "print(a)\n",
    "s = 0\n",
    "s1 = 0\n",
    "for i in range(n):\n",
    "    if a.count(a[i])>1:\n",
    "        s1 += 1\n",
    "    else:\n",
    "        s += 1\n",
    "        \n",
    "s = s + s1//(n-s) + 1\n",
    "print(s)\n",
    "    \n",
    "    \n",
    "    "
   ]
  },
  {
   "cell_type": "code",
   "execution_count": 21,
   "id": "a78f1882",
   "metadata": {
    "scrolled": true
   },
   "outputs": [
    {
     "name": "stdout",
     "output_type": "stream",
     "text": [
      "n = 10\n",
      "[4, 10, 7, 8, 6, 1, 7, 7, 6, 2]\n",
      "4 8\n"
     ]
    }
   ],
   "source": [
    "# 44\n",
    "\n",
    "from random import randint\n",
    "n = int(input(\"n = \"))\n",
    "\n",
    "a = [randint(0,10) for i in range(n)]\n",
    "\n",
    "print(a)\n",
    "\n",
    "for i in range(n):\n",
    "    if a.count(a[i]) == 2:\n",
    "        print(i,end= \" \")\n",
    "        b = a[i]\n",
    "        a.reverse()\n",
    "        print(n - a.index(b) - 1)\n",
    "        a.reverse()\n",
    "        break"
   ]
  },
  {
   "cell_type": "code",
   "execution_count": 22,
   "id": "8b93b908",
   "metadata": {},
   "outputs": [
    {
     "name": "stdout",
     "output_type": "stream",
     "text": [
      "n = 10\n",
      "[5, 7, 6, 5, 3, 2, 0, 4, 1, 8]\n",
      "2 1\n"
     ]
    }
   ],
   "source": [
    "# 45\n",
    "\n",
    "from random import randint\n",
    "n = int(input(\"n = \"))\n",
    "\n",
    "a = [randint(0,10) for i in range(n)]\n",
    "\n",
    "print(a)\n",
    "s = abs(a[1] - a[0])\n",
    "index1 = 1\n",
    "index2 = 0\n",
    "for i in range(2,n):\n",
    "    if abs(a[i]-a[i-1]) < s:\n",
    "        s = abs(a[i]-a[i-1])\n",
    "        index1 = i\n",
    "        index2 = i-1\n",
    "        \n",
    "print(index1,index2)"
   ]
  },
  {
   "cell_type": "code",
   "execution_count": 12,
   "id": "8d814e46",
   "metadata": {},
   "outputs": [
    {
     "name": "stdout",
     "output_type": "stream",
     "text": [
      "r = 15\n",
      "n = 15\n",
      "[6, 9, 7, 1, 10, 3, 1, 10, 6, 5, 6, 6, 8, 1, 9]\n",
      "9 6\n"
     ]
    }
   ],
   "source": [
    "# 46\n",
    "from random  import randint\n",
    "\n",
    "r = int(input(\"r = \"))\n",
    "n = int(input(\"n = \"))\n",
    "\n",
    "a = [randint(0,10) for i in range(n)]\n",
    "print(a)\n",
    "s = abs(a[1] + a[0] - r) \n",
    "index1 = 1\n",
    "index2 = 0\n",
    "for i in range(2,n):\n",
    "    if s > abs(a[i] + a[i-1] - r):\n",
    "        s = abs(a[i] + a[i-1] - r)\n",
    "        index1 = i-1\n",
    "        index2 = i\n",
    "        \n",
    "print(a[index1], a[index2],sep=\" \")"
   ]
  },
  {
   "cell_type": "code",
   "execution_count": 6,
   "id": "c1f8dae6",
   "metadata": {},
   "outputs": [
    {
     "name": "stdout",
     "output_type": "stream",
     "text": [
      "n = 10\n",
      "[2, 1, 10, 8, 1, 6, 9, 10, 7, 10]\n",
      "[2, 1, 10, 8, 6, 9, 7]\n"
     ]
    }
   ],
   "source": [
    "# 47\n",
    "from random import randint\n",
    "\n",
    "n = int(input(\"n = \"))\n",
    "a = [randint(1,10) for i in range(n)]\n",
    "\n",
    "print(a)\n",
    "\n",
    "j = 0\n",
    "while len(a) > j:   \n",
    "    if a.count(a[j]) > 1:\n",
    "        b = a[j]\n",
    "        for _ in range(a.count(b)):\n",
    "            a.remove(b)\n",
    "        a.insert(j,b)\n",
    "    j += 1\n",
    "    \n",
    "print(a)"
   ]
  },
  {
   "cell_type": "code",
   "execution_count": 71,
   "id": "68a2fd57",
   "metadata": {},
   "outputs": [
    {
     "name": "stdout",
     "output_type": "stream",
     "text": [
      "n = 19\n",
      "[3, 9, 5, 7, 8, 8, 5, 10, 2, 6, 7, 10, 8, 8, 4, 10, 6, 3, 2]\n",
      "4\n"
     ]
    }
   ],
   "source": [
    "# 48\n",
    "from random import randint\n",
    "\n",
    "n = int(input(\"n = \"))\n",
    "a = [randint(1,10) for i in range(n)]\n",
    "s = a.count(a[0])\n",
    "for i in range(1,n):\n",
    "    if a.count(a[i]) > s:\n",
    "        s = a.count(a[i])\n",
    "print(a)    \n",
    "print(s)\n"
   ]
  },
  {
   "cell_type": "code",
   "execution_count": 74,
   "id": "039d42f3",
   "metadata": {},
   "outputs": [
    {
     "name": "stdout",
     "output_type": "stream",
     "text": [
      "n = 15\n",
      "[73, 54, 90, 57, 74, 48, 93, 79, 80, 70, 58, 57, 2, 55, 90]\n",
      "73\n"
     ]
    }
   ],
   "source": [
    "# 49\n",
    "from random import randint\n",
    "\n",
    "n = int(input(\"n = \"))\n",
    "a = [randint(1,10) for i in range(n)]\n",
    "print(a)\n",
    "for i in range(n):\n",
    "    if not 1 <= a[i] <= n:\n",
    "        print(a[i])\n",
    "        break\n",
    "else:\n",
    "    print(0)"
   ]
  },
  {
   "cell_type": "code",
   "execution_count": 77,
   "id": "9bd4f1ae",
   "metadata": {},
   "outputs": [
    {
     "name": "stdout",
     "output_type": "stream",
     "text": [
      "n = 10\n",
      "[6, 2, 6, 7, 5, 9, 8, 5, 8, 4]\n",
      "5\n"
     ]
    }
   ],
   "source": [
    "# 50\n",
    "from random import randint\n",
    "\n",
    "n = int(input(\"n = \"))\n",
    "a = [randint(1,10) for i in range(n)]\n",
    "\n",
    "s = 0 \n",
    "print(a)\n",
    "for i in range(n-1):\n",
    "    if a[i] > a[i+1]:\n",
    "        s += 1\n",
    "print(s)"
   ]
  },
  {
   "cell_type": "code",
   "execution_count": 78,
   "id": "4fee615c",
   "metadata": {},
   "outputs": [
    {
     "name": "stdout",
     "output_type": "stream",
     "text": [
      "n = 10\n",
      "[7, 1, 2, 1, 3, 1, 10, 9, 5, 2] [4, 8, 7, 5, 2, 10, 5, 7, 10, 1]\n",
      "[4, 8, 7, 5, 2, 10, 5, 7, 10, 1] [7, 1, 2, 1, 3, 1, 10, 9, 5, 2]\n"
     ]
    }
   ],
   "source": [
    "# 51\n",
    "from random import randint\n",
    "\n",
    "n = int(input(\"n = \"))\n",
    "a = [randint(1,10) for i in range(n)]\n",
    "b = [randint(1,10) for i in range(n)]\n",
    "print(a,b)\n",
    "a,b = b,a\n",
    "print(a,b)"
   ]
  },
  {
   "cell_type": "code",
   "execution_count": 81,
   "id": "03ee1fec",
   "metadata": {},
   "outputs": [
    {
     "name": "stdout",
     "output_type": "stream",
     "text": [
      "n = 10\n",
      "[10, 7, 6, 5, 1, 1, 1, 2, 6, 6]\n",
      "[5.0, 3.5, 3.0, 2.5, 2, 2, 2, 4, 3.0, 3.0]\n"
     ]
    }
   ],
   "source": [
    "# 52\n",
    "from random import randint\n",
    "\n",
    "n = int(input(\"n = \"))\n",
    "a = [randint(1,10) for i in range(n)]\n",
    "print(a)\n",
    "b = []\n",
    "for i in range(n):\n",
    "    if a[i]<5:\n",
    "        b.append(2*a[i])\n",
    "    else:\n",
    "        b.append(a[i]/2)\n",
    "print(b)"
   ]
  },
  {
   "cell_type": "code",
   "execution_count": 82,
   "id": "a9ddb4a0",
   "metadata": {},
   "outputs": [
    {
     "name": "stdout",
     "output_type": "stream",
     "text": [
      "n = 10\n",
      "[3, 6, 9, 4, 2, 6, 4, 10, 9, 9]\n",
      "[4, 3, 6, 3, 2, 5, 4, 8, 10, 4]\n",
      "[4, 6, 9, 4, 2, 6, 4, 10, 10, 9]\n"
     ]
    }
   ],
   "source": [
    "# 53\n",
    "from random import randint\n",
    "\n",
    "n = int(input(\"n = \"))\n",
    "a = [randint(1,10) for i in range(n)]\n",
    "b = [randint(1,10) for i in range(n)]\n",
    "c = []\n",
    "for i in range(n):\n",
    "    c.append(max(a[i],b[i]))\n",
    "    \n",
    "print(a,b,c,sep='\\n')"
   ]
  },
  {
   "cell_type": "code",
   "execution_count": 83,
   "id": "11ab6cbc",
   "metadata": {},
   "outputs": [
    {
     "name": "stdout",
     "output_type": "stream",
     "text": [
      "n = 10\n",
      "[4, 1, 2, 3, 1, 2, 1, 9, 10, 9]\n",
      "[4, 2, 2, 10]\n",
      "4\n"
     ]
    }
   ],
   "source": [
    "# 54\n",
    "from random import randint\n",
    "\n",
    "n = int(input(\"n = \"))\n",
    "a = [randint(1,10) for i in range(n)]\n",
    "b = []\n",
    "for i in range(n):\n",
    "    if a[i]%2==0:\n",
    "        b.append(a[i])\n",
    "        \n",
    "print(a,b,len(b),sep=\"\\n\")\n"
   ]
  },
  {
   "cell_type": "code",
   "execution_count": 88,
   "id": "5d45da18",
   "metadata": {},
   "outputs": [
    {
     "name": "stdout",
     "output_type": "stream",
     "text": [
      "1<= n <= 15\n",
      "n = 15\n",
      "[5, 4, 3, 7, 9, 10, 2, 2, 2, 5, 9, 8, 4, 6, 9]\n",
      "[4, 7, 10, 2, 5, 8, 6]\n",
      "7\n"
     ]
    }
   ],
   "source": [
    "# 55\n",
    "from random import randint\n",
    "print(\"1<= n <= 15\")\n",
    "n = int(input(\"n = \"))\n",
    "a = [randint(1,10) for i in range(n)]\n",
    "b = []\n",
    "for i in range(1,n,2):\n",
    "    b.append(a[i])\n",
    "    \n",
    "print(a,b,len(b),sep=\"\\n\")"
   ]
  },
  {
   "cell_type": "code",
   "execution_count": 89,
   "id": "66d5951f",
   "metadata": {},
   "outputs": [
    {
     "name": "stdout",
     "output_type": "stream",
     "text": [
      "n = 15\n",
      "[7, 3, 8, 1, 7, 1, 10, 1, 4, 2, 3, 7, 5, 7, 2]\n",
      "[1, 10, 2, 5]\n",
      "4\n"
     ]
    }
   ],
   "source": [
    "# 56\n",
    "from random import randint\n",
    "\n",
    "n = int(input(\"n = \"))\n",
    "a = [randint(1,10) for i in range(n)]\n",
    "b = []\n",
    "for i in range(3,n,3):\n",
    "    b.append(a[i])\n",
    "    \n",
    "print(a,b,len(b),sep=\"\\n\")"
   ]
  },
  {
   "cell_type": "code",
   "execution_count": 95,
   "id": "78752903",
   "metadata": {},
   "outputs": [
    {
     "name": "stdout",
     "output_type": "stream",
     "text": [
      "n = 10\n",
      "[2, 7, 8, 2, 7, 3, 2, 5, 4, 10]\n",
      "[2, 8, 7, 2, 4, 7, 2, 3, 5, 10]\n"
     ]
    }
   ],
   "source": [
    "# 57\n",
    "from random import randint\n",
    "n = int(input(\"n = \"))\n",
    "a = [randint(1,10) for i in range(n)]\n",
    "b = []\n",
    "for i in range(0,n,2):\n",
    "    b.append(a[i])\n",
    "for i in range(1,n,2):\n",
    "    b.append(a[i])    \n",
    "    \n",
    "print(a,b,sep='\\n')"
   ]
  },
  {
   "cell_type": "code",
   "execution_count": 104,
   "id": "07230d40",
   "metadata": {},
   "outputs": [
    {
     "name": "stdout",
     "output_type": "stream",
     "text": [
      "n = 10\n",
      "[2, 7, 10, 4, 4, 2, 8, 8, 2, 4]\n",
      "[2, 9, 19, 23, 27, 29, 37, 45, 47, 51]\n"
     ]
    }
   ],
   "source": [
    "# 58\n",
    "from random import randint\n",
    "n = int(input(\"n = \"))\n",
    "a = [randint(1,10) for i in range(n)]\n",
    "b = []\n",
    "b.append(a[0])\n",
    "for i in range(1,n):\n",
    "    b.append(sum(a[0:i+1:1]))\n",
    "    \n",
    "print(a,b,sep=\"\\n\")"
   ]
  },
  {
   "cell_type": "code",
   "execution_count": 109,
   "id": "4c799350",
   "metadata": {},
   "outputs": [
    {
     "name": "stdout",
     "output_type": "stream",
     "text": [
      "n = 10\n",
      "[3, 6, 2, 9, 5, 1, 7, 8, 10, 6]\n",
      "[3, 4.5, 3.6666666666666665, 5.0, 5.0, 4.333333333333333, 4.714285714285714, 5.125, 5.666666666666667, 5.7]\n"
     ]
    }
   ],
   "source": [
    "# 59\n",
    "from random import randint\n",
    "n = int(input(\"n = \"))\n",
    "a = [randint(1,10) for i in range(n)]\n",
    "b = []\n",
    "b.append(a[0])\n",
    "for i in range(1,n):         \n",
    "    b.append( sum(a[0:i+1:1])/(i+1))\n",
    "    \n",
    "print(a,b,sep=\"\\n\")"
   ]
  },
  {
   "cell_type": "code",
   "execution_count": 110,
   "id": "233bcfaf",
   "metadata": {
    "scrolled": true
   },
   "outputs": [
    {
     "name": "stdout",
     "output_type": "stream",
     "text": [
      "n = 10\n",
      "[5, 8, 9, 6, 4, 8, 7, 8, 3, 10]\n",
      "[68, 63, 55, 46, 40, 36, 28, 21, 13, 10]\n"
     ]
    }
   ],
   "source": [
    "# 60\n",
    "\n",
    "from random import randint\n",
    "n = int(input(\"n = \"))\n",
    "a = [randint(1,10) for i in range(n)]\n",
    "b = []\n",
    "for i in range(n):\n",
    "    b.append(sum(a[i:n]))\n",
    "    \n",
    "print(a,b,sep=\"\\n\")"
   ]
  },
  {
   "cell_type": "code",
   "execution_count": 112,
   "id": "0c942c16",
   "metadata": {},
   "outputs": [
    {
     "name": "stdout",
     "output_type": "stream",
     "text": [
      "n = 10\n",
      "[7, 3, 3, 9, 4, 6, 2, 2, 1, 8]\n",
      "[4.5, 4.222222222222222, 4.375, 4.571428571428571, 3.8333333333333335, 3.8, 3.25, 3.6666666666666665, 4.5, 8.0]\n"
     ]
    }
   ],
   "source": [
    "# 61\n",
    "from random import randint\n",
    "n = int(input(\"n = \"))\n",
    "a = [randint(1,10) for i in range(n)]\n",
    "b = []\n",
    "for i in range(n):\n",
    "    b.append(sum(a[i:n])/(n-i))\n",
    "    \n",
    "print(a,b,sep=\"\\n\")"
   ]
  },
  {
   "cell_type": "code",
   "execution_count": 115,
   "id": "3a0aad8a",
   "metadata": {},
   "outputs": [
    {
     "name": "stdout",
     "output_type": "stream",
     "text": [
      "n = 17\n",
      "[-5, 8, -6, -7, 8, 4, -9, 3, -2, -5, 9, 10, -3, 4, 0, 11, 3]\n",
      "10\n",
      "[8, 8, 4, 3, 9, 10, 4, 0, 11, 3]\n",
      "7\n",
      "[-5, -6, -7, -9, -2, -5, -3]\n"
     ]
    }
   ],
   "source": [
    "# 62\n",
    "from random import randint\n",
    "n = int(input(\"n = \"))\n",
    "a = [randint(-10,11) for i in range(n)]\n",
    "b = []\n",
    "c = []\n",
    "for i in range(n):\n",
    "    if a[i]<0:\n",
    "        c.append(a[i])\n",
    "    else:\n",
    "        b.append(a[i])\n",
    "        \n",
    "print(a,len(b),b,len(c),c,sep='\\n')"
   ]
  },
  {
   "cell_type": "code",
   "execution_count": 118,
   "id": "32cf7492",
   "metadata": {},
   "outputs": [
    {
     "name": "stdout",
     "output_type": "stream",
     "text": [
      "[11, 10, 9, 8, 9]\n",
      "[7, 11, 10, 7, 11]\n",
      "[7, 7, 8, 9, 9, 10, 10, 11, 11, 11]\n"
     ]
    }
   ],
   "source": [
    "# 63\n",
    "from random import randint\n",
    "\n",
    "a = [randint(0,11) for i in range(5)]\n",
    "b = [randint(0,11) for i in range(5)]\n",
    "c = []\n",
    "c += a + b\n",
    "c.sort()\n",
    "print(a,b,c,sep=\"\\n\")"
   ]
  },
  {
   "cell_type": "code",
   "execution_count": 86,
   "id": "655d6742",
   "metadata": {
    "scrolled": false
   },
   "outputs": [
    {
     "name": "stdout",
     "output_type": "stream",
     "text": [
      "n = 2\n",
      "[1, 2]\n",
      "[1, 2]\n",
      "[1, 1]\n",
      "[1, 2, 1, 2, 1, 1]\n"
     ]
    }
   ],
   "source": [
    "# 64\n",
    "from random import randint\n",
    "n =  int(input(\"n = \"))\n",
    "a = [randint(1,n) for i in range(n)]\n",
    "b = [randint(1,n) for i in range(n)]\n",
    "c = [randint(1,n) for i in range(2*n,3*n)]\n",
    "a.sort(); b.sort(); c.sort()\n",
    "d = []\n",
    "d += a + b + c\n",
    "for i in range(n):\n",
    "    for j in range(i+1,n):\n",
    "        if a[i]>a[j]:\n",
    "            a[i],a[j] = a[j], a[i]\n",
    "print(a,b,c,d,sep='\\n')"
   ]
  },
  {
   "cell_type": "code",
   "execution_count": 121,
   "id": "5b0b27f6",
   "metadata": {},
   "outputs": [
    {
     "name": "stdout",
     "output_type": "stream",
     "text": [
      "k = 10\n",
      "n = 10\n",
      "[3, 9, 2, 1, 3, 9, 6, 2, 8, 8]\n",
      "[13, 19, 12, 11, 13, 19, 16, 12, 18, 18]\n"
     ]
    }
   ],
   "source": [
    "# 65\n",
    "from random import randint\n",
    "k = int(input(\"k = \"))\n",
    "n =  int(input(\"n = \"))\n",
    "a = [randint(1,n) for i in range(n)]\n",
    "print(a)\n",
    "for i in range(n):\n",
    "    a.insert(i,a.pop(i)+k)\n",
    "    \n",
    "print(a)"
   ]
  },
  {
   "cell_type": "code",
   "execution_count": 1,
   "id": "b62febb7",
   "metadata": {},
   "outputs": [
    {
     "name": "stdout",
     "output_type": "stream",
     "text": [
      "n = 10\n",
      "[1, 1, 6, 10, 6, 5, 2, 3, 4, 1]\n",
      "[1, 1, 6, 16, 12, 5, 8, 3, 10, 1]\n"
     ]
    }
   ],
   "source": [
    "# 66\n",
    "from random import randint\n",
    "\n",
    "n =  int(input(\"n = \"))\n",
    "a = [randint(1,n) for i in range(n)]\n",
    "print(a)\n",
    "x = True\n",
    "for i in range(n):\n",
    "    if x and a[i]%2==0:\n",
    "        b = a[i]\n",
    "        x = False\n",
    "        continue\n",
    "        \n",
    "    if a[i]%2==0:\n",
    "        a[i] = a[i]+b\n",
    "        \n",
    "print(a)"
   ]
  },
  {
   "cell_type": "code",
   "execution_count": 2,
   "id": "0115cda4",
   "metadata": {},
   "outputs": [
    {
     "name": "stdout",
     "output_type": "stream",
     "text": [
      "n = 10\n",
      "[9, 9, 7, 8, 1, 1, 7, 10, 9, 4]\n",
      "[18, 18, 16, 8, 10, 10, 16, 10, 9, 4]\n"
     ]
    }
   ],
   "source": [
    "# 67\n",
    "from random import randint\n",
    "\n",
    "n =  int(input(\"n = \"))\n",
    "a = [randint(1,n) for i in range(n)]\n",
    "print(a)\n",
    "a.reverse()\n",
    "x = True\n",
    "for i in range(n):\n",
    "    if x and a[i]%2==1:\n",
    "        b = a[i]\n",
    "        x = False\n",
    "        continue\n",
    "        \n",
    "    if a[i]%2==1:\n",
    "        a[i] = a[i]+b\n",
    "a.reverse()\n",
    "print(a)"
   ]
  },
  {
   "cell_type": "code",
   "execution_count": 19,
   "id": "849c3a7e",
   "metadata": {},
   "outputs": [
    {
     "name": "stdout",
     "output_type": "stream",
     "text": [
      "n = 10\n",
      "[6, 3, 4, 8, 8, 8, 9, 4, 4, 5]\n",
      "[6, 9, 4, 8, 8, 8, 3, 4, 4, 5]\n"
     ]
    }
   ],
   "source": [
    "# 68\n",
    "from random import randint\n",
    "\n",
    "n =  int(input(\"n = \"))\n",
    "a = [randint(1,n) for i in range(n)]\n",
    "print(a)\n",
    "c = min(a)\n",
    "b = a.index(max(a))\n",
    "a[a.index(min(a))] = max(a)\n",
    "a[b] = c \n",
    "print(a)\n"
   ]
  },
  {
   "cell_type": "code",
   "execution_count": 7,
   "id": "0cc815e0",
   "metadata": {},
   "outputs": [
    {
     "name": "stdout",
     "output_type": "stream",
     "text": [
      "n = 10\n",
      "[8, 7, 7, 7, 4, 10, 10, 9, 10, 5]\n",
      "4 1 10 3\n"
     ]
    }
   ],
   "source": [
    "# 68\n",
    "from random import randint\n",
    "\n",
    "n =  int(input(\"n = \"))\n",
    "a = [randint(1,n) for i in range(n)]\n",
    "print(a)\n",
    "\n",
    "maxi = max(a)\n",
    "max_elementlar = a.count(maxi)\n",
    "\n",
    "mini = min(a)\n",
    "min_elementlar = a.count(mini)\n"
   ]
  },
  {
   "cell_type": "code",
   "execution_count": 22,
   "id": "c9e850dc",
   "metadata": {},
   "outputs": [
    {
     "name": "stdout",
     "output_type": "stream",
     "text": [
      "n = 10\n",
      "[2, 10, 7, 5, 3, 4, 10, 5, 10, 7]\n",
      "[10, 2, 5, 7, 4, 3, 5, 10, 7, 10]\n"
     ]
    }
   ],
   "source": [
    "# 69\n",
    "from random import randint\n",
    "\n",
    "n =  int(input(\"n = \"))\n",
    "a = [randint(1,n) for i in range(n)]\n",
    "print(a)\n",
    "for i in range(1,n,2):\n",
    "    a[i],a[i-1] = a[i-1],a[i]\n",
    "print(a)"
   ]
  },
  {
   "cell_type": "code",
   "execution_count": 27,
   "id": "255032bb",
   "metadata": {},
   "outputs": [
    {
     "name": "stdout",
     "output_type": "stream",
     "text": [
      "n = 10\n",
      "[5, 10, 9, 2, 9, 3, 7, 10, 7, 5]\n",
      "[3, 7, 10, 7, 5, 5, 10, 9, 2, 9]\n"
     ]
    }
   ],
   "source": [
    "# 70\n",
    "from random import randint\n",
    "\n",
    "n =  int(input(\"n = \"))\n",
    "a = [randint(1,n) for i in range(n)]\n",
    "print(a)\n",
    "b = a[0:n//2]\n",
    "del a[0:n//2]\n",
    "a.extend(b)\n",
    "del b\n",
    "print(a)\n",
    "    "
   ]
  },
  {
   "cell_type": "code",
   "execution_count": 29,
   "id": "77a02567",
   "metadata": {},
   "outputs": [
    {
     "name": "stdout",
     "output_type": "stream",
     "text": [
      "n = 9\n",
      "[3, 7, 6, 8, 9, 4, 3, 5, 5]\n",
      "[5, 5, 3, 4, 9, 8, 6, 7, 3]\n"
     ]
    }
   ],
   "source": [
    "# 71\n",
    "from random import randint\n",
    "\n",
    "n =  int(input(\"n = \"))\n",
    "a = [randint(1,n) for i in range(n)]\n",
    "print(a)\n",
    "for i in range(n//2):\n",
    "    a[i],a[n-i-1] = a[n-1-i],a[i]\n",
    "    \n",
    "print(a)"
   ]
  },
  {
   "cell_type": "code",
   "execution_count": 38,
   "id": "02102dbd",
   "metadata": {},
   "outputs": [
    {
     "name": "stdout",
     "output_type": "stream",
     "text": [
      "k = 1\n",
      "h = 5\n",
      "n = 7\n",
      "[1, 7, 4, 1, 1, 4, 2]\n",
      "[1, 4, 1, 1, 4, 7, 2]\n"
     ]
    }
   ],
   "source": [
    "# 72\n",
    "from random import randint\n",
    "k = int(input(\"k = \"))\n",
    "h = int(input(\"h = \"))\n",
    "n =  int(input(\"n = \"))\n",
    "\n",
    "a = [randint(1,n) for i in range(n)]\n",
    "print(a)\n",
    "\n",
    "while k != h:\n",
    "    a[k],a[h] = a[h],a[k]\n",
    "    k += 1; h -= 1\n",
    "    \n",
    "print(a)"
   ]
  },
  {
   "cell_type": "code",
   "execution_count": 69,
   "id": "077c9621",
   "metadata": {},
   "outputs": [
    {
     "name": "stdout",
     "output_type": "stream",
     "text": [
      "k = 3\n",
      "h = 5\n",
      "n = 8\n",
      "[4, 5, 3, 5, 8, 2, 4, 4]\n",
      "[4, 5, 3, 5, 8, 2, 4, 4]\n"
     ]
    }
   ],
   "source": [
    "# 73\n",
    "from random import randint\n",
    "k = int(input(\"k = \"))\n",
    "h = int(input(\"h = \"))\n",
    "n =  int(input(\"n = \"))\n",
    "\n",
    "a = [randint(1,n) for i in range(n)]\n",
    "print(a)\n",
    "\n",
    "k += 1; h -= 1\n",
    "\n",
    "while k < h:\n",
    "    a[k], a[h] = a[h], a[k]\n",
    "    k += 1; h -= 1\n",
    "    \n",
    "print(a)"
   ]
  },
  {
   "cell_type": "code",
   "execution_count": 68,
   "id": "da186ea3",
   "metadata": {
    "scrolled": true
   },
   "outputs": [
    {
     "name": "stdout",
     "output_type": "stream",
     "text": [
      "n = 5\n",
      "[2, 3, 1, 5, 4]\n",
      "3 2\n",
      "[2, 3, 5, 1, 4]\n"
     ]
    }
   ],
   "source": [
    "# 74\n",
    "from random import randint\n",
    "\n",
    "n =  int(input(\"n = \"))\n",
    "a = [randint(1,n) for i in range(n)]\n",
    "print(a)\n",
    "k = a.index(min(a)); h = a.index(max(a))\n",
    "\n",
    "if k>h:\n",
    "    k,h = h,k\n",
    "    \n",
    "while k < h:\n",
    "    \n",
    "    a[k],a[h] = a[h],a[k]\n",
    "    k += 1; h -= 1\n",
    "    \n",
    "print(a)"
   ]
  },
  {
   "cell_type": "code",
   "execution_count": 1,
   "id": "a7991bf7",
   "metadata": {},
   "outputs": [
    {
     "name": "stdout",
     "output_type": "stream",
     "text": [
      "n = 10\n",
      "[5, 9, 10, 5, 9, 10, 6, 8, 3, 6]\n",
      "[5, 9, 3, 8, 6, 10, 9, 5, 10, 6]\n"
     ]
    }
   ],
   "source": [
    "# 75\n",
    "from random import randint\n",
    "\n",
    "n =  int(input(\"n = \"))\n",
    "a = [randint(1,n) for i in range(n)]\n",
    "print(a)\n",
    "k = a.index(min(a))\n",
    "h = a.index(max(a))\n",
    "    \n",
    "if k>h:\n",
    "    h,k = k,h\n",
    "while h>k:\n",
    "    a[k],a[h] = a[h], a[k]\n",
    "    h -= 1; k += 1\n",
    "    \n",
    "print(a)"
   ]
  },
  {
   "cell_type": "code",
   "execution_count": 3,
   "id": "de35ef61",
   "metadata": {},
   "outputs": [
    {
     "name": "stdout",
     "output_type": "stream",
     "text": [
      "n = 10\n",
      "[2, 4, 1, 3, 10, 10, 10, 3, 8, 1]\n",
      "[2, 0, 1, 3, 10, 10, 10, 3, 0, 1]\n"
     ]
    }
   ],
   "source": [
    "# 76\n",
    "from random import randint\n",
    "\n",
    "n =  int(input(\"n = \"))\n",
    "a = [randint(1,n) for i in range(n)]\n",
    "print(a)\n",
    "\n",
    "for i in range(1,n-1):\n",
    "    if a[i-1] < a[i] > a[i+1]:\n",
    "        a[i] = 0\n",
    "        \n",
    "print(a)"
   ]
  },
  {
   "cell_type": "code",
   "execution_count": 11,
   "id": "349f4e79",
   "metadata": {},
   "outputs": [
    {
     "name": "stdout",
     "output_type": "stream",
     "text": [
      "[10, 8, 8, 6, 3, 7, 10, 7, 1, 6]\n",
      "[10, 8, 8, 6, 9, 7, 10, 7, 1, 6]\n"
     ]
    }
   ],
   "source": [
    "# 77\n",
    "from random import randint\n",
    "\n",
    "n =  int(input(\"n = \"))\n",
    "a = [randint(1,n) for i in range(n)]\n",
    "b = []\n",
    "print(a)\n",
    "for i in range(1,n-1):\n",
    "    if a[i-1] > a[i] < a[i+1]:\n",
    "        b.append(i)\n",
    "for i in range(len(b)):\n",
    "    a[b[i]] = a[b[i]]**2\n",
    "print(a)"
   ]
  },
  {
   "cell_type": "code",
   "execution_count": 12,
   "id": "83604db3",
   "metadata": {},
   "outputs": [
    {
     "name": "stdout",
     "output_type": "stream",
     "text": [
      "n = 10\n",
      "[1, 10, 4, 9, 5, 1, 3, 6, 5, 6]\n",
      "[1, 10, 16, 9, 5, 1, 3, 6, 25, 6]\n"
     ]
    }
   ],
   "source": [
    "# 77 2 usul\n",
    "from random import randint\n",
    "\n",
    "n =  int(input(\"n = \"))\n",
    "a = [randint(1,n) for i in range(n)]\n",
    "print(a)\n",
    "x = a[0]\n",
    "for i in range(1,n-1):\n",
    "    if a[i-1] > a[i] < a[i+1]:\n",
    "        x = a[i]\n",
    "        a[i]=a[i]**2\n",
    "        continue\n",
    "    x = a[i]\n",
    "    \n",
    "print(a)"
   ]
  },
  {
   "cell_type": "code",
   "execution_count": 15,
   "id": "c403b01f",
   "metadata": {},
   "outputs": [
    {
     "name": "stdout",
     "output_type": "stream",
     "text": [
      "n = 10\n",
      "[4, 8, 1, 5, 8, 7, 6, 7, 2, 1]\n",
      "[6.0, 4.5, 3.0, 6.5, 7.5, 6.5, 6.5, 4.5, 1.5, 1]\n"
     ]
    }
   ],
   "source": [
    "# 78\n",
    "from random import randint\n",
    "\n",
    "n =  int(input(\"n = \"))\n",
    "a = [randint(1,n) for i in range(n)]\n",
    "print(a)\n",
    "for i in range(n-1):\n",
    "    a[i] = sum(a[i:i+2])/2\n",
    "    \n",
    "print(a)"
   ]
  },
  {
   "cell_type": "code",
   "execution_count": 16,
   "id": "eff47b6d",
   "metadata": {},
   "outputs": [
    {
     "name": "stdout",
     "output_type": "stream",
     "text": [
      "n = 10\n",
      "[10, 9, 5, 4, 2, 5, 4, 8, 1, 1]\n",
      "[0, 10, 9, 5, 4, 2, 5, 4, 8, 1]\n"
     ]
    }
   ],
   "source": [
    "# 79\n",
    "from random import randint\n",
    "\n",
    "n =  int(input(\"n = \"))\n",
    "a = [randint(1,n) for i in range(n)]\n",
    "print(a)\n",
    "\n",
    "for i in range(n-1,0,-1):\n",
    "    a[i] = a[i-1]\n",
    "    \n",
    "a[0] = 0\n",
    "print(a)"
   ]
  },
  {
   "cell_type": "code",
   "execution_count": 14,
   "id": "d66dbe6a",
   "metadata": {},
   "outputs": [
    {
     "name": "stdout",
     "output_type": "stream",
     "text": [
      "n = 10\n",
      "[7, 10, 7, 5, 3, 9, 9, 6, 5, 3]\n",
      "[0, 7, 10, 7, 5, 3, 9, 9, 6, 5]\n"
     ]
    }
   ],
   "source": [
    "# 79 2 usul\n",
    "from random import randint\n",
    "\n",
    "n =  int(input(\"n = \"))\n",
    "a = [randint(1,n) for i in range(n)]\n",
    "print(a)\n",
    "\n",
    "a = a[0:n-1]\n",
    "a.insert(0,0)\n",
    "print(a)"
   ]
  },
  {
   "cell_type": "code",
   "execution_count": 17,
   "id": "91e258ab",
   "metadata": {},
   "outputs": [
    {
     "name": "stdout",
     "output_type": "stream",
     "text": [
      "n = 10\n",
      "[4, 5, 8, 7, 6, 1, 3, 7, 6, 9]\n",
      "[5, 8, 7, 6, 1, 3, 7, 6, 9, 0]\n"
     ]
    }
   ],
   "source": [
    "# 80\n",
    "from random import randint\n",
    "\n",
    "n =  int(input(\"n = \"))\n",
    "a = [randint(1,n) for i in range(n)]\n",
    "print(a)\n",
    "\n",
    "for i in range(n-1):\n",
    "    a[i] = a[i+1]\n",
    "    \n",
    "a[-1] = 0\n",
    "print(a)"
   ]
  },
  {
   "cell_type": "code",
   "execution_count": 16,
   "id": "fcc18d43",
   "metadata": {},
   "outputs": [
    {
     "name": "stdout",
     "output_type": "stream",
     "text": [
      "n = 10\n",
      "[8, 4, 6, 3, 5, 5, 9, 9, 8, 5]\n",
      "[4, 6, 3, 5, 5, 9, 9, 8, 5, 0]\n"
     ]
    }
   ],
   "source": [
    "# 80 2 usul\n",
    "from random import randint\n",
    "\n",
    "n =  int(input(\"n = \"))\n",
    "a = [randint(1,n) for i in range(n)]\n",
    "print(a)\n",
    "\n",
    "a = a[1:] + [0]\n",
    "\n",
    "print(a)"
   ]
  },
  {
   "cell_type": "code",
   "execution_count": 34,
   "id": "bbe98419",
   "metadata": {},
   "outputs": [
    {
     "name": "stdout",
     "output_type": "stream",
     "text": [
      "k = 10\n",
      "n = 20\n",
      "[8, 19, 8, 9, 3, 12, 16, 7, 7, 20, 14, 10, 5, 16, 4, 13, 11, 19, 16, 16]\n",
      "[0, 0, 0, 0, 0, 0, 0, 0, 0, 20, 8, 19, 8, 9, 3, 12, 16, 7, 7, 20] 9\n"
     ]
    }
   ],
   "source": [
    "# 81\n",
    "from random import randint\n",
    "\n",
    "k = int(input(\"k = \"))\n",
    "n =  int(input(\"n = \"))\n",
    "\n",
    "a = [randint(1,n) for i in range(n)]\n",
    "print(a)\n",
    "\n",
    "for i in range(n-1,0,-1):\n",
    "    a[i] = a[i-k]\n",
    "    \n",
    "\n",
    "for i in range(k-1):\n",
    "    a[i] = 0\n",
    "    \n",
    "s = 0\n",
    "for i in range(n):\n",
    "    if a[i]==0:\n",
    "        s += 1\n",
    "print(a,s)"
   ]
  },
  {
   "cell_type": "code",
   "execution_count": 40,
   "id": "3571f295",
   "metadata": {},
   "outputs": [
    {
     "name": "stdout",
     "output_type": "stream",
     "text": [
      "k = 2\n",
      "n = 4\n",
      "[2, 3, 1, 3]\n",
      "[1, 3, 0, 0]\n"
     ]
    }
   ],
   "source": [
    "# 82\n",
    "from random import randint\n",
    "\n",
    "k = int(input(\"k = \"))\n",
    "n =  int(input(\"n = \"))\n",
    "a = [randint(1,n) for i in range(n)]\n",
    "print(a)\n",
    "\n",
    "for i in range(n-k):\n",
    "    a[i] = a[i+k]\n",
    "    \n",
    "for i in range(n-1,k-1,-1):\n",
    "    a[i] = 0\n",
    "    \n",
    "print(a)"
   ]
  },
  {
   "cell_type": "code",
   "execution_count": 18,
   "id": "10c57283",
   "metadata": {
    "scrolled": true
   },
   "outputs": [
    {
     "name": "stdout",
     "output_type": "stream",
     "text": [
      "n = 10\n",
      "[3, 8, 8, 2, 4, 5, 6, 9, 7, 4]\n",
      "[4, 3, 8, 8, 2, 4, 5, 6, 9, 7]\n"
     ]
    }
   ],
   "source": [
    "# 83\n",
    "from random import randint\n",
    "\n",
    "n =  int(input(\"n = \"))\n",
    "a = [randint(1,n) for i in range(n)]\n",
    "print(a)\n",
    "a = [a[-1]] + a[:-1]\n",
    "print(a)\n"
   ]
  },
  {
   "cell_type": "code",
   "execution_count": 19,
   "id": "985ccd99",
   "metadata": {},
   "outputs": [
    {
     "name": "stdout",
     "output_type": "stream",
     "text": [
      "n = 10\n",
      "[2, 4, 6, 8, 7, 6, 9, 4, 5, 8]\n",
      "[4, 6, 8, 7, 6, 9, 4, 5, 8, 2]\n"
     ]
    }
   ],
   "source": [
    "# 84\n",
    "from random import randint\n",
    "\n",
    "n =  int(input(\"n = \"))\n",
    "a = [randint(1,n) for i in range(n)]\n",
    "print(a)\n",
    "a = a[1:] + [a[0]]\n",
    "print(a)"
   ]
  },
  {
   "cell_type": "code",
   "execution_count": 3,
   "id": "d2671158",
   "metadata": {},
   "outputs": [
    {
     "name": "stdout",
     "output_type": "stream",
     "text": [
      "1 <= k <= 4\n",
      "k = 2\n",
      "n = 4\n",
      "[9, 3, 1, 5]\n",
      "[1, 5, 9, 3]\n"
     ]
    }
   ],
   "source": [
    "# 85\n",
    "from random import randint\n",
    "\n",
    "print(\"1 <= k <= 4\")\n",
    "k = int(input(\"k = \"))\n",
    "n =  int(input(\"n = \"))\n",
    "\n",
    "a = [randint(1,20) for i in range(n)]\n",
    "print(a)\n",
    "a = a[k:] + a[:k]\n",
    "print(a)"
   ]
  },
  {
   "cell_type": "code",
   "execution_count": 10,
   "id": "a1c7e08b",
   "metadata": {},
   "outputs": [
    {
     "name": "stdout",
     "output_type": "stream",
     "text": [
      "1 <= k <= 4\n",
      "k = 2\n",
      "n = 5\n",
      "[14, 8, 18, 1, 18]\n",
      "[18, 1, 18, 8, 14]\n"
     ]
    }
   ],
   "source": [
    "# 86\n",
    "from random import randint\n",
    "\n",
    "print(\"1 <= k <= 4\")\n",
    "k = int(input(\"k = \"))\n",
    "n =  int(input(\"n = \"))\n",
    "\n",
    "a = [randint(1,20) for i in range(n)]\n",
    "print(a)\n",
    "a = a[n:k:-1] + a[k::-1] \n",
    "print(a)"
   ]
  },
  {
   "cell_type": "code",
   "execution_count": 25,
   "id": "f57d7dbf",
   "metadata": {},
   "outputs": [
    {
     "name": "stdout",
     "output_type": "stream",
     "text": [
      "n = 5\n",
      "a = 3\n",
      "a = 1\n",
      "a = 2\n",
      "a = 4\n",
      "a = 5\n",
      "[3, 1, 2, 4, 5]\n",
      "[1, 2, 4, 5] 3\n",
      "[1, 2, 3, 4, 5]\n"
     ]
    }
   ],
   "source": [
    "# 87\n",
    "n = int(input(\"n = \"))\n",
    "\n",
    "a = []\n",
    "for _ in range(n):\n",
    "    a.append(int(input(\"a = \")))\n",
    "print(a)\n",
    "    \n",
    "b = a[0]\n",
    "del a[0]\n",
    "\n",
    "for i in range(n-1):\n",
    "    if a[i] <= b <= a[i+1]:\n",
    "        a.insert(i+1,b)\n",
    "        break\n",
    "\n",
    "print(a)"
   ]
  },
  {
   "cell_type": "code",
   "execution_count": 27,
   "id": "0c16da04",
   "metadata": {},
   "outputs": [
    {
     "name": "stdout",
     "output_type": "stream",
     "text": [
      "n = 5\n",
      "a = 1\n",
      "a = 2\n",
      "a = 4\n",
      "a = 5\n",
      "a = 3\n",
      "[1, 2, 4, 5, 3]\n",
      "[1, 2, 3, 4, 5]\n"
     ]
    }
   ],
   "source": [
    "# 88\n",
    "n = int(input(\"n = \"))\n",
    "\n",
    "a = []\n",
    "for _ in range(n):\n",
    "    a.append(int(input(\"a = \")))\n",
    "print(a)\n",
    "    \n",
    "b = a[-1]\n",
    "del a[-1]\n",
    "\n",
    "for i in range(n-1):\n",
    "    if a[i] <= b <= a[i+1]:\n",
    "        a.insert(i+1,b)\n",
    "        break\n",
    "\n",
    "print(a)"
   ]
  },
  {
   "cell_type": "code",
   "execution_count": 31,
   "id": "a2aaf72e",
   "metadata": {},
   "outputs": [
    {
     "name": "stdout",
     "output_type": "stream",
     "text": [
      "n = 3\n",
      "a = 3\n",
      "a = 1\n",
      "a = 2\n",
      "[3, 1, 2]\n",
      "0 3\n",
      "[1, 2, 3]\n"
     ]
    }
   ],
   "source": [
    "# 89\n",
    "n = int(input(\"n = \"))\n",
    "\n",
    "a = []\n",
    "\n",
    "for _ in range(n):\n",
    "    a.append(int(input(\"a = \")))   \n",
    "    \n",
    "print(a)\n",
    "\n",
    "for i in range(n-1):\n",
    "    if not a[i] <= a[i+1]:\n",
    "        index = i\n",
    "        b = a[index]\n",
    "        del a[index]\n",
    "        break\n",
    "\n",
    "print(index, b)\n",
    "for i in range(n-1):\n",
    "    if b < a[i]:\n",
    "        a.insert(i,b)\n",
    "        break\n",
    "else:\n",
    "    a.append(b)\n",
    "    \n",
    "print(a)"
   ]
  },
  {
   "cell_type": "code",
   "execution_count": 33,
   "id": "2eb41872",
   "metadata": {},
   "outputs": [
    {
     "name": "stdout",
     "output_type": "stream",
     "text": [
      "n = 10\n",
      "[5, 4, 2, 0, 3, 1, 1, 2, 1, 3]\n",
      "[5, 4, 2, 0, 3, 2, 3]\n"
     ]
    }
   ],
   "source": [
    "# 90\n",
    "from random import randint\n",
    "\n",
    "n = int(input(\"n = \"))\n",
    "\n",
    "a = [randint(0,5) for i in range(n)]\n",
    "print(a)\n",
    "\n",
    "i = 0\n",
    "while i < len(a):\n",
    "    if a.count(a[i]) > 2:\n",
    "        b = a[i]\n",
    "        for i in range(a.count(a[i])):\n",
    "            a.remove(b)\n",
    "    i += 1\n",
    "    \n",
    "print(a)"
   ]
  },
  {
   "cell_type": "code",
   "execution_count": 34,
   "id": "96752539",
   "metadata": {},
   "outputs": [
    {
     "name": "stdout",
     "output_type": "stream",
     "text": [
      "k = 1\n",
      "m = 4\n",
      "n = 6\n",
      "[4, 1, 4, 2, 2, 4]\n",
      "[4, 4]\n"
     ]
    }
   ],
   "source": [
    "# 91\n",
    "from random import randint\n",
    "\n",
    "k = int(input(\"k = \"))\n",
    "m = int(input(\"m = \"))\n",
    "n = int(input(\"n = \"))\n",
    "\n",
    "a = [randint(0,5) for i in range(n)]\n",
    "print(a)\n",
    "\n",
    "del a[k:m+1]\n",
    "\n",
    "print(a)"
   ]
  },
  {
   "cell_type": "code",
   "execution_count": 39,
   "id": "2b6f2407",
   "metadata": {},
   "outputs": [
    {
     "name": "stdout",
     "output_type": "stream",
     "text": [
      "n = 10\n",
      "[1, 4, 4, 4, 0, 2, 0, 3, 5, 1]\n",
      "[4, 4, 4, 0, 2, 0]\n"
     ]
    }
   ],
   "source": [
    "# 92\n",
    "from random import randint\n",
    "\n",
    "n = int(input(\"n = \"))\n",
    "\n",
    "a = [randint(0,5) for i in range(n)]\n",
    "print(a)\n",
    "\n",
    "i = 0\n",
    "while i < len(a):\n",
    "    if a[i] % 2 == 1:\n",
    "        del a[i]\n",
    "        i -= 1\n",
    "        \n",
    "    i += 1\n",
    "        \n",
    "print(a)\n",
    "        "
   ]
  },
  {
   "cell_type": "code",
   "execution_count": 40,
   "id": "96eca87b",
   "metadata": {},
   "outputs": [
    {
     "name": "stdout",
     "output_type": "stream",
     "text": [
      "n = 10\n",
      "[3, 0, 0, 0, 2, 1, 0, 4, 4, 5]\n",
      "5\n",
      "[0, 0, 1, 4, 5]\n"
     ]
    }
   ],
   "source": [
    "# 93\n",
    "from random import randint\n",
    "\n",
    "n = int(input(\"n = \"))\n",
    "\n",
    "a = [randint(0,5) for i in range(n)]\n",
    "print(a)\n",
    "\n",
    "del a[0:n:2]\n",
    "\n",
    "print(len(a),a,sep=\"\\n\")"
   ]
  },
  {
   "cell_type": "code",
   "execution_count": 41,
   "id": "8fa14531",
   "metadata": {},
   "outputs": [
    {
     "name": "stdout",
     "output_type": "stream",
     "text": [
      "n = 10\n",
      "[1, 5, 4, 5, 0, 4, 1, 0, 3, 4]\n",
      "5\n",
      "[1, 4, 0, 1, 3]\n"
     ]
    }
   ],
   "source": [
    "# 94\n",
    "from random import randint\n",
    "\n",
    "n = int(input(\"n = \"))\n",
    "\n",
    "a = [randint(0,5) for i in range(n)]\n",
    "print(a)\n",
    "\n",
    "del a[1:n:2]\n",
    "\n",
    "print(len(a),a,sep=\"\\n\")"
   ]
  },
  {
   "cell_type": "code",
   "execution_count": 52,
   "id": "d3f09fe0",
   "metadata": {},
   "outputs": [
    {
     "name": "stdout",
     "output_type": "stream",
     "text": [
      "n = 15\n",
      "[0, 3, 3, 2, 3, 3, 3, 3, 3, 3, 1, 3, 1, 2, 0]\n",
      "[0, 3, 2, 3, 1, 3, 1, 2, 0]\n"
     ]
    }
   ],
   "source": [
    "# 95\n",
    "from random import randint\n",
    "\n",
    "n = int(input(\"n = \"))\n",
    "\n",
    "a = [randint(0,3) for i in range(n)]\n",
    "print(a)\n",
    "\n",
    "i = 0\n",
    "while i < len(a)-1:\n",
    "    if a[i] == a[i+1]:\n",
    "        del a[i]\n",
    "        i -= 1\n",
    "    i += 1\n",
    "\n",
    "print(a)"
   ]
  },
  {
   "cell_type": "code",
   "execution_count": 46,
   "id": "0c5484c3",
   "metadata": {},
   "outputs": [
    {
     "name": "stdout",
     "output_type": "stream",
     "text": [
      "n = 10\n",
      "[4, 4, 0, 2, 5, 4, 3, 1, 2, 4]\n",
      "[4, 0, 2, 5, 3, 1]\n"
     ]
    }
   ],
   "source": [
    "# 96\n",
    "from random import randint\n",
    "\n",
    "n = int(input(\"n = \"))\n",
    "\n",
    "a = [randint(0,5) for i in range(n)]\n",
    "print(a)\n",
    "\n",
    "i = 0\n",
    "while i < len(a):\n",
    "    if a.count(a[i]) > 1:\n",
    "        b = a[i]\n",
    "        a.reverse()\n",
    "        for j in range(a.count(b)-1):\n",
    "            a.remove(b)\n",
    "        a.reverse()\n",
    "    i += 1     \n",
    "            \n",
    "\n",
    "print(a)"
   ]
  },
  {
   "cell_type": "code",
   "execution_count": 51,
   "id": "6030f912",
   "metadata": {},
   "outputs": [
    {
     "name": "stdout",
     "output_type": "stream",
     "text": [
      "n = 10\n",
      "[4, 2, 1, 4, 2, 5, 3, 0, 2, 1]\n",
      "[4, 5, 3, 0, 2, 1]\n"
     ]
    }
   ],
   "source": [
    "# 97\n",
    "from random import randint\n",
    "\n",
    "n = int(input(\"n = \"))\n",
    "\n",
    "a = [randint(0,5) for i in range(n)]\n",
    "print(a)\n",
    "\n",
    "i = 0\n",
    "while i < len(a):\n",
    "    if a.count(a[i]) > 1:\n",
    "        b = a[i]        \n",
    "        for j in range(a.count(b)-1):\n",
    "            a.remove(b)        \n",
    "    i += 1     \n",
    "\n",
    "print(a)"
   ]
  },
  {
   "cell_type": "code",
   "execution_count": 58,
   "id": "2442f7b2",
   "metadata": {},
   "outputs": [
    {
     "name": "stdout",
     "output_type": "stream",
     "text": [
      "n = 5\n",
      "[4, 0, 0, 2, 1]\n",
      "4 1\n",
      "0 2\n",
      "2 1\n",
      "1 1\n",
      "0\n",
      "[]\n"
     ]
    }
   ],
   "source": [
    "# 98\n",
    "from random import randint\n",
    "\n",
    "n = int(input(\"n = \"))\n",
    "\n",
    "a = [randint(0,5) for i in range(n)]\n",
    "print(a)\n",
    "\n",
    "i = 0\n",
    "while i < len(a):\n",
    "    print(a[i],a.count(a[i]))\n",
    "    if a.count(a[i]) < 3:\n",
    "        b = a[i]\n",
    "        for j in range(a.count(b)):\n",
    "            a.remove(b)\n",
    "        continue\n",
    "    i += 1     \n",
    "            \n",
    "print(len(a),a,sep='\\n')"
   ]
  },
  {
   "cell_type": "code",
   "execution_count": 56,
   "id": "34e6bbac",
   "metadata": {},
   "outputs": [
    {
     "name": "stdout",
     "output_type": "stream",
     "text": [
      "n = 10\n",
      "[5, 0, 3, 5, 5, 5, 2, 0, 3, 2]\n",
      "6\n",
      "[0, 3, 2, 0, 3, 2]\n"
     ]
    }
   ],
   "source": [
    "# 99\n",
    "from random import randint\n",
    "\n",
    "n = int(input(\"n = \"))\n",
    "\n",
    "a = [randint(0,5) for i in range(n)]\n",
    "print(a)\n",
    "\n",
    "i = 0\n",
    "while i < len(a):\n",
    "    if a.count(a[i]) > 2:\n",
    "        b = a[i]\n",
    "        for j in range(a.count(b)):\n",
    "            a.remove(b)\n",
    "        \n",
    "    i += 1     \n",
    "            \n",
    "\n",
    "            \n",
    "print(len(a),a,sep='\\n')"
   ]
  },
  {
   "cell_type": "code",
   "execution_count": 58,
   "id": "d7aeae9d",
   "metadata": {},
   "outputs": [
    {
     "name": "stdout",
     "output_type": "stream",
     "text": [
      "n = 10\n",
      "[4, 2, 4, 5, 2, 5, 3, 2, 0, 5]\n",
      "8\n",
      "[2, 5, 2, 5, 3, 2, 0, 5]\n"
     ]
    }
   ],
   "source": [
    "# 100\n",
    "from random import randint\n",
    "\n",
    "n = int(input(\"n = \"))\n",
    "\n",
    "a = [randint(0,5) for i in range(n)]\n",
    "print(a)\n",
    "\n",
    "i = 0\n",
    "while i < len(a):\n",
    "    if a.count(a[i]) == 2:\n",
    "        b = a[i]\n",
    "        for j in range(a.count(b)):\n",
    "            a.remove(b)\n",
    "        continue\n",
    "    i += 1     \n",
    "            \n",
    "\n",
    "            \n",
    "print(len(a),a,sep='\\n')"
   ]
  },
  {
   "cell_type": "code",
   "execution_count": 1,
   "id": "9ca5b5be",
   "metadata": {},
   "outputs": [
    {
     "name": "stdout",
     "output_type": "stream",
     "text": [
      "n = 10\n",
      "[2, 4, 2, 2, 4, 0, 1, 2, 2, 1]\n",
      "k = 5\n",
      "[2, 4, 2, 2, 0, 4, 0, 1, 2, 2, 1]\n"
     ]
    }
   ],
   "source": [
    "# 101\n",
    "from random import randint\n",
    "\n",
    "n = int(input(\"n = \"))\n",
    "\n",
    "a = [randint(0,5) for i in range(n)]\n",
    "print(a)\n",
    "\n",
    "k = int(input(\"k = \"))\n",
    "\n",
    "a.insert(k-1,0)\n",
    "print(a)\n"
   ]
  },
  {
   "cell_type": "code",
   "execution_count": 2,
   "id": "c2798ca5",
   "metadata": {},
   "outputs": [
    {
     "name": "stdout",
     "output_type": "stream",
     "text": [
      "n = 10\n",
      "[3, 4, 1, 0, 3, 0, 5, 5, 1, 0]\n",
      "k = 7\n",
      "[3, 4, 1, 0, 3, 0, 5, 5, 0, 1, 0]\n"
     ]
    }
   ],
   "source": [
    "# 102\n",
    "from random import randint\n",
    "\n",
    "n = int(input(\"n = \"))\n",
    "\n",
    "a = [randint(0,5) for i in range(n)]\n",
    "print(a)\n",
    "\n",
    "k = int(input(\"k = \"))\n",
    "\n",
    "a.insert(k+1,0)\n",
    "print(a)"
   ]
  },
  {
   "cell_type": "code",
   "execution_count": 5,
   "id": "43144a94",
   "metadata": {},
   "outputs": [
    {
     "name": "stdout",
     "output_type": "stream",
     "text": [
      "n = 10\n",
      "[3, 5, 4, 2, 3, 4, 3, 1, 1, 5]\n",
      "[3, 5, 0, 4, 2, 3, 4, 3, 1, 0, 1, 5]\n"
     ]
    }
   ],
   "source": [
    "# 103\n",
    "from random import randint\n",
    "\n",
    "n = int(input(\"n = \"))\n",
    "\n",
    "a = [randint(0,5) for i in range(n)]\n",
    "print(a)\n",
    "\n",
    "a.insert(a.index(min(a))+1,0)\n",
    "a.insert(a.index(max(a))+1,0)\n",
    "\n",
    "print(a)"
   ]
  },
  {
   "cell_type": "code",
   "execution_count": 6,
   "id": "9fb1c074",
   "metadata": {},
   "outputs": [
    {
     "name": "stdout",
     "output_type": "stream",
     "text": [
      "n = 10\n",
      "[0, 0, 2, 0, 0, 2, 1, 1, 2, 1]\n",
      "k = 2\n",
      "m = 2\n",
      "[0, 0, 0, 0, 2, 0, 0, 2, 1, 1, 2, 1]\n"
     ]
    }
   ],
   "source": [
    "# 104\n",
    "from random import randint\n",
    "\n",
    "n = int(input(\"n = \"))\n",
    "\n",
    "a = [randint(0,5) for i in range(n)]\n",
    "print(a)\n",
    "\n",
    "k = int(input(\"k = \"))\n",
    "m = int(input(\"m = \"))\n",
    "\n",
    "for _ in range(m):\n",
    "    a.insert(k-1,0)\n",
    "    \n",
    "print(a)"
   ]
  },
  {
   "cell_type": "code",
   "execution_count": 7,
   "id": "e1f38a0f",
   "metadata": {},
   "outputs": [
    {
     "name": "stdout",
     "output_type": "stream",
     "text": [
      "n = 10\n",
      "[0, 2, 2, 5, 3, 0, 1, 3, 4, 3]\n",
      "k = 1\n",
      "m = 3\n",
      "[0, 2, 0, 0, 0, 2, 5, 3, 0, 1, 3, 4, 3]\n"
     ]
    }
   ],
   "source": [
    "# 105\n",
    "from random import randint\n",
    "\n",
    "n = int(input(\"n = \"))\n",
    "\n",
    "a = [randint(0,5) for i in range(n)]\n",
    "print(a)\n",
    "\n",
    "k = int(input(\"k = \"))\n",
    "m = int(input(\"m = \"))\n",
    "\n",
    "for _ in range(m):\n",
    "    a.insert(k+1,0)\n",
    "    \n",
    "print(a)"
   ]
  },
  {
   "cell_type": "code",
   "execution_count": 2,
   "id": "25b65f05",
   "metadata": {},
   "outputs": [
    {
     "name": "stdout",
     "output_type": "stream",
     "text": [
      "n = 5\n",
      "[3, 1, 0, 3, 2]\n",
      "[3, 1, 0, 3, 2, 3, 0, 2]\n"
     ]
    }
   ],
   "source": [
    "# 106\n",
    "from random import randint\n",
    "\n",
    "n = int(input(\"n = \"))\n",
    "\n",
    "a = [randint(0,5) for i in range(n)]\n",
    "print(a)\n",
    "\n",
    "a += a[0:n:2]\n",
    "\n",
    "print(a)"
   ]
  },
  {
   "cell_type": "code",
   "execution_count": 3,
   "id": "b8c88f09",
   "metadata": {},
   "outputs": [
    {
     "name": "stdout",
     "output_type": "stream",
     "text": [
      "n = 5\n",
      "[5, 1, 2, 0, 2]\n",
      "[5, 1, 2, 0, 2, 1, 0, 1, 0]\n"
     ]
    }
   ],
   "source": [
    "# 107\n",
    "from random import randint\n",
    "\n",
    "n = int(input(\"n = \"))\n",
    "\n",
    "a = [randint(0,5) for i in range(n)]\n",
    "print(a)\n",
    "\n",
    "a += a[1:n:2] + a[1:n:2]\n",
    "\n",
    "print(a)"
   ]
  },
  {
   "cell_type": "code",
   "execution_count": 12,
   "id": "3ef22dd1",
   "metadata": {},
   "outputs": [
    {
     "name": "stdout",
     "output_type": "stream",
     "text": [
      "n = 10\n",
      "[10, 4, 8, 0, -10, 1, 0, -3, -2, 2]\n",
      "[0, 10, 0, 4, 0, 8, 0, -10, 0, 1, 0, -3, -2, 0, 2]\n"
     ]
    }
   ],
   "source": [
    "# 108\n",
    "from random import randint\n",
    "\n",
    "n = int(input(\"n = \"))\n",
    "\n",
    "a = [randint(-10,11) for i in range(n)]\n",
    "print(a)\n",
    "\n",
    "i = 0\n",
    "while i<len(a):\n",
    "    if a[i]>0:\n",
    "        a.insert(i,0)\n",
    "        i += 1\n",
    "    i += 1\n",
    "print(a)"
   ]
  },
  {
   "cell_type": "code",
   "execution_count": 13,
   "id": "d63ec9db",
   "metadata": {},
   "outputs": [
    {
     "name": "stdout",
     "output_type": "stream",
     "text": [
      "n = 10\n",
      "[-3, -1, 7, -8, -1, 9, -3, 5, 4, -5]\n",
      "[-3, 0, -1, 0, 7, -8, 0, -1, 0, 9, -3, 0, 5, 4, -5, 0]\n"
     ]
    }
   ],
   "source": [
    "# 109\n",
    "from random import randint\n",
    "\n",
    "n = int(input(\"n = \"))\n",
    "\n",
    "a = [randint(-10,11) for i in range(n)]\n",
    "print(a)\n",
    "\n",
    "i = 0\n",
    "while i<len(a):\n",
    "    if a[i]<0:\n",
    "        a.insert(i+1,0)\n",
    "        i += 1\n",
    "    i += 1\n",
    "print(a)"
   ]
  },
  {
   "cell_type": "code",
   "execution_count": 5,
   "id": "368374f0",
   "metadata": {},
   "outputs": [
    {
     "name": "stdout",
     "output_type": "stream",
     "text": [
      "n = 10\n",
      "[1, 4, 1, 2, 5, 1, 5, 1, 1, 0]\n",
      "[1, 4, 1, 2, 5, 1, 5, 1, 1, 0, 1, 1, 5, 5, 1]\n"
     ]
    }
   ],
   "source": [
    "# 110\n",
    "from random import randint\n",
    "\n",
    "n = int(input(\"n = \"))\n",
    "\n",
    "a = [randint(0,5) for i in range(n)]\n",
    "print(a)\n",
    "\n",
    "a += a[0:n:2]\n",
    "\n",
    "print(a)"
   ]
  },
  {
   "cell_type": "code",
   "execution_count": 4,
   "id": "c3ad8bf7",
   "metadata": {},
   "outputs": [
    {
     "name": "stdout",
     "output_type": "stream",
     "text": [
      "n = 10\n",
      "[2, 3, 0, 5, 3, 1, 4, 4, 3, 5]\n",
      "[2, 3, 0, 5, 3, 1, 4, 4, 3, 5, 3, 5, 1, 4, 5, 3, 5, 1, 4, 5]\n"
     ]
    }
   ],
   "source": [
    "# 111\n",
    "# 107\n",
    "from random import randint\n",
    "\n",
    "n = int(input(\"n = \"))\n",
    "\n",
    "a = [randint(0,5) for i in range(n)]\n",
    "print(a)\n",
    "\n",
    "a += a[1:n:2] + a[1:n:2]\n",
    "\n",
    "print(a)"
   ]
  },
  {
   "cell_type": "code",
   "execution_count": 30,
   "id": "530dc714",
   "metadata": {},
   "outputs": [
    {
     "name": "stdout",
     "output_type": "stream",
     "text": [
      "n = 10\n",
      "[-3, 3, 8, 9, -8, 0, -2, -7, -10, 8]\n",
      "[-10, -8, -7, -3, -2, 0, 3, 8, 8, 9]\n"
     ]
    }
   ],
   "source": [
    "# 112\n",
    "\n",
    "def bsort(array):\n",
    "    for i in range(1,len(array)):\n",
    "        for j in range(1,len(array)):\n",
    "            if a[j]<a[j-1]:\n",
    "                a[j], a[j-1] = a[j-1], a[j]\n",
    "            \n",
    "    return array\n",
    "\n",
    "from random import randint\n",
    "\n",
    "n = int(input(\"n = \"))\n",
    "\n",
    "a = [randint(-10,11) for i in range(n)]\n",
    "print(a)\n",
    "\n",
    "a = bsort(a)\n",
    "print(a)"
   ]
  },
  {
   "cell_type": "code",
   "execution_count": 24,
   "id": "ce86e803",
   "metadata": {},
   "outputs": [
    {
     "name": "stdout",
     "output_type": "stream",
     "text": [
      "n = 10\n",
      "[5, -2, 4, -3, -1, 6, 0, 7, 7, -7]\n",
      "[-7, -3, -2, -1, 0, 4, 5, 6, 7, 7]\n"
     ]
    }
   ],
   "source": [
    "# 113\n",
    "\n",
    "def ssort(a):\n",
    "    for i in range(len(a)-1):\n",
    "        x = 1\n",
    "        for j in range(i+1,len(a)):\n",
    "            if x:\n",
    "                mini = a[j]\n",
    "                index = j\n",
    "                x = 0\n",
    "                \n",
    "            if mini > a[j]:\n",
    "                mini = a[j]\n",
    "                index = j\n",
    "        \n",
    "        if a[i] > mini:\n",
    "            a[i], a[index] = mini, a[i]\n",
    "            \n",
    "    return a\n",
    "                \n",
    "\n",
    "from random import randint\n",
    "\n",
    "n = int(input(\"n = \"))\n",
    "\n",
    "a = [randint(-10,11) for i in range(n)]\n",
    "print(a)\n",
    "\n",
    "a = ssort(a)\n",
    "print(a)"
   ]
  },
  {
   "cell_type": "code",
   "execution_count": 6,
   "id": "03ce2067",
   "metadata": {},
   "outputs": [
    {
     "name": "stdout",
     "output_type": "stream",
     "text": [
      "n = 10\n",
      "[96, 86, 18, 13, 56, 9, 44, 43, 35, 88]\n",
      "[9, 13, 18, 35, 43, 44, 56, 86, 88, 96]\n"
     ]
    }
   ],
   "source": [
    "# 114\n",
    "\n",
    "def isort(a):\n",
    "    if a[0]>a[1]:\n",
    "            a[0], a[1] = a[1],a[0]\n",
    "            \n",
    "    for i in range(0,len(a)):\n",
    "        for j in range(i,len(a)):\n",
    "            if a[i] > a[j]:\n",
    "                a.insert(i, a.pop(j))\n",
    "            \n",
    "             \n",
    "    return a\n",
    "\n",
    "from random import randint\n",
    "\n",
    "n = int(input(\"n = \"))\n",
    "\n",
    "a = [randint(0,101) for i in range(n)]\n",
    "print(a)\n",
    "\n",
    "a = isort(a)\n",
    "print(a)"
   ]
  },
  {
   "cell_type": "code",
   "execution_count": 35,
   "id": "6c2b607a",
   "metadata": {},
   "outputs": [
    {
     "name": "stdout",
     "output_type": "stream",
     "text": [
      "n = 10\n",
      "[47, -33, -73, -29, 100, -97, 15, 51, -25, -15]\n",
      "-97 -73 -33 -29 -25 -15 15 47 51 100 \n",
      "[47, -33, -73, -29, 100, -97, 15, 51, -25, -15]\n"
     ]
    }
   ],
   "source": [
    "# 115\n",
    "\n",
    "from random import randint\n",
    "\n",
    "def array115(a):\n",
    "    b = [i for i in range(len(a))]\n",
    "    for i in range(len(a)):\n",
    "        for j in range(1,len(a)):\n",
    "            if a[b[j]]<a[b[j-1]]:\n",
    "                b[j], b[j-1] = b[j-1], b[j]\n",
    "                \n",
    "    return b\n",
    "\n",
    "\n",
    "\n",
    "n = int(input(\"n = \"))\n",
    "\n",
    "a = [randint(-100,101) for i in range(n)]\n",
    "print(a)\n",
    "\n",
    "for i in array115(a):\n",
    "    print(a[i],end=\" \")\n",
    "        \n",
    "print(\"\\n\",a,sep='')    "
   ]
  },
  {
   "cell_type": "code",
   "execution_count": 19,
   "id": "0adcdd52",
   "metadata": {},
   "outputs": [
    {
     "name": "stdout",
     "output_type": "stream",
     "text": [
      "n = 2\n",
      "[1, 1]\n",
      "[2]\n",
      "[1]\n"
     ]
    }
   ],
   "source": [
    "#116\n",
    "from random import randint\n",
    "\n",
    "def array116(a):\n",
    "    b = [1]; c = [a[0]]\n",
    "\n",
    "    for i in range(1,n):\n",
    "        if c[-1]==a[i]:\n",
    "            b[-1] += 1\n",
    "        else:\n",
    "            c.append(a[i])\n",
    "            b.append(1)\n",
    "    return b,c\n",
    "\n",
    "n = int(input(\"n = \"))\n",
    "\n",
    "a = [randint(0,1) for i in range(n)]\n",
    "print(a)\n",
    "\n",
    "\n",
    "b,c = array116(a)\n",
    "        \n",
    "print(b,c,sep=\"\\n\")\n",
    "        \n"
   ]
  },
  {
   "cell_type": "code",
   "execution_count": 22,
   "id": "f8f645cd",
   "metadata": {},
   "outputs": [
    {
     "name": "stdout",
     "output_type": "stream",
     "text": [
      "n = 3\n",
      "[1, 0, 1]\n",
      "[1, 0, 0, 0, 1]\n"
     ]
    }
   ],
   "source": [
    "# 117\n",
    "from random import randint\n",
    "\n",
    "n = int(input(\"n = \"))\n",
    "\n",
    "a = [randint(0,1) for i in range(n)]\n",
    "print(a)\n",
    "\n",
    "x = a[0]\n",
    "i = 1\n",
    "while i < len(a):\n",
    "    if x != a[i]:\n",
    "        x = a[i]\n",
    "        a.insert(i,0)\n",
    "        i += 1\n",
    "    i += 1\n",
    "    \n",
    "print(a)"
   ]
  },
  {
   "cell_type": "code",
   "execution_count": 22,
   "id": "3c8da6f6",
   "metadata": {},
   "outputs": [
    {
     "name": "stdout",
     "output_type": "stream",
     "text": [
      "n = 5\n",
      "[2, 1, 2, 1, 1]\n",
      "[2, 0, 1, 0, 2, 0, 1, 1]\n"
     ]
    }
   ],
   "source": [
    "##118\n",
    "from random import randint\n",
    "n = int(input(\"n = \"))\n",
    "\n",
    "a = [randint(0,2) for i in range(n)]\n",
    "print(a)\n",
    "\n",
    "x = a[0]\n",
    "i = 1\n",
    "\n",
    "while i < len(a):\n",
    "    if x !=  a[i]:\n",
    "        x = a[i]\n",
    "        a.insert(i,0)\n",
    "        i += 1\n",
    "    i += 1\n",
    "\n",
    "\n",
    "print(a)"
   ]
  },
  {
   "cell_type": "code",
   "execution_count": 36,
   "id": "b2e660cd",
   "metadata": {},
   "outputs": [
    {
     "name": "stdout",
     "output_type": "stream",
     "text": [
      "n = 3\n",
      "[0, 2, 1]\n",
      "[0, 0, 2, 2, 1, 1]\n"
     ]
    }
   ],
   "source": [
    "# 119\n",
    "from random import randint\n",
    "n = int(input(\"n = \"))\n",
    "\n",
    "a = [randint(0,2) for i in range(n)]\n",
    "print(a)\n",
    "if a.count(a[0]) == len(a):\n",
    "    a.append(x)\n",
    "else:\n",
    "    x = a[0]\n",
    "    i = 0\n",
    "    while i < len(a):\n",
    "        if x !=  a[i]:\n",
    "            a.insert(i,x)\n",
    "            i += 1\n",
    "            x = a[i]\n",
    "        i += 1\n",
    "    a.append(x)\n",
    "print(a)\n"
   ]
  },
  {
   "cell_type": "code",
   "execution_count": 43,
   "id": "39c34c57",
   "metadata": {},
   "outputs": [
    {
     "name": "stdout",
     "output_type": "stream",
     "text": [
      "n = 5\n",
      "[2, 0, 1, 0, 1]\n",
      "[]\n"
     ]
    }
   ],
   "source": [
    "# 120\n",
    "from random import randint\n",
    "n = int(input(\"n = \"))\n",
    "\n",
    "a = [randint(0,2) for i in range(n)]\n",
    "print(a)\n",
    "\n",
    "if a.count(a[0]) == len(a):\n",
    "    a.remove(a[0])\n",
    "else:\n",
    "    x = a[0]\n",
    "    i = 1\n",
    "    while i < len(a):\n",
    "        if x != a[i]:\n",
    "            x = a[i]\n",
    "            a.pop(i-1)\n",
    "            continue\n",
    "        i += 1\n",
    "    a.remove(x)\n",
    "\n",
    "\n",
    "    \n",
    "print(a)"
   ]
  },
  {
   "cell_type": "code",
   "execution_count": 99,
   "id": "6f97a803",
   "metadata": {},
   "outputs": [
    {
     "name": "stdout",
     "output_type": "stream",
     "text": [
      "k = 3\n",
      "n = 7\n",
      "[2, 0, 1, 1, 1, 2, 0]\n",
      "[2, 0, 1, 1, 1, 1, 1, 1, 2, 0]\n"
     ]
    }
   ],
   "source": [
    "# 121\n",
    "from random import randint\n",
    "k = int(input(\"k = \"))\n",
    "n = int(input(\"n = \"))\n",
    "a = [randint(0,2) for i in range(n)]\n",
    "print(a)\n",
    "\n",
    "if a.count(a[0]) == len(a) and k==1:\n",
    "    a += a\n",
    "elif (a.count(a[0]) == len(a) and k!=1) or k > len(a):\n",
    "    print(f\"Massivda {k} seriya yo'q!!!\")\n",
    "else:\n",
    "    x = a[0]\n",
    "    i = 0; j = 1\n",
    "    while i < len(a):\n",
    "        if x != a[i]:\n",
    "            x = a[i]\n",
    "            j += 1\n",
    "        if k == j:\n",
    "            a.insert(i,a[i])\n",
    "            i += 1\n",
    "        i += 1\n",
    "               \n",
    "print(a)"
   ]
  },
  {
   "cell_type": "code",
   "execution_count": 107,
   "id": "d678e915",
   "metadata": {},
   "outputs": [
    {
     "name": "stdout",
     "output_type": "stream",
     "text": [
      "k = 3\n",
      "n = 7\n",
      "[0, 1, 2, 1, 1, 2, 2]\n",
      "[0, 1, 1, 1, 2, 2]\n"
     ]
    }
   ],
   "source": [
    "# 122\n",
    "from random import randint\n",
    "k = int(input(\"k = \"))\n",
    "n = int(input(\"n = \"))\n",
    "a = [randint(0,2) for i in range(n)]\n",
    "print(a)\n",
    "\n",
    "def seriya_soni(a):\n",
    "    x = a[0]; index = [0]\n",
    "    for i in range(len(a)):\n",
    "        if x!=a[i]:\n",
    "            index.append(i)\n",
    "            x = a[i]\n",
    "                      \n",
    "    return index\n",
    "\n",
    "soni, index = len(seriya_soni(a)), seriya_soni(a)\n",
    "\n",
    "if soni < k:\n",
    "    print(a)\n",
    "else:\n",
    "    if len(a) == k:\n",
    "        del a[index[k-1]:]\n",
    "    else:\n",
    "        del a[index[k-1]:index[k]]\n",
    "    print(a)"
   ]
  },
  {
   "cell_type": "code",
   "execution_count": 91,
   "id": "a337edc3",
   "metadata": {},
   "outputs": [
    {
     "name": "stdout",
     "output_type": "stream",
     "text": [
      "k = 5\n",
      "n = 10\n",
      "[1, 0, 2, 1, 1, 0, 1, 1, 2, 1]\n",
      "[0, 0, 2, 1, 1, 1, 1, 1, 2, 1]\n"
     ]
    }
   ],
   "source": [
    "# 123\n",
    "from random import randint\n",
    "k = int(input(\"k = \"))\n",
    "n = int(input(\"n = \"))\n",
    "a = [randint(0,2) for i in range(n)]\n",
    "print(a)\n",
    "\n",
    "def seriya_soni(a):\n",
    "    x = a[0]; index = [0]\n",
    "    for i in range(len(a)):\n",
    "        if x!=a[i]:\n",
    "            index.append(i)\n",
    "            x = a[i]          \n",
    "            \n",
    "    return index\n",
    "\n",
    "soni, index = len(seriya_soni(a)), seriya_soni(a)\n",
    "\n",
    "if k>soni:\n",
    "    print(a)\n",
    "else:\n",
    "    a[index[0]:index[1]] , a[index[k-1]:index[k]] = a[index[k-1]:index[k]], a[index[0]:index[1]]\n",
    "    print(a)\n"
   ]
  },
  {
   "cell_type": "code",
   "execution_count": 93,
   "id": "8dc9a3aa",
   "metadata": {},
   "outputs": [
    {
     "name": "stdout",
     "output_type": "stream",
     "text": [
      "k = 3\n",
      "n = 9\n",
      "[1, 1, 2, 0, 2, 0, 2, 0, 2]\n",
      "[1, 1, 2, 2, 2, 0, 2, 0, 0]\n"
     ]
    }
   ],
   "source": [
    "# 124\n",
    "from random import randint\n",
    "k = int(input(\"k = \"))\n",
    "n = int(input(\"n = \"))\n",
    "a = [randint(0,2) for i in range(n)]\n",
    "print(a)\n",
    "\n",
    "def seriya_soni(a):\n",
    "    x = a[0]; index = [0]\n",
    "    for i in range(len(a)):\n",
    "        if x!=a[i]:\n",
    "            index.append(i)\n",
    "            x = a[i]            \n",
    "    return index\n",
    "\n",
    "soni, index = len(seriya_soni(a)), seriya_soni(a)\n",
    "\n",
    "if k>soni:\n",
    "    print(a)\n",
    "else:\n",
    "    a[index[-1]:] , a[index[k-1]:index[k]] = a[index[k-1]:index[k]], a[index[-1]:]\n",
    "    print(a)\n"
   ]
  },
  {
   "cell_type": "code",
   "execution_count": 98,
   "id": "66175d75",
   "metadata": {},
   "outputs": [
    {
     "name": "stdout",
     "output_type": "stream",
     "text": [
      "k = 4\n",
      "n = 10\n",
      "[1, 1, 1, 2, 2, 1, 1, 2, 1, 1]\n",
      "[0, 0, 0, 2, 1, 1]\n"
     ]
    }
   ],
   "source": [
    "# 125\n",
    "\n",
    "from random import randint\n",
    "k = int(input(\"k = \"))\n",
    "n = int(input(\"n = \"))\n",
    "a = [randint(0,2) for i in range(n)]\n",
    "print(a)\n",
    "\n",
    "def seriya_soni(a):\n",
    "    x = a[0]; index = [0]\n",
    "    for i in range(len(a)):\n",
    "        if x!=a[i]:\n",
    "            index.append(i)\n",
    "            x = a[i]            \n",
    "    return index\n",
    "\n",
    "soni, index = len(seriya_soni(a)), seriya_soni(a)\n",
    "\n",
    "if k>soni:\n",
    "    print(a)\n",
    "else:\n",
    "    del a[0:index[k-1]]\n",
    "    for i in range(k-1):\n",
    "        a.insert(0,0)\n",
    "    print(a)\n"
   ]
  },
  {
   "cell_type": "code",
   "execution_count": 104,
   "id": "73d6988b",
   "metadata": {},
   "outputs": [
    {
     "name": "stdout",
     "output_type": "stream",
     "text": [
      "k = 3\n",
      "n = 10\n",
      "[2, 1, 2, 1, 2, 2, 1, 0, 2, 0]\n",
      "[2, 1, 0, 1, 2, 2, 1, 0, 2, 0]\n"
     ]
    }
   ],
   "source": [
    "# 126\n",
    "from random import randint\n",
    "k = int(input(\"k = \"))\n",
    "n = int(input(\"n = \"))\n",
    "a = [randint(0,2) for i in range(n)]\n",
    "print(a)\n",
    "\n",
    "def seriya_soni(a):\n",
    "    x = a[0]; index = [0]\n",
    "    for i in range(len(a)):\n",
    "        if x!=a[i]:\n",
    "            index.append(i)\n",
    "            x = a[i]            \n",
    "    return index\n",
    "\n",
    "soni, index = len(seriya_soni(a)), seriya_soni(a)\n",
    "\n",
    "if k<soni:\n",
    "    if len(a) == k:\n",
    "        del a[index[k-1]:]\n",
    "    else:\n",
    "        del a[index[k-1]:index[k]]\n",
    "    a.insert(index[k-1],0)\n",
    "print(a)\n",
    "    "
   ]
  },
  {
   "cell_type": "code",
   "execution_count": 105,
   "id": "0aa03574",
   "metadata": {},
   "outputs": [
    {
     "name": "stdout",
     "output_type": "stream",
     "text": [
      "k = 3\n",
      "n = 8\n",
      "[2, 1, 2, 2, 0, 2, 0, 0]\n",
      "[2, 1, 2, 2, 0, 0, 0]\n"
     ]
    }
   ],
   "source": [
    "# 127\n",
    "def seriya_soni(a):\n",
    "    x = a[0]; index = [0]\n",
    "    for i in range(len(a)):\n",
    "        if x!=a[i]:\n",
    "            index.append(i)\n",
    "            x = a[i]            \n",
    "    return index\n",
    "\n",
    "soni, index = len(seriya_soni(a)), seriya_soni(a)\n",
    "\n",
    "if k<soni:\n",
    "    del a[index[k]:]\n",
    "    for _ in range(soni-k):\n",
    "        a.append(0)\n",
    "print(a)"
   ]
  },
  {
   "cell_type": "code",
   "execution_count": 136,
   "id": "6a4c2ba6",
   "metadata": {},
   "outputs": [
    {
     "name": "stdout",
     "output_type": "stream",
     "text": [
      "n = 6\n",
      "[0, 2, 0, 0, 1, 0]\n",
      "[0, 2, 0, 0, 0, 1, 0]\n"
     ]
    }
   ],
   "source": [
    "# 128\n",
    "from random import randint\n",
    "\n",
    "n = int(input(\"n = \"))\n",
    "a = [randint(0,2) for i in range(n)]\n",
    "print(a)\n",
    "\n",
    "def seriya_soni(a):\n",
    "    x = a[0]; index = [0]\n",
    "    for i in range(len(a)):\n",
    "        if x!=a[i]:\n",
    "            index.append(i)\n",
    "            x = a[i]            \n",
    "    return index\n",
    "\n",
    "soni, index = len(seriya_soni(a)), seriya_soni(a)\n",
    "\n",
    "maxi = abs(index[0] - index[1])\n",
    "ind = 0\n",
    "for i in range(2,soni-1):\n",
    "    if maxi<abs(index[i]-index[i-1]):\n",
    "        maxi = abs(index[i] - index[i-1])\n",
    "        ind = i-1\n",
    "        \n",
    "a.insert(ind,a[index[ind]])\n",
    "print(a)    "
   ]
  },
  {
   "cell_type": "code",
   "execution_count": 138,
   "id": "0ef42b2e",
   "metadata": {},
   "outputs": [
    {
     "name": "stdout",
     "output_type": "stream",
     "text": [
      "n = 10\n",
      "[1, 0, 1, 1, 2, 1, 0, 1, 0, 2]\n",
      "[1, 0, 1, 1, 1, 2, 1, 0, 1, 0, 2]\n"
     ]
    }
   ],
   "source": [
    "# 129\n",
    "from random import randint\n",
    "\n",
    "n = int(input(\"n = \"))\n",
    "a = [randint(0,2) for i in range(n)]\n",
    "print(a)\n",
    "\n",
    "def seriya_soni(a):\n",
    "    x = a[0]; index = [0]\n",
    "    for i in range(len(a)):\n",
    "        if x!=a[i]:\n",
    "            index.append(i)\n",
    "            x = a[i]            \n",
    "    return index\n",
    "\n",
    "soni, index = len(seriya_soni(a)), seriya_soni(a)\n",
    "index.reverse()\n",
    "maxi = abs(index[0] - index[1])\n",
    "ind = 0\n",
    "for i in range(2,soni-1):\n",
    "    if maxi<abs(index[i]-index[i-1]):\n",
    "        maxi = abs(index[i] - index[i-1])\n",
    "        ind = index[i-1]\n",
    "        \n",
    "a.insert(ind,a[index[ind]])\n",
    "print(a)"
   ]
  },
  {
   "cell_type": "code",
   "execution_count": 155,
   "id": "34a76e4d",
   "metadata": {},
   "outputs": [
    {
     "name": "stdout",
     "output_type": "stream",
     "text": [
      "n = 4\n",
      "[0, 0, 1, 2]\n",
      "[0, 2, 3]\n",
      "[0, 0, 0, 1, 1, 2, 2]\n"
     ]
    }
   ],
   "source": [
    "# 130\n",
    "from random import randint\n",
    "\n",
    "n = int(input(\"n = \"))\n",
    "a = [randint(0,2) for i in range(n)]\n",
    "print(a)\n",
    "\n",
    "def seriya_soni(a):\n",
    "    x = a[0]; index = [0]\n",
    "    for i in range(1,len(a)):\n",
    "        if x!=a[i]:\n",
    "            index.append(i)\n",
    "            x = a[i]            \n",
    "    return index\n",
    "\n",
    "indeks =  seriya_soni(a)\n",
    "print(indeks)\n",
    "i = 0\n",
    "while i < len(indeks):\n",
    "    a.insert(indeks[i]+i,a[indeks[i]+i])\n",
    "    i += 1\n",
    "print(a)"
   ]
  },
  {
   "cell_type": "code",
   "execution_count": 5,
   "id": "6ee52602",
   "metadata": {},
   "outputs": [
    {
     "name": "stdout",
     "output_type": "stream",
     "text": [
      "n = 10\n",
      "bx =  9  by =  -4\n",
      "xn =  [5, -5, 10, 1, 5, 6, -7, 2, -1, -10] \n",
      "yn =  [-3, 5, 10, -7, 8, -6, 5, -10, -3, 9]\n",
      "6 -6\n"
     ]
    }
   ],
   "source": [
    "# 131\n",
    "from random import randint\n",
    "\n",
    "n = int(input(\"n = \"))\n",
    "\n",
    "bx = randint(-10,10)\n",
    "by = randint(-10,10)\n",
    "\n",
    "nx = [randint(-10,10) for i in range(n)]\n",
    "ny = [randint(-10,10) for i in range(n)]\n",
    "\n",
    "print(\"bx = \", bx, ' by = ', by)\n",
    "print(\"xn = \", nx, '\\nyn = ', ny)\n",
    "\n",
    "mini = ((bx - nx[0])**2 + (by - ny[0])**2)**0.5\n",
    "index = 0\n",
    "for i in range(1,n):\n",
    "    if mini > ((bx - nx[i])**2 + (by - ny[i])**2)**0.5:\n",
    "        mini = ((bx - nx[i])**2 + (by - ny[i])**2)**0.5\n",
    "        index = i\n",
    "        \n",
    "print(nx[index], ny[index])"
   ]
  },
  {
   "cell_type": "code",
   "execution_count": 12,
   "id": "2c48c95e",
   "metadata": {},
   "outputs": [
    {
     "name": "stdout",
     "output_type": "stream",
     "text": [
      "n = 10\n",
      "x =  False  y =  -10\n",
      "xn =  [-9, 5, 8, 4, -3, -9, -6, 0, -5, 10] \n",
      "yn =  [1, -2, 6, 3, 7, 7, -1, -8, -8, -10]\n",
      "-9 7\n"
     ]
    }
   ],
   "source": [
    "# 132\n",
    "from random import randint\n",
    "\n",
    "n = int(input(\"n = \"))\n",
    "\n",
    "nx = [randint(-10,10) for i in range(n)]\n",
    "ny = [randint(-10,10) for i in range(n)]\n",
    "\n",
    "print(\"xn = \", nx, '\\nyn = ', ny)\n",
    "\n",
    "x = 1\n",
    "\n",
    "for i in range(n):\n",
    "    if nx[i]<0 and ny[i]>0:\n",
    "        if x:\n",
    "            maxi = (nx[i]**2 + ny[i]**2)**0.5\n",
    "            index = i\n",
    "            x = False\n",
    "        if maxi < (nx[i]**2 + ny[i]**2)**0.5:\n",
    "            maxi = (nx[i]**2 + ny[i]**2)**0.5\n",
    "            index = i\n",
    "if not x:\n",
    "    print(nx[index], ny[index])\n",
    "else:\n",
    "    print(0)"
   ]
  },
  {
   "cell_type": "code",
   "execution_count": 13,
   "id": "0e852035",
   "metadata": {},
   "outputs": [
    {
     "name": "stdout",
     "output_type": "stream",
     "text": [
      "n = 10\n",
      "xn =  [-8, 4, 2, -9, -1, 9, -9, -7, 10, -2] \n",
      "yn =  [-6, 9, 7, -7, -8, -10, -1, -9, -4, 7]\n",
      "-9 -7\n"
     ]
    }
   ],
   "source": [
    "# 133\n",
    "from random import randint\n",
    "\n",
    "n = int(input(\"n = \"))\n",
    "\n",
    "nx = [randint(-10,10) for i in range(n)]\n",
    "ny = [randint(-10,10) for i in range(n)]\n",
    "\n",
    "print(\"xn = \", nx, '\\nyn = ', ny)\n",
    "\n",
    "x = 1\n",
    "\n",
    "for i in range(n):\n",
    "    if (nx[i]>0 and ny[i]>0) or (nx[i]<0 and ny[i]<0):\n",
    "        if x:\n",
    "            maxi = (nx[i]**2 + ny[i]**2)**0.5\n",
    "            index = i\n",
    "            x = False\n",
    "        if maxi < (nx[i]**2 + ny[i]**2)**0.5:\n",
    "            maxi = (nx[i]**2 + ny[i]**2)**0.5\n",
    "            index = i\n",
    "if not x:\n",
    "    print(nx[index], ny[index])\n",
    "else:\n",
    "    print(0)"
   ]
  },
  {
   "cell_type": "code",
   "execution_count": 14,
   "id": "0089d5b6",
   "metadata": {},
   "outputs": [
    {
     "name": "stdout",
     "output_type": "stream",
     "text": [
      "n = 10\n",
      "xn =  [0, 10, -10, 3, -8, 8, -8, 8, 0, 0] \n",
      "yn =  [0, 4, 9, -9, 7, 10, -3, 1, -8, 9]\n",
      "-10 -9 22.20360331117452\n"
     ]
    }
   ],
   "source": [
    "# 134\n",
    "from random import randint\n",
    "\n",
    "n = int(input(\"n = \"))\n",
    "\n",
    "nx = [randint(-10,10) for i in range(n)]\n",
    "ny = [randint(-10,10) for i in range(n)]\n",
    "\n",
    "print(\"xn = \", nx, '\\nyn = ', ny)\n",
    "\n",
    "x = True\n",
    "for i in range(n):\n",
    "    for j in range(n):\n",
    "        if x:\n",
    "            maxi = ((nx[i]-nx[j])**2 + (ny[i]-ny[j])**2)**0.5\n",
    "            index = [i, j]\n",
    "            x = False\n",
    "        if maxi < ((nx[i]-nx[j])**2 + (ny[i]-ny[j])**2)**0.5:\n",
    "            maxi = ((nx[i]-nx[j])**2 + (ny[i]-ny[j])**2)**0.5\n",
    "            index[0] = i; index[1] = j\n",
    "            \n",
    "print(nx[index[0]], ny[index[1]], maxi)\n"
   ]
  },
  {
   "cell_type": "code",
   "execution_count": 21,
   "id": "db1051d2",
   "metadata": {},
   "outputs": [
    {
     "name": "stdout",
     "output_type": "stream",
     "text": [
      "n1 = 3\n",
      "n2 = 4\n",
      "[-3, 2, 2, 1, 2, -4] \n",
      " [-8, 3, -3, 10, 9, -10, -6, -9]\n",
      "ax =  -3 ay =  2 bx =  -8 by =  3 \n",
      " 5.0990195135927845\n"
     ]
    }
   ],
   "source": [
    "# 135\n",
    "from random import randint\n",
    "n1 = int(input(\"n1 = \"))\n",
    "n2 = int(input(\"n2 = \"))\n",
    "\n",
    "a = [randint(-10,10) for i in range(2*n1)]\n",
    "b = [randint(-10,10) for i in range(2*n2)]\n",
    "\n",
    "print(a,'\\n',b)\n",
    "x = True\n",
    "for i in range(1,2*n1,2):\n",
    "    for j in range(1,2*n2,2):\n",
    "        if x :\n",
    "            mini = ((a[i]-b[j])**2 + (a[i-1]-b[j-1])**2)**0.5\n",
    "            index = [i,j]\n",
    "            x  = False\n",
    "            \n",
    "        if mini > ((a[i]-b[j])**2 + (a[i-1]-b[j-1])**2)**0.5:\n",
    "            mini = ((a[i]-b[j])**2 + (a[i-1]-b[j-1])**2)**0.5\n",
    "            index = [i,j]\n",
    "            \n",
    "print(\"ax = \", a[index[0]-1], \"ay = \", a[index[0]], 'bx = ', b[index[1]-1], 'by = ', b[index[1]],\"\\n\", mini, sep=' ')"
   ]
  },
  {
   "cell_type": "code",
   "execution_count": 35,
   "id": "cdaaa753",
   "metadata": {},
   "outputs": [
    {
     "name": "stdout",
     "output_type": "stream",
     "text": [
      "n = 10\n",
      "x =  [5, 2, 9, 5, 9, -7, 0, 9, 2, -7] y =  [6, -2, 8, -8, -7, -10, 5, -1, 7, 10]\n",
      "x =  5 y =  6 s =  89.59027577178578\n"
     ]
    }
   ],
   "source": [
    "# 136\n",
    "\n",
    "def masofa(x1,y1,x2,y2):\n",
    "    return ((x1-x2)**2 + (y1-y2)**2)**0.5\n",
    "\n",
    "from random import randint\n",
    "\n",
    "n = int(input(\"n = \"))\n",
    "\n",
    "x = [randint(-10,10) for i in range(n)]\n",
    "y = [randint(-10,10) for i in range(n)]\n",
    "\n",
    "print(\"x = \",x ,\"y = \", y)\n",
    "\n",
    "xx = True\n",
    "s = 0\n",
    "for i in range(n):\n",
    "    j = 0\n",
    "    while j < n:\n",
    "        if j == i:\n",
    "            j += 1\n",
    "            continue\n",
    "        s += masofa(x[i],y[i], x[j],y[j])\n",
    "        j+=1\n",
    "    if xx:\n",
    "        mini = s\n",
    "        index = i\n",
    "        xx = False\n",
    "        \n",
    "    if mini > s:\n",
    "        mini = s\n",
    "        index = i\n",
    "          \n",
    "    \n",
    "print(\"x = \", x[index], \"y = \", y[index], \"s = \", mini)\n"
   ]
  },
  {
   "cell_type": "code",
   "execution_count": 32,
   "id": "14cbdff0",
   "metadata": {},
   "outputs": [
    {
     "name": "stdout",
     "output_type": "stream",
     "text": [
      "n >= 3\n",
      "n = 5\n",
      "-10 -10 \n",
      " -5 7 \n",
      " 6 -4\n",
      "P =  50.36440182340846\n"
     ]
    }
   ],
   "source": [
    "# 137\n",
    "from random import randint\n",
    "print(\"n >= 3\")\n",
    "n = int(input(\"n = \"))\n",
    "x = [randint(-10,10) for i in range(n)]\n",
    "y = [randint(-10,10) for i in range(n)]\n",
    "\n",
    "def uchburchak(x1,y1,x2,y2,x3,y3):\n",
    "    a = ((x1-x2)**2+(y1-y2)**2)**0.5\n",
    "    b = ((x1-x3)**2+(y1-y3)**2)**0.5\n",
    "    c = ((x3-x2)**2+(y3-y2)**2)**0.5\n",
    "    \n",
    "    if a < c + b and b < a + c and c < a + b:\n",
    "        return a+b+c\n",
    "    else:\n",
    "        return False\n",
    "xx = True\n",
    "    \n",
    "for i in range(2,n):\n",
    "    j = 0\n",
    "    while j < n:\n",
    "        if j == i and j == i-1:\n",
    "            j += 1\n",
    "            continue\n",
    "        if uchburchak(x[i],y[i], x[i-1],y[i-1], x[j],y[j]):\n",
    "            if xx:\n",
    "                maxi = uchburchak(x[i],y[i], x[i-1],y[i-1], x[j],y[j])\n",
    "                ind = [i,j]\n",
    "                xx = False\n",
    "            if maxi < uchburchak(x[i],y[i], x[i-1],y[i-1], x[j],y[j]):\n",
    "                maxi = uchburchak(x[i],y[i], x[i-1],y[i-1], x[j],y[j])\n",
    "                ind = [i,j]\n",
    "                \n",
    "        j += 1\n",
    "if not xx:      \n",
    "    print(x[ind[0]-1], y[ind[0]-1], '\\n' , x[ind[0]], y[ind[0]], '\\n' , x[ind[1]], y[ind[1]])\n",
    "    print(\"P = \", maxi)\n",
    "else:\n",
    "    print(\"Bu nuqtalardan uchburchak yasab bo'lmaydi\")"
   ]
  },
  {
   "cell_type": "code",
   "execution_count": 33,
   "id": "5f92268f",
   "metadata": {},
   "outputs": [
    {
     "name": "stdout",
     "output_type": "stream",
     "text": [
      "n >= 3\n",
      "n = 5\n",
      "4 -7 \n",
      " -1 -2 \n",
      " 3 -9\n",
      "P =  17.369393537663814\n"
     ]
    }
   ],
   "source": [
    "# 138\n",
    "from random import randint\n",
    "print(\"n >= 3\")\n",
    "n = int(input(\"n = \"))\n",
    "x = [randint(-10,10) for i in range(n)]\n",
    "y = [randint(-10,10) for i in range(n)]\n",
    "\n",
    "def uchburchak(x1,y1,x2,y2,x3,y3):\n",
    "    a = ((x1-x2)**2+(y1-y2)**2)**0.5\n",
    "    b = ((x1-x3)**2+(y1-y3)**2)**0.5\n",
    "    c = ((x3-x2)**2+(y3-y2)**2)**0.5\n",
    "    \n",
    "    if a < c + b and b < a + c and c < a + b:\n",
    "        return a+b+c\n",
    "    else:\n",
    "        return False\n",
    "xx = True\n",
    "    \n",
    "for i in range(2,n):\n",
    "    j = 0\n",
    "    while j < n:\n",
    "        if j == i and j == i-1:\n",
    "            j += 1\n",
    "            continue\n",
    "        if uchburchak(x[i],y[i], x[i-1],y[i-1], x[j],y[j]):\n",
    "            if xx:\n",
    "                mini = uchburchak(x[i],y[i], x[i-1],y[i-1], x[j],y[j])\n",
    "                ind = [i,j]\n",
    "                xx = False\n",
    "            if mini > uchburchak(x[i],y[i], x[i-1],y[i-1], x[j],y[j]):\n",
    "                mini = uchburchak(x[i],y[i], x[i-1],y[i-1], x[j],y[j])\n",
    "                ind = [i,j]\n",
    "                \n",
    "        j += 1\n",
    "if not xx:      \n",
    "    print(x[ind[0]-1], y[ind[0]-1], '\\n' , x[ind[0]], y[ind[0]], '\\n' , x[ind[1]], y[ind[1]])\n",
    "    print(\"P = \", mini)\n",
    "else:\n",
    "    print(\"Bu nuqtalardan uchburchak yasab bo'lmaydi\")"
   ]
  },
  {
   "cell_type": "code",
   "execution_count": 46,
   "id": "70f38f8c",
   "metadata": {},
   "outputs": [
    {
     "name": "stdout",
     "output_type": "stream",
     "text": [
      "n = 3\n",
      "x =  [10, -5, -7] y =  [4, -1, 4]\n",
      "x =  [-5, -7, 10] y =  [-1, 4, 4]\n"
     ]
    }
   ],
   "source": [
    "# 139\n",
    "from random import randint\n",
    "n = int(input(\"n = \"))\n",
    "x = [randint(-10,10) for i in range(n)]\n",
    "y = [randint(-10,10) for i in range(n)]\n",
    "print(\"x = \", x, \"y = \", y)\n",
    "for i in range(n):\n",
    "    for j in range(1,n-i):\n",
    "        if (x[j-1]+y[j-1] > x[j]+y[j]) or (x[j-1]+y[j-1] == x[j]+y[j] and x[j-1] > x[j]):\n",
    "            x[j-1],x[j] = x[j],x[j-1]\n",
    "            y[j-1],y[j] = y[j],y[j-1]\n",
    "            \n",
    "        \n",
    "        \n",
    "print(\"x = \", x, \"y = \", y)"
   ]
  },
  {
   "cell_type": "code",
   "execution_count": 47,
   "id": "c5c3f2f3",
   "metadata": {},
   "outputs": [
    {
     "name": "stdout",
     "output_type": "stream",
     "text": [
      "n = 4\n",
      "x =  [-5, 0, -4, -10] y =  [3, 9, -2, -5]\n",
      "x =  [0, -5, -4, -10] y =  [9, 3, -2, -5]\n"
     ]
    }
   ],
   "source": [
    "# 140\n",
    "from random import randint\n",
    "n = int(input(\"n = \"))\n",
    "x = [randint(-10,10) for i in range(n)]\n",
    "y = [randint(-10,10) for i in range(n)]\n",
    "print(\"x = \", x, \"y = \", y)\n",
    "for i in range(n):\n",
    "    for j in range(1,n-i):\n",
    "        if (x[j-1]+y[j-1] < x[j]+y[j]) or (x[j-1]+y[j-1] == x[j]+y[j] and x[j-1] > x[j]):\n",
    "            x[j-1],x[j] = x[j],x[j-1]\n",
    "            y[j-1],y[j] = y[j],y[j-1]\n",
    "            \n",
    "        \n",
    "        \n",
    "print(\"x = \", x, \"y = \", y)"
   ]
  }
 ],
 "metadata": {
  "kernelspec": {
   "display_name": "Python 3 (ipykernel)",
   "language": "python",
   "name": "python3"
  },
  "language_info": {
   "codemirror_mode": {
    "name": "ipython",
    "version": 3
   },
   "file_extension": ".py",
   "mimetype": "text/x-python",
   "name": "python",
   "nbconvert_exporter": "python",
   "pygments_lexer": "ipython3",
   "version": "3.9.7"
  }
 },
 "nbformat": 4,
 "nbformat_minor": 5
}
