{
 "cells": [
  {
   "cell_type": "code",
   "execution_count": 1,
   "id": "e538aa07",
   "metadata": {},
   "outputs": [
    {
     "name": "stdout",
     "output_type": "stream",
     "text": [
      "3\n",
      "chorshanba\n"
     ]
    }
   ],
   "source": [
    "# 1\n",
    "n = int(input())\n",
    "if n == 1 :\n",
    "    print(\"dushanba\")\n",
    "elif n == 2:\n",
    "    print(\"seshanba\")\n",
    "elif n == 3:\n",
    "    print(\"chorshanba\")\n",
    "elif n == 4:\n",
    "    print(\"payshanba\")\n",
    "elif n == 5:\n",
    "    print(\"juma\")\n",
    "elif n == 6:\n",
    "    print(\"shanba\")\n",
    "elif n == 7:\n",
    "    print(\"yakshanba\")\n",
    "else:\n",
    "    print(\"bunday hafta kuni yo'q\")"
   ]
  },
  {
   "cell_type": "code",
   "execution_count": 2,
   "id": "1bb72f3b",
   "metadata": {},
   "outputs": [
    {
     "name": "stdout",
     "output_type": "stream",
     "text": [
      "3\n",
      "qoniqarli\n"
     ]
    }
   ],
   "source": [
    "#2\n",
    "n = int(input())\n",
    "if n == 1:\n",
    "    print(\"yomon\")\n",
    "elif n == 2 :\n",
    "    print(\"qoniqarsiz\")\n",
    "elif n == 3:\n",
    "    print(\"qoniqarli\")\n",
    "elif n ==4 :\n",
    "    print(\"yaxshi\")\n",
    "elif n ==5 :\n",
    "    print(\"alo\")\n",
    "else:\n",
    "    print(\"bunday baho yoq\")"
   ]
  },
  {
   "cell_type": "code",
   "execution_count": 4,
   "id": "6a8d713d",
   "metadata": {},
   "outputs": [
    {
     "name": "stdout",
     "output_type": "stream",
     "text": [
      "7\n",
      "yoz\n"
     ]
    }
   ],
   "source": [
    "# 3\n",
    "n = int(input())\n",
    "if n == 1 or n == 2 or n == 12:\n",
    "    print(\"qish\")\n",
    "elif 3 <= n <=5 :\n",
    "    print(\"bahor\")\n",
    "elif  6 <= n <= 8 :\n",
    "    print(\"yoz\")\n",
    "elif 9 <= n <= 11:\n",
    "    print(\"kuz\")\n",
    "else:\n",
    "    print(\"bunday fals yoq\")"
   ]
  },
  {
   "cell_type": "code",
   "execution_count": 6,
   "id": "a3dbb0d2",
   "metadata": {},
   "outputs": [
    {
     "name": "stdout",
     "output_type": "stream",
     "text": [
      "4\n",
      "30\n"
     ]
    }
   ],
   "source": [
    "# 4\n",
    "o = int(input())\n",
    "o30 = o == 4 or o ==6 or 0 == 11 or o==9\n",
    "o28 = o == 2\n",
    "if o30:\n",
    "    print(\"30\")\n",
    "elif o28 :\n",
    "    print(\"28\")\n",
    "else:\n",
    "    print(\"31\")"
   ]
  },
  {
   "cell_type": "code",
   "execution_count": 7,
   "id": "7644155a",
   "metadata": {
    "scrolled": true
   },
   "outputs": [
    {
     "name": "stdout",
     "output_type": "stream",
     "text": [
      "a = 3\n",
      "b = 4\n",
      " amal 3\n",
      "12.0\n"
     ]
    }
   ],
   "source": [
    "# 5 \n",
    "a = float(input(\"a = \"))\n",
    "b = float(input(\"b = \"))\n",
    "n = int(input(\" amal \"))\n",
    "if n == 1:\n",
    "    print(a + b)\n",
    "elif n == 2:\n",
    "    print(a - b)\n",
    "elif n == 3:\n",
    "    print(a * b)\n",
    "else:\n",
    "    print(a/b)"
   ]
  },
  {
   "cell_type": "code",
   "execution_count": 8,
   "id": "6aa38b6e",
   "metadata": {},
   "outputs": [
    {
     "name": "stdout",
     "output_type": "stream",
     "text": [
      "uzunlik10\n",
      "birlik sonda 2\n",
      "10000\n"
     ]
    }
   ],
   "source": [
    "# 6\n",
    "a = int(input(\"uzunlik\"))\n",
    "n = int(input(\"birlik sonda \"))\n",
    "if n == 1:\n",
    "    print(a/10)\n",
    "elif n == 2:\n",
    "    print(a*1000)\n",
    "elif n == 3:\n",
    "    print(a)\n",
    "elif n == 4:\n",
    "    print(a/1000)\n",
    "elif n ==5 :\n",
    "    print(a/100)"
   ]
  },
  {
   "cell_type": "code",
   "execution_count": 9,
   "id": "7c6db9b9",
   "metadata": {},
   "outputs": [
    {
     "name": "stdout",
     "output_type": "stream",
     "text": [
      "ogirlik1000000\n",
      "birlik sonda 2\n",
      "1.0\n"
     ]
    }
   ],
   "source": [
    "# 7\n",
    "a = int(input(\"ogirlik\"))\n",
    "n = int(input(\"birlik sonda \"))\n",
    "if n == 1:\n",
    "    print(a)\n",
    "elif n == 2:\n",
    "    print(a/ 10 ** 6)\n",
    "elif n == 3:\n",
    "    print(a/100)\n",
    "elif n == 4:\n",
    "    print(a*1000)\n",
    "elif n ==5 :\n",
    "    print(a*100)"
   ]
  },
  {
   "cell_type": "code",
   "execution_count": 15,
   "id": "c40ba064",
   "metadata": {
    "scrolled": false
   },
   "outputs": [
    {
     "name": "stdout",
     "output_type": "stream",
     "text": [
      "kun = 29\n",
      "oy = 4\n",
      "yil = 4\n",
      "sana xato\n"
     ]
    }
   ],
   "source": [
    "# 8\n",
    "k = int(input(\"kun = \"))\n",
    "o = int(input(\"oy = \"))\n",
    "y = int(input(\"yil = \"))\n",
    "\n",
    "kabisa = False\n",
    "if y % 4 == 0 and y % 100 != 0 or y % 100 == 0 and y % 400 == 0:\n",
    "    kabisa = True\n",
    "\n",
    "k += 2\n",
    "\n",
    "if (o == 4 or o == 6 or o == 9 or o == 11):\n",
    "    if k == 31:\n",
    "        k = 1\n",
    "    elif k == 32:\n",
    "        k = 2\n",
    "    o +=1\n",
    "\n",
    "elif o == 2 and k == 29 + kabisa:\n",
    "    o += 1\n",
    "    k = 1\n",
    "        \n",
    "elif (o == 1 or o == 3 or o == 5 or o == 7 or o == 8 or o == 10 or 0 == 12) and k == 33:\n",
    "    if o == 12:\n",
    "        o = 1\n",
    "        y += 1\n",
    "    else:\n",
    "         o += 1\n",
    "    k = 1\n",
    "else:\n",
    "    k = 0\n",
    "\n",
    "  \n",
    "    \n",
    "if k != 0:\n",
    "    print(k , o, y, sep=\".\")\n",
    "else:\n",
    "    print(\"sana xato\")\n",
    "    \n",
    "    \n"
   ]
  },
  {
   "cell_type": "code",
   "execution_count": 28,
   "id": "b23e5b3b",
   "metadata": {},
   "outputs": [
    {
     "name": "stdout",
     "output_type": "stream",
     "text": [
      "yonalish  s\n",
      "komanda  1\n",
      "sharq\n"
     ]
    }
   ],
   "source": [
    "# 10\n",
    "a = input(\"yonalish  \")\n",
    "n = int(input(\"komanda  \"))\n",
    "\n",
    "if a == 'j':\n",
    "    if n == 1 :\n",
    "        print(\"garbga \")\n",
    "    elif n == 2:\n",
    "        print(\"sharqqa\")\n",
    "    elif n == 0:\n",
    "        print(\" simolga\")\n",
    "elif a == 's' :\n",
    "    if n == 1 :\n",
    "        print(\"sharq\")\n",
    "    elif n == 2:\n",
    "        print(\"garb\")\n",
    "    elif n == 0:\n",
    "        print(\"shimol\")\n",
    "elif a == 'q':\n",
    "    if n == 1 :\n",
    "        print(\"shimol\")\n",
    "    elif n == 2:\n",
    "        print(\"janub\")\n",
    "    elif n == 0:\n",
    "        print(\"sharq\")\n",
    "elif a == 'g' :\n",
    "    if n == 1 :\n",
    "        print(\"janub\")\n",
    "    elif n == 2:\n",
    "        print(\"shimol\")\n",
    "    elif n == 0:\n",
    "        print(\"g'arb\")\n",
    "\n"
   ]
  },
  {
   "cell_type": "code",
   "execution_count": 29,
   "id": "ba3c8139",
   "metadata": {},
   "outputs": [
    {
     "name": "stdout",
     "output_type": "stream",
     "text": [
      "yonalish  s\n",
      "komanda  1\n",
      "sharq\n"
     ]
    }
   ],
   "source": [
    "# 11\n",
    "c = input(\"Lokatrning holati < s,j,q,g > \")\n",
    "k1 = int(input(\"1-komandani tanlang < 0,1,2 > \"))\n",
    "k2 = int(input(\"2-komandani tanlang < 0,1,2 > \"))\n",
    "\n",
    "if 0<=k1<=2 and 0<=k2<=2: \n",
    "    if k1==0 and k2==0 and c==\"s\":\n",
    "        c=\"janub\"\n",
    "    elif k1==0 and k2==1 and c==\"s\": \n",
    "        c=\"shimol\"\n",
    "    elif k1==0 and k2==2 and c==\"s\":\n",
    "        c=\"g'arb\"\n",
    "    elif k1==1 and k2==0 and c==\"s\":\n",
    "        c=\"shimol\"\n",
    "    elif k1==1 and k2==1 and c==\"s\":\n",
    "        c=\"janub\"\n",
    "    elif k1==1 and k2==2 and c==\"s\":\n",
    "        c=\"sharq\"\n",
    "    elif k1==2 and k2==0 and c==\"s\":\n",
    "        c=\"g'arb\"\n",
    "    elif k1==2 and k2==1 and c==\"s\":\n",
    "        c=\"sharq\"\n",
    "    elif k1==2 and k2==2 and c==\"s\":\n",
    "        c=\"shimol\"   \n",
    "\n",
    "    elif k1==0 and k2==0 and c==\"j\":\n",
    "        c=\"shimol\"\n",
    "    elif k1==0 and k2==1 and c==\"j\":\n",
    "        c=\"janub\"\n",
    "    elif k1==0 and k2==2 and c==\"j\":\n",
    "        c=\"sharq\"\n",
    "    elif k1==1 and k2==0 and c==\"j\":\n",
    "        c=\"janub\"\n",
    "    elif k1==1 and k2==1 and c==\"j\":\n",
    "        c=\"shimol\"\n",
    "    elif k1==1 and k2==2 and c==\"j\":\n",
    "        c=\"g'arb\"\n",
    "    elif k1==2 and k2==0 and c==\"j\":\n",
    "        c=\"sharq\"\n",
    "    elif k1==2 and k2==1 and c==\"j\":\n",
    "        c=\"g'arb\"\n",
    "    elif k1==2 and k2==2 and c==\"j\":\n",
    "        c=\"janub\"  \n",
    "\n",
    "    elif k1==0 and k2==0 and c==\"g\": \n",
    "        c=\"sharq\"\n",
    "    elif k1==0 and k2==1 and c==\"g\":\n",
    "        c=\"g'arb\"\n",
    "    elif k1==0 and k2==2 and c==\"g\": \n",
    "        c=\"janub\"\n",
    "    elif k1==1 and k2==0 and c==\"g\":\n",
    "        c=\"g'arb\"\n",
    "    elif k1==1 and k2==1 and c==\"g\": \n",
    "        c=\"sharq\"\n",
    "    elif k1==1 and k2==2 and c==\"g\":\n",
    "        c=\"shimol\"\n",
    "    elif k1==2 and k2==0 and c==\"g\":\n",
    "        c=\"janub\"\n",
    "    elif k1==2 and k2==1 and c==\"g\": \n",
    "        c=\"shimol\"\n",
    "    elif k1==2 and k2==2 and c==\"g\":\n",
    "        c=\"g'arb\"\n",
    "\n",
    "    elif k1==0 and k2==0 and c==\"q\":\n",
    "        c=\"g'arb\"\n",
    "    elif k1==0 and k2==1 and c==\"q\":\n",
    "        c=\"sharq\"\n",
    "    elif k1==0 and k2==2 and c==\"q\":\n",
    "        c=\"shimol\"\n",
    "    elif k1==1 and k2==0 and c==\"q\":\n",
    "        c=\"sharq\"\n",
    "    elif k1==1 and k2==1 and c==\"q\":\n",
    "        c=\"g'arb\"\n",
    "    elif k1==1 and k2==2 and c==\"q\":\n",
    "        c=\"janub\"\n",
    "    elif k1==2 and k2==0 and c==\"q\":\n",
    "        c=\"shimol\"\n",
    "    elif k1==2 and k2==1 and c==\"q\":\n",
    "        c=\"janub\"\n",
    "    elif k1==2 and k2==2 and c==\"q\":\n",
    "        c=\"sharq\"\n",
    "    print(c)\n",
    "else:\n",
    "    print(\"Xato\")\n"
   ]
  },
  {
   "cell_type": "code",
   "execution_count": null,
   "id": "eb120c49",
   "metadata": {},
   "outputs": [
    {
     "name": "stderr",
     "output_type": "stream",
     "text": [
      "<>:11: SyntaxWarning: 'str' object is not callable; perhaps you missed a comma?\n",
      "<>:11: SyntaxWarning: 'str' object is not callable; perhaps you missed a comma?\n"
     ]
    }
   ],
   "source": [
    "# 12\n",
    "n = int(input(\"doira elementlari nomeri \"))\n",
    "a = float(input(\"doira elementi \"))\n",
    "if n == 1:\n",
    "    print(\"S = \",3.1415 * a**2, \"l = \", 2 * 3.1415 * a, \"d = \", 2*a)\n",
    "elif n == 2:\n",
    "    print(\"S = \",3.1415 * a**2 / 4, \"l = \", 3.1415 * a, \"r = \", a/2)\n",
    "elif n == 3:\n",
    "    print(\"S = \", l**2 / (4 * 3.1415), \"r = \", a / (2 * 3.1415), \"d = \", a / 3.1415 )\n",
    "else:\n",
    "    print(\"r = \", (a/3.1415)**0.5, \"d = \"  (a/3.1415)**0.5 * 2, \"l = \", (a/3.1415)**0.5 * 3.1415 * 2)\n",
    "    \n",
    "    "
   ]
  },
  {
   "cell_type": "code",
   "execution_count": 35,
   "id": "219181fd",
   "metadata": {},
   "outputs": [
    {
     "name": "stdout",
     "output_type": "stream",
     "text": [
      "uchburchak elementlari nomeri 4\n",
      "doira elementi 25\n",
      "c =  10.0 h =  5.0 a =  3.5355339059327373\n"
     ]
    }
   ],
   "source": [
    "# 13\n",
    "n = int(input(\"uchburchak elementlari nomeri \"))\n",
    "a = float(input(\"uchburchak elementi \"))\n",
    "if n == 1:\n",
    "    print(\"c = \", a*2**0.5, \"h = \", a*2**0.5/2,\"S = \", (a*2**0.5)**2/4 )\n",
    "elif n == 2:\n",
    "    print(\"a = \", a/2**0.5, \"h = \", a/2, \"S = \", a**2/4)\n",
    "elif n == 3:\n",
    "    print(\"c = \", a*2,\"a = \", a*2**0.5, \"S = \", a**2/4)\n",
    "else:\n",
    "    print(\"c = \", a**0.5*2, \"h = \", a**0.5, \"a = \", a**0.5/2**0.5)"
   ]
  },
  {
   "cell_type": "code",
   "execution_count": 39,
   "id": "80cd0502",
   "metadata": {},
   "outputs": [
    {
     "name": "stdout",
     "output_type": "stream",
     "text": [
      "uchburchak elementlari nomeri 4\n",
      "uchburchak elementi 2\n",
      "a =  2.149139863647084 r =  0.6204032394013997 R =  1.2408064788027995\n"
     ]
    }
   ],
   "source": [
    "# 14\n",
    "n = int(input(\"uchburchak elementlari nomeri \"))\n",
    "a = float(input(\"uchburchak elementi \"))\n",
    "if n == 1:\n",
    "    print(\"r = \", a * 3**2/6, \"R = \", a * 3**2/6 * 2, \"S = \", a**2 * 3**0.5/4)\n",
    "elif n == 2:\n",
    "    print(\"a = \", a*6/3**0.5, \"R = \", a*2, \"S = \", (a*6/3**0.5)**2 * 3**0.2/4 )\n",
    "elif n == 3:\n",
    "    print(\"a = \", a*3**0.5,  \"r = \", a/2, \"S = \", a**2*3**1.5/4 )\n",
    "else:\n",
    "    print(\"a = \", (a*4/3**0.5)**0.5, \"r = \", (a*4/3**0.5)**0.5 * 3**0.5/6, \"R = \", (a*4/3**0.5)**0.5 * 3**0.5/3)\n"
   ]
  },
  {
   "cell_type": "code",
   "execution_count": null,
   "id": "ce7bc8e5",
   "metadata": {},
   "outputs": [],
   "source": [
    "# 15\n",
    "n = int(input(\"n = \"))\n",
    "m = int(input(\"m = \"))\n",
    "if n ==6:\n",
    "    print(\"olti\", end = \" \")\n",
    "elif n ==7:\n",
    "    print(\"yetti\",end = \" \")\n",
    "elif  n == 8:\n",
    "    print(\"sakkiz\",end = \" \")\n",
    "elif n == 9:\n",
    "    print(\"toqqiz\",end = \" \")\n",
    "elif n==10:\n",
    "    print(\"on\",end = \" \")\n",
    "elif n ==11:\n",
    "    print(\"valent\",end = \" \")\n",
    "elif n == 12:\n",
    "    print(\"dama\",end = \" \")\n",
    "elif n == 13:\n",
    "    print(\"qirol\",end = \" \")\n",
    "elif n==14:\n",
    "    print(\"tuz\",end = \" \")\n",
    "    \n",
    "if m ==1:\n",
    "    print(\"gisht\")\n",
    "elif m ==2:\n",
    "    print(\"olma\")\n",
    "elif m==3:\n",
    "    print(\"chillak\")\n",
    "elif m==4:\n",
    "    print(\"qarga\")\n"
   ]
  },
  {
   "cell_type": "code",
   "execution_count": 29,
   "id": "2e57e8e2",
   "metadata": {},
   "outputs": [
    {
     "name": "stdout",
     "output_type": "stream",
     "text": [
      "n = 20\n",
      "yigirma yosh\n"
     ]
    }
   ],
   "source": [
    "# 16\n",
    "\n",
    "n = int(input(\"n = \"))\n",
    "a = n // 10 \n",
    "\n",
    "if a == 1:\n",
    "    print(\"on\", end=\" \")\n",
    "elif a== 2:\n",
    "    print(\"yigirma\", end=\" \")\n",
    "elif a == 3:\n",
    "    print(\"ottiz\", end=\" \")\n",
    "elif a == 4:\n",
    "    print(\"qirq\", end=\" \")\n",
    "elif a ==5:\n",
    "    print(\"ellik\", end=\" \")\n",
    "elif a ==6:\n",
    "    print(\"oltmush\", end=\" \")\n",
    "elif a==7:\n",
    "    print(\"yetmush\", end=\" \")\n",
    "elif a == 8:\n",
    "    print(\"sakson\", end=\" \")\n",
    "elif a == 9:\n",
    "    print(\"toqson\", end=\" \")\n",
    "\n",
    "n %= 10\n",
    "if n  == 1:\n",
    "    print(\"bir\", end=\" \")\n",
    "elif n == 2:\n",
    "    print(\"ikki\", end=\" \")\n",
    "elif n == 3:\n",
    "    print(\"uch\", end=\" \")\n",
    "elif n== 4:\n",
    "    print(\"to'rt\", end=\" \")\n",
    "elif n ==5:\n",
    "    print(\"besh\", end=\" \")\n",
    "elif n ==6:\n",
    "    print(\"olti\", end=\" \")\n",
    "elif n  ==7:\n",
    "    print(\"yetti\", end=\" \")\n",
    "elif n == 8:\n",
    "    print(\"sakkiz\", end=\" \")\n",
    "elif n  == 9:\n",
    "    print(\"toqqiz\", end=\" \")\n",
    "print(\"yosh\")"
   ]
  },
  {
   "cell_type": "code",
   "execution_count": 28,
   "id": "d60a32a3",
   "metadata": {},
   "outputs": [
    {
     "name": "stdout",
     "output_type": "stream",
     "text": [
      "n = 23\n",
      "yigirma uch masala\n"
     ]
    }
   ],
   "source": [
    "# 17\n",
    "\n",
    "n = int(input(\"n = \"))\n",
    "a = n // 10 \n",
    "\n",
    "if a == 1:\n",
    "    print(\"on\", end=\" \")\n",
    "elif a== 2:\n",
    "    print(\"yigirma\", end=\" \")\n",
    "elif a == 3:\n",
    "    print(\"ottiz\", end=\" \")\n",
    "elif a == 4:\n",
    "    print(\"qirq\", end=\" \")\n",
    "elif a ==5:\n",
    "    print(\"ellik\", end=\" \")\n",
    "elif a ==6:\n",
    "    print(\"oltmush\", end=\" \")\n",
    "elif a==7:\n",
    "    print(\"yetmush\", end=\" \")\n",
    "elif a == 8:\n",
    "    print(\"sakson\", end=\" \")\n",
    "elif a == 9:\n",
    "    print(\"toqson\", end=\" \")\n",
    "\n",
    "n %= 10\n",
    "if n  == 1:\n",
    "    print(\"bir\", end=\" \")\n",
    "elif n == 2:\n",
    "    print(\"ikki\", end=\" \")\n",
    "elif n == 3:\n",
    "    print(\"uch\", end=\" \")\n",
    "elif n== 4:\n",
    "    print(\"to'rt\", end=\" \")\n",
    "elif n ==5:\n",
    "    print(\"besh\", end=\" \")\n",
    "elif n ==6:\n",
    "    print(\"olti\", end=\" \")\n",
    "elif n  ==7:\n",
    "    print(\"yetti\", end=\" \")\n",
    "elif n == 8:\n",
    "    print(\"sakkiz\", end=\" \")\n",
    "elif n  == 9:\n",
    "    print(\"toqqiz\", end=\" \")\n",
    "print(\"ta masala\")"
   ]
  },
  {
   "cell_type": "code",
   "execution_count": 27,
   "id": "af0d84bc",
   "metadata": {},
   "outputs": [
    {
     "name": "stdout",
     "output_type": "stream",
     "text": [
      "345\n",
      "uch yuz\n",
      "qirq\n",
      "besh\n"
     ]
    }
   ],
   "source": [
    "# 18\n",
    "n = int(input())\n",
    "\n",
    "\n",
    "if n // 100 == 1:\n",
    "    print(\"bir yuz\")\n",
    "elif n // 100 == 2:\n",
    "    print(\"ikki yuz\")\n",
    "elif n // 100 == 3:\n",
    "    print(\"uch yuz\")\n",
    "elif n // 100 == 4:\n",
    "    print(\"to'rt yuz\")\n",
    "elif n // 100 ==5:\n",
    "    print(\"besh yuz\")\n",
    "elif n // 100 ==6:\n",
    "    print(\"olti yuz\")\n",
    "elif n // 100 ==7:\n",
    "    print(\"yetti yuz\")\n",
    "elif n // 100 == 8:\n",
    "    print(\"sakkiz yuz\")\n",
    "elif n // 100 == 9:\n",
    "    print(\"toqqiz yuz\")\n",
    "else:\n",
    "    print(\"\")\n",
    "\n",
    "if n % 100 // 10 == 1:\n",
    "    print(\"on\")\n",
    "elif n % 100 // 10 == 2:\n",
    "    print(\"yigirma\")\n",
    "elif n % 100 // 10 == 3:\n",
    "    print(\"ottiz\")\n",
    "elif n % 100 // 10 == 4:\n",
    "    print(\"qirq\")\n",
    "elif n % 100 // 10 ==5:\n",
    "    print(\"ellik\")\n",
    "elif n % 100 // 10 ==6:\n",
    "    print(\"oltmush\")\n",
    "elif n % 100 // 10 ==7:\n",
    "    print(\"yetmush\")\n",
    "elif n % 100 // 10 == 8:\n",
    "    print(\"sakson\")\n",
    "elif n % 100 // 10 == 9:\n",
    "    print(\"toqson\")\n",
    "else:\n",
    "    print(\"\")\n",
    "\n",
    "if n % 10 == 1:\n",
    "    print(\"bir\")\n",
    "elif n % 10 == 2:\n",
    "    print(\"ikki\")\n",
    "elif n % 10 == 3:\n",
    "    print(\"uch\")\n",
    "elif n % 10 == 4:\n",
    "    print(\"to'rt\")\n",
    "elif n % 10 ==5:\n",
    "    print(\"besh\")\n",
    "elif n % 10 ==6:\n",
    "    print(\"olti\")\n",
    "elif n % 10 ==7:\n",
    "    print(\"yetti\")\n",
    "elif n % 10 == 8:\n",
    "    print(\"sakkiz\")\n",
    "elif n % 10 == 9:\n",
    "    print(\"toqqiz\")\n",
    "else:\n",
    "    print(\"\")"
   ]
  },
  {
   "cell_type": "code",
   "execution_count": 1,
   "id": "1490fa2d",
   "metadata": {},
   "outputs": [
    {
     "name": "stdout",
     "output_type": "stream",
     "text": [
      "1\n",
      "yashil\n",
      "sichqon\n"
     ]
    }
   ],
   "source": [
    "# 19\n",
    "n = int(input())\n",
    "a = n % 5\n",
    "n %=12\n",
    "if  a== 1:\n",
    "    print(\"yashil\")\n",
    "elif a ==2 :\n",
    "    print(\"qizil\")\n",
    "elif a == 3:\n",
    "    print(\"sariq\")\n",
    "elif a == 4 :\n",
    "    print(\" oq\")\n",
    "elif a == 0:\n",
    "    print(\"qora\")\n",
    "\n",
    "if n == 1:\n",
    "    print(\"sichqon\")\n",
    "elif n  ==2 :\n",
    "    print(\"sigir\")\n",
    "elif n  == 3:\n",
    "    print(\"yolbars\")\n",
    "elif n == 4 :\n",
    "    print(\"quyon\")\n",
    "elif n == 5:\n",
    "    print(\"ajdar\")\n",
    "elif n == 6 :\n",
    "    print(\"ilon\")\n",
    "elif n  == 7:\n",
    "    print(\"ot\")\n",
    "elif n  == 8:\n",
    "    print(\"qoy\")\n",
    "elif n  == 9:\n",
    "    print(\"maymun\")\n",
    "elif n == 10 :\n",
    "    print(\"tovuq\")\n",
    "elif n  == 11 :\n",
    "    print(\"it\")\n",
    "elif n  == 0 :\n",
    "    print(\"tongiz\")\n"
   ]
  },
  {
   "cell_type": "code",
   "execution_count": 24,
   "id": "63a92fe6",
   "metadata": {},
   "outputs": [
    {
     "name": "stdout",
     "output_type": "stream",
     "text": [
      " kun  28\n",
      " oy  2\n",
      "baliq\n"
     ]
    }
   ],
   "source": [
    "# 20\n",
    "d = int(input(\" kun  \"))\n",
    "m = int(input(\" oy  \"))\n",
    "a = (m - 1) * 30 + d \n",
    "if 20 <= a <= 48:\n",
    "    print(\"qovga\")\n",
    "elif 49 <= a <= 80:\n",
    "    print(\"baliq\")\n",
    "elif 81 <= a <= 109:\n",
    "    print(\"qoy\")\n",
    "elif 110 <= a <= 140:\n",
    "    print(\"buzoq\")\n",
    "elif 141 <= a <= 171:\n",
    "    print(\"egizak\")\n",
    "elif 172 <= a <= 202:\n",
    "    print(\"qishgichbaqa\")\n",
    "elif 203 <= a <= 232:\n",
    "    print(\"asrlon\")\n",
    "elif 233 <= a <= 262:\n",
    "    print(\"parizod\")\n",
    "elif 163 <= a <= 292:\n",
    "    print(\"tarozi\")\n",
    "elif 293 <= a <= 322:\n",
    "    print(\"chayon\")\n",
    "elif 323 <= a <= 351:\n",
    "    print(\"o'qotar\")\n",
    "elif 351 <= a <= 365 or 1 <= m <= 20:\n",
    "    print(\"echki\")\n"
   ]
  }
 ],
 "metadata": {
  "kernelspec": {
   "display_name": "Python 3 (ipykernel)",
   "language": "python",
   "name": "python3"
  },
  "language_info": {
   "codemirror_mode": {
    "name": "ipython",
    "version": 3
   },
   "file_extension": ".py",
   "mimetype": "text/x-python",
   "name": "python",
   "nbconvert_exporter": "python",
   "pygments_lexer": "ipython3",
   "version": "3.9.7"
  }
 },
 "nbformat": 4,
 "nbformat_minor": 5
}
