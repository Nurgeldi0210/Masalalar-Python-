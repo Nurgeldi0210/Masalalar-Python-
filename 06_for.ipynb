{
 "cells": [
  {
   "cell_type": "code",
   "execution_count": 1,
   "id": "65628331",
   "metadata": {},
   "outputs": [
    {
     "name": "stdout",
     "output_type": "stream",
     "text": [
      "k = 3\n",
      "n = 5\n",
      "3 3 3 3 3 "
     ]
    }
   ],
   "source": [
    "# 1\n",
    "k = int(input(\"k = \"))\n",
    "n = int(input(\"n = \"))\n",
    "for i in range(n):\n",
    "    print(k, end=\" \")\n",
    "    "
   ]
  },
  {
   "cell_type": "code",
   "execution_count": 6,
   "id": "98039078",
   "metadata": {},
   "outputs": [
    {
     "name": "stdout",
     "output_type": "stream",
     "text": [
      "a = 1\n",
      "b = 5\n",
      "1\n",
      "2\n",
      "3\n",
      "4\n",
      "5\n"
     ]
    }
   ],
   "source": [
    "# 2\n",
    "a = int(input(\"a = \"))\n",
    "b = int(input(\"b = \"))\n",
    "if a < b:\n",
    "    for i in range(a, b+1):\n",
    "        print(i)\n"
   ]
  },
  {
   "cell_type": "code",
   "execution_count": 5,
   "id": "2ddad170",
   "metadata": {},
   "outputs": [
    {
     "name": "stdout",
     "output_type": "stream",
     "text": [
      "a = 1\n",
      "b = 5\n",
      "2\n",
      "3\n",
      "4\n"
     ]
    }
   ],
   "source": [
    "# 3\n",
    "a = int(input(\"a = \"))\n",
    "b = int(input(\"b = \"))\n",
    "\n",
    "for i in range(a+1, b):\n",
    "    print(i)"
   ]
  },
  {
   "cell_type": "code",
   "execution_count": 7,
   "id": "c85c58c5",
   "metadata": {},
   "outputs": [
    {
     "name": "stdout",
     "output_type": "stream",
     "text": [
      "narx = 500.5\n",
      "1 kg konfet narxi 500.5 sum\n",
      "2 kg konfet narxi 1001.0 sum\n",
      "3 kg konfet narxi 1501.5 sum\n",
      "4 kg konfet narxi 2002.0 sum\n",
      "5 kg konfet narxi 2502.5 sum\n",
      "6 kg konfet narxi 3003.0 sum\n",
      "7 kg konfet narxi 3503.5 sum\n",
      "8 kg konfet narxi 4004.0 sum\n",
      "9 kg konfet narxi 4504.5 sum\n",
      "10 kg konfet narxi 5005.0 sum\n"
     ]
    }
   ],
   "source": [
    "# 4\n",
    "a = float(input(\"narx = \"))\n",
    "for i in range(1,11):\n",
    "    print(i, \"kg konfet narxi\", i*a, \"sum\")"
   ]
  },
  {
   "cell_type": "code",
   "execution_count": 11,
   "id": "33f5042c",
   "metadata": {},
   "outputs": [
    {
     "name": "stdout",
     "output_type": "stream",
     "text": [
      "narx = 1000\n",
      "0.1 kg konfet narxi 100.0 sum\n",
      "0.2 kg konfet narxi 200.0 sum\n",
      "0.3 kg konfet narxi 300.0 sum\n",
      "0.4 kg konfet narxi 400.0 sum\n",
      "0.5 kg konfet narxi 500.0 sum\n",
      "0.6 kg konfet narxi 600.0 sum\n",
      "0.7 kg konfet narxi 700.0 sum\n",
      "0.8 kg konfet narxi 800.0 sum\n",
      "0.9 kg konfet narxi 900.0 sum\n",
      "1.0 kg konfet narxi 1000.0 sum\n"
     ]
    }
   ],
   "source": [
    "# 5\n",
    "a = float(input(\"narx = \"))\n",
    "for i in range(1,11):\n",
    "    print(i/10, \"kg konfet narxi\", i*a/10, \"sum\")"
   ]
  },
  {
   "cell_type": "code",
   "execution_count": 55,
   "id": "005cdbd4",
   "metadata": {},
   "outputs": [
    {
     "name": "stdout",
     "output_type": "stream",
     "text": [
      "narx = 5000\n",
      "1.2 kg konfet narxi 6000.0 sum\n",
      "1.4 kg konfet narxi 7000.0 sum\n",
      "1.6 kg konfet narxi 8000.0 sum\n",
      "1.8 kg konfet narxi 9000.0 sum\n",
      "2.0 kg konfet narxi 10000.0 sum\n"
     ]
    }
   ],
   "source": [
    "# 6 \n",
    "a = float(input(\"narx = \"))\n",
    "for i in range(12,21,2):\n",
    "    print(i/10, \"kg konfet narxi\", i*a/10, \"sum\")"
   ]
  },
  {
   "cell_type": "code",
   "execution_count": 13,
   "id": "fee5e6dc",
   "metadata": {},
   "outputs": [
    {
     "name": "stdout",
     "output_type": "stream",
     "text": [
      "a = 1\n",
      "b = 10\n",
      "Summa 55\n"
     ]
    }
   ],
   "source": [
    "# 7\n",
    "a = int(input(\"a = \"))\n",
    "b = int(input(\"b = \"))\n",
    "Sum = 0\n",
    "for i in range(a,b+1):\n",
    "    Sum += i\n",
    "print(\"Summa\", Sum)\n"
   ]
  },
  {
   "cell_type": "code",
   "execution_count": 17,
   "id": "02abac13",
   "metadata": {},
   "outputs": [
    {
     "name": "stdout",
     "output_type": "stream",
     "text": [
      "a = 1\n",
      "b = 10\n",
      "Ko'paytma 3628800\n"
     ]
    }
   ],
   "source": [
    "# 8\n",
    "a = int(input(\"a = \"))\n",
    "b = int(input(\"b = \"))\n",
    "kopaytma = 1\n",
    "for i in range(a,b+1):\n",
    "    kopaytma *= i\n",
    "print(\"Ko'paytma\", kopaytma)"
   ]
  },
  {
   "cell_type": "code",
   "execution_count": 19,
   "id": "e79b20a1",
   "metadata": {},
   "outputs": [
    {
     "name": "stdout",
     "output_type": "stream",
     "text": [
      "a = 1\n",
      "b = 10\n",
      "Summa 385\n"
     ]
    }
   ],
   "source": [
    "# 9\n",
    "a = int(input(\"a = \"))\n",
    "b = int(input(\"b = \"))\n",
    "Sum = 0\n",
    "for i in range(a,b+1):\n",
    "    Sum += i**2\n",
    "print(\"Summa\", Sum)"
   ]
  },
  {
   "cell_type": "code",
   "execution_count": 22,
   "id": "7026607b",
   "metadata": {},
   "outputs": [
    {
     "name": "stdout",
     "output_type": "stream",
     "text": [
      "n = 2\n",
      "1.5\n"
     ]
    }
   ],
   "source": [
    "# 10\n",
    "n = int(input(\"n = \"))\n",
    "s = 0\n",
    "for i in range(1, n+1):\n",
    "    s += 1/i\n",
    "print(s)"
   ]
  },
  {
   "cell_type": "code",
   "execution_count": 23,
   "id": "8d9aea8f",
   "metadata": {},
   "outputs": [
    {
     "name": "stdout",
     "output_type": "stream",
     "text": [
      "n = 5\n",
      "985\n"
     ]
    }
   ],
   "source": [
    "# 11\n",
    "n = int(input(\"n = \"))\n",
    "s = 0\n",
    "for i in range(2*n):\n",
    "    s += (n+i)**2\n",
    "print(s)"
   ]
  },
  {
   "cell_type": "code",
   "execution_count": 26,
   "id": "9592751e",
   "metadata": {},
   "outputs": [
    {
     "name": "stdout",
     "output_type": "stream",
     "text": [
      "n = 3\n",
      "243655.25776399093\n"
     ]
    }
   ],
   "source": [
    "# 12\n",
    "n = int(input(\"n = \"))\n",
    "s = 1\n",
    "for i in range(11,n*10):\n",
    "    s *= i/10\n",
    "    \n",
    "print(s)"
   ]
  },
  {
   "cell_type": "code",
   "execution_count": 46,
   "id": "153d6a9f",
   "metadata": {},
   "outputs": [
    {
     "name": "stdout",
     "output_type": "stream",
     "text": [
      "n = 4\n",
      "-3.0\n"
     ]
    }
   ],
   "source": [
    "# 13\n",
    "n = int(input(\"n = \"))\n",
    "s = 0\n",
    "for i in range(11,(n+1)*10):\n",
    "    s += (-1)**(i) * i/10\n",
    "print(s)"
   ]
  },
  {
   "cell_type": "code",
   "execution_count": 37,
   "id": "3c07c91a",
   "metadata": {},
   "outputs": [
    {
     "name": "stdout",
     "output_type": "stream",
     "text": [
      "n = 10\n",
      "100\n"
     ]
    }
   ],
   "source": [
    "# 14\n",
    "n = int(input(\"n = \"))\n",
    "s = 0\n",
    "for i in range(1, 2*n,2):\n",
    "    s += i\n",
    "print(s)"
   ]
  },
  {
   "cell_type": "code",
   "execution_count": 39,
   "id": "ac743d0c",
   "metadata": {},
   "outputs": [
    {
     "name": "stdout",
     "output_type": "stream",
     "text": [
      "n = 2\n",
      "a = 2\n",
      "4\n"
     ]
    }
   ],
   "source": [
    "# 15\n",
    "n = int(input(\"n = \"))\n",
    "a = int(input(\"a = \"))\n",
    "s = 1\n",
    "for i in range(n):\n",
    "    s *= a\n",
    "print(s)"
   ]
  },
  {
   "cell_type": "code",
   "execution_count": 40,
   "id": "9ad35531",
   "metadata": {},
   "outputs": [
    {
     "name": "stdout",
     "output_type": "stream",
     "text": [
      "n = 10\n",
      "a = 10\n",
      "10 100 1000 10000 100000 1000000 10000000 100000000 1000000000 10000000000 "
     ]
    }
   ],
   "source": [
    "# 16\n",
    "n = int(input(\"n = \"))\n",
    "a = int(input(\"a = \"))\n",
    "for i in range(1, n+1):\n",
    "    print(a**i, end=\" \")"
   ]
  },
  {
   "cell_type": "code",
   "execution_count": 41,
   "id": "805b853b",
   "metadata": {},
   "outputs": [
    {
     "name": "stdout",
     "output_type": "stream",
     "text": [
      "n = 4\n",
      "a = 2\n",
      "31\n"
     ]
    }
   ],
   "source": [
    "# 17\n",
    "n = int(input(\"n = \"))\n",
    "a = int(input(\"a = \"))\n",
    "s = 0\n",
    "b = 1\n",
    "for i in range( n+1):\n",
    "    b *= a\n",
    "    s +=b\n",
    "    \n",
    "print(s)"
   ]
  },
  {
   "cell_type": "code",
   "execution_count": 56,
   "id": "5cc8b144",
   "metadata": {},
   "outputs": [
    {
     "name": "stdout",
     "output_type": "stream",
     "text": [
      "n = 3\n",
      "a = 2\n",
      "-5\n"
     ]
    }
   ],
   "source": [
    "# 18\n",
    "n = int(input(\"n = \"))\n",
    "a = int(input(\"a = \"))\n",
    "s = 0\n",
    "for i in range(n+1):\n",
    "    s += (-1)**i * a**i\n",
    "      \n",
    "print(s)"
   ]
  },
  {
   "cell_type": "code",
   "execution_count": 58,
   "id": "4d0d2e95",
   "metadata": {},
   "outputs": [
    {
     "name": "stdout",
     "output_type": "stream",
     "text": [
      "n = 5\n",
      "120\n"
     ]
    }
   ],
   "source": [
    "# 19\n",
    "n = int(input(\"n = \"))\n",
    "a = 1\n",
    "for i in range(1, n+1):\n",
    "    a *= i\n",
    "print(a)"
   ]
  },
  {
   "cell_type": "code",
   "execution_count": 61,
   "id": "487ced5d",
   "metadata": {},
   "outputs": [
    {
     "name": "stdout",
     "output_type": "stream",
     "text": [
      "n = 5\n",
      "1\n",
      "2\n",
      "6\n",
      "24\n",
      "120\n",
      "153\n"
     ]
    }
   ],
   "source": [
    "# 20\n",
    "n = int(input(\"n = \"))\n",
    "a = 1\n",
    "s = 0\n",
    "for i in range(1, n+1):\n",
    "    a *= i\n",
    "    s += a\n",
    "print(s)"
   ]
  },
  {
   "cell_type": "code",
   "execution_count": 1,
   "id": "35215d05",
   "metadata": {},
   "outputs": [
    {
     "name": "stdout",
     "output_type": "stream",
     "text": [
      "n = 5\n",
      "2.7166666666666663\n"
     ]
    }
   ],
   "source": [
    "# 21\n",
    "n = int(input(\"n = \"))\n",
    "S = 1\n",
    "P = 1\n",
    "for i in range(1,n+1):\n",
    "    P *= i\n",
    "    S += 1/P\n",
    "print(S)"
   ]
  },
  {
   "cell_type": "code",
   "execution_count": 2,
   "id": "89c46558",
   "metadata": {},
   "outputs": [
    {
     "name": "stdout",
     "output_type": "stream",
     "text": [
      "n = 5\n",
      "x = 5\n",
      "91.41666666666667\n"
     ]
    }
   ],
   "source": [
    "# 22\n",
    "n = int(input(\"n = \"))\n",
    "x = float(input(\"x = \"))\n",
    "p = 1\n",
    "s = 1\n",
    "for i in range(1,n+1):\n",
    "    p *= i\n",
    "    s += x**i/p\n",
    "print(s)"
   ]
  },
  {
   "cell_type": "code",
   "execution_count": 19,
   "id": "ce101cb1",
   "metadata": {},
   "outputs": [
    {
     "name": "stdout",
     "output_type": "stream",
     "text": [
      "n = 80\n",
      "x = 0.4\n",
      "0.38941834230865047\n"
     ]
    }
   ],
   "source": [
    "# 23\n",
    "n = int(input(\"n = \"))\n",
    "x = float(input(\"x = \"))\n",
    "p = 1\n",
    "s = 0\n",
    "j = 2\n",
    "for i in range(1,2*n+2,2):\n",
    "    p *= i\n",
    "    s +=  (-1)**j * x**i / p\n",
    "    p *= (i+1)\n",
    "    j += 1\n",
    "print(s)"
   ]
  },
  {
   "cell_type": "code",
   "execution_count": 26,
   "id": "f5ec305d",
   "metadata": {},
   "outputs": [
    {
     "name": "stdout",
     "output_type": "stream",
     "text": [
      "n = 30\n",
      "x = 0.1\n",
      "0.9001665833531718\n"
     ]
    }
   ],
   "source": [
    "# 24\n",
    "n = int(input(\"n = \"))\n",
    "x = float(input(\"x = \"))\n",
    "s = 1\n",
    "p = 1\n",
    "j = 1\n",
    "for i in range(1,2*n + 1, 2):\n",
    "    p *= i\n",
    "    s += (-1)**j * x**i / p\n",
    "    p *= (i+1)\n",
    "    j += 1\n",
    "print(s)"
   ]
  },
  {
   "cell_type": "code",
   "execution_count": 31,
   "id": "25681248",
   "metadata": {},
   "outputs": [
    {
     "name": "stdout",
     "output_type": "stream",
     "text": [
      "n = 100\n",
      "x = 9\n",
      "-2.3881161399822807e+93\n"
     ]
    }
   ],
   "source": [
    "# 25\n",
    "n = int(input(\"n = \"))\n",
    "x = float(input(\"x = \"))\n",
    "s = 0\n",
    "for i in range(1,n+1):\n",
    "    s += (-1)**(i-1) * x**i / i\n",
    "print(s)\n"
   ]
  },
  {
   "cell_type": "code",
   "execution_count": 32,
   "id": "b40267a1",
   "metadata": {
    "scrolled": true
   },
   "outputs": [
    {
     "name": "stdout",
     "output_type": "stream",
     "text": [
      "n = 100\n",
      "x = 4\n",
      "5.485070382644514e+118\n"
     ]
    }
   ],
   "source": [
    "# 26\n",
    "n = int(input(\"n = \"))\n",
    "x = float(input(\"x = \"))\n",
    "s = 0\n",
    "j = 0\n",
    "for i in range(1,2*n + 2,2):\n",
    "    s += (-1)**j * x**i/i\n",
    "    j += 1\n",
    "print(s)\n"
   ]
  },
  {
   "cell_type": "code",
   "execution_count": 68,
   "id": "c6099d58",
   "metadata": {
    "scrolled": true
   },
   "outputs": [
    {
     "name": "stdout",
     "output_type": "stream",
     "text": [
      "n = 2\n",
      "x = 5\n",
      "984.1666666666666\n"
     ]
    }
   ],
   "source": [
    "# 27\n",
    "n = int(input(\"n = \"))\n",
    "x = float(input(\"x = \"))\n",
    "s = x\n",
    "a = 1\n",
    "b = 1\n",
    "j = 1\n",
    "k = 1\n",
    "for i in range(3,2*n+2,2):\n",
    "    a *= (i - 2)\n",
    "    b *= j \n",
    "    s += a * x**i / (b*i)\n",
    "    j *= 2*k\n",
    "    k += 1\n",
    "    \n",
    "print(s)"
   ]
  },
  {
   "cell_type": "code",
   "execution_count": 37,
   "id": "9a8047d3",
   "metadata": {},
   "outputs": [
    {
     "name": "stdout",
     "output_type": "stream",
     "text": [
      "n = 100\n",
      "x = 0.1\n",
      "1.0476176963403032\n"
     ]
    }
   ],
   "source": [
    "# 28\n",
    "n = int(input(\"n = \"))\n",
    "x = float(input(\"x = \"))\n",
    "s = 1 + x/2\n",
    "a = 3\n",
    "b = 1\n",
    "j = 1\n",
    "k = 1\n",
    "ishora= 1\n",
    "for i in range(2,n+1):\n",
    "    b *= 2*i\n",
    "    s += ishora * a * x**i / b\n",
    "    a *= k\n",
    "    k += 2\n",
    "    j += 1\n",
    "    ishora *= -1\n",
    "print(s)\n"
   ]
  },
  {
   "cell_type": "code",
   "execution_count": 69,
   "id": "1736bd6b",
   "metadata": {},
   "outputs": [
    {
     "name": "stdout",
     "output_type": "stream",
     "text": [
      "n = 4\n",
      "a = 2\n",
      "b = 5\n",
      "2.75\n",
      "3.5\n",
      "4.25\n"
     ]
    }
   ],
   "source": [
    "# 29\n",
    "n = int(input(\"n = \"))\n",
    "a = float(input(\"a = \"))\n",
    "b = int(input(\"b = \"))\n",
    "if a>b:\n",
    "    a += b\n",
    "    b = a - b\n",
    "    a = a - b\n",
    "c = (b-a)/(n)\n",
    "for i in range(1,n):\n",
    "    a += c\n",
    "    print(a)"
   ]
  },
  {
   "cell_type": "code",
   "execution_count": 43,
   "id": "d2a48752",
   "metadata": {},
   "outputs": [
    {
     "name": "stdout",
     "output_type": "stream",
     "text": [
      "n = 5\n",
      "a = 2\n",
      "b = 12\n",
      "1.7568024953079282\n",
      "1.2794154981989259\n",
      "0.010641753376618213\n",
      "1.5440211108893698\n"
     ]
    }
   ],
   "source": [
    "# 30\n",
    "from math import sin\n",
    "\n",
    "n = int(input(\"n = \"))\n",
    "a = float(input(\"a = \"))\n",
    "b = int(input(\"b = \"))\n",
    "if a>b:\n",
    "    a += b\n",
    "    b = a - b\n",
    "    a = a - b\n",
    "c = (b-a)/(n)\n",
    "for i in range(1,n):\n",
    "    a += c\n",
    "    print(1-sin(a))"
   ]
  },
  {
   "cell_type": "code",
   "execution_count": 71,
   "id": "e932f794",
   "metadata": {
    "scrolled": true
   },
   "outputs": [
    {
     "name": "stdout",
     "output_type": "stream",
     "text": [
      "n = 2\n",
      "2.5\n",
      "2.4\n"
     ]
    }
   ],
   "source": [
    "# 31\n",
    "n = int(input(\"n = \"))\n",
    "a = 2\n",
    "for i in range(1,n+1):\n",
    "    a = 2 + 1/a\n",
    "    print(a)\n",
    "    "
   ]
  },
  {
   "cell_type": "code",
   "execution_count": 49,
   "id": "726b3761",
   "metadata": {
    "scrolled": true
   },
   "outputs": [
    {
     "name": "stdout",
     "output_type": "stream",
     "text": [
      "n = 10\n",
      "2.0\n",
      "1.5\n",
      "0.8333333333333334\n",
      "0.45833333333333337\n",
      "0.2916666666666667\n",
      "0.2152777777777778\n",
      "0.1736111111111111\n",
      "0.1467013888888889\n",
      "0.12741126543209877\n",
      "0.11274112654320986\n"
     ]
    }
   ],
   "source": [
    "# 32\n",
    "n = int(input(\"n = \"))\n",
    "a = 1\n",
    "for i in range(1,n+1):\n",
    "    a = (a + 1)/i\n",
    "    print(a)"
   ]
  },
  {
   "cell_type": "code",
   "execution_count": 55,
   "id": "619087de",
   "metadata": {},
   "outputs": [
    {
     "name": "stdout",
     "output_type": "stream",
     "text": [
      "n = 10\n",
      "2\n",
      "3\n",
      "5\n",
      "8\n",
      "13\n",
      "21\n",
      "34\n",
      "55\n",
      "89\n",
      "144\n"
     ]
    }
   ],
   "source": [
    "# 33\n",
    "n = int(input(\"n = \"))\n",
    "a = 1 \n",
    "b = 1\n",
    "for i in range(1, n+1, 2):\n",
    "    a += b\n",
    "    b += a\n",
    "    print(a,b,sep='\\n')"
   ]
  },
  {
   "cell_type": "code",
   "execution_count": 56,
   "id": "071d45f5",
   "metadata": {
    "scrolled": true
   },
   "outputs": [
    {
     "name": "stdout",
     "output_type": "stream",
     "text": [
      "n = 10\n",
      "1.6666666666666667\n",
      "1.777777777777778\n",
      "1.7407407407407407\n",
      "1.7530864197530864\n",
      "1.748971193415638\n",
      "1.7503429355281208\n",
      "1.749885688157293\n",
      "1.750038103947569\n",
      "1.7499872986841438\n",
      "1.7500042337719524\n"
     ]
    }
   ],
   "source": [
    "# 34\n",
    "n = int(input(\"n = \"))\n",
    "a = 1\n",
    "b = 2\n",
    "for i in range(1,n+1,2):\n",
    "    a = (a + 2*b)/3\n",
    "    b = (b + 2*a)/3\n",
    "    print(a, b,sep=\"\\n\")\n",
    "    "
   ]
  },
  {
   "cell_type": "code",
   "execution_count": 72,
   "id": "08d567be",
   "metadata": {
    "scrolled": true
   },
   "outputs": [
    {
     "name": "stdout",
     "output_type": "stream",
     "text": [
      "n = 10\n",
      "3\n",
      "2\n",
      "-1\n",
      "-5\n",
      "-10\n",
      "-13\n",
      "-13\n",
      "-6\n",
      "7\n",
      "27\n",
      "46\n",
      "59\n"
     ]
    }
   ],
   "source": [
    "# 35\n",
    "n = int(input(\"n = \"))\n",
    "a = 1\n",
    "b = 2\n",
    "c = 3\n",
    "for i in range(1,n+1,3):\n",
    "    a = c + b - 2*a\n",
    "    b = a + c - 2*b\n",
    "    c = b + a - 2*c\n",
    "    print(a,b,c,sep=\"\\n\")"
   ]
  },
  {
   "cell_type": "code",
   "execution_count": 59,
   "id": "cf140081",
   "metadata": {},
   "outputs": [
    {
     "name": "stdout",
     "output_type": "stream",
     "text": [
      "n = 2\n",
      "k = 5\n",
      "33\n"
     ]
    }
   ],
   "source": [
    "# 36\n",
    "n = int(input(\"n = \"))\n",
    "k = int(input(\"k = \"))\n",
    "s = 0\n",
    "for i in range(1,n+1):\n",
    "    s += i**k\n",
    "print(s)"
   ]
  },
  {
   "cell_type": "code",
   "execution_count": 61,
   "id": "7ce1eebc",
   "metadata": {},
   "outputs": [
    {
     "name": "stdout",
     "output_type": "stream",
     "text": [
      "n = 3\n",
      "32\n"
     ]
    }
   ],
   "source": [
    "# 37\n",
    "n = int(input(\"n = \"))\n",
    "s = 0\n",
    "for i in range(1,n+1):\n",
    "    s += i**i\n",
    "print(s)"
   ]
  },
  {
   "cell_type": "code",
   "execution_count": 63,
   "id": "d7a6362b",
   "metadata": {},
   "outputs": [
    {
     "name": "stdout",
     "output_type": "stream",
     "text": [
      "n = 3\n",
      "8\n"
     ]
    }
   ],
   "source": [
    "# 38\n",
    "n = int(input(\"n = \"))\n",
    "s = 0\n",
    "for i in range(1,n+1):\n",
    "    s += i**(n-i+1)\n",
    "print(s)"
   ]
  },
  {
   "cell_type": "code",
   "execution_count": 67,
   "id": "602acf2b",
   "metadata": {},
   "outputs": [
    {
     "name": "stdout",
     "output_type": "stream",
     "text": [
      "a = 7\n",
      "b = 9\n",
      "7\n",
      "7\n",
      "7\n",
      "7\n",
      "7\n",
      "7\n",
      "7\n",
      "8\n",
      "8\n",
      "8\n",
      "8\n",
      "8\n",
      "8\n",
      "8\n",
      "8\n",
      "9\n",
      "9\n",
      "9\n",
      "9\n",
      "9\n",
      "9\n",
      "9\n",
      "9\n",
      "9\n"
     ]
    }
   ],
   "source": [
    "# 39\n",
    "a = int(input(\"a = \"))\n",
    "b = int(input(\"b = \"))\n",
    "for i in range(a,b+1):\n",
    "    for j in range(i):\n",
    "        print(i)"
   ]
  },
  {
   "cell_type": "code",
   "execution_count": 66,
   "id": "931318e7",
   "metadata": {},
   "outputs": [
    {
     "name": "stdout",
     "output_type": "stream",
     "text": [
      "a = 3\n",
      "b = 5\n",
      "3\n",
      "4\n",
      "4\n",
      "5\n",
      "5\n",
      "5\n"
     ]
    }
   ],
   "source": [
    "# 40\n",
    "a = int(input(\"a = \"))\n",
    "b = int(input(\"b = \"))\n",
    "k = 1\n",
    "for i in range(a, b+1):\n",
    "    for j in range(k):\n",
    "        print(i)\n",
    "    k += 1"
   ]
  },
  {
   "cell_type": "markdown",
   "id": "dba1289a",
   "metadata": {},
   "source": [
    "# for ga qo'shimcha"
   ]
  },
  {
   "cell_type": "code",
   "execution_count": 1,
   "id": "d87e652e",
   "metadata": {},
   "outputs": [
    {
     "name": "stdout",
     "output_type": "stream",
     "text": [
      "n = 5\n",
      "15\n"
     ]
    }
   ],
   "source": [
    "# 1\n",
    "n = int(input(\"n = \"))\n",
    "s = 0\n",
    "for i in range(1,n+1):\n",
    "    s+=i\n",
    "print(s)"
   ]
  },
  {
   "cell_type": "code",
   "execution_count": 11,
   "id": "625bc1c1",
   "metadata": {},
   "outputs": [
    {
     "name": "stdout",
     "output_type": "stream",
     "text": [
      "n = 9\n",
      "tub emas\n"
     ]
    }
   ],
   "source": [
    "# 3\n",
    "n = int(input('n = '))\n",
    "tub = False\n",
    "a = int(n**0.5+1)\n",
    "for i in range(2,a):\n",
    "    \n",
    "    if n % i != 0:        \n",
    "        tub = True\n",
    "    else:\n",
    "        tub = False\n",
    "        break\n",
    "        \n",
    "if n == 2 or n == 3:\n",
    "    tub = True\n",
    "    \n",
    "if tub:\n",
    "    print(\"tub\")\n",
    "else:\n",
    "    print(\"tub emas\")"
   ]
  },
  {
   "cell_type": "code",
   "execution_count": 13,
   "id": "818d00b8",
   "metadata": {},
   "outputs": [
    {
     "name": "stdout",
     "output_type": "stream",
     "text": [
      "n = 100\n",
      "2 3 5 7 11 13 17 19 23 29 31 37 41 43 47 53 59 61 67 71 73 79 83 89 97 \n",
      " 25 ta tub son bor\n"
     ]
    }
   ],
   "source": [
    "# 4\n",
    "n = int(input('n = '))\n",
    "\n",
    "s = 0\n",
    "for i in range(1,n+1):\n",
    "    tub = False\n",
    "    k = int(i**0.5+1)\n",
    "    \n",
    "    for j in range(2,k):\n",
    "        \n",
    "        if i % j != 0:\n",
    "            tub = True\n",
    "            \n",
    "        else:\n",
    "            tub = False\n",
    "            break\n",
    "            \n",
    "    if i == 2 or i==3:\n",
    "        tub = True\n",
    "    if tub:\n",
    "        print(i, end=\" \")\n",
    "        s += 1\n",
    "print('\\n', s, \"ta tub son bor\")"
   ]
  },
  {
   "cell_type": "code",
   "execution_count": 16,
   "id": "05a810a1",
   "metadata": {},
   "outputs": [
    {
     "name": "stdout",
     "output_type": "stream",
     "text": [
      "n = 100\n",
      "2 3 5 7 11 13 17 19 23 29 31 37 41 43 47 53 59 61 67 71 73 79 83 89 97 \n",
      " 25 ta tub son bor\n"
     ]
    }
   ],
   "source": [
    "n = int(input(\"n = \"))\n",
    "\n",
    "k = 0\n",
    "for i in range(1,n+1):\n",
    "    s = 0\n",
    "    for j in range(1, i+1):\n",
    "        if i % j == 0:\n",
    "            s+=1\n",
    "    if s == 2:\n",
    "        k += 1\n",
    "        print(i, end=' ')\n",
    "        \n",
    "print('\\n',k, \"ta tub son bor\")"
   ]
  },
  {
   "cell_type": "code",
   "execution_count": 15,
   "id": "a4ebdf46",
   "metadata": {},
   "outputs": [
    {
     "name": "stdout",
     "output_type": "stream",
     "text": [
      "n = 5\n",
      "120\n"
     ]
    }
   ],
   "source": [
    "# 5\n",
    "n = int(input(\"n = \"))\n",
    "s = 1\n",
    "for i in range(1,n+1):\n",
    "    s *= i\n",
    "print(s)"
   ]
  },
  {
   "cell_type": "code",
   "execution_count": 21,
   "id": "14c2eb4d",
   "metadata": {},
   "outputs": [
    {
     "name": "stdout",
     "output_type": "stream",
     "text": [
      "n = 50\n",
      "49\n"
     ]
    }
   ],
   "source": [
    "# 6\n",
    "n = int(input(\"n = \"))\n",
    "\n",
    "for i in range(n, 1, -1):\n",
    "    \n",
    "    tub = False\n",
    "    k = int(i**0.5+1)\n",
    "    \n",
    "    for j in range(2, k):\n",
    "        \n",
    "        if i % j != 0:\n",
    "            tub = True\n",
    "        else:\n",
    "            break\n",
    "            \n",
    "    if tub:\n",
    "        print(i)\n",
    "        break"
   ]
  },
  {
   "cell_type": "code",
   "execution_count": 44,
   "id": "131b0524",
   "metadata": {},
   "outputs": [
    {
     "name": "stdout",
     "output_type": "stream",
     "text": [
      "a = 120\n",
      "b = 240\n",
      "1 2 3 4 5 6 8 10 12 15 20 24 30 40 60 120 "
     ]
    }
   ],
   "source": [
    "# 7\n",
    "a = int(input('a = '))\n",
    "b = int(input('b = '))\n",
    "\n",
    "for i in range(1,a+1):\n",
    "    if a%i==0 and b % i==0:\n",
    "        print(i,end=\" \")\n",
    "    \n",
    "    "
   ]
  },
  {
   "cell_type": "code",
   "execution_count": 3,
   "id": "a6387c07",
   "metadata": {},
   "outputs": [
    {
     "name": "stdout",
     "output_type": "stream",
     "text": [
      "n = 12\n",
      "3\n"
     ]
    }
   ],
   "source": [
    "#8 \n",
    "n = int(input('n = '))\n",
    "s = 0\n",
    "for i in range(n):\n",
    "    s += n % 10\n",
    "    n //=10\n",
    "    if  n < 1:\n",
    "        break\n",
    "print(s)"
   ]
  },
  {
   "cell_type": "code",
   "execution_count": 1,
   "id": "951f98ca",
   "metadata": {
    "scrolled": true
   },
   "outputs": [
    {
     "name": "stdout",
     "output_type": "stream",
     "text": [
      "n = 3\n",
      "10\n"
     ]
    }
   ],
   "source": [
    "# 9\n",
    "n = int(input('n = '))\n",
    "s = 0\n",
    "for i in range(1,n+1):\n",
    "    for j in range(i+1):\n",
    "        s += j\n",
    "print(s)"
   ]
  },
  {
   "cell_type": "code",
   "execution_count": 2,
   "id": "503c2b14",
   "metadata": {},
   "outputs": [
    {
     "name": "stdout",
     "output_type": "stream",
     "text": [
      "n = 5\n",
      "35\n"
     ]
    }
   ],
   "source": [
    "# 9 2 usul\n",
    "n = int(input(\"n = \"))\n",
    "\n",
    "s = 0\n",
    "p = 0\n",
    "\n",
    "for i in range(1, n+1):\n",
    "    p += i\n",
    "    s += p\n",
    "print(s)"
   ]
  },
  {
   "cell_type": "code",
   "execution_count": 45,
   "id": "983bc6fc",
   "metadata": {},
   "outputs": [
    {
     "name": "stdout",
     "output_type": "stream",
     "text": [
      "n = 3\n",
      "a = 1\n",
      "a = 2\n",
      "a = 3\n",
      "3.0\n"
     ]
    }
   ],
   "source": [
    "n = int(input('n = '))\n",
    "for i in range(n):\n",
    "    a = float(input('a = '))\n",
    "    if i==0:\n",
    "        b = a\n",
    "    if b < a:\n",
    "        b = a\n",
    "print(b)"
   ]
  },
  {
   "cell_type": "code",
   "execution_count": 1,
   "id": "5c753d2c",
   "metadata": {},
   "outputs": [
    {
     "name": "stdout",
     "output_type": "stream",
     "text": [
      "n = 5\n",
      "4 "
     ]
    }
   ],
   "source": [
    "# 11\n",
    "n = int(input('n = '))\n",
    "for i in range(3,n+1):\n",
    "    for j in range(2,i):\n",
    "        if i % j == 0:\n",
    "            print(i, end=\" \")\n",
    "            break"
   ]
  },
  {
   "cell_type": "code",
   "execution_count": 7,
   "id": "f131bccc",
   "metadata": {},
   "outputs": [
    {
     "name": "stdout",
     "output_type": "stream",
     "text": [
      "n = 4\n",
      "# # # # \n",
      "# # # # \n",
      "# # # # \n",
      "# # # # \n"
     ]
    }
   ],
   "source": [
    "# 12\n",
    "n = int(input('n = '))\n",
    "for i in range(n):\n",
    "    for j in range(n):\n",
    "        print(\"#\", end=\" \")\n",
    "    print()"
   ]
  },
  {
   "cell_type": "code",
   "execution_count": 20,
   "id": "33bfabc6",
   "metadata": {
    "scrolled": false
   },
   "outputs": [
    {
     "name": "stdout",
     "output_type": "stream",
     "text": [
      "n = 5\n",
      "1x1=1\t1x2=2\t1x3=3\t1x4=4\t1x5=5\t1x6=6\t1x7=7\t1x8=8\t1x9=9\t1x10=10\t\n",
      "2x1=2\t2x2=4\t2x3=6\t2x4=8\t2x5=10\t2x6=12\t2x7=14\t2x8=16\t2x9=18\t2x10=20\t\n",
      "3x1=3\t3x2=6\t3x3=9\t3x4=12\t3x5=15\t3x6=18\t3x7=21\t3x8=24\t3x9=27\t3x10=30\t\n",
      "4x1=4\t4x2=8\t4x3=12\t4x4=16\t4x5=20\t4x6=24\t4x7=28\t4x8=32\t4x9=36\t4x10=40\t\n",
      "5x1=5\t5x2=10\t5x3=15\t5x4=20\t5x5=25\t5x6=30\t5x7=35\t5x8=40\t5x9=45\t5x10=50\t\n"
     ]
    }
   ],
   "source": [
    "# 13\n",
    "n = int(input('n = '))\n",
    "for i in range(1,n+1):\n",
    "    \n",
    "    for j in range(1,11):\n",
    "        print(i,\"x\",j ,\"=\", i*j, end=\"\\t\", sep=\"\")\n",
    "        \n",
    "    print() "
   ]
  },
  {
   "cell_type": "code",
   "execution_count": 13,
   "id": "fa32ff82",
   "metadata": {},
   "outputs": [
    {
     "name": "stdout",
     "output_type": "stream",
     "text": [
      "n = 10\n",
      "1 3 5 7 9 11 13 15 17 19 \n",
      "Yig'indisi:  100\n"
     ]
    }
   ],
   "source": [
    "# 14\n",
    "n = int(input('n = '))\n",
    "s = 0\n",
    "for i in range(1,2*n + 1,2):\n",
    "    print(i, end=\" \")\n",
    "    s += i\n",
    "print(\"\\nYig'indisi: \",s)"
   ]
  },
  {
   "cell_type": "code",
   "execution_count": 14,
   "id": "52d85293",
   "metadata": {},
   "outputs": [
    {
     "name": "stdout",
     "output_type": "stream",
     "text": [
      "n = 5\n",
      "2 4 6 8 10 \n",
      "Yig'indisi:  30\n"
     ]
    }
   ],
   "source": [
    "# 15\n",
    "n = int(input('n = '))\n",
    "s = 0\n",
    "for i in range(2,2*n + 1,2):\n",
    "    print(i, end=\" \")\n",
    "    s += i\n",
    "print(\"\\nYig'indisi: \",s)"
   ]
  },
  {
   "cell_type": "code",
   "execution_count": 21,
   "id": "aeb5f709",
   "metadata": {
    "scrolled": false
   },
   "outputs": [
    {
     "name": "stdout",
     "output_type": "stream",
     "text": [
      "n = 3\n",
      "1 11 111 \n",
      "Yig'indisi:  123\n"
     ]
    }
   ],
   "source": [
    "# 16\n",
    "n = int(input('n = '))\n",
    "s = 0\n",
    "a = 0\n",
    "\n",
    "for i in range(n):\n",
    "    a = a * 10 + 1\n",
    "    print(a, end=\" \")\n",
    "    s += a\n",
    "\n",
    "print(\"\\nYig'indisi: \",s)   "
   ]
  },
  {
   "cell_type": "code",
   "execution_count": 22,
   "id": "90f27d1b",
   "metadata": {},
   "outputs": [
    {
     "name": "stdout",
     "output_type": "stream",
     "text": [
      "n = 5\n",
      "0 1 1 2 3 5 8 13 "
     ]
    }
   ],
   "source": [
    "# 17\n",
    "n = int(input('n = '))\n",
    "a1 = 0\n",
    "a2 = 1\n",
    "print(a1,a2,sep=\" \", end=' ' )\n",
    "for i in range(0,n,2):\n",
    "    a1+=a2\n",
    "    a2+=a1\n",
    "    print(a1,a2,sep=\" \", end=' ' )\n",
    "    "
   ]
  },
  {
   "cell_type": "code",
   "execution_count": 39,
   "id": "f4290756",
   "metadata": {},
   "outputs": [
    {
     "name": "stdout",
     "output_type": "stream",
     "text": [
      "n = 26\n",
      "7 19\n"
     ]
    }
   ],
   "source": [
    "# 18\n",
    "n = int(input('n = '))\n",
    "s = 0\n",
    "for i in range(2,n,1):\n",
    "    tub = False\n",
    "    a = n - i\n",
    "    k = int(i**0.5+1)\n",
    "    \n",
    "    for j in range(2,k):\n",
    "        if i%j != 0:\n",
    "            tub = True\n",
    "        else:\n",
    "            tub = False\n",
    "            break\n",
    "    \n",
    "    if tub:\n",
    "        k = int(a**0.5+1)\n",
    "        for j in range(2,k):\n",
    "            if a % j != 0:\n",
    "                tub = True\n",
    "            else:\n",
    "                tub = False\n",
    "                break\n",
    "    \n",
    "    if tub:\n",
    "        print(i, a, sep=\" \")\n",
    "        break\n",
    "    "
   ]
  },
  {
   "cell_type": "code",
   "execution_count": 44,
   "id": "d67ab8e8",
   "metadata": {},
   "outputs": [
    {
     "name": "stdout",
     "output_type": "stream",
     "text": [
      "n = 5\n",
      "* \n",
      "* * \n",
      "* * * \n",
      "* * * * \n",
      "* * * * * \n"
     ]
    }
   ],
   "source": [
    "# 19\n",
    "n = int(input('n = '))\n",
    "for i in range(1,n+1,1):\n",
    "    for j in range(i):\n",
    "        print(\"*\", end=\" \")\n",
    "    print()\n",
    "    "
   ]
  },
  {
   "cell_type": "code",
   "execution_count": 49,
   "id": "490bc9ab",
   "metadata": {},
   "outputs": [
    {
     "name": "stdout",
     "output_type": "stream",
     "text": [
      "n = 5\n",
      "1 \n",
      "1 2 \n",
      "1 2 3 \n",
      "1 2 3 4 \n",
      "1 2 3 4 5 \n"
     ]
    }
   ],
   "source": [
    "# 20\n",
    "n = int(input('n = '))\n",
    "for i in range(1,n+1,1):\n",
    "    for j in range(1,i+1):\n",
    "        print(j, end=\" \")\n",
    "        \n",
    "    print()"
   ]
  },
  {
   "cell_type": "code",
   "execution_count": 50,
   "id": "a7cbf975",
   "metadata": {},
   "outputs": [
    {
     "name": "stdout",
     "output_type": "stream",
     "text": [
      "n = 5\n",
      "1 \n",
      "2 2 \n",
      "3 3 3 \n",
      "4 4 4 4 \n",
      "5 5 5 5 5 \n"
     ]
    }
   ],
   "source": [
    "# 21\n",
    "n = int(input('n = '))\n",
    "for i in range(1,n+1,1):\n",
    "    for j in range(1,i+1):\n",
    "        print(i, end=\" \")\n",
    "        \n",
    "    print()"
   ]
  },
  {
   "cell_type": "code",
   "execution_count": 23,
   "id": "ff8ee21f",
   "metadata": {},
   "outputs": [
    {
     "name": "stdout",
     "output_type": "stream",
     "text": [
      "n = 5\n",
      "    1 \n",
      "   2 3 \n",
      "  4 5 6 \n",
      " 7 8 9 10 \n",
      "11 12 13 14 15 \n"
     ]
    }
   ],
   "source": [
    "# 22\n",
    "n = int(input('n = '))\n",
    "a = 1\n",
    "for i in range(1, n+1):\n",
    "    for j in range(n-i):\n",
    "        print(\" \", end=\"\")\n",
    "    for j in range(i):\n",
    "        print(a, end=\" \")\n",
    "        a += 1\n",
    "    print()"
   ]
  },
  {
   "cell_type": "code",
   "execution_count": 82,
   "id": "2cbe5978",
   "metadata": {},
   "outputs": [
    {
     "name": "stdout",
     "output_type": "stream",
     "text": [
      "n = 4\n",
      "   1 \n",
      "  2 3 \n",
      " 4 5 6 \n",
      "7 8 9 10 \n"
     ]
    }
   ],
   "source": [
    "# 23\n",
    "n = int(input('n = '))\n",
    "a = 1\n",
    "\n",
    "for i in range(1, n+1):\n",
    "    \n",
    "    for j in range(n - i):\n",
    "        print(' ', end='')\n",
    "        \n",
    "    for j in range(i):\n",
    "        print(a, end=\" \")\n",
    "        a += 1\n",
    "        \n",
    "    print()\n",
    "    "
   ]
  },
  {
   "cell_type": "code",
   "execution_count": 84,
   "id": "3eb67211",
   "metadata": {},
   "outputs": [
    {
     "name": "stdout",
     "output_type": "stream",
     "text": [
      "n = 5\n",
      "    * \n",
      "   * * \n",
      "  * * * \n",
      " * * * * \n",
      "* * * * * \n"
     ]
    }
   ],
   "source": [
    "# 24\n",
    "n = int(input('n = '))\n",
    "\n",
    "\n",
    "for i in range(1, n+1):\n",
    "    \n",
    "    for j in range(n - i):\n",
    "        print(' ', end='')\n",
    "        \n",
    "    for j in range(i):\n",
    "        print(\"*\", end=\" \")\n",
    "        \n",
    "        \n",
    "    print()\n",
    "    "
   ]
  },
  {
   "cell_type": "code",
   "execution_count": 86,
   "id": "8f2768d3",
   "metadata": {},
   "outputs": [
    {
     "name": "stdout",
     "output_type": "stream",
     "text": [
      "n = 5\n",
      "    1\n",
      "   22\n",
      "  333\n",
      " 4444\n",
      "55555\n"
     ]
    }
   ],
   "source": [
    "# 25\n",
    "n = int(input('n = '))\n",
    "\n",
    "for i in range(1, n+1):\n",
    "    \n",
    "    for j in range(n - i):\n",
    "        print(' ', end='')\n",
    "        \n",
    "    for j in range(i):\n",
    "        print(i, end=\" \")        \n",
    "        \n",
    "    print()\n",
    "    "
   ]
  },
  {
   "cell_type": "code",
   "execution_count": 90,
   "id": "e1290295",
   "metadata": {},
   "outputs": [
    {
     "name": "stdout",
     "output_type": "stream",
     "text": [
      "n = 5\n",
      "    *\n",
      "   ***\n",
      "  *****\n",
      " *******\n",
      "*********\n"
     ]
    }
   ],
   "source": [
    "# 26\n",
    "n = int(input('n = '))\n",
    "\n",
    "for i in range(1, n+1):\n",
    "    \n",
    "    for j in range(n - i):\n",
    "        print(' ', end='')\n",
    "        \n",
    "    for j in range(i):\n",
    "        print(\"*\", end=\"\")\n",
    "        \n",
    "    for j in range(i-1):\n",
    "        print(\"*\", end='')\n",
    "    print()\n",
    "    "
   ]
  },
  {
   "cell_type": "code",
   "execution_count": 2,
   "id": "23ed7669",
   "metadata": {},
   "outputs": [
    {
     "name": "stdout",
     "output_type": "stream",
     "text": [
      "n = 5\n",
      "1\n",
      "01\n",
      "101\n",
      "0101\n",
      "10101\n"
     ]
    }
   ],
   "source": [
    "# 27\n",
    "n = int(input('n = '))\n",
    "for i in range(1,n+1):\n",
    "    for j in range(i):\n",
    "        print((i+j)%2, end=\"\")\n",
    "    print()\n"
   ]
  },
  {
   "cell_type": "code",
   "execution_count": 93,
   "id": "1fe1e678",
   "metadata": {},
   "outputs": [
    {
     "name": "stdout",
     "output_type": "stream",
     "text": [
      "n = 5\n",
      "    *\n",
      "   ***\n",
      "  *****\n",
      " *******\n",
      "*********\n",
      " *******\n",
      "  *****\n",
      "   ***\n",
      "    *\n"
     ]
    }
   ],
   "source": [
    "# 28\n",
    "n = int(input('n = '))\n",
    "\n",
    "for i in range(1, n+1):\n",
    "    \n",
    "    for j in range(n - i):\n",
    "        print(' ', end='')\n",
    "        \n",
    "    for j in range(i):\n",
    "        print(\"*\", end=\"\")\n",
    "        \n",
    "    for j in range(i-1):\n",
    "        print(\"*\", end='')\n",
    "    print()\n",
    "        \n",
    "for i in range(n-1, 0, -1):\n",
    "    \n",
    "    for j in range(n - i):\n",
    "        print(' ', end='')\n",
    "        \n",
    "    for j in range(i):\n",
    "        print(\"*\", end=\"\")\n",
    "        \n",
    "    for j in range(i-1):\n",
    "        print(\"*\", end='')\n",
    "    print()\n",
    "    "
   ]
  },
  {
   "cell_type": "code",
   "execution_count": 17,
   "id": "f515043b",
   "metadata": {},
   "outputs": [
    {
     "name": "stdout",
     "output_type": "stream",
     "text": [
      "n = 6\n",
      "       1 \n",
      "      1 1 \n",
      "     1 2 1 \n",
      "    1 3 3 1 \n",
      "   1 4 6 4 1 \n",
      "  1 5 10 10 5 1 \n"
     ]
    }
   ],
   "source": [
    "# 29\n",
    "from math  import factorial as fac\n",
    "n = int(input('n = '))\n",
    "for i in range(n): \n",
    "    for j in range(n - i + 1):\n",
    "        print(end=' ')\n",
    "    for j in range(i+1):\n",
    "        print(fac(i)// (fac(j)*fac(i-j)) , end=' ')\n",
    "    print() "
   ]
  },
  {
   "cell_type": "code",
   "execution_count": 44,
   "id": "bcbf4d00",
   "metadata": {},
   "outputs": [
    {
     "name": "stdout",
     "output_type": "stream",
     "text": [
      "n = 5\n",
      "    1\n",
      "   121\n",
      "  12321\n",
      " 1234321\n",
      "123454321\n"
     ]
    }
   ],
   "source": [
    "# 30\n",
    "n = int(input('n = '))\n",
    "a = 1\n",
    "for i in range(1, n+1):\n",
    "    for j in range(n-i):\n",
    "        print(\" \", end=\"\")\n",
    "    k = 0\n",
    "    for j in range(i):\n",
    "        print(a+k , end=\"\")\n",
    "        k+=1\n",
    "    b = a+k-2\n",
    "    if i >= 2:\n",
    "        for j in range(i-1):\n",
    "            print(b, end=\"\")\n",
    "            b -=1\n",
    "        \n",
    "    print()"
   ]
  },
  {
   "cell_type": "code",
   "execution_count": 24,
   "id": "8d8d5941",
   "metadata": {},
   "outputs": [
    {
     "name": "stdout",
     "output_type": "stream",
     "text": [
      "n = 5\n",
      "    1\n",
      "   232\n",
      "  34543\n",
      " 4567654\n",
      "567898765\n"
     ]
    }
   ],
   "source": [
    "# 31\n",
    "\n",
    "n = int(input('n = '))\n",
    "for i in range(1,n+1):\n",
    "    for j in range(n-i):\n",
    "        print(\" \", end=\"\")\n",
    "    k = 1\n",
    "    a = 1\n",
    "    for j in range(k):\n",
    "        print(i, end=\"\")\n",
    "    if i>=2:\n",
    "        a += i\n",
    "        for j in range(i-1):\n",
    "            print(a, end=\"\")\n",
    "            a+=1\n",
    "        a -=1\n",
    "        for j in range(i-1):\n",
    "            print(a-1, end='')\n",
    "            a-=1       \n",
    "           \n",
    "    k += 2\n",
    "    print()    "
   ]
  },
  {
   "cell_type": "code",
   "execution_count": 1,
   "id": "b19e34c1",
   "metadata": {},
   "outputs": [
    {
     "name": "stdout",
     "output_type": "stream",
     "text": [
      "n = 5\n",
      "0 1 2 3 4 \n",
      "1 0 1 2 3 \n",
      "2 1 0 1 2 \n",
      "3 2 1 0 1 \n",
      "4 3 2 1 0 \n"
     ]
    }
   ],
   "source": [
    "# 32\n",
    "n = int(input(\"n = \"))\n",
    "a = -n\n",
    "for i in range(n):\n",
    "    for j in range(i,0,-1):\n",
    "        print(j, end=\" \")\n",
    "    for j in range(0,n-i):\n",
    "        print(j,end=\" \")\n",
    "    print()\n",
    "    \n",
    "    "
   ]
  },
  {
   "cell_type": "code",
   "execution_count": 4,
   "id": "0a5e9f8e",
   "metadata": {},
   "outputs": [
    {
     "name": "stdout",
     "output_type": "stream",
     "text": [
      "10 lik sanoq sistemasida son kiriting : 35\n",
      "2 lik sanoq sistemasida 100011\n"
     ]
    }
   ],
   "source": [
    "# 33\n",
    "\n",
    "n = int(input(\"10 lik sanoq sistemasida son kiriting : \"))\n",
    "son = 0\n",
    "a = n\n",
    "for i in range(n):\n",
    "    \n",
    "    a,b=divmod(a,2)\n",
    "    son = son + b * 10**i\n",
    "\n",
    "    if a < 1:\n",
    "        break\n",
    "        \n",
    "print(\"2 lik sanoq sistemasida\", son)"
   ]
  },
  {
   "cell_type": "code",
   "execution_count": 3,
   "id": "cfb76db1",
   "metadata": {},
   "outputs": [
    {
     "name": "stdout",
     "output_type": "stream",
     "text": [
      "10 lik sanoq sistemasida son kiriting : 35\n",
      "8 lik sanoq sistemasida :  43\n"
     ]
    }
   ],
   "source": [
    "# 34\n",
    "\n",
    "n = int(input(\"10 lik sanoq sistemasida son kiriting : \"))\n",
    "son = 0\n",
    "a = n\n",
    "for i in range(n):\n",
    "    \n",
    "    a,b=divmod(a,8)\n",
    "    son = son + b * 10**i\n",
    "    \n",
    "    if a < 1:\n",
    "        break\n",
    "        \n",
    "print(\"8 lik sanoq sistemasida : \", son)"
   ]
  },
  {
   "cell_type": "code",
   "execution_count": 18,
   "id": "f00156af",
   "metadata": {},
   "outputs": [
    {
     "name": "stdout",
     "output_type": "stream",
     "text": [
      "2 lik sanoq sistemasida son kiriting : 100011\n",
      "10 lik sanoq sistemasida :  35\n"
     ]
    }
   ],
   "source": [
    "# 35\n",
    "n = int(input('2 lik sanoq sistemasida son kiriting : '))\n",
    "a = n\n",
    "son = 0\n",
    "for i in range(n):\n",
    "    son = son + (a%10)*2**i\n",
    "    \n",
    "    a //= 10\n",
    "    if a<1:\n",
    "        break\n",
    "print(\"10 lik sanoq sistemasida : \", son)\n"
   ]
  }
 ],
 "metadata": {
  "kernelspec": {
   "display_name": "Python 3 (ipykernel)",
   "language": "python",
   "name": "python3"
  },
  "language_info": {
   "codemirror_mode": {
    "name": "ipython",
    "version": 3
   },
   "file_extension": ".py",
   "mimetype": "text/x-python",
   "name": "python",
   "nbconvert_exporter": "python",
   "pygments_lexer": "ipython3",
   "version": "3.9.7"
  }
 },
 "nbformat": 4,
 "nbformat_minor": 5
}
