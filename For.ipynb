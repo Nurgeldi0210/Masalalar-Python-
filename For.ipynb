{
 "cells": [
  {
   "cell_type": "code",
   "execution_count": 1,
   "id": "65628331",
   "metadata": {},
   "outputs": [
    {
     "name": "stdout",
     "output_type": "stream",
     "text": [
      "k = 3\n",
      "n = 5\n",
      "3 3 3 3 3 "
     ]
    }
   ],
   "source": [
    "# 1\n",
    "k = int(input(\"k = \"))\n",
    "n = int(input(\"n = \"))\n",
    "for i in range(n):\n",
    "    print(k, end=\" \")\n",
    "    "
   ]
  },
  {
   "cell_type": "code",
   "execution_count": 6,
   "id": "98039078",
   "metadata": {},
   "outputs": [
    {
     "name": "stdout",
     "output_type": "stream",
     "text": [
      "a = 1\n",
      "b = 5\n",
      "1\n",
      "2\n",
      "3\n",
      "4\n",
      "5\n"
     ]
    }
   ],
   "source": [
    "# 2\n",
    "a = int(input(\"a = \"))\n",
    "b = int(input(\"b = \"))\n",
    "if a < b:\n",
    "    for i in range(a, b+1):\n",
    "        print(i)\n"
   ]
  },
  {
   "cell_type": "code",
   "execution_count": 5,
   "id": "2ddad170",
   "metadata": {},
   "outputs": [
    {
     "name": "stdout",
     "output_type": "stream",
     "text": [
      "a = 1\n",
      "b = 5\n",
      "2\n",
      "3\n",
      "4\n"
     ]
    }
   ],
   "source": [
    "# 3\n",
    "a = int(input(\"a = \"))\n",
    "b = int(input(\"b = \"))\n",
    "\n",
    "for i in range(a+1, b):\n",
    "    print(i)"
   ]
  },
  {
   "cell_type": "code",
   "execution_count": 7,
   "id": "c85c58c5",
   "metadata": {},
   "outputs": [
    {
     "name": "stdout",
     "output_type": "stream",
     "text": [
      "narx = 500.5\n",
      "1 kg konfet narxi 500.5 sum\n",
      "2 kg konfet narxi 1001.0 sum\n",
      "3 kg konfet narxi 1501.5 sum\n",
      "4 kg konfet narxi 2002.0 sum\n",
      "5 kg konfet narxi 2502.5 sum\n",
      "6 kg konfet narxi 3003.0 sum\n",
      "7 kg konfet narxi 3503.5 sum\n",
      "8 kg konfet narxi 4004.0 sum\n",
      "9 kg konfet narxi 4504.5 sum\n",
      "10 kg konfet narxi 5005.0 sum\n"
     ]
    }
   ],
   "source": [
    "# 4\n",
    "a = float(input(\"narx = \"))\n",
    "for i in range(1,11):\n",
    "    print(i, \"kg konfet narxi\", i*a, \"sum\")"
   ]
  },
  {
   "cell_type": "code",
   "execution_count": 11,
   "id": "33f5042c",
   "metadata": {},
   "outputs": [
    {
     "name": "stdout",
     "output_type": "stream",
     "text": [
      "narx = 1000\n",
      "0.1 kg konfet narxi 100.0 sum\n",
      "0.2 kg konfet narxi 200.0 sum\n",
      "0.3 kg konfet narxi 300.0 sum\n",
      "0.4 kg konfet narxi 400.0 sum\n",
      "0.5 kg konfet narxi 500.0 sum\n",
      "0.6 kg konfet narxi 600.0 sum\n",
      "0.7 kg konfet narxi 700.0 sum\n",
      "0.8 kg konfet narxi 800.0 sum\n",
      "0.9 kg konfet narxi 900.0 sum\n",
      "1.0 kg konfet narxi 1000.0 sum\n"
     ]
    }
   ],
   "source": [
    "# 5\n",
    "a = float(input(\"narx = \"))\n",
    "for i in range(1,11):\n",
    "    print(i/10, \"kg konfet narxi\", i*a/10, \"sum\")"
   ]
  },
  {
   "cell_type": "code",
   "execution_count": 55,
   "id": "005cdbd4",
   "metadata": {},
   "outputs": [
    {
     "name": "stdout",
     "output_type": "stream",
     "text": [
      "narx = 5000\n",
      "1.2 kg konfet narxi 6000.0 sum\n",
      "1.4 kg konfet narxi 7000.0 sum\n",
      "1.6 kg konfet narxi 8000.0 sum\n",
      "1.8 kg konfet narxi 9000.0 sum\n",
      "2.0 kg konfet narxi 10000.0 sum\n"
     ]
    }
   ],
   "source": [
    "# 6 \n",
    "a = float(input(\"narx = \"))\n",
    "for i in range(12,21,2):\n",
    "    print(i/10, \"kg konfet narxi\", i*a/10, \"sum\")"
   ]
  },
  {
   "cell_type": "code",
   "execution_count": 13,
   "id": "fee5e6dc",
   "metadata": {},
   "outputs": [
    {
     "name": "stdout",
     "output_type": "stream",
     "text": [
      "a = 1\n",
      "b = 10\n",
      "Summa 55\n"
     ]
    }
   ],
   "source": [
    "# 7\n",
    "a = int(input(\"a = \"))\n",
    "b = int(input(\"b = \"))\n",
    "Sum = 0\n",
    "for i in range(a,b+1):\n",
    "    Sum += i\n",
    "print(\"Summa\", Sum)\n"
   ]
  },
  {
   "cell_type": "code",
   "execution_count": 17,
   "id": "02abac13",
   "metadata": {},
   "outputs": [
    {
     "name": "stdout",
     "output_type": "stream",
     "text": [
      "a = 1\n",
      "b = 10\n",
      "Ko'paytma 3628800\n"
     ]
    }
   ],
   "source": [
    "# 8\n",
    "a = int(input(\"a = \"))\n",
    "b = int(input(\"b = \"))\n",
    "kopaytma = 1\n",
    "for i in range(a,b+1):\n",
    "    kopaytma *= i\n",
    "print(\"Ko'paytma\", kopaytma)"
   ]
  },
  {
   "cell_type": "code",
   "execution_count": 19,
   "id": "e79b20a1",
   "metadata": {},
   "outputs": [
    {
     "name": "stdout",
     "output_type": "stream",
     "text": [
      "a = 1\n",
      "b = 10\n",
      "Summa 385\n"
     ]
    }
   ],
   "source": [
    "# 9\n",
    "a = int(input(\"a = \"))\n",
    "b = int(input(\"b = \"))\n",
    "Sum = 0\n",
    "for i in range(a,b+1):\n",
    "    Sum += i**2\n",
    "print(\"Summa\", Sum)"
   ]
  },
  {
   "cell_type": "code",
   "execution_count": 22,
   "id": "7026607b",
   "metadata": {},
   "outputs": [
    {
     "name": "stdout",
     "output_type": "stream",
     "text": [
      "n = 2\n",
      "1.5\n"
     ]
    }
   ],
   "source": [
    "# 10\n",
    "n = int(input(\"n = \"))\n",
    "s = 0\n",
    "for i in range(1, n+1):\n",
    "    s += 1/i\n",
    "print(s)"
   ]
  },
  {
   "cell_type": "code",
   "execution_count": 23,
   "id": "8d9aea8f",
   "metadata": {},
   "outputs": [
    {
     "name": "stdout",
     "output_type": "stream",
     "text": [
      "n = 5\n",
      "985\n"
     ]
    }
   ],
   "source": [
    "# 11\n",
    "n = int(input(\"n = \"))\n",
    "s = 0\n",
    "for i in range(2*n):\n",
    "    s += (n+i)**2\n",
    "print(s)"
   ]
  },
  {
   "cell_type": "code",
   "execution_count": 26,
   "id": "9592751e",
   "metadata": {},
   "outputs": [
    {
     "name": "stdout",
     "output_type": "stream",
     "text": [
      "n = 3\n",
      "243655.25776399093\n"
     ]
    }
   ],
   "source": [
    "# 12\n",
    "n = int(input(\"n = \"))\n",
    "s = 1\n",
    "for i in range(11,n*10):\n",
    "    s *= i/10\n",
    "    \n",
    "print(s)"
   ]
  },
  {
   "cell_type": "code",
   "execution_count": 46,
   "id": "153d6a9f",
   "metadata": {},
   "outputs": [
    {
     "name": "stdout",
     "output_type": "stream",
     "text": [
      "n = 4\n",
      "-3.0\n"
     ]
    }
   ],
   "source": [
    "# 13\n",
    "n = int(input(\"n = \"))\n",
    "s = 0\n",
    "for i in range(11,(n+1)*10):\n",
    "    s += (-1)**(i) * i/10\n",
    "print(s)"
   ]
  },
  {
   "cell_type": "code",
   "execution_count": 37,
   "id": "3c07c91a",
   "metadata": {},
   "outputs": [
    {
     "name": "stdout",
     "output_type": "stream",
     "text": [
      "n = 10\n",
      "100\n"
     ]
    }
   ],
   "source": [
    "# 14\n",
    "n = int(input(\"n = \"))\n",
    "s = 0\n",
    "for i in range(1, 2*n,2):\n",
    "    s += i\n",
    "print(s)"
   ]
  },
  {
   "cell_type": "code",
   "execution_count": 39,
   "id": "ac743d0c",
   "metadata": {},
   "outputs": [
    {
     "name": "stdout",
     "output_type": "stream",
     "text": [
      "n = 2\n",
      "a = 2\n",
      "4\n"
     ]
    }
   ],
   "source": [
    "# 15\n",
    "n = int(input(\"n = \"))\n",
    "a = int(input(\"a = \"))\n",
    "s = 1\n",
    "for i in range(n):\n",
    "    s *= a\n",
    "print(s)"
   ]
  },
  {
   "cell_type": "code",
   "execution_count": 40,
   "id": "9ad35531",
   "metadata": {},
   "outputs": [
    {
     "name": "stdout",
     "output_type": "stream",
     "text": [
      "n = 10\n",
      "a = 10\n",
      "10 100 1000 10000 100000 1000000 10000000 100000000 1000000000 10000000000 "
     ]
    }
   ],
   "source": [
    "# 16\n",
    "n = int(input(\"n = \"))\n",
    "a = int(input(\"a = \"))\n",
    "for i in range(1, n+1):\n",
    "    print(a**i, end=\" \")"
   ]
  },
  {
   "cell_type": "code",
   "execution_count": 41,
   "id": "805b853b",
   "metadata": {},
   "outputs": [
    {
     "name": "stdout",
     "output_type": "stream",
     "text": [
      "n = 4\n",
      "a = 2\n",
      "31\n"
     ]
    }
   ],
   "source": [
    "# 17\n",
    "n = int(input(\"n = \"))\n",
    "a = int(input(\"a = \"))\n",
    "s = 0\n",
    "b = 1\n",
    "for i in range( n+1):\n",
    "    b *= a\n",
    "    s +=b\n",
    "    \n",
    "print(s)"
   ]
  },
  {
   "cell_type": "code",
   "execution_count": 56,
   "id": "5cc8b144",
   "metadata": {},
   "outputs": [
    {
     "name": "stdout",
     "output_type": "stream",
     "text": [
      "n = 3\n",
      "a = 2\n",
      "-5\n"
     ]
    }
   ],
   "source": [
    "# 18\n",
    "n = int(input(\"n = \"))\n",
    "a = int(input(\"a = \"))\n",
    "s = 0\n",
    "for i in range(n+1):\n",
    "    s += (-1)**i * a**i\n",
    "      \n",
    "print(s)"
   ]
  },
  {
   "cell_type": "code",
   "execution_count": 58,
   "id": "4d0d2e95",
   "metadata": {},
   "outputs": [
    {
     "name": "stdout",
     "output_type": "stream",
     "text": [
      "n = 5\n",
      "120\n"
     ]
    }
   ],
   "source": [
    "# 19\n",
    "n = int(input(\"n = \"))\n",
    "a = 1\n",
    "for i in range(1, n+1):\n",
    "    a *= i\n",
    "print(a)"
   ]
  },
  {
   "cell_type": "code",
   "execution_count": 61,
   "id": "487ced5d",
   "metadata": {},
   "outputs": [
    {
     "name": "stdout",
     "output_type": "stream",
     "text": [
      "n = 5\n",
      "1\n",
      "2\n",
      "6\n",
      "24\n",
      "120\n",
      "153\n"
     ]
    }
   ],
   "source": [
    "# 20\n",
    "n = int(input(\"n = \"))\n",
    "a = 1\n",
    "s = 0\n",
    "for i in range(1, n+1):\n",
    "    a *= i\n",
    "    s += a\n",
    "print(s)"
   ]
  },
  {
   "cell_type": "code",
   "execution_count": 1,
   "id": "35215d05",
   "metadata": {},
   "outputs": [
    {
     "name": "stdout",
     "output_type": "stream",
     "text": [
      "n = 5\n",
      "2.7166666666666663\n"
     ]
    }
   ],
   "source": [
    "# 21\n",
    "n = int(input(\"n = \"))\n",
    "S = 1\n",
    "P = 1\n",
    "for i in range(1,n+1):\n",
    "    P *= i\n",
    "    S += 1/P\n",
    "print(S)"
   ]
  },
  {
   "cell_type": "code",
   "execution_count": 2,
   "id": "89c46558",
   "metadata": {},
   "outputs": [
    {
     "name": "stdout",
     "output_type": "stream",
     "text": [
      "n = 5\n",
      "x = 5\n",
      "91.41666666666667\n"
     ]
    }
   ],
   "source": [
    "# 22\n",
    "n = int(input(\"n = \"))\n",
    "x = float(input(\"x = \"))\n",
    "p = 1\n",
    "s = 1\n",
    "for i in range(1,n+1):\n",
    "    p *= i\n",
    "    s += x**i/p\n",
    "print(s)"
   ]
  },
  {
   "cell_type": "code",
   "execution_count": 19,
   "id": "ce101cb1",
   "metadata": {},
   "outputs": [
    {
     "name": "stdout",
     "output_type": "stream",
     "text": [
      "n = 80\n",
      "x = 0.4\n",
      "0.38941834230865047\n"
     ]
    }
   ],
   "source": [
    "# 23\n",
    "n = int(input(\"n = \"))\n",
    "x = float(input(\"x = \"))\n",
    "p = 1\n",
    "s = 0\n",
    "j = 2\n",
    "for i in range(1,2*n+2,2):\n",
    "    p *= i\n",
    "    s +=  (-1)**j * x**i / p\n",
    "    p *= (i+1)\n",
    "    j += 1\n",
    "print(s)"
   ]
  },
  {
   "cell_type": "code",
   "execution_count": 26,
   "id": "f5ec305d",
   "metadata": {},
   "outputs": [
    {
     "name": "stdout",
     "output_type": "stream",
     "text": [
      "n = 30\n",
      "x = 0.1\n",
      "0.9001665833531718\n"
     ]
    }
   ],
   "source": [
    "# 24\n",
    "n = int(input(\"n = \"))\n",
    "x = float(input(\"x = \"))\n",
    "s = 1\n",
    "p = 1\n",
    "j = 1\n",
    "for i in range(1,2*n + 1, 2):\n",
    "    p *= i\n",
    "    s += (-1)**j * x**i / p\n",
    "    p *= (i+1)\n",
    "    j += 1\n",
    "print(s)"
   ]
  },
  {
   "cell_type": "code",
   "execution_count": 31,
   "id": "25681248",
   "metadata": {},
   "outputs": [
    {
     "name": "stdout",
     "output_type": "stream",
     "text": [
      "n = 100\n",
      "x = 9\n",
      "-2.3881161399822807e+93\n"
     ]
    }
   ],
   "source": [
    "# 25\n",
    "n = int(input(\"n = \"))\n",
    "x = float(input(\"x = \"))\n",
    "s = 0\n",
    "for i in range(1,n+1):\n",
    "    s += (-1)**(i-1) * x**i / i\n",
    "print(s)\n"
   ]
  },
  {
   "cell_type": "code",
   "execution_count": 32,
   "id": "b40267a1",
   "metadata": {},
   "outputs": [
    {
     "name": "stdout",
     "output_type": "stream",
     "text": [
      "n = 100\n",
      "x = 4\n",
      "5.485070382644514e+118\n"
     ]
    }
   ],
   "source": [
    "# 26\n",
    "n = int(input(\"n = \"))\n",
    "x = float(input(\"x = \"))\n",
    "s = 0\n",
    "j = 0\n",
    "for i in range(1,2*n + 2,2):\n",
    "    s += (-1)**j * x**i/i\n",
    "print(s)\n"
   ]
  },
  {
   "cell_type": "code",
   "execution_count": 34,
   "id": "c6099d58",
   "metadata": {},
   "outputs": [
    {
     "name": "stdout",
     "output_type": "stream",
     "text": [
      "n = 5\n",
      "x = 0.1\n",
      "0.1001674200263004\n"
     ]
    }
   ],
   "source": [
    "# 27\n",
    "n = int(input(\"n = \"))\n",
    "x = float(input(\"x = \"))\n",
    "s = x\n",
    "a = 1\n",
    "b = 1\n",
    "j = 1\n",
    "for i in range(3,2*n+2,2):\n",
    "    a *= (i - 2)\n",
    "    b *= 2**j\n",
    "    s += a * x**i/(b*i)\n",
    "    j += 1\n",
    "print(s)"
   ]
  },
  {
   "cell_type": "code",
   "execution_count": 37,
   "id": "9a8047d3",
   "metadata": {},
   "outputs": [
    {
     "name": "stdout",
     "output_type": "stream",
     "text": [
      "n = 100\n",
      "x = 0.1\n",
      "1.0476176963403032\n"
     ]
    }
   ],
   "source": [
    "# 28\n",
    "n = int(input(\"n = \"))\n",
    "x = float(input(\"x = \"))\n",
    "s = 1 + x/2\n",
    "a = 1\n",
    "b = 1\n",
    "j = 1\n",
    "k = 1\n",
    "for i in range(2,n+1):\n",
    "    b *= 2*i\n",
    "    s += (-1)**k * a * x**i / b\n",
    "    a *= (j+2)\n",
    "    j += 2\n",
    "    k += 1\n",
    "print(s)\n"
   ]
  },
  {
   "cell_type": "code",
   "execution_count": 42,
   "id": "1736bd6b",
   "metadata": {},
   "outputs": [
    {
     "name": "stdout",
     "output_type": "stream",
     "text": [
      "n = 20\n",
      "a = 0\n",
      "b = 100\n",
      "5.0\n",
      "10.0\n",
      "15.0\n",
      "20.0\n",
      "25.0\n",
      "30.0\n",
      "35.0\n",
      "40.0\n",
      "45.0\n",
      "50.0\n",
      "55.0\n",
      "60.0\n",
      "65.0\n",
      "70.0\n",
      "75.0\n",
      "80.0\n",
      "85.0\n",
      "90.0\n",
      "95.0\n"
     ]
    }
   ],
   "source": [
    "# 29\n",
    "n = int(input(\"n = \"))\n",
    "a = float(input(\"a = \"))\n",
    "b = int(input(\"b = \"))\n",
    "if a>b:\n",
    "    a += b\n",
    "    b = a - b\n",
    "    a = a - b\n",
    "c = (b-a)/(n)\n",
    "for i in range(1,n):\n",
    "    a += c\n",
    "    print(a)"
   ]
  },
  {
   "cell_type": "code",
   "execution_count": 43,
   "id": "d2a48752",
   "metadata": {},
   "outputs": [
    {
     "name": "stdout",
     "output_type": "stream",
     "text": [
      "n = 5\n",
      "a = 2\n",
      "b = 12\n",
      "1.7568024953079282\n",
      "1.2794154981989259\n",
      "0.010641753376618213\n",
      "1.5440211108893698\n"
     ]
    }
   ],
   "source": [
    "# 30\n",
    "from math import sin\n",
    "\n",
    "n = int(input(\"n = \"))\n",
    "a = float(input(\"a = \"))\n",
    "b = int(input(\"b = \"))\n",
    "if a>b:\n",
    "    a += b\n",
    "    b = a - b\n",
    "    a = a - b\n",
    "c = (b-a)/(n)\n",
    "for i in range(1,n):\n",
    "    a += c\n",
    "    print(1-sin(a))"
   ]
  },
  {
   "cell_type": "code",
   "execution_count": 47,
   "id": "e932f794",
   "metadata": {},
   "outputs": [
    {
     "name": "stdout",
     "output_type": "stream",
     "text": [
      "n = 15\n",
      "2.5\n",
      "2.4\n",
      "2.4166666666666665\n",
      "2.413793103448276\n",
      "2.414285714285714\n",
      "2.4142011834319526\n",
      "2.4142156862745097\n",
      "2.414213197969543\n",
      "2.41421362489487\n",
      "2.414213551646055\n",
      "2.414213564213564\n",
      "2.4142135620573204\n",
      "2.4142135624272734\n",
      "2.4142135623637997\n",
      "2.41421356237469\n"
     ]
    }
   ],
   "source": [
    "# 31\n",
    "n = int(input(\"n = \"))\n",
    "a = 2\n",
    "for i in range(1,n+1):\n",
    "    a = 2 + 1/a\n",
    "    print(a)"
   ]
  },
  {
   "cell_type": "code",
   "execution_count": 49,
   "id": "726b3761",
   "metadata": {},
   "outputs": [
    {
     "name": "stdout",
     "output_type": "stream",
     "text": [
      "n = 10\n",
      "2.0\n",
      "1.5\n",
      "0.8333333333333334\n",
      "0.45833333333333337\n",
      "0.2916666666666667\n",
      "0.2152777777777778\n",
      "0.1736111111111111\n",
      "0.1467013888888889\n",
      "0.12741126543209877\n",
      "0.11274112654320986\n"
     ]
    }
   ],
   "source": [
    "# 32\n",
    "n = int(input(\"n = \"))\n",
    "a = 1\n",
    "for i in range(1,n+1):\n",
    "    a = (a + 1)/i\n",
    "    print(a)"
   ]
  },
  {
   "cell_type": "code",
   "execution_count": 55,
   "id": "619087de",
   "metadata": {},
   "outputs": [
    {
     "name": "stdout",
     "output_type": "stream",
     "text": [
      "n = 10\n",
      "2\n",
      "3\n",
      "5\n",
      "8\n",
      "13\n",
      "21\n",
      "34\n",
      "55\n",
      "89\n",
      "144\n"
     ]
    }
   ],
   "source": [
    "# 33\n",
    "n = int(input(\"n = \"))\n",
    "a = 1 \n",
    "b = 1\n",
    "for i in range(1, n+1, 2):\n",
    "    a += b\n",
    "    b += a\n",
    "    print(a,b,sep='\\n')"
   ]
  },
  {
   "cell_type": "code",
   "execution_count": 56,
   "id": "071d45f5",
   "metadata": {},
   "outputs": [
    {
     "name": "stdout",
     "output_type": "stream",
     "text": [
      "n = 10\n",
      "1.6666666666666667\n",
      "1.777777777777778\n",
      "1.7407407407407407\n",
      "1.7530864197530864\n",
      "1.748971193415638\n",
      "1.7503429355281208\n",
      "1.749885688157293\n",
      "1.750038103947569\n",
      "1.7499872986841438\n",
      "1.7500042337719524\n"
     ]
    }
   ],
   "source": [
    "# 34\n",
    "n = int(input(\"n = \"))\n",
    "a = 1\n",
    "b = 2\n",
    "for i in range(1,n+1,2):\n",
    "    a = (a + 2*b)/3\n",
    "    b = (b + 2*a)/3\n",
    "    print(a, b,sep=\"\\n\")\n",
    "    "
   ]
  },
  {
   "cell_type": "code",
   "execution_count": 57,
   "id": "08d567be",
   "metadata": {},
   "outputs": [
    {
     "name": "stdout",
     "output_type": "stream",
     "text": [
      "n = 10\n",
      "3\n",
      "2\n",
      "1\n",
      "-3\n",
      "-6\n",
      "3\n",
      "3\n",
      "18\n",
      "-15\n",
      "-3\n",
      "-54\n",
      "51\n"
     ]
    }
   ],
   "source": [
    "# 35\n",
    "n = int(input(\"n = \"))\n",
    "a = 1\n",
    "b = 2\n",
    "c = 3\n",
    "for i in range(1,n+1,3):\n",
    "    a = c + b - 2*a\n",
    "    b = a + c - 2*b\n",
    "    c = b + a - 2*b\n",
    "    print(a,b,c,sep=\"\\n\")"
   ]
  },
  {
   "cell_type": "code",
   "execution_count": 59,
   "id": "cf140081",
   "metadata": {},
   "outputs": [
    {
     "name": "stdout",
     "output_type": "stream",
     "text": [
      "n = 2\n",
      "k = 5\n",
      "33\n"
     ]
    }
   ],
   "source": [
    "# 36\n",
    "n = int(input(\"n = \"))\n",
    "k = int(input(\"k = \"))\n",
    "s = 0\n",
    "for i in range(1,n+1):\n",
    "    s += i**k\n",
    "print(s)"
   ]
  },
  {
   "cell_type": "code",
   "execution_count": 61,
   "id": "7ce1eebc",
   "metadata": {},
   "outputs": [
    {
     "name": "stdout",
     "output_type": "stream",
     "text": [
      "n = 3\n",
      "32\n"
     ]
    }
   ],
   "source": [
    "# 37\n",
    "n = int(input(\"n = \"))\n",
    "s = 0\n",
    "for i in range(1,n+1):\n",
    "    s += i**i\n",
    "print(s)"
   ]
  },
  {
   "cell_type": "code",
   "execution_count": 63,
   "id": "d7a6362b",
   "metadata": {},
   "outputs": [
    {
     "name": "stdout",
     "output_type": "stream",
     "text": [
      "n = 3\n",
      "8\n"
     ]
    }
   ],
   "source": [
    "# 38\n",
    "n = int(input(\"n = \"))\n",
    "s = 0\n",
    "for i in range(1,n+1):\n",
    "    s += i**(n-i+1)\n",
    "print(s)"
   ]
  },
  {
   "cell_type": "code",
   "execution_count": 67,
   "id": "602acf2b",
   "metadata": {},
   "outputs": [
    {
     "name": "stdout",
     "output_type": "stream",
     "text": [
      "a = 7\n",
      "b = 9\n",
      "7\n",
      "7\n",
      "7\n",
      "7\n",
      "7\n",
      "7\n",
      "7\n",
      "8\n",
      "8\n",
      "8\n",
      "8\n",
      "8\n",
      "8\n",
      "8\n",
      "8\n",
      "9\n",
      "9\n",
      "9\n",
      "9\n",
      "9\n",
      "9\n",
      "9\n",
      "9\n",
      "9\n"
     ]
    }
   ],
   "source": [
    "# 39\n",
    "a = int(input(\"a = \"))\n",
    "b = int(input(\"b = \"))\n",
    "for i in range(a,b+1):\n",
    "    for j in range(i):\n",
    "        print(i)"
   ]
  },
  {
   "cell_type": "code",
   "execution_count": 66,
   "id": "931318e7",
   "metadata": {},
   "outputs": [
    {
     "name": "stdout",
     "output_type": "stream",
     "text": [
      "a = 3\n",
      "b = 5\n",
      "3\n",
      "4\n",
      "4\n",
      "5\n",
      "5\n",
      "5\n"
     ]
    }
   ],
   "source": [
    "# 40\n",
    "a = int(input(\"a = \"))\n",
    "b = int(input(\"b = \"))\n",
    "k = 1\n",
    "for i in range(a, b+1):\n",
    "    for j in range(k):\n",
    "        print(i)\n",
    "    k += 1"
   ]
  }
 ],
 "metadata": {
  "kernelspec": {
   "display_name": "Python 3 (ipykernel)",
   "language": "python",
   "name": "python3"
  },
  "language_info": {
   "codemirror_mode": {
    "name": "ipython",
    "version": 3
   },
   "file_extension": ".py",
   "mimetype": "text/x-python",
   "name": "python",
   "nbconvert_exporter": "python",
   "pygments_lexer": "ipython3",
   "version": "3.9.7"
  }
 },
 "nbformat": 4,
 "nbformat_minor": 5
}
