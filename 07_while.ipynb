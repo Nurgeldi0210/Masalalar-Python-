{
 "cells": [
  {
   "cell_type": "markdown",
   "id": "d16a7a30",
   "metadata": {},
   "source": [
    "# While"
   ]
  },
  {
   "cell_type": "code",
   "execution_count": 3,
   "id": "67d486e8",
   "metadata": {},
   "outputs": [
    {
     "name": "stdout",
     "output_type": "stream",
     "text": [
      "a = 10\n",
      "b = 3\n",
      "1\n"
     ]
    }
   ],
   "source": [
    "# 2\n",
    "a = int(input('a = '))\n",
    "b = int(input('b = '))\n",
    "while a >= b:\n",
    "    a -= b\n",
    "print(a)"
   ]
  },
  {
   "cell_type": "code",
   "execution_count": 2,
   "id": "4dbe81b5",
   "metadata": {},
   "outputs": [
    {
     "name": "stdout",
     "output_type": "stream",
     "text": [
      "a = 10\n",
      "b = 3\n",
      "3\n"
     ]
    }
   ],
   "source": [
    "# 1\n",
    "a = int(input('a = '))\n",
    "b = int(input('b = '))\n",
    "i = 0\n",
    "while a >= b:\n",
    "    a -= b\n",
    "    i += 1\n",
    "print(i)"
   ]
  },
  {
   "cell_type": "code",
   "execution_count": 4,
   "id": "77225de9",
   "metadata": {},
   "outputs": [
    {
     "name": "stdout",
     "output_type": "stream",
     "text": [
      "a = 10\n",
      "b = 3\n",
      "butun qismi :  3 qoldiq qismi :  1\n"
     ]
    }
   ],
   "source": [
    "# 3\n",
    "a = int(input('a = '))\n",
    "b = int(input('b = '))\n",
    "i = 0\n",
    "while a >= b:\n",
    "    a -= b\n",
    "    i += 1\n",
    "print( 'butun qismi : ',  i, 'qoldiq qismi : ', a)"
   ]
  },
  {
   "cell_type": "code",
   "execution_count": 10,
   "id": "1ea37b6c",
   "metadata": {},
   "outputs": [
    {
     "name": "stdout",
     "output_type": "stream",
     "text": [
      "n = 6\n",
      "3 ning darajasi emas\n"
     ]
    }
   ],
   "source": [
    "# 4\n",
    "n = int(input(\"n = \"))\n",
    "p = 3\n",
    "while p != n and p <= n:\n",
    "    p *= 3\n",
    "if p == n:\n",
    "    print('3 ning darajasi')\n",
    "else:\n",
    "    print(\"3 ning darajasi emas\")"
   ]
  },
  {
   "cell_type": "code",
   "execution_count": 13,
   "id": "d0cfa13c",
   "metadata": {},
   "outputs": [
    {
     "name": "stdout",
     "output_type": "stream",
     "text": [
      "n = 128\n",
      "7\n"
     ]
    }
   ],
   "source": [
    "# 5\n",
    "n = int(input(\"n = \"))\n",
    "p = 1\n",
    "i = 0\n",
    "while p != n and p <= n:\n",
    "    p *= 2\n",
    "    i+=1\n",
    "print(i)"
   ]
  },
  {
   "cell_type": "code",
   "execution_count": 24,
   "id": "5cb51bea",
   "metadata": {},
   "outputs": [
    {
     "name": "stdout",
     "output_type": "stream",
     "text": [
      "n = 6\n",
      "24\n"
     ]
    }
   ],
   "source": [
    "# 6\n",
    "n = int(input('n = '))\n",
    "\n",
    "\n",
    "p = 1\n",
    "i = 0\n",
    "\n",
    "while n >= 1:\n",
    "    p *= n\n",
    "    i += 2\n",
    "    n -= i\n",
    "    \n",
    "print(p)\n",
    "    "
   ]
  },
  {
   "cell_type": "code",
   "execution_count": 27,
   "id": "dbb014b5",
   "metadata": {},
   "outputs": [
    {
     "name": "stdout",
     "output_type": "stream",
     "text": [
      "n = 5\n",
      "3\n"
     ]
    }
   ],
   "source": [
    "# 7\n",
    "n = int(input('n = '))\n",
    "i = 1\n",
    "while i**2 < n:\n",
    "    i+= 1\n",
    "print(i)"
   ]
  },
  {
   "cell_type": "code",
   "execution_count": 31,
   "id": "02755b25",
   "metadata": {},
   "outputs": [
    {
     "name": "stdout",
     "output_type": "stream",
     "text": [
      "n = 10\n",
      "3\n"
     ]
    }
   ],
   "source": [
    "# 8\n",
    "n = int(input('n = '))\n",
    "k = 1\n",
    "while k**2 < n:\n",
    "    k+=1\n",
    "\n",
    "k -= 1 \n",
    "print(k)\n"
   ]
  },
  {
   "cell_type": "code",
   "execution_count": 33,
   "id": "fd165529",
   "metadata": {},
   "outputs": [
    {
     "name": "stdout",
     "output_type": "stream",
     "text": [
      "n = 30\n",
      "4\n"
     ]
    }
   ],
   "source": [
    "# 9\n",
    "n = int(input('n = '))\n",
    "k = 0\n",
    "while 3**k < n:\n",
    "    k += 1\n",
    "print(k)"
   ]
  },
  {
   "cell_type": "code",
   "execution_count": 36,
   "id": "bc1acfcb",
   "metadata": {},
   "outputs": [
    {
     "name": "stdout",
     "output_type": "stream",
     "text": [
      "n = 9\n",
      "2\n"
     ]
    }
   ],
   "source": [
    "# 10\n",
    "n = int(input('n = '))\n",
    "k = 0\n",
    "while 3**k <= n:\n",
    "    k += 1\n",
    "k -= 1 \n",
    "print(k)"
   ]
  },
  {
   "cell_type": "code",
   "execution_count": 37,
   "id": "22dd8e35",
   "metadata": {},
   "outputs": [
    {
     "name": "stdout",
     "output_type": "stream",
     "text": [
      "n =  10\n",
      "S =  10 k =  5\n"
     ]
    }
   ],
   "source": [
    "# 11\n",
    "n = int(input('n =  '))\n",
    "s = 0\n",
    "k = 1\n",
    "while n > s:\n",
    "    s += k\n",
    "    k += 1\n",
    "print('S = ', s, 'k = ', k)"
   ]
  },
  {
   "cell_type": "code",
   "execution_count": 38,
   "id": "31bcca45",
   "metadata": {},
   "outputs": [
    {
     "name": "stdout",
     "output_type": "stream",
     "text": [
      "n =  10\n",
      "S =  15 k =  6\n"
     ]
    }
   ],
   "source": [
    "# 12\n",
    "n = int(input('n =  '))\n",
    "s = 0\n",
    "k = 1\n",
    "while n >= s:\n",
    "    s += k\n",
    "    k += 1\n",
    "    \n",
    "print('S = ', s, 'k = ', k)\n"
   ]
  },
  {
   "cell_type": "code",
   "execution_count": 39,
   "id": "0c044f4c",
   "metadata": {},
   "outputs": [
    {
     "name": "stdout",
     "output_type": "stream",
     "text": [
      "n = 5\n",
      "S =  5.002068272680166 k =  84\n"
     ]
    }
   ],
   "source": [
    "# 13 \n",
    "a = int(input('n = '))\n",
    "s = 0\n",
    "k = 1\n",
    "while a >= s:\n",
    "    s += 1/k\n",
    "    k += 1\n",
    "print('S = ', s, 'k = ', k)"
   ]
  },
  {
   "cell_type": "code",
   "execution_count": 40,
   "id": "6c10824e",
   "metadata": {},
   "outputs": [
    {
     "name": "stdout",
     "output_type": "stream",
     "text": [
      "n = 5\n",
      "S =  4.990163510775404 k =  83\n"
     ]
    }
   ],
   "source": [
    "# 14 \n",
    "a = int(input('n = '))\n",
    "s = 0\n",
    "k = 1\n",
    "while a > s:\n",
    "    s += 1/k\n",
    "    k += 1\n",
    "s -= 1/k\n",
    "k -= 1\n",
    "print('S = ', s, 'k = ', k)"
   ]
  },
  {
   "cell_type": "code",
   "execution_count": 3,
   "id": "df52c21b",
   "metadata": {},
   "outputs": [
    {
     "name": "stdout",
     "output_type": "stream",
     "text": [
      "s = 100\n",
      "p = 10\n",
      "8 oydan keyin\n"
     ]
    }
   ],
   "source": [
    "# 15 \n",
    "s = float(input(\"s = \"))\n",
    "p = float(input(\"p = \"))\n",
    "s1 = 0\n",
    "s2 = s\n",
    "i = 0\n",
    "while s2 < 2*s:\n",
    "    s1 = s2/100 * p\n",
    "    s2 += s2/100 * p\n",
    "    i += 1\n",
    "    \n",
    "print(i , 'oydan keyin')\n",
    "\n",
    "    "
   ]
  },
  {
   "cell_type": "code",
   "execution_count": 4,
   "id": "d0011c61",
   "metadata": {},
   "outputs": [
    {
     "name": "stdout",
     "output_type": "stream",
     "text": [
      "n = 10\n",
      "33\n"
     ]
    }
   ],
   "source": [
    "# 16\n",
    "p = int(input('p = '))\n",
    "s1 = 10\n",
    "s2 = 0\n",
    "kun = 1\n",
    "while s2 < 200:\n",
    "    s2 += s1/100 * p\n",
    "    s1 += s1/100 * p\n",
    "    kun += 1\n",
    "print(kun)\n"
   ]
  },
  {
   "cell_type": "code",
   "execution_count": 6,
   "id": "8abf3aae",
   "metadata": {},
   "outputs": [
    {
     "name": "stdout",
     "output_type": "stream",
     "text": [
      "n = 10\n",
      "n = 2\n",
      "5 butun 0 qoldiq\n"
     ]
    }
   ],
   "source": [
    "# 17\n",
    "n = int(input('n = '))\n",
    "m = int(input('n = '))\n",
    "j = 0\n",
    "while n >= m:\n",
    "    n -= m\n",
    "    j += 1\n",
    "print(j, \"butun\", n, \"qoldiq\")\n",
    "    \n",
    "    "
   ]
  },
  {
   "cell_type": "code",
   "execution_count": 22,
   "id": "f2fa679e",
   "metadata": {},
   "outputs": [
    {
     "name": "stdout",
     "output_type": "stream",
     "text": [
      "n = 12345\n",
      "54321\n"
     ]
    }
   ],
   "source": [
    "# 18\n",
    "n = int(input('n = '))\n",
    "k = 0\n",
    "son1 = n\n",
    "\n",
    "while son1 > 1:\n",
    "    son1 //= 10\n",
    "    k += 1\n",
    "k\n",
    "son1 = 0\n",
    "\n",
    "while n >= 1:\n",
    "    son1 += (n%10)*(10**k)\n",
    "    n //= 10\n",
    "    k -= 1\n",
    "        \n",
    "print(son1)\n"
   ]
  },
  {
   "cell_type": "code",
   "execution_count": 24,
   "id": "373d5f87",
   "metadata": {},
   "outputs": [
    {
     "name": "stdout",
     "output_type": "stream",
     "text": [
      "n = 12345\n",
      "15\n"
     ]
    }
   ],
   "source": [
    "# 19\n",
    "n = int(input('n = '))\n",
    "s = 0\n",
    "while n >= 1:\n",
    "    s += n%10\n",
    "    n//=10\n",
    "print(s)\n"
   ]
  },
  {
   "cell_type": "code",
   "execution_count": 28,
   "id": "cbc4643c",
   "metadata": {},
   "outputs": [
    {
     "name": "stdout",
     "output_type": "stream",
     "text": [
      "n = 134\n",
      "yo'q\n"
     ]
    }
   ],
   "source": [
    "# 20\n",
    "n = int(input('n = '))\n",
    "k = True\n",
    "while n >= 1:\n",
    "    if n%10 == 2:\n",
    "        print('bor')\n",
    "        k = False\n",
    "        break\n",
    "    n //= 10\n",
    "if k:\n",
    "    print('yo\\'q')\n",
    "    \n"
   ]
  },
  {
   "cell_type": "code",
   "execution_count": 30,
   "id": "80ddb218",
   "metadata": {},
   "outputs": [
    {
     "name": "stdout",
     "output_type": "stream",
     "text": [
      "n = 123\n",
      "bor\n"
     ]
    }
   ],
   "source": [
    "# 21\n",
    "n = int(input('n = '))\n",
    "k = True\n",
    "while n >= 1:\n",
    "    if (n%10)%2!=0:\n",
    "        print('bor')\n",
    "        k = False\n",
    "        break\n",
    "    n //= 10\n",
    "if k:\n",
    "    print('yo\\'q')\n",
    "    \n"
   ]
  },
  {
   "cell_type": "code",
   "execution_count": 6,
   "id": "c5c51c01",
   "metadata": {},
   "outputs": [
    {
     "name": "stdout",
     "output_type": "stream",
     "text": [
      "n = 7\n",
      "Tub son\n"
     ]
    }
   ],
   "source": [
    "# 22\n",
    "\n",
    "n = int(input(\"n = \"))\n",
    "a = int(n**0.5 + 1)\n",
    "i = 2\n",
    "tub = True\n",
    "while i < a:\n",
    "    if n % i == 0:\n",
    "        tub = False\n",
    "    i += 1\n",
    "        \n",
    "if tub:\n",
    "    print(\"Tub son\")\n",
    "else:\n",
    "    print(\"Tub son emas\")\n",
    "        "
   ]
  },
  {
   "cell_type": "code",
   "execution_count": 7,
   "id": "e0cced3e",
   "metadata": {},
   "outputs": [
    {
     "name": "stdout",
     "output_type": "stream",
     "text": [
      "a = 20\n",
      "b = 10\n",
      "10 10\n"
     ]
    }
   ],
   "source": [
    "# 23\n",
    "a = int(input(\"a = \"))\n",
    "b = int(input(\"b = \"))\n",
    "\n",
    "while a!=b:\n",
    "    if a>b:\n",
    "        a%=b\n",
    "    else:\n",
    "        b%=a \n",
    "        \n",
    "    if a==0:\n",
    "        a=b\n",
    "    if b==0:\n",
    "        b=a\n",
    "print(a,b)"
   ]
  },
  {
   "cell_type": "code",
   "execution_count": 18,
   "id": "0e6ca16c",
   "metadata": {},
   "outputs": [
    {
     "name": "stdout",
     "output_type": "stream",
     "text": [
      "n = 8\n",
      "8  fibonachi soni\n"
     ]
    }
   ],
   "source": [
    "# 24\n",
    "n = int(input(\"n = \"))\n",
    "a = 1\n",
    "b = 1\n",
    "i = 1\n",
    "fib = False\n",
    "while (a != n or b != n) and i <= n:\n",
    "    if a==n or b==n:\n",
    "        print(n, \" fibonachi soni\")\n",
    "        fib = False\n",
    "        break\n",
    "        \n",
    "    else:\n",
    "        fib = True\n",
    "        \n",
    "    a += b\n",
    "    b += a    \n",
    "    i += 1\n",
    "    \n",
    "    \n",
    "if fib:\n",
    "    print(n, \" fibonachi soni emas\")"
   ]
  },
  {
   "cell_type": "code",
   "execution_count": 24,
   "id": "3e0b4d51",
   "metadata": {},
   "outputs": [
    {
     "name": "stdout",
     "output_type": "stream",
     "text": [
      "n = 5\n",
      "8\n"
     ]
    }
   ],
   "source": [
    "# 25\n",
    "n = int(input('n = '))\n",
    "a = 1\n",
    "b = 1\n",
    "while True:\n",
    "    \n",
    "    if a > n:\n",
    "        print(a)\n",
    "        break\n",
    "    if b > n:\n",
    "        print(b)\n",
    "        break\n",
    "        \n",
    "    a += b\n",
    "    b += a"
   ]
  },
  {
   "cell_type": "code",
   "execution_count": 32,
   "id": "bd13c347",
   "metadata": {},
   "outputs": [
    {
     "name": "stdout",
     "output_type": "stream",
     "text": [
      "n = 8\n",
      "5\n",
      "13\n"
     ]
    }
   ],
   "source": [
    "# 26\n",
    "n = int(input('n = '))\n",
    "a = 1\n",
    "b = 1\n",
    "while True:\n",
    "    a += b\n",
    "    if a > n:\n",
    "        print(abs(a - b))\n",
    "        print(a) \n",
    "        break\n",
    "    b += a\n",
    "    if b > n:\n",
    "        print(abs(a - b))\n",
    "        print(b)\n",
    "        break\n",
    "   "
   ]
  },
  {
   "cell_type": "code",
   "execution_count": 34,
   "id": "e9fc4567",
   "metadata": {},
   "outputs": [
    {
     "name": "stdout",
     "output_type": "stream",
     "text": [
      "n = 5\n",
      "4\n"
     ]
    }
   ],
   "source": [
    "# 27\n",
    "n = int(input('n = '))\n",
    "a = 1\n",
    "b = 1\n",
    "i = 1\n",
    "while True:\n",
    "    a += b\n",
    "    i += 1\n",
    "    if n == a:\n",
    "        print(i)\n",
    "        break\n",
    "    b += a\n",
    "    i += 1\n",
    "    if n == b:\n",
    "        print(i)\n",
    "        break\n",
    "        \n",
    "    "
   ]
  },
  {
   "cell_type": "code",
   "execution_count": 28,
   "id": "d1d76b2d",
   "metadata": {},
   "outputs": [
    {
     "name": "stdout",
     "output_type": "stream",
     "text": [
      "e = 0.9\n",
      "k =  2\n",
      "ak =  2.3333333333333335\n",
      "ak-1 =  3.0\n"
     ]
    }
   ],
   "source": [
    "# 28\n",
    "e = float(input(\"e = \"))\n",
    "a = 1\n",
    "k = 1\n",
    "ak = 0\n",
    "while True:\n",
    "    ak = 2 + 1 / a\n",
    "    if abs(ak-a) < e:\n",
    "        break\n",
    "    a = ak\n",
    "    k += 1\n",
    "print(\"k = \", k)\n",
    "print(\"ak = \",  ak)\n",
    "print(\"ak-1 = \", a)"
   ]
  },
  {
   "cell_type": "code",
   "execution_count": null,
   "id": "45d8193c",
   "metadata": {},
   "outputs": [],
   "source": [
    "# 29\n",
    "e = float(input(\"e = \"))\n",
    "a1 = 1\n",
    "a2 = 2\n",
    "k = 1\n",
    "while True:\n",
    "    a3 = (a1 + 2 * a2)/3 \n",
    "    if abs(ak-a) < e:\n",
    "        print(\"k = \", k)\n",
    "        print(\"ak = \",  a2)\n",
    "        print(\"ak-1 = \", a1)\n",
    "        break\n",
    "    a1 = a2\n",
    "    a2 = a3\n",
    "    k+=1\n",
    "    \n"
   ]
  },
  {
   "cell_type": "code",
   "execution_count": 24,
   "id": "2dee8470",
   "metadata": {},
   "outputs": [
    {
     "name": "stdout",
     "output_type": "stream",
     "text": [
      "a = 3\n",
      "b = 5\n",
      "c = 2\n",
      "2.0\n",
      "4.0\n",
      "8.0\n",
      "4.0\n",
      "2\n"
     ]
    }
   ],
   "source": [
    "# 30 1-usul\n",
    "a = float(input(\"a = \"))\n",
    "b = float(input(\"b = \"))\n",
    "c = float(input(\"c = \"))\n",
    "\n",
    "a1 = a\n",
    "while a1 >= c:\n",
    "    a1 -= c\n",
    "a -= a1\n",
    "\n",
    "a1 = b\n",
    "while a1 >= c:\n",
    "    a1 -= c\n",
    "b -= a1\n",
    "\n",
    "a1 = 1\n",
    "a2 = a\n",
    "while b > a1:\n",
    "    a += a2\n",
    "    a1 += 1\n",
    "    \n",
    "\n",
    "a1 = 1\n",
    "a2 = c\n",
    "while a1 < a2:\n",
    "    c += a2\n",
    "    a1 += 1\n",
    "    \n",
    "a1 = 0\n",
    "while a != 0:\n",
    "    a -= c\n",
    "    a1 += 1\n",
    "\n",
    "    \n",
    "print(a1)"
   ]
  },
  {
   "cell_type": "code",
   "execution_count": 35,
   "id": "73c593b7",
   "metadata": {},
   "outputs": [
    {
     "name": "stdout",
     "output_type": "stream",
     "text": [
      "a = 3\n",
      "b = 5\n",
      "c = 2\n",
      "2\n"
     ]
    }
   ],
   "source": [
    "# 30 2-usul\n",
    "a = float(input(\"a = \"))\n",
    "b = float(input(\"b = \"))\n",
    "c = float(input(\"c = \"))\n",
    "\n",
    "a1 = 0\n",
    "while a >= c:\n",
    "    a -= c\n",
    "    a1 += 1\n",
    "b1 = 0\n",
    "while b >= c:\n",
    "    b -= c\n",
    "    b1 += 1\n",
    "\n",
    "natija = 0\n",
    "while a1 > 0:\n",
    "    natija += b1\n",
    "    a1 -= 1\n",
    "print(natija)\n",
    "    "
   ]
  }
 ],
 "metadata": {
  "kernelspec": {
   "display_name": "Python 3 (ipykernel)",
   "language": "python",
   "name": "python3"
  },
  "language_info": {
   "codemirror_mode": {
    "name": "ipython",
    "version": 3
   },
   "file_extension": ".py",
   "mimetype": "text/x-python",
   "name": "python",
   "nbconvert_exporter": "python",
   "pygments_lexer": "ipython3",
   "version": "3.9.7"
  }
 },
 "nbformat": 4,
 "nbformat_minor": 5
}
