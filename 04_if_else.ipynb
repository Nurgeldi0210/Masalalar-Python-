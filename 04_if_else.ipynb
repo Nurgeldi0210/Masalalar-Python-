{
 "cells": [
  {
   "cell_type": "markdown",
   "id": "861a754e",
   "metadata": {},
   "source": [
    "# if else elif"
   ]
  },
  {
   "cell_type": "code",
   "execution_count": 2,
   "id": "1d3aca89",
   "metadata": {},
   "outputs": [
    {
     "name": "stdout",
     "output_type": "stream",
     "text": [
      "n = -5\n",
      "-7\n"
     ]
    }
   ],
   "source": [
    "# 2\n",
    "n = int(input(\"n = \"))\n",
    "if n > 0:\n",
    "    n += 1\n",
    "else:\n",
    "    n -= 2\n",
    "print(n)"
   ]
  },
  {
   "cell_type": "code",
   "execution_count": 1,
   "id": "fe6c0b60",
   "metadata": {},
   "outputs": [
    {
     "name": "stdout",
     "output_type": "stream",
     "text": [
      "n = 2\n",
      "3\n"
     ]
    }
   ],
   "source": [
    "#1\n",
    "n = int(input(\"n = \"))\n",
    "if n > 0:\n",
    "    n += 1\n",
    "print(n)"
   ]
  },
  {
   "cell_type": "code",
   "execution_count": 4,
   "id": "c8a2a163",
   "metadata": {},
   "outputs": [
    {
     "name": "stdout",
     "output_type": "stream",
     "text": [
      "n = 0\n",
      "10\n"
     ]
    }
   ],
   "source": [
    "# 3\n",
    "n = int(input(\"n = \"))\n",
    "if n > 0:\n",
    "    n += 1\n",
    "elif n == 0:\n",
    "    n = 10\n",
    "else:\n",
    "    n -= 2\n",
    "print(n)"
   ]
  },
  {
   "cell_type": "code",
   "execution_count": 5,
   "id": "795ad80d",
   "metadata": {},
   "outputs": [
    {
     "name": "stdout",
     "output_type": "stream",
     "text": [
      "a = 12\n",
      "b = 23\n",
      "c = 34\n",
      "3\n"
     ]
    }
   ],
   "source": [
    "# 4\n",
    "a = int(input(\"a = \"))\n",
    "b = int(input(\"b = \"))\n",
    "c = int(input(\"c = \"))\n",
    "j = 0\n",
    "i = 0\n",
    "if a>0:\n",
    "    j +=1\n",
    "if b >0:\n",
    "    j+=1\n",
    "if c > 0:\n",
    "    j += 1\n",
    "print(j, \"musbat\", 3 - j, \"manfiy\")\n",
    "    "
   ]
  },
  {
   "cell_type": "code",
   "execution_count": 6,
   "id": "c224dbf6",
   "metadata": {},
   "outputs": [
    {
     "name": "stdout",
     "output_type": "stream",
     "text": [
      "a = 1\n",
      "b = 2\n",
      "c = -1\n",
      "2 musbat 1 manfiy\n"
     ]
    }
   ],
   "source": [
    "# 5\n",
    "a = int(input(\"a = \"))\n",
    "b = int(input(\"b = \"))\n",
    "c = int(input(\"c = \"))\n",
    "j = 0\n",
    "i = 0\n",
    "if a>0:\n",
    "    j +=1\n",
    "else:\n",
    "    i +=1\n",
    "    \n",
    "if b >0:\n",
    "    j+=1\n",
    "else:\n",
    "    i +=1\n",
    "    \n",
    "if c > 0:\n",
    "    j += 1\n",
    "else:\n",
    "    i += 1\n",
    "print(j, \"musbat\", i ,\"manfiy\")\n"
   ]
  },
  {
   "cell_type": "code",
   "execution_count": 7,
   "id": "203ccb00",
   "metadata": {},
   "outputs": [
    {
     "name": "stdout",
     "output_type": "stream",
     "text": [
      "a = 3\n",
      "b = 4\n",
      "4\n"
     ]
    }
   ],
   "source": [
    "# 6\n",
    "a = int(input(\"a = \"))\n",
    "b = int(input(\"b = \"))\n",
    "if a > b:\n",
    "    print(a)\n",
    "else:\n",
    "    print(b)"
   ]
  },
  {
   "cell_type": "code",
   "execution_count": 8,
   "id": "5a161b7d",
   "metadata": {},
   "outputs": [
    {
     "name": "stdout",
     "output_type": "stream",
     "text": [
      "a = 3\n",
      "b = 2\n",
      "2\n"
     ]
    }
   ],
   "source": [
    "# 7 \n",
    "a = int(input(\"a = \"))\n",
    "b = int(input(\"b = \"))\n",
    "if a > b:\n",
    "    print(2)\n",
    "else:\n",
    "    print(1)"
   ]
  },
  {
   "cell_type": "code",
   "execution_count": 9,
   "id": "4ac1c3e1",
   "metadata": {},
   "outputs": [
    {
     "name": "stdout",
     "output_type": "stream",
     "text": [
      "a = 1\n",
      "b = 2\n",
      "2\n",
      "1\n"
     ]
    }
   ],
   "source": [
    "# 8\n",
    "a = int(input(\"a = \"))\n",
    "b = int(input(\"b = \"))\n",
    "if a > b:\n",
    "    print(a)\n",
    "    print(b)\n",
    "else:\n",
    "    print(b)\n",
    "    print(a)"
   ]
  },
  {
   "cell_type": "code",
   "execution_count": 10,
   "id": "b5b3d9ac",
   "metadata": {},
   "outputs": [
    {
     "name": "stdout",
     "output_type": "stream",
     "text": [
      "a = 3\n",
      "b = 2\n",
      "2.0 3.0\n"
     ]
    }
   ],
   "source": [
    "# 9\n",
    "a = float(input(\"a = \"))\n",
    "b = float(input(\"b = \"))\n",
    "if a > b:\n",
    "    a += b\n",
    "    b = a - b\n",
    "    a = a - b\n",
    "print(a, b)\n"
   ]
  },
  {
   "cell_type": "code",
   "execution_count": 11,
   "id": "1fb204a9",
   "metadata": {},
   "outputs": [
    {
     "name": "stdout",
     "output_type": "stream",
     "text": [
      "a = 2\n",
      "b = 3\n",
      "a =  0 b =  0\n"
     ]
    }
   ],
   "source": [
    "# 10\n",
    "a = int(input(\"a = \"))\n",
    "b = int(input(\"b = \"))\n",
    "if a == b:\n",
    "    a += b\n",
    "    b = a\n",
    "else:\n",
    "    a = 0\n",
    "    b = 0\n",
    "print(\"a = \", a , \"b = \", b)"
   ]
  },
  {
   "cell_type": "code",
   "execution_count": 12,
   "id": "4335019e",
   "metadata": {},
   "outputs": [
    {
     "name": "stdout",
     "output_type": "stream",
     "text": [
      "a = 3\n",
      "b = 3\n",
      "a =  0 b =  0\n"
     ]
    }
   ],
   "source": [
    "# 11\n",
    "a = int(input(\"a = \"))\n",
    "b = int(input(\"b = \"))\n",
    "if a == b:\n",
    "    a = 0\n",
    "    b = 0\n",
    "else:\n",
    "    if a > b:\n",
    "        b = a\n",
    "    else:\n",
    "        a = b\n",
    "print(\"a = \", a , \"b = \", b)"
   ]
  },
  {
   "cell_type": "code",
   "execution_count": 15,
   "id": "29e4d7cd",
   "metadata": {},
   "outputs": [
    {
     "name": "stdout",
     "output_type": "stream",
     "text": [
      "a = 2\n",
      "b = 1\n",
      "c = 3\n",
      "1\n"
     ]
    }
   ],
   "source": [
    "# 12\n",
    "a = int(input(\"a = \"))\n",
    "b = int(input(\"b = \"))\n",
    "c = int(input(\"c = \"))\n",
    "if a > b and a > c:\n",
    "    if b > c:\n",
    "        print(c)\n",
    "    else:\n",
    "        print(b)\n",
    "elif b > a and b > c:\n",
    "    if a > c:\n",
    "        print(c)\n",
    "    else:\n",
    "        print(a)\n",
    "elif c > a and c > b:\n",
    "    if (a > b):\n",
    "        print(b)\n",
    "    else:\n",
    "        print(a)"
   ]
  },
  {
   "cell_type": "code",
   "execution_count": 20,
   "id": "ca30169f",
   "metadata": {},
   "outputs": [
    {
     "name": "stdout",
     "output_type": "stream",
     "text": [
      "a = 3\n",
      "b = 1\n",
      "c = 2\n",
      "2\n"
     ]
    }
   ],
   "source": [
    "# 13\n",
    "a = int(input(\"a = \"))\n",
    "b = int(input(\"b = \"))\n",
    "c = int(input(\"c = \"))\n",
    "if a > b and a > c:\n",
    "    if b > c:\n",
    "        print(b)\n",
    "    else:\n",
    "        print(c)\n",
    "elif b > a and b > c:\n",
    "    if a > c:\n",
    "        print(a)\n",
    "    else:\n",
    "        print(c)\n",
    "elif c > a and c > b:\n",
    "    if a > b:\n",
    "        print(a)\n",
    "    else:\n",
    "        print(b)"
   ]
  },
  {
   "cell_type": "code",
   "execution_count": 22,
   "id": "51827aae",
   "metadata": {},
   "outputs": [
    {
     "name": "stdout",
     "output_type": "stream",
     "text": [
      "a = 3\n",
      "b = 2\n",
      "c = 1\n",
      "1\n",
      "3\n"
     ]
    }
   ],
   "source": [
    "# 14\n",
    "a = int(input(\"a = \"))\n",
    "b = int(input(\"b = \"))\n",
    "c = int(input(\"c = \"))\n",
    "if a > b and a > c:\n",
    "    if b > c:\n",
    "        print(c)\n",
    "        print(a)\n",
    "    else:\n",
    "        print(b)\n",
    "        print(a)\n",
    "elif b > a and b > c:\n",
    "    if a > c:\n",
    "        print(c)\n",
    "        print(b)\n",
    "    else:\n",
    "        print(a)\n",
    "        print(b)\n",
    "elif c > a and c > b:\n",
    "    if (a > b):\n",
    "        print(b)\n",
    "        print(c)\n",
    "    else:\n",
    "        print(a)\n",
    "        print(c)"
   ]
  },
  {
   "cell_type": "code",
   "execution_count": 26,
   "id": "8eda760b",
   "metadata": {},
   "outputs": [
    {
     "name": "stdout",
     "output_type": "stream",
     "text": [
      "a = 3\n",
      "b = 1\n",
      "c = 2\n",
      "3 2\n"
     ]
    }
   ],
   "source": [
    "# 15\n",
    "a = int(input(\"a = \"))\n",
    "b = int(input(\"b = \"))\n",
    "c = int(input(\"c = \"))\n",
    "if a + b > a + c and a + b > b + c:\n",
    "    print(a, b)\n",
    "elif a + c > a + b and a + c > b + c:\n",
    "    print(a, c)\n",
    "else:\n",
    "    print(b, c)"
   ]
  },
  {
   "cell_type": "code",
   "execution_count": 28,
   "id": "9fb85f2a",
   "metadata": {},
   "outputs": [
    {
     "name": "stdout",
     "output_type": "stream",
     "text": [
      "a = 3\n",
      "b = 2\n",
      "c = 1\n",
      "-3.0 -2.0 -1.0\n"
     ]
    }
   ],
   "source": [
    "# 16\n",
    "a = float(input(\"a = \"))\n",
    "b = float(input(\"b = \"))\n",
    "c = float(input(\"c = \"))\n",
    "if b > a and c > b:\n",
    "    a *= 2\n",
    "    b *= 2\n",
    "    c *= 2\n",
    "else:\n",
    "    a = -a\n",
    "    b = -b\n",
    "    c = -c\n",
    "print(a, b, c)"
   ]
  },
  {
   "cell_type": "code",
   "execution_count": 31,
   "id": "76eeb47e",
   "metadata": {},
   "outputs": [
    {
     "name": "stdout",
     "output_type": "stream",
     "text": [
      "a = 3\n",
      "b = 1\n",
      "c = 2\n",
      "-3.0 -1.0 -2.0\n"
     ]
    }
   ],
   "source": [
    "# 17\n",
    "a = float(input(\"a = \"))\n",
    "b = float(input(\"b = \"))\n",
    "c = float(input(\"c = \"))\n",
    "if (b > a and c > b) or (a > b and b > c) :\n",
    "    a *= 2\n",
    "    b *= 2\n",
    "    c *= 2\n",
    "else:\n",
    "    a = -a\n",
    "    b = -b\n",
    "    c = -c\n",
    "print(a, b, c)"
   ]
  },
  {
   "cell_type": "code",
   "execution_count": 34,
   "id": "7fd60629",
   "metadata": {},
   "outputs": [
    {
     "name": "stdout",
     "output_type": "stream",
     "text": [
      "a = 3\n",
      "b = 1\n",
      "c = 3\n",
      "2\n"
     ]
    }
   ],
   "source": [
    "# 18\n",
    "a = int(input(\"a = \"))\n",
    "b = int(input(\"b = \"))\n",
    "c = int(input(\"c = \"))\n",
    "if a == b:\n",
    "    print(3)\n",
    "elif (c == a):\n",
    "    print(2)\n",
    "elif(b == c):\n",
    "    print(1)\n",
    "else:\n",
    "    print(\"Sonlar teng emas\")"
   ]
  },
  {
   "cell_type": "code",
   "execution_count": 35,
   "id": "5dd39a8c",
   "metadata": {},
   "outputs": [
    {
     "name": "stdout",
     "output_type": "stream",
     "text": [
      "a = 12\n",
      "b = 13\n",
      "c = 1\n",
      "d = 2\n",
      "Sonlar teng emas\n"
     ]
    }
   ],
   "source": [
    "# 19\n",
    "a = int(input(\"a = \"))\n",
    "b = int(input(\"b = \"))\n",
    "c = int(input(\"c = \"))\n",
    "d = int(input(\"d = \"))\n",
    "if a == b and b == c:\n",
    "    print(4)\n",
    "elif b == c and c == d:\n",
    "    print(1)\n",
    "elif a == c and c == d:\n",
    "    print(2)\n",
    "elif a == d and d == b:\n",
    "    print(3)\n",
    "else:\n",
    "    print(\"Sonlar teng emas\")    "
   ]
  },
  {
   "cell_type": "code",
   "execution_count": 37,
   "id": "2ebcef3f",
   "metadata": {},
   "outputs": [
    {
     "name": "stdout",
     "output_type": "stream",
     "text": [
      "a = 1\n",
      "b = 4\n",
      "c = 2\n",
      "c nuqta  ac =  1\n"
     ]
    }
   ],
   "source": [
    "# 20\n",
    "a = int(input(\"a = \"))\n",
    "b = int(input(\"b = \"))\n",
    "c = int(input(\"c = \"))\n",
    "if abs(a - b) > abs(a - c):\n",
    "    print(\"c nuqta  ac = \", abs(a - c))\n",
    "else:\n",
    "    print(\"b nuqta ab = \", abs(a - b))"
   ]
  },
  {
   "cell_type": "code",
   "execution_count": 38,
   "id": "b248b090",
   "metadata": {},
   "outputs": [
    {
     "name": "stdout",
     "output_type": "stream",
     "text": [
      "x = 0\n",
      "y = 1\n",
      "1\n"
     ]
    }
   ],
   "source": [
    "# 21\n",
    "x = int(input(\"x = \"))\n",
    "y = int(input(\"y = \"))\n",
    "if x == 0 and y == 0:\n",
    "    print(0)\n",
    "elif x == 0 and y !=0:\n",
    "    print(1)\n",
    "elif x != 0 and y == 0:\n",
    "    print(2)\n",
    "else:\n",
    "    print(3)"
   ]
  },
  {
   "cell_type": "code",
   "execution_count": 39,
   "id": "69afa6c7",
   "metadata": {},
   "outputs": [
    {
     "name": "stdout",
     "output_type": "stream",
     "text": [
      "x = -2\n",
      "y = 3\n",
      "2\n"
     ]
    }
   ],
   "source": [
    "# 22\n",
    "x = int(input(\"x = \"))\n",
    "y = int(input(\"y = \"))\n",
    "if x > 0 and y > 0:\n",
    "    print(1)\n",
    "elif x < 0 and y > 0:\n",
    "    print(2)\n",
    "elif x < 0 and y < 0:\n",
    "    print(3)\n",
    "elif x > 0 and y < 0:\n",
    "    print(4)"
   ]
  },
  {
   "cell_type": "code",
   "execution_count": 3,
   "id": "78f125c3",
   "metadata": {},
   "outputs": [
    {
     "name": "stdout",
     "output_type": "stream",
     "text": [
      "x1 = 5\n",
      "y1 = -4\n",
      "x2 = 5\n",
      "y2 = 5\n",
      "x3 = -4\n",
      "y3 = 5\n",
      "x4 =  -4 y4 =  -4\n"
     ]
    }
   ],
   "source": [
    "# 23\n",
    "x1 = int(input(\"x1 = \"))\n",
    "y1 = int(input(\"y1 = \"))\n",
    "x2 = int(input(\"x2 = \"))\n",
    "y2 = int(input(\"y2 = \"))\n",
    "x3 = int(input(\"x3 = \"))\n",
    "y3 = int(input(\"y3 = \"))\n",
    "if y1==y2 and x2==x3:\n",
    "    y4 = y3 \n",
    "    x4 = x1\n",
    "elif x2 == x3 and y3==y1:\n",
    "    x4 = x2\n",
    "    y4 = y1\n",
    "elif y2 == y1 and x1 == x3:\n",
    "    x4 = x2\n",
    "    y4 = y3\n",
    "elif y2==y3 and x2 == x1:\n",
    "    x4 = x3\n",
    "    y4 = y1\n",
    "print(\"x4 = \", x4, \"y4 = \", y4)"
   ]
  },
  {
   "cell_type": "code",
   "execution_count": 40,
   "id": "f9166594",
   "metadata": {},
   "outputs": [
    {
     "name": "stdout",
     "output_type": "stream",
     "text": [
      "x = 5\n",
      "-1.917848549326277\n"
     ]
    }
   ],
   "source": [
    "# 24\n",
    "from math import *\n",
    "x = int(input(\"x = \"))\n",
    "if x > 0:\n",
    "    print(2 * sin(x))\n",
    "else:\n",
    "    print(x - 6)"
   ]
  },
  {
   "cell_type": "code",
   "execution_count": 41,
   "id": "4d111e5f",
   "metadata": {},
   "outputs": [
    {
     "name": "stdout",
     "output_type": "stream",
     "text": [
      "x = 1\n",
      "-3\n"
     ]
    }
   ],
   "source": [
    "# 25\n",
    "x = int(input(\"x = \"))\n",
    "if x < -2 and x > 2:\n",
    "    print(2 * x)\n",
    "else:\n",
    "    print(-3 * x)"
   ]
  },
  {
   "cell_type": "code",
   "execution_count": 42,
   "id": "006f656f",
   "metadata": {},
   "outputs": [
    {
     "name": "stdout",
     "output_type": "stream",
     "text": [
      "x = 1\n",
      "1\n"
     ]
    }
   ],
   "source": [
    "# 26\n",
    "x = int(input(\"x = \"))\n",
    "if x >= 2:\n",
    "    print(4)\n",
    "elif x > 0 and x < 2:\n",
    "    print(x ** 2)\n",
    "elif X <= 0:\n",
    "    print(-x)"
   ]
  },
  {
   "cell_type": "code",
   "execution_count": 10,
   "id": "0775f41f",
   "metadata": {},
   "outputs": [
    {
     "name": "stdout",
     "output_type": "stream",
     "text": [
      "x = 5.5\n",
      "5.0\n",
      "-1\n"
     ]
    }
   ],
   "source": [
    "# 27\n",
    "x = float(input(\"x = \"))\n",
    "x //= 1\n",
    "print(x)\n",
    "if x < 0:\n",
    "    print(0)\n",
    "elif x % 2 == 0 or x == 0:\n",
    "    print(1)\n",
    "else:\n",
    "    print(-1)"
   ]
  },
  {
   "cell_type": "code",
   "execution_count": 4,
   "id": "62177d24",
   "metadata": {},
   "outputs": [
    {
     "ename": "KeyboardInterrupt",
     "evalue": "Interrupted by user",
     "output_type": "error",
     "traceback": [
      "\u001b[1;31m---------------------------------------------------------------------------\u001b[0m",
      "\u001b[1;31mKeyboardInterrupt\u001b[0m                         Traceback (most recent call last)",
      "\u001b[1;32m<ipython-input-4-0dab48e9a094>\u001b[0m in \u001b[0;36m<module>\u001b[1;34m\u001b[0m\n\u001b[0;32m      1\u001b[0m \u001b[1;31m# 28\u001b[0m\u001b[1;33m\u001b[0m\u001b[1;33m\u001b[0m\u001b[1;33m\u001b[0m\u001b[0m\n\u001b[1;32m----> 2\u001b[1;33m \u001b[0myil\u001b[0m \u001b[1;33m=\u001b[0m \u001b[0mint\u001b[0m\u001b[1;33m(\u001b[0m\u001b[0minput\u001b[0m\u001b[1;33m(\u001b[0m\u001b[1;34m\"yil = \"\u001b[0m\u001b[1;33m)\u001b[0m\u001b[1;33m)\u001b[0m\u001b[1;33m\u001b[0m\u001b[1;33m\u001b[0m\u001b[0m\n\u001b[0m\u001b[0;32m      3\u001b[0m \u001b[1;32mif\u001b[0m \u001b[1;33m(\u001b[0m\u001b[0myil\u001b[0m \u001b[1;33m%\u001b[0m \u001b[1;36m4\u001b[0m \u001b[1;33m==\u001b[0m \u001b[1;36m0\u001b[0m \u001b[1;32mand\u001b[0m \u001b[0myil\u001b[0m \u001b[1;33m%\u001b[0m \u001b[1;36m100\u001b[0m \u001b[1;33m!=\u001b[0m \u001b[1;36m0\u001b[0m\u001b[1;33m)\u001b[0m \u001b[1;32mor\u001b[0m \u001b[1;33m(\u001b[0m\u001b[0myil\u001b[0m \u001b[1;33m%\u001b[0m \u001b[1;36m100\u001b[0m \u001b[1;33m==\u001b[0m \u001b[1;36m0\u001b[0m \u001b[1;32mand\u001b[0m \u001b[0myil\u001b[0m \u001b[1;33m%\u001b[0m \u001b[1;36m400\u001b[0m \u001b[1;33m==\u001b[0m\u001b[1;36m0\u001b[0m \u001b[1;33m)\u001b[0m\u001b[1;33m:\u001b[0m\u001b[1;33m\u001b[0m\u001b[1;33m\u001b[0m\u001b[0m\n\u001b[0;32m      4\u001b[0m     \u001b[0mprint\u001b[0m\u001b[1;33m(\u001b[0m\u001b[1;36m366\u001b[0m\u001b[1;33m)\u001b[0m\u001b[1;33m\u001b[0m\u001b[1;33m\u001b[0m\u001b[0m\n\u001b[0;32m      5\u001b[0m \u001b[1;32melse\u001b[0m\u001b[1;33m:\u001b[0m\u001b[1;33m\u001b[0m\u001b[1;33m\u001b[0m\u001b[0m\n",
      "\u001b[1;32m~\\anaconda3\\lib\\site-packages\\ipykernel\\kernelbase.py\u001b[0m in \u001b[0;36mraw_input\u001b[1;34m(self, prompt)\u001b[0m\n\u001b[0;32m    858\u001b[0m                 \u001b[1;34m\"raw_input was called, but this frontend does not support input requests.\"\u001b[0m\u001b[1;33m\u001b[0m\u001b[1;33m\u001b[0m\u001b[0m\n\u001b[0;32m    859\u001b[0m             )\n\u001b[1;32m--> 860\u001b[1;33m         return self._input_request(str(prompt),\n\u001b[0m\u001b[0;32m    861\u001b[0m             \u001b[0mself\u001b[0m\u001b[1;33m.\u001b[0m\u001b[0m_parent_ident\u001b[0m\u001b[1;33m,\u001b[0m\u001b[1;33m\u001b[0m\u001b[1;33m\u001b[0m\u001b[0m\n\u001b[0;32m    862\u001b[0m             \u001b[0mself\u001b[0m\u001b[1;33m.\u001b[0m\u001b[0m_parent_header\u001b[0m\u001b[1;33m,\u001b[0m\u001b[1;33m\u001b[0m\u001b[1;33m\u001b[0m\u001b[0m\n",
      "\u001b[1;32m~\\anaconda3\\lib\\site-packages\\ipykernel\\kernelbase.py\u001b[0m in \u001b[0;36m_input_request\u001b[1;34m(self, prompt, ident, parent, password)\u001b[0m\n\u001b[0;32m    902\u001b[0m             \u001b[1;32mexcept\u001b[0m \u001b[0mKeyboardInterrupt\u001b[0m\u001b[1;33m:\u001b[0m\u001b[1;33m\u001b[0m\u001b[1;33m\u001b[0m\u001b[0m\n\u001b[0;32m    903\u001b[0m                 \u001b[1;31m# re-raise KeyboardInterrupt, to truncate traceback\u001b[0m\u001b[1;33m\u001b[0m\u001b[1;33m\u001b[0m\u001b[1;33m\u001b[0m\u001b[0m\n\u001b[1;32m--> 904\u001b[1;33m                 \u001b[1;32mraise\u001b[0m \u001b[0mKeyboardInterrupt\u001b[0m\u001b[1;33m(\u001b[0m\u001b[1;34m\"Interrupted by user\"\u001b[0m\u001b[1;33m)\u001b[0m \u001b[1;32mfrom\u001b[0m \u001b[1;32mNone\u001b[0m\u001b[1;33m\u001b[0m\u001b[1;33m\u001b[0m\u001b[0m\n\u001b[0m\u001b[0;32m    905\u001b[0m             \u001b[1;32mexcept\u001b[0m \u001b[0mException\u001b[0m \u001b[1;32mas\u001b[0m \u001b[0me\u001b[0m\u001b[1;33m:\u001b[0m\u001b[1;33m\u001b[0m\u001b[1;33m\u001b[0m\u001b[0m\n\u001b[0;32m    906\u001b[0m                 \u001b[0mself\u001b[0m\u001b[1;33m.\u001b[0m\u001b[0mlog\u001b[0m\u001b[1;33m.\u001b[0m\u001b[0mwarning\u001b[0m\u001b[1;33m(\u001b[0m\u001b[1;34m\"Invalid Message:\"\u001b[0m\u001b[1;33m,\u001b[0m \u001b[0mexc_info\u001b[0m\u001b[1;33m=\u001b[0m\u001b[1;32mTrue\u001b[0m\u001b[1;33m)\u001b[0m\u001b[1;33m\u001b[0m\u001b[1;33m\u001b[0m\u001b[0m\n",
      "\u001b[1;31mKeyboardInterrupt\u001b[0m: Interrupted by user"
     ]
    }
   ],
   "source": [
    "# 28\n",
    "yil = int(input(\"yil = \"))\n",
    "if (yil % 4 == 0 and yil % 100 != 0) or (yil % 100 == 0 and yil % 400 ==0 ):\n",
    "    print(366)\n",
    "else:\n",
    "    print(365)\n",
    "    "
   ]
  },
  {
   "cell_type": "code",
   "execution_count": 48,
   "id": "1e049b2c",
   "metadata": {},
   "outputs": [
    {
     "name": "stdout",
     "output_type": "stream",
     "text": [
      "n = 2\n",
      "musbat\n",
      "juft son\n"
     ]
    }
   ],
   "source": [
    "# 29\n",
    "n = int(input(\"n = \"))\n",
    "if n > 0:\n",
    "    print(\"musbat\")\n",
    "    if n % 2 == 0 :\n",
    "        print(\"juft son\")\n",
    "    else:\n",
    "        print(\"toq son\")\n",
    "elif n < 0:\n",
    "    print(\"manfiy\")\n",
    "    if n % 2 == 0 :\n",
    "        print(\"juft son\")\n",
    "    else:\n",
    "        print(\"toq son\")\n",
    "else:\n",
    "    print(0)"
   ]
  },
  {
   "cell_type": "code",
   "execution_count": 50,
   "id": "d3ba080f",
   "metadata": {},
   "outputs": [
    {
     "name": "stdout",
     "output_type": "stream",
     "text": [
      "n = 123\n",
      "uch xonali\n",
      "musbat\n",
      "toq son\n"
     ]
    }
   ],
   "source": [
    "# 30 \n",
    "n = int(input(\"n = \"))\n",
    "if n >99 and n < 1000:\n",
    "    print(\"uch xonali\")\n",
    "elif n > 10 and n < 100:\n",
    "    print(\"ikki xonali\")\n",
    "else:\n",
    "    print(\"bir xonali\")\n",
    "if n > 0:\n",
    "    print(\"musbat\")\n",
    "    if n % 2 == 0 :\n",
    "        print(\"juft son\")\n",
    "    else:\n",
    "        print(\"toq son\")\n",
    "elif n < 0:\n",
    "    print(\"manfiy\")\n",
    "    if n % 2 == 0 :\n",
    "        print(\"juft son\")\n",
    "    else:\n",
    "        print(\"toq son\")"
   ]
  },
  {
   "cell_type": "code",
   "execution_count": 7,
   "id": "f1e0cf39",
   "metadata": {},
   "outputs": [
    {
     "name": "stdout",
     "output_type": "stream",
     "text": [
      "90\n",
      "toqson\n",
      "\n"
     ]
    }
   ],
   "source": [
    "# 31\n",
    "n = int(input())\n",
    "if n // 10 == 1:\n",
    "    print(\"on\")\n",
    "elif n // 10 == 2:\n",
    "    print(\"yigirma\")\n",
    "elif n // 10 == 3:\n",
    "    print(\"ottiz\")\n",
    "elif n // 10 == 4:\n",
    "    print(\"qirq\")\n",
    "elif n // 10 ==5:\n",
    "    print(\"ellik\")\n",
    "elif n // 10 ==6:\n",
    "    print(\"oltmush\")\n",
    "elif n // 10 ==7:\n",
    "    print(\"yetmush\")\n",
    "elif n // 10 == 8:\n",
    "    print(\"sakson\")\n",
    "elif n // 10 == 9:\n",
    "    print(\"toqson\")\n",
    "else:\n",
    "    print(\"\")\n",
    "\n",
    "if n % 10 == 1:\n",
    "    print(\"bir\")\n",
    "elif n % 10 == 2:\n",
    "    print(\"ikki\")\n",
    "elif n % 10 == 3:\n",
    "    print(\"uch\")\n",
    "elif n % 10 == 4:\n",
    "    print(\"to'rt\")\n",
    "elif n % 10 ==5:\n",
    "    print(\"besh\")\n",
    "elif n % 10 ==6:\n",
    "    print(\"olti\")\n",
    "elif n % 10 ==7:\n",
    "    print(\"7\")\n",
    "elif n % 10 == 8:\n",
    "    print(\"sakkiz\")\n",
    "elif n % 10 == 9:\n",
    "    print(\"toqqiz\")\n",
    "else:\n",
    "    print(\"\")"
   ]
  },
  {
   "cell_type": "code",
   "execution_count": null,
   "id": "4a0da95a",
   "metadata": {},
   "outputs": [],
   "source": []
  }
 ],
 "metadata": {
  "kernelspec": {
   "display_name": "Python 3 (ipykernel)",
   "language": "python",
   "name": "python3"
  },
  "language_info": {
   "codemirror_mode": {
    "name": "ipython",
    "version": 3
   },
   "file_extension": ".py",
   "mimetype": "text/x-python",
   "name": "python",
   "nbconvert_exporter": "python",
   "pygments_lexer": "ipython3",
   "version": "3.9.7"
  }
 },
 "nbformat": 4,
 "nbformat_minor": 5
}
