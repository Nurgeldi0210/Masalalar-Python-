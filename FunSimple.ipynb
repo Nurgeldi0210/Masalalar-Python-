{
 "cells": [
  {
   "cell_type": "code",
   "execution_count": 6,
   "id": "b20a3a07",
   "metadata": {},
   "outputs": [
    {
     "name": "stdout",
     "output_type": "stream",
     "text": [
      "1\n",
      "2\n",
      "3\n",
      "4.2\n",
      "5.3\n",
      "1.0\n",
      "8.0\n",
      "27.0\n",
      "74.08800000000001\n",
      "148.87699999999998\n"
     ]
    }
   ],
   "source": [
    "# 1\n",
    "from math import *\n",
    "def PowerA3(n):\n",
    "    retrun n**3\n",
    "a = int(input(\"a = \"))\n",
    "b = int(input(\"b = \"))\n",
    "c = int(input(\"c = \"))\n",
    "d = float(input(\"d = \"))\n",
    "e = float(input(\"e = \"))\n",
    "PowerA3(a)\n",
    "PowerA3(b)\n",
    "PowerA3(c)\n",
    "PowerA3(d)\n",
    "PowerA3(e)"
   ]
  },
  {
   "cell_type": "code",
   "execution_count": 10,
   "id": "af0d95f9",
   "metadata": {},
   "outputs": [
    {
     "name": "stdout",
     "output_type": "stream",
     "text": [
      "3\n",
      "4\n",
      "5.6\n",
      "9\n",
      "27\n",
      "81\n",
      "16\n",
      "64\n",
      "256\n",
      "31.359999999999996\n",
      "175.61599999999996\n",
      "983.4495999999998\n"
     ]
    }
   ],
   "source": [
    "# 2\n",
    "def PowerA234(n, m, k):\n",
    "    print(n**2, n**3, n**4, sep=\"\\n\")\n",
    "    print(m**2, m**3, m**4, sep=\"\\n\")\n",
    "    print(k**2, k**3, k**4, sep=\"\\n\")\n",
    "a = int(input(\"a = \"))\n",
    "b = int(input(\"b = \"))\n",
    "c = float(input(\"c = \"))\n",
    "PowerA234(a, b, c)"
   ]
  },
  {
   "cell_type": "code",
   "execution_count": 11,
   "id": "591c5d96",
   "metadata": {},
   "outputs": [
    {
     "name": "stdout",
     "output_type": "stream",
     "text": [
      "4\n",
      "5\n",
      "O'rta arifmetrigi :  4.5 \n",
      " O'rta geometrigi :  4.47213595499958\n"
     ]
    }
   ],
   "source": [
    "# 3\n",
    "def MEAN(a, b):\n",
    "    print(\"O'rta arifmetrigi : \", (a + b) / 2, \"\\n\", \"O'rta geometrigi : \", (a * b)**(1/2))\n",
    "\n",
    "a = int(input())\n",
    "b = int(input())\n",
    "MEAN(a, b)"
   ]
  },
  {
   "cell_type": "code",
   "execution_count": 12,
   "id": "a6288799",
   "metadata": {},
   "outputs": [
    {
     "name": "stdout",
     "output_type": "stream",
     "text": [
      "4\n",
      "P =  12 \n",
      " S =  6.928203230275509\n"
     ]
    }
   ],
   "source": [
    "# 4\n",
    "def Triangle(a):\n",
    "    print(\"P = \", a * 3, \"\\nS = \", (a ** 2 * 3 ** (0.5))/4 )\n",
    "    \n",
    "a = int(input())\n",
    "Triangle(a)"
   ]
  },
  {
   "cell_type": "code",
   "execution_count": 13,
   "id": "49fd98c4",
   "metadata": {},
   "outputs": [
    {
     "name": "stdout",
     "output_type": "stream",
     "text": [
      "5\n",
      "4\n",
      "2\n",
      "1\n",
      "P =  12 \n",
      "S =  9\n"
     ]
    }
   ],
   "source": [
    "# 5\n",
    "def RectPS(x1, y1, x2, y2):\n",
    "    a = abs(x1 - x2)\n",
    "    b = abs(y1 - y2)\n",
    "    P = 2 * (a + b)\n",
    "    S = a * b\n",
    "    return P, S\n",
    "    \n",
    "x1 = int(input(\"x1 = \"))\n",
    "y1 = int(input(\"y1 = \"))\n",
    "x2 = int(input(\"x2 = \"))\n",
    "y2 = int(input(\"y2 = \"))\n",
    "\n",
    "print(RectPS(x1, y1, x2, y2))"
   ]
  },
  {
   "cell_type": "code",
   "execution_count": 15,
   "id": "a8cae978",
   "metadata": {},
   "outputs": [
    {
     "name": "stdout",
     "output_type": "stream",
     "text": [
      "1234567890\n",
      "raqamlar soni =  10 \n",
      "Raqamlar yig'indis =  45\n"
     ]
    }
   ],
   "source": [
    "# 6\n",
    "def DigitCountSum(n):\n",
    "    j = 0\n",
    "    S = 0\n",
    "    while(n > 0):\n",
    "        S += n % 10\n",
    "        n //= 10\n",
    "        j += 1\n",
    "    print(\"raqamlar soni = \", j, \"\\nRaqamlar yig'indis = \", S )\n",
    "a = int(input())\n",
    "DigitCountSum(a)\n"
   ]
  },
  {
   "cell_type": "code",
   "execution_count": 37,
   "id": "5b7f51c6",
   "metadata": {},
   "outputs": [
    {
     "name": "stdout",
     "output_type": "stream",
     "text": [
      "918273645\n",
      "546372819\n"
     ]
    }
   ],
   "source": [
    "# 7\n",
    "def InvertDigit(n):\n",
    "    a = n\n",
    "    j = 0\n",
    "    while(a > 0):\n",
    "        a //= 10\n",
    "        j += 1\n",
    "    a = 0\n",
    "   \n",
    "    for i in range(j, 0, -1):\n",
    "        a += (n % 10) * 10**(i - 1)\n",
    "        n //= 10\n",
    "      \n",
    "        \n",
    "    return a\n",
    "    \n",
    "n = int(input())\n",
    "InvertDigit(n)"
   ]
  },
  {
   "cell_type": "code",
   "execution_count": 38,
   "id": "63e25797",
   "metadata": {},
   "outputs": [
    {
     "name": "stdout",
     "output_type": "stream",
     "text": [
      "12345\n",
      "6\n",
      "123456\n"
     ]
    }
   ],
   "source": [
    "# 8\n",
    "def AddRightDigit(k, r):\n",
    "    k = k * 10 + r\n",
    "    return k\n",
    "k = int(input())\n",
    "r = int(input())\n",
    "AddRightDigit(k, r)"
   ]
  },
  {
   "cell_type": "code",
   "execution_count": 39,
   "id": "8943616a",
   "metadata": {},
   "outputs": [
    {
     "name": "stdout",
     "output_type": "stream",
     "text": [
      "k = 123\n",
      "r = 7\n",
      "7123\n",
      "7123\n",
      "7123\n"
     ]
    }
   ],
   "source": [
    "# 9 \n",
    "from math import log10\n",
    "def AddLeftDigit1(k, r):\n",
    "    k = r * 10 ** len(str(k)) + k\n",
    "    return k\n",
    "    \n",
    "def AddLeftDigit2(k, r):\n",
    "    a = k\n",
    "    j = 0\n",
    "    while(a > 0):\n",
    "        a //= 10\n",
    "        j += 1\n",
    "    k = r * 10 ** j + k\n",
    "    return k\n",
    "def AddLeftDigit3(k, r):\n",
    "    l = log10(k)\n",
    "    r = r* 10 ** int(l + 1)\n",
    "    r += k\n",
    "    return r\n",
    "k = int(input(\"k = \"))\n",
    "r = int(input(\"r = \"))\n",
    "print(AddLeftDigit1(k, r))\n",
    "print(AddLeftDigit2(k, r))\n",
    "print(AddLeftDigit3(k, r))"
   ]
  },
  {
   "cell_type": "code",
   "execution_count": 47,
   "id": "3cd10d82",
   "metadata": {},
   "outputs": [
    {
     "name": "stdout",
     "output_type": "stream",
     "text": [
      "a = 1\n",
      "b = 2\n",
      "c = 3\n",
      "d = 4\n",
      "2 1\n",
      "4 3\n",
      "2\n",
      "1\n",
      "4\n",
      "3\n"
     ]
    }
   ],
   "source": [
    "# 10\n",
    "def Swap(a,  b):\n",
    "    a = a + b\n",
    "    b = a - b\n",
    "    a = a - b\n",
    "    return a, b\n",
    "        \n",
    "a = int(input(\"a = \"))\n",
    "b = int(input(\"b = \"))\n",
    "c = int(input(\"c = \"))\n",
    "d = int(input(\"d = \"))\n",
    "a, b = Swap(a, b)\n",
    "c, d = Swap(c, d)\n",
    "print(a, b, c, d, sep = \"\\n\")"
   ]
  },
  {
   "cell_type": "code",
   "execution_count": 41,
   "id": "144e720f",
   "metadata": {},
   "outputs": [
    {
     "name": "stdout",
     "output_type": "stream",
     "text": [
      "x = 4\n",
      "y = 5\n",
      "x =  4 y =  5\n",
      "a = 5\n",
      "b = 4\n",
      "a =  4 b =  5\n"
     ]
    }
   ],
   "source": [
    "# 11\n",
    "def Minmax(x, y):\n",
    "    if(x > y):\n",
    "        x = x + y\n",
    "        y = x - y\n",
    "        x = x - y\n",
    "    return x, y\n",
    "\n",
    "x = int(input(\"x = \"))\n",
    "y = int(input('y = '))\n",
    "x, y = Minmax(x, y)\n",
    "print(\"x = \", x, \"y = \", y)\n",
    "a = int(input(\"a = \"))\n",
    "b = int(input('b = '))\n",
    "x, y = Minmax(x, y)\n",
    "print(\"a = \", x, \"b = \", y)"
   ]
  },
  {
   "cell_type": "code",
   "execution_count": 49,
   "id": "85243071",
   "metadata": {},
   "outputs": [
    {
     "name": "stdout",
     "output_type": "stream",
     "text": [
      "2\n",
      "1\n",
      "3\n",
      "3\n",
      "2\n",
      "1\n"
     ]
    }
   ],
   "source": [
    "# 12\n",
    "def SortInc3(a, b, c):\n",
    "    if c > b > a and c != a:\n",
    "        d = a; a = c; c = d\n",
    "    elif a > c > b and a != b:\n",
    "        d = b; c = b; b = d\n",
    "    elif b > c > a and   b != a:\n",
    "        d = a; a = b\n",
    "        b = c; c = d\n",
    "    elif b > a:\n",
    "        d = a; a = b; b = d\n",
    "    elif c > a > b and c != b:\n",
    "        d = b; b = a; a = c; c = d\n",
    "    return a, b, c\n",
    "a = int(input())\n",
    "b = int(input())\n",
    "c = int(input())\n",
    "a, b, c = SortInc3(a, b, c)\n",
    "print(a, b, c, sep = \"\\n\")"
   ]
  },
  {
   "cell_type": "code",
   "execution_count": 58,
   "id": "9be37fd9",
   "metadata": {},
   "outputs": [
    {
     "name": "stdout",
     "output_type": "stream",
     "text": [
      "4\n",
      "5\n",
      "3\n",
      "5\n",
      "4\n",
      "3\n"
     ]
    }
   ],
   "source": [
    "# 13\n",
    "def SortInc3(a, b, c):\n",
    "    d = a + b + c\n",
    "    c = min(a, b, c)\n",
    "    a = max(a, b, c)\n",
    "    b = d - a - c\n",
    "    return a, b, c\n",
    "a = int(input())\n",
    "b = int(input())\n",
    "c = int(input())\n",
    "a, b, c = SortInc3(a, b, c)\n",
    "print(a, b, c, sep = \"\\n\")"
   ]
  },
  {
   "cell_type": "code",
   "execution_count": 69,
   "id": "d41d0837",
   "metadata": {},
   "outputs": [
    {
     "name": "stdout",
     "output_type": "stream",
     "text": [
      "1\n",
      "2\n",
      "3\n",
      "3 1 2\n"
     ]
    }
   ],
   "source": [
    "# 14 \n",
    "def ShiftRight3(a, b, c):\n",
    "    e = b\n",
    "    b = a\n",
    "    a = c\n",
    "    c = e\n",
    "    return a, b, c\n",
    "\n",
    "a = int(input())\n",
    "b = int(input())\n",
    "c = int(input())\n",
    "a, b, c = ShiftRight3(a, b, c)\n",
    "print(a, b, c, sep = \" \")\n",
    "    "
   ]
  },
  {
   "cell_type": "code",
   "execution_count": 68,
   "id": "d6d6acec",
   "metadata": {},
   "outputs": [
    {
     "name": "stdout",
     "output_type": "stream",
     "text": [
      "1\n",
      "2\n",
      "3\n",
      "3 1 2\n"
     ]
    }
   ],
   "source": [
    "# 15 \n",
    "def ShiftLift3(a, b, c):\n",
    "    e = b\n",
    "    b = c\n",
    "    c = a\n",
    "    a = e\n",
    "    \n",
    "    return a, b, c\n",
    "\n",
    "a = int(input())\n",
    "b = int(input())\n",
    "c = int(input())\n",
    "a, b, c = SiftRight3(a, b, c)\n",
    "print(a, b, c, sep = \" \")\n",
    "    "
   ]
  },
  {
   "cell_type": "code",
   "execution_count": 51,
   "id": "c021c517",
   "metadata": {},
   "outputs": [
    {
     "name": "stdout",
     "output_type": "stream",
     "text": [
      "a = 5\n",
      "b = 0\n",
      "1\n"
     ]
    }
   ],
   "source": [
    " # 16\n",
    "def ishora(n):\n",
    "    if n < 0:\n",
    "        return -1\n",
    "    elif n == 0:\n",
    "        return 0\n",
    "    else:\n",
    "        return 1\n",
    "        \n",
    "a = float(input(\"a = \"))\n",
    "a = ishora(a)\n",
    "b = float(input(\"b = \"))\n",
    "b = ishora(b)\n",
    "print(a+b)"
   ]
  },
  {
   "cell_type": "code",
   "execution_count": 79,
   "id": "3988634c",
   "metadata": {},
   "outputs": [
    {
     "name": "stdout",
     "output_type": "stream",
     "text": [
      "1\n",
      "2\n",
      "-3\n",
      "2\n"
     ]
    }
   ],
   "source": [
    "# 17\n",
    "def ildizlar_soni(a, b, c):\n",
    "    d = b ** 2 - 4 * a * c\n",
    "    if d > 0:\n",
    "        d = 2\n",
    "    elif d == 0:\n",
    "        d = 1\n",
    "    else:\n",
    "        d = \"Haqiqiy yechimi yo'q\"\n",
    "    return d\n",
    "        \n",
    "a = int(input())\n",
    "b = int(input())\n",
    "c = int(input())\n",
    "\n",
    "d = ildizlar_soni(a, b, c)\n",
    "print(d)\n",
    "        "
   ]
  },
  {
   "cell_type": "code",
   "execution_count": 1,
   "id": "ba505f58",
   "metadata": {},
   "outputs": [
    {
     "name": "stdout",
     "output_type": "stream",
     "text": [
      "r = 2\n",
      "12.566\n"
     ]
    }
   ],
   "source": [
    "# 18\n",
    "def doira_yuzi(r):\n",
    "    pi = float(3.1415)\n",
    "    return r**2 * pi\n",
    "\n",
    "r = float(input(\"r = \"))\n",
    "S = doira_yuzi(r)\n",
    "print(S)"
   ]
  },
  {
   "cell_type": "code",
   "execution_count": 2,
   "id": "e6d6c15b",
   "metadata": {},
   "outputs": [
    {
     "name": "stdout",
     "output_type": "stream",
     "text": [
      "r1 = 3\n",
      "r2 = 5\n",
      "dS =  12.566\n"
     ]
    }
   ],
   "source": [
    "# 19\n",
    "def RingS(r1, r2):\n",
    "    pi = float(3.1415)\n",
    "    return pi* (r1 - r2) ** 2\n",
    "r1 = float(input(\"r1 = \"))\n",
    "r2 = float(input(\"r2 = \"))\n",
    "dS = RingS(r1, r2)\n",
    "print(\"dS = \", dS)"
   ]
  },
  {
   "cell_type": "code",
   "execution_count": 3,
   "id": "c0f0e38d",
   "metadata": {},
   "outputs": [
    {
     "name": "stdout",
     "output_type": "stream",
     "text": [
      "4\n",
      "5\n",
      "P =  18\n"
     ]
    }
   ],
   "source": [
    "# 20\n",
    "def TriangleP(a, b):\n",
    "    return 2 * (a + b)\n",
    "a = int(input())\n",
    "b = int(input())\n",
    "P = TriangleP(a, b)\n",
    "print(\"P = \", P)"
   ]
  },
  {
   "cell_type": "code",
   "execution_count": 7,
   "id": "06aa38be",
   "metadata": {},
   "outputs": [
    {
     "name": "stdout",
     "output_type": "stream",
     "text": [
      "45 \n",
      " 45\n"
     ]
    }
   ],
   "source": [
    "# 21\n",
    "def SumRange1(a, b):\n",
    "    if b > a:\n",
    "        return sum(list(range(a, b)))\n",
    "    else:\n",
    "        return 0\n",
    "\n",
    "def SumRange2(a, b):\n",
    "    if b > a:\n",
    "        S = 0\n",
    "        for i in range(a,b):\n",
    "            S += i\n",
    "        return S\n",
    "    else:\n",
    "        return 0\n",
    "\n",
    "S1 = SumRange1(1, 10)\n",
    "S2 = SumRange2(1, 10)\n",
    "print(S1, \"\\n\", S2)"
   ]
  },
  {
   "cell_type": "code",
   "execution_count": 10,
   "id": "8fc282ea",
   "metadata": {},
   "outputs": [
    {
     "name": "stdout",
     "output_type": "stream",
     "text": [
      "a = 100\n",
      "b = 10\n",
      "Amal kiriting : +\n",
      "110\n"
     ]
    }
   ],
   "source": [
    "# 22\n",
    "def Calc(a, b, op):\n",
    "    if (str(op) == \"+\"):\n",
    "        return a + b\n",
    "    elif(str(op) == \"-\"):\n",
    "        return a - b\n",
    "    elif(str(op) == \"/\"):\n",
    "        return a / b\n",
    "    elif(str(op) == \"*\"):\n",
    "        return a * b\n",
    "    else:\n",
    "        return \"Bunday amal yo'q\"\n",
    "    \n",
    "a = int(input(\"a = \"))\n",
    "b = int(input(\"b = \"))\n",
    "c = str(input(\"Amal kiriting : \"))\n",
    "a = Calc(a, b, c)\n",
    "print(a)"
   ]
  },
  {
   "cell_type": "code",
   "execution_count": 11,
   "id": "00c38a1f",
   "metadata": {},
   "outputs": [
    {
     "name": "stdout",
     "output_type": "stream",
     "text": [
      "Chiziqlar ustida\n"
     ]
    }
   ],
   "source": [
    "# 23\n",
    "def Quarter(x, y):\n",
    "    if (x > 0 and y > 0):\n",
    "        return 1\n",
    "    elif(x < 0 and y < 0 ):\n",
    "        return 3\n",
    "    elif(x > 0 and y < 0):\n",
    "        return 4\n",
    "    elif(x < 0 and y > 0):\n",
    "        return 2\n",
    "    else:\n",
    "        return \"Chiziqlar ustida\"\n",
    "    \n",
    "a = Quarter(5,0)\n",
    "print(a)"
   ]
  },
  {
   "cell_type": "code",
   "execution_count": 12,
   "id": "23cfdd01",
   "metadata": {},
   "outputs": [
    {
     "name": "stdout",
     "output_type": "stream",
     "text": [
      "n = 5\n",
      "Toq\n"
     ]
    }
   ],
   "source": [
    "# 24\n",
    "def Even(n):\n",
    "    if n % 2 == 0:\n",
    "        return \"Juft\"\n",
    "    else:\n",
    "        return \"Toq\"\n",
    "n = int(input(\"n = \"))\n",
    "print(Even(n))"
   ]
  },
  {
   "cell_type": "code",
   "execution_count": 49,
   "id": "51789402",
   "metadata": {},
   "outputs": [
    {
     "name": "stdout",
     "output_type": "stream",
     "text": [
      "81\n",
      "True\n"
     ]
    }
   ],
   "source": [
    "# 25\n",
    "def isSquare(n):\n",
    "    n = int(n)\n",
    "    if n**(1/2) - int(n**(1/2)) == 0:\n",
    "        return True\n",
    "    else:\n",
    "        return False\n",
    "n = int(input())\n",
    "n = isSquare(n)\n",
    "print(n)"
   ]
  },
  {
   "cell_type": "code",
   "execution_count": 54,
   "id": "cfa7f2ab",
   "metadata": {},
   "outputs": [
    {
     "name": "stdout",
     "output_type": "stream",
     "text": [
      "243\n",
      "True\n"
     ]
    }
   ],
   "source": [
    "# 26\n",
    "def isPower5(n):\n",
    "    if n ** 0.2 - int(n ** 0.2) == 0:\n",
    "        return True\n",
    "    else:\n",
    "        return False\n",
    "        \n",
    "    \n",
    "n = int(input())\n",
    "n = isPower5(n)\n",
    "print(n)"
   ]
  },
  {
   "cell_type": "code",
   "execution_count": 2,
   "id": "cacd311e",
   "metadata": {},
   "outputs": [
    {
     "name": "stdout",
     "output_type": "stream",
     "text": [
      "n = 2\n",
      "k = 34\n",
      "False\n"
     ]
    }
   ],
   "source": [
    "# 27\n",
    "def isPowerN(k,n):\n",
    "    while(k != n and k > n):\n",
    "        k /= n\n",
    "    if k == n: \n",
    "        return True\n",
    "    else:\n",
    "        return False\n",
    "n = int(input(\"n = \"))\n",
    "k = int(input(\"k = \"))\n",
    "n = isPowerN(k ,n)\n",
    "print(n)"
   ]
  },
  {
   "cell_type": "code",
   "execution_count": 63,
   "id": "1d62d3c4",
   "metadata": {},
   "outputs": [
    {
     "name": "stdout",
     "output_type": "stream",
     "text": [
      "True\n"
     ]
    }
   ],
   "source": [
    "# 28\n",
    "def isPrime(n):\n",
    "    tub = False\n",
    "    for i in range(2, int(n**0.5)):\n",
    "        if (n % i != 0 ):\n",
    "            tub = True\n",
    "        else:\n",
    "            tub = False\n",
    "            break\n",
    "    return tub\n",
    "n = isPrime(97)\n",
    "print(n)"
   ]
  },
  {
   "cell_type": "code",
   "execution_count": 65,
   "id": "32c6b79f",
   "metadata": {},
   "outputs": [
    {
     "name": "stdout",
     "output_type": "stream",
     "text": [
      "5\n"
     ]
    }
   ],
   "source": [
    "# 29\n",
    "def DigitCount(n):\n",
    "    j = 0\n",
    "    while(n > 0):\n",
    "        n //= 10\n",
    "        j += 1\n",
    "    return j\n",
    "print(DigitCount(12123))"
   ]
  },
  {
   "cell_type": "code",
   "execution_count": 53,
   "id": "1587cf7e",
   "metadata": {},
   "outputs": [
    {
     "name": "stdout",
     "output_type": "stream",
     "text": [
      "k1 = 1234\n",
      "n1 = 2\n",
      "k2 = 456780\n",
      "n2 = 1\n",
      "k3 = 9080\n",
      "n3 = 2\n",
      "3\n",
      "0\n",
      "8\n"
     ]
    }
   ],
   "source": [
    "# 30\n",
    "def DigitN(k, n):\n",
    "    return k % 10 **n // 10**(n-1)\n",
    "k1 = int(input(\"k1 = \"))\n",
    "n1 = int(input(\"n1 = \"))\n",
    "k2 = int(input(\"k2 = \"))\n",
    "n2 = int(input(\"n2 = \"))\n",
    "k3 = int(input(\"k3 = \"))\n",
    "n3 = int(input(\"n3 = \"))\n",
    "print(DigitN(k1, n1))\n",
    "print(DigitN(k2, n2))\n",
    "print(DigitN(k3, n3))\n"
   ]
  },
  {
   "cell_type": "code",
   "execution_count": 7,
   "id": "cdddbb5e",
   "metadata": {},
   "outputs": [
    {
     "name": "stdout",
     "output_type": "stream",
     "text": [
      "n = 110\n",
      "False\n"
     ]
    }
   ],
   "source": [
    "# 31\n",
    "def isPalindrom(n):\n",
    "    n1 = n\n",
    "    n2 = 0\n",
    "    while(n > 0):\n",
    "        n2 += n % 10\n",
    "        n2 *= 10\n",
    "        n //=10\n",
    "    n2 /= 10\n",
    "    if n1 == n2:\n",
    "        return True\n",
    "    else:\n",
    "        return False\n",
    "n = int(input(\"n = \"))\n",
    "print(isPalindrom(n))\n"
   ]
  },
  {
   "cell_type": "code",
   "execution_count": 4,
   "id": "7225901c",
   "metadata": {},
   "outputs": [
    {
     "name": "stdout",
     "output_type": "stream",
     "text": [
      "n = 180\n",
      "3.1415\n"
     ]
    }
   ],
   "source": [
    "# 32\n",
    "def DegTodRad(d):\n",
    "    pi = 3.1415\n",
    "    return d *  pi / 180\n",
    "n = int(input(\"n = \"))\n",
    "n = DegTodRad(n)\n",
    "print(n)"
   ]
  },
  {
   "cell_type": "code",
   "execution_count": 5,
   "id": "95423479",
   "metadata": {},
   "outputs": [
    {
     "name": "stdout",
     "output_type": "stream",
     "text": [
      "n = 3.1415\n",
      "180.0\n"
     ]
    }
   ],
   "source": [
    "# 33\n",
    "def RadToDeg(n):\n",
    "    pi = 3.1415\n",
    "    return n * 180 / pi\n",
    "n = float(input('n = '))\n",
    "n = RadToDeg(n)\n",
    "print(n)"
   ]
  },
  {
   "cell_type": "code",
   "execution_count": 9,
   "id": "a482b3e2",
   "metadata": {},
   "outputs": [
    {
     "name": "stdout",
     "output_type": "stream",
     "text": [
      "n = 6\n",
      "720\n"
     ]
    }
   ],
   "source": [
    "# 34\n",
    "def Fact(n):\n",
    "    if n == 1:\n",
    "        return 1\n",
    "    else:\n",
    "        return n * Fact(n - 1)\n",
    "n = int(input(\"n = \"))\n",
    "n = Fact(n)\n",
    "print(n)"
   ]
  },
  {
   "cell_type": "code",
   "execution_count": 3,
   "id": "d1108ab2",
   "metadata": {},
   "outputs": [
    {
     "name": "stdout",
     "output_type": "stream",
     "text": [
      "n = 5\n",
      "120\n"
     ]
    }
   ],
   "source": [
    "def Fact2(n):\n",
    "    p = 1\n",
    "    for i in range(1, n+1):\n",
    "        p *= i\n",
    "    return p\n",
    "    \n",
    "    \n",
    "n = int(input(\"n = \"))\n",
    "n = Fact2(n)\n",
    "print(n)"
   ]
  },
  {
   "cell_type": "code",
   "execution_count": 6,
   "id": "7e0eed89",
   "metadata": {},
   "outputs": [
    {
     "name": "stdout",
     "output_type": "stream",
     "text": [
      "n = 5\n",
      "3\n"
     ]
    }
   ],
   "source": [
    "# 36 \n",
    "def Fib(n):\n",
    "    a = 0\n",
    "    b = 1\n",
    "    if (n == 1):\n",
    "        return 0\n",
    "    elif n == 2:\n",
    "        return 1\n",
    "    else: \n",
    "        k = 2\n",
    "        for i in range(1,n+1,2):\n",
    "            a += b\n",
    "            k += 1\n",
    "            if k == n:\n",
    "                return a\n",
    "                break\n",
    "            b += a\n",
    "            k +=1\n",
    "            if k == n:\n",
    "                return b\n",
    "                break\n",
    "        \n",
    "            \n",
    "        \n",
    "\n",
    "n = int(input('n = '))\n",
    "n = Fib(n)\n",
    "print(n)\n",
    "        \n",
    "        "
   ]
  },
  {
   "cell_type": "code",
   "execution_count": 7,
   "id": "60cbe2fe",
   "metadata": {},
   "outputs": [
    {
     "name": "stdout",
     "output_type": "stream",
     "text": [
      "a = 10\n",
      "b = -1\n",
      "0.1\n"
     ]
    }
   ],
   "source": [
    "# 37\n",
    "def Power1(a, b):\n",
    "    return a**b\n",
    "a = float(input(\"a = \"))\n",
    "b = float(input(\"b = \"))\n",
    "print(Power1(a, b))"
   ]
  },
  {
   "cell_type": "code",
   "execution_count": 8,
   "id": "2c82c172",
   "metadata": {},
   "outputs": [
    {
     "name": "stdout",
     "output_type": "stream",
     "text": [
      "a = 3.12\n",
      "b = 10\n",
      "87406.94478014333\n"
     ]
    }
   ],
   "source": [
    "# 38\n",
    "def Power2(a, n):\n",
    "    return a**n\n",
    "a = float(input(\"a = \"))\n",
    "b = int(input(\"b = \"))\n",
    "print(Power2(a, b))"
   ]
  },
  {
   "cell_type": "code",
   "execution_count": 14,
   "id": "c85f8842",
   "metadata": {},
   "outputs": [
    {
     "name": "stdout",
     "output_type": "stream",
     "text": [
      "a = 5\n",
      "n = 2.2\n"
     ]
    }
   ],
   "source": [
    "# 39\n",
    "def Power3(a, n):\n",
    "    if n % 1!=0:\n",
    "        return Power2(a, n)\n",
    "    else:\n",
    "        return Power1(a, n)\n",
    "a = float(input(\"a = \"))\n",
    "n = float(input(\"n = \"))\n",
    "print(Power3(a ,n))"
   ]
  },
  {
   "cell_type": "code",
   "execution_count": 45,
   "id": "cb1d8704",
   "metadata": {},
   "outputs": [
    {
     "name": "stdout",
     "output_type": "stream",
     "text": [
      "x = 30\n",
      "e = 1\n",
      "10686474581523.451\n"
     ]
    }
   ],
   "source": [
    "# 40\n",
    "def Exp1(x, e):\n",
    "    s = 1 if e < 1 else 0\n",
    "    p = 1\n",
    "    i = 1\n",
    "    while e < x**i/p :\n",
    "        p *= i        \n",
    "        s += x**i/p\n",
    "        i += 1\n",
    "        \n",
    "    return s\n",
    "\n",
    "x = float(input(\"x = \"))\n",
    "e = float(input(\"e = \"))\n",
    "print(Exp1(x,e))\n"
   ]
  },
  {
   "cell_type": "code",
   "execution_count": 4,
   "id": "192c5d32",
   "metadata": {},
   "outputs": [
    {
     "name": "stdout",
     "output_type": "stream",
     "text": [
      "x = 60\n",
      "e = 0.9\n",
      "-1663283762.674325\n"
     ]
    }
   ],
   "source": [
    "# 41\n",
    "def sin1(x,e):\n",
    "    s  = 0\n",
    "    hadi = x; ishora = 1\n",
    "    f = 1; i = 1\n",
    "    while hadi > e:\n",
    "        s += ishora * hadi\n",
    "        f *= (2*i) * (2*i+1)\n",
    "        hadi = x**(2*i+1) / f\n",
    "        ishora *= -1\n",
    "        i+=1\n",
    "    return s\n",
    "\n",
    "x = float(input(\"x = \"))\n",
    "e = float(input(\"e = \"))\n",
    "print(sin1(x,e))\n",
    "        \n",
    "    \n",
    "        \n",
    "        "
   ]
  },
  {
   "cell_type": "code",
   "execution_count": 61,
   "id": "139b7b3b",
   "metadata": {},
   "outputs": [
    {
     "name": "stdout",
     "output_type": "stream",
     "text": [
      "x = 1.57\n",
      "e = 1\n",
      "-0.9792944995833333\n"
     ]
    }
   ],
   "source": [
    "# 42\n",
    "def cos1(x, e):\n",
    "    s = 1 if e < 1 else 0\n",
    "    ishora = -1\n",
    "    p = 1\n",
    "    i = 2\n",
    "    while  x**i/p > e:\n",
    "        p *= (i - 1) * i\n",
    "        s += ishora * x**i / p\n",
    "        ishora *= -1\n",
    "        i += 2 \n",
    "    return s\n",
    "x = float(input(\"x = \"))\n",
    "e = float(input(\"e = \"))\n",
    "print(cos1(x, e))"
   ]
  },
  {
   "cell_type": "code",
   "execution_count": 63,
   "id": "065e71c0",
   "metadata": {},
   "outputs": [
    {
     "name": "stdout",
     "output_type": "stream",
     "text": [
      "x = 0.9\n",
      "e = 0.1\n",
      "0.692073\n"
     ]
    }
   ],
   "source": [
    "# 43\n",
    "def Ln1(x, e):\n",
    "    s = x if x > e else 0\n",
    "    ishora = -1\n",
    "    i = 2\n",
    "    while x**i/i > e:\n",
    "        s += ishora * x**i / i\n",
    "        ishora *= -1\n",
    "        i += 1\n",
    "    return s\n",
    "x = float(input(\"x = \"))\n",
    "e = float(input(\"e = \"))\n",
    "print(Ln1(x, e))"
   ]
  },
  {
   "cell_type": "code",
   "execution_count": 65,
   "id": "3aa3ed03",
   "metadata": {},
   "outputs": [
    {
     "name": "stdout",
     "output_type": "stream",
     "text": [
      "x = 0.9\n",
      "e = 0.2\n",
      "0.657\n"
     ]
    }
   ],
   "source": [
    "# 44\n",
    "def Arctg1(x, e):\n",
    "    s = x if x > e else 0\n",
    "    ishora = -1\n",
    "    i = 3\n",
    "    while x**i/i > e: \n",
    "        s += ishora * x**i / i\n",
    "        ishora *= -1\n",
    "        i += 2\n",
    "    return s\n",
    "x = float(input(\"x = \"))\n",
    "e = float(input(\"e = \"))\n",
    "print(Arctg1(x, e))"
   ]
  },
  {
   "cell_type": "code",
   "execution_count": 66,
   "id": "78a149be",
   "metadata": {},
   "outputs": [
    {
     "name": "stdout",
     "output_type": "stream",
     "text": [
      "x = 0.92\n",
      "a = 2\n",
      "e = 0.1\n",
      "5.293333333333333\n"
     ]
    }
   ],
   "source": [
    "# 45\n",
    "def Power4(x, a, e):\n",
    "    s = 1 if e < 1 else 0\n",
    "    p = 1\n",
    "    i = 1\n",
    "    p1 = a\n",
    "    while p1*x/i > e: \n",
    "        s += p1 * x / p\n",
    "        p1 *= a - i + 1\n",
    "        i += 1\n",
    "        p *= i\n",
    "    return s\n",
    "x = float(input(\"x = \"))\n",
    "a = float(input(\"a = \"))\n",
    "e = float(input(\"e = \"))\n",
    "print(Power4(x, a, e))"
   ]
  },
  {
   "cell_type": "code",
   "execution_count": 2,
   "id": "1bdfcd9c",
   "metadata": {},
   "outputs": [
    {
     "name": "stdout",
     "output_type": "stream",
     "text": [
      "a = 25\n",
      "b = 105\n",
      "(5, 5)\n"
     ]
    }
   ],
   "source": [
    "# 46\n",
    "def ekub(a, b):\n",
    "    while a != b:\n",
    "        if a > b:\n",
    "            a -= b\n",
    "        else:\n",
    "            b -= a\n",
    "    return a, b\n",
    "a = int(input(\"a = \"))\n",
    "b = int(input(\"b = \"))\n",
    "print(ekub(a, b))\n"
   ]
  },
  {
   "cell_type": "code",
   "execution_count": 10,
   "id": "15758bd8",
   "metadata": {},
   "outputs": [
    {
     "name": "stdout",
     "output_type": "stream",
     "text": [
      "a = 2\n",
      "b = 10\n",
      "(1.0, 5.0)\n"
     ]
    }
   ],
   "source": [
    "# 47\n",
    "def Frac1(a, b):\n",
    "    q = a\n",
    "    p = b\n",
    "    while a != b:\n",
    "        if a > b:\n",
    "            a -= b\n",
    "        else:\n",
    "            b -= a \n",
    "    p /= a\n",
    "    q /= a\n",
    "    return q,p\n",
    "a = int(input(\"a = \"))\n",
    "b = int(input(\"b = \"))\n",
    "print(Frac1(a, b))\n",
    "    "
   ]
  },
  {
   "cell_type": "code",
   "execution_count": 7,
   "id": "69d34066",
   "metadata": {},
   "outputs": [
    {
     "name": "stdout",
     "output_type": "stream",
     "text": [
      "a = 25\n",
      "b = 125\n",
      "125.0\n"
     ]
    }
   ],
   "source": [
    "# 48\n",
    "def EKUK(a, b):\n",
    "    p = a*b\n",
    "    while a != b:\n",
    "        if a > b:\n",
    "            a -= b\n",
    "        else:\n",
    "            b -= a\n",
    "    return p / a\n",
    "a = int(input(\"a = \"))\n",
    "b = int(input(\"b = \"))\n",
    "print(EKUK(a, b))\n",
    "    "
   ]
  },
  {
   "cell_type": "code",
   "execution_count": 9,
   "id": "3773bacb",
   "metadata": {},
   "outputs": [
    {
     "name": "stdout",
     "output_type": "stream",
     "text": [
      "a = 3\n",
      "b = 6\n",
      "c = 9\n",
      "54.0\n"
     ]
    }
   ],
   "source": [
    "# 49\n",
    "def EKUK3(a, b, c):\n",
    "    p = a*b*c\n",
    "    while a != b:\n",
    "        if a > b:\n",
    "            a %=b\n",
    "        else:\n",
    "            b %=a\n",
    "        if a ==0:\n",
    "            a = b\n",
    "        if b == 0:\n",
    "            b = a\n",
    "            \n",
    "    while a != c:\n",
    "        if a > c:\n",
    "            a %= c\n",
    "        else:\n",
    "            c %= a\n",
    "                \n",
    "        if a==0:\n",
    "            a =c\n",
    "        if c == 0:\n",
    "            c = a\n",
    "        \n",
    "    return p/a\n",
    "a = int(input(\"a = \"))\n",
    "b = int(input(\"b = \"))\n",
    "c = int(input(\"c = \"))\n",
    "print(EKUK3(a, b, c))"
   ]
  },
  {
   "cell_type": "code",
   "execution_count": 11,
   "id": "a8fd3cfd",
   "metadata": {},
   "outputs": [
    {
     "name": "stdout",
     "output_type": "stream",
     "text": [
      "sekunt = 400\n",
      "0:6:40\n"
     ]
    }
   ],
   "source": [
    "# 50\n",
    "def TimeToHMS(t):\n",
    "    hh = t // 3600\n",
    "    mm = t % 3600 // 60\n",
    "    ss = t % 60\n",
    "    return str(hh) +\":\"+str(mm)+\":\"+str(ss)\n",
    "t = int(input(\"sekunt = \"))\n",
    "print(TimeToHMS(t))"
   ]
  },
  {
   "cell_type": "code",
   "execution_count": 12,
   "id": "5930d6f1",
   "metadata": {},
   "outputs": [
    {
     "name": "stdout",
     "output_type": "stream",
     "text": [
      "HH = 0\n",
      "MM = 6\n",
      "SS = 40\n",
      "400\n"
     ]
    }
   ],
   "source": [
    "# 51\n",
    "def IncTime(hh, mm, ss):\n",
    "    return hh * 3600 + mm * 60 + ss\n",
    "h = int(input(\"HH = \"))\n",
    "m = int(input(\"MM = \"))\n",
    "s = int(input(\"SS = \"))\n",
    "print(IncTime(h, m, s))"
   ]
  },
  {
   "cell_type": "code",
   "execution_count": 14,
   "id": "9b86c49e",
   "metadata": {},
   "outputs": [
    {
     "name": "stdout",
     "output_type": "stream",
     "text": [
      "yil = 2001\n",
      "False\n"
     ]
    }
   ],
   "source": [
    "# 52 \n",
    "def IsLeapYear(Y):\n",
    "    if y % 4 == 0 and y % 400 == 0 or y % 4 == 0 and y % 100 !=0:\n",
    "        return True\n",
    "    else:\n",
    "        return False\n",
    "y = int(input(\"yil = \"))\n",
    "print(IsLeapYear(y))"
   ]
  },
  {
   "cell_type": "code",
   "execution_count": 18,
   "id": "927a7b5f",
   "metadata": {},
   "outputs": [
    {
     "name": "stdout",
     "output_type": "stream",
     "text": [
      "yil = 2000\n",
      "oy = 11\n",
      "30\n"
     ]
    }
   ],
   "source": [
    "# 53\n",
    "def MonthDays(m,y):\n",
    "    kabisa  = False\n",
    "    if y % 4 == 0 and y % 400 == 0 or y % 4 == 0 and y % 100 !=0:\n",
    "        kabisa = True\n",
    "    if 1 <= m <= 12:\n",
    "        if m == 2:\n",
    "            return 28 + kabisa\n",
    "        elif m == 4 or m == 6 or m == 9 or m == 11:\n",
    "            return 30\n",
    "        else:\n",
    "            return 31\n",
    "    else:\n",
    "        return \"Kiritilgan sana xato!!!\"\n",
    "y = int(input(\"yil = \"))\n",
    "m = int(input(\"oy = \"))\n",
    "print(MonthDays(m, y))"
   ]
  },
  {
   "cell_type": "code",
   "execution_count": 29,
   "id": "40a3ae1b",
   "metadata": {},
   "outputs": [
    {
     "name": "stdout",
     "output_type": "stream",
     "text": [
      "kun = 1\n",
      "oy  = 6\n",
      "yil = 2000\n",
      "31:5:2000\n"
     ]
    }
   ],
   "source": [
    "# 54\n",
    "def PrevDate(dd, mm, yy):\n",
    "    kabisa  = 0\n",
    "    if yy % 4 == 0 and yy % 400 == 0 or yy % 4 == 0 and yy % 100 !=0:\n",
    "        kabisa = 1\n",
    "    sana = 0\n",
    "    \n",
    "    if mm == 2 and 1 <= dd <= 28 + kabisa:\n",
    "        sana = 1\n",
    "    elif (mm == 4 or mm == 6 or mm == 9 or mm == 11) and 1 <= dd <= 30:\n",
    "        sana = 1\n",
    "    elif (mm == 1 or mm == 3 or mm == 5 or mm == 7 or mm == 8 or mm == 10 or mm == 12) and 1 <= dd <= 31:\n",
    "        sana =  1\n",
    "        \n",
    "    if sana:\n",
    "        dd -= 1\n",
    "        if mm == 3 and dd == 0:\n",
    "            dd = 28 + kabisa\n",
    "            mm -= 1\n",
    "        elif (mm == 4 or mm == 6 or mm == 9 or mm == 11) and dd == 0:\n",
    "            dd = 31\n",
    "            mm -= 1\n",
    "        elif (mm == 1 or mm == 3 or mm == 5 or mm == 7 or mm == 8 or mm == 10 or mm == 12) and dd == 0:\n",
    "            if mm == 1:\n",
    "                yy -= 1\n",
    "                mm = 12\n",
    "                dd = 31\n",
    "            else:\n",
    "                mm -= 1\n",
    "                dd = 30\n",
    "        return str(dd) + \":\" + str(mm) + \":\" + str(yy)\n",
    "        \n",
    "        \n",
    "    else:\n",
    "        return \"Kiritilgan sana xato!!!\"\n",
    "d = int(input(\"kun = \"))\n",
    "m = int(input(\"oy  = \"))\n",
    "y = int(input(\"yil = \"))\n",
    "print(PrevDate(d, m, y))"
   ]
  },
  {
   "cell_type": "code",
   "execution_count": 11,
   "id": "4d80c6d3",
   "metadata": {},
   "outputs": [
    {
     "name": "stdout",
     "output_type": "stream",
     "text": [
      "kun = 28\n",
      "oy  = 2\n",
      "yil = 2000\n",
      "29:2:2000\n"
     ]
    }
   ],
   "source": [
    "# 55\n",
    "\n",
    "def IsLeapYear(Y):\n",
    "    if y % 4 == 0 and y % 400 == 0 or y % 4 == 0 and y % 100 !=0:\n",
    "        return True\n",
    "    else:\n",
    "        return False\n",
    "def MonthDays(k,m,y):\n",
    "    kabisa  = IsLeapYear(y)    \n",
    "    if 1 <= m <= 12:\n",
    "        if m == 2:\n",
    "            return 1 <= k <= 28 + kabisa\n",
    "        elif m == 4 or m == 6 or m == 9 or m == 11:\n",
    "            return 1 <= k <= 30\n",
    "        else:\n",
    "            return 1 <= k <=31\n",
    "    else:\n",
    "        return False    \n",
    "def NextDate(dd, mm, yy):\n",
    "    kabisa  = IsLeapYear(yy)\n",
    "    sana = MonthDays(dd,mm,yy)\n",
    "    if sana:\n",
    "        dd += 1\n",
    "        if mm == 2 and dd > 28+kabisa:\n",
    "            mm += 1\n",
    "            dd %= (28+kabisa)\n",
    "        elif (mm == 4 or mm == 6 or mm == 9 or mm == 11) and dd > 30:\n",
    "            mm += 1\n",
    "            dd %= 30\n",
    "        elif dd > 31:\n",
    "            if mm == 12:\n",
    "                mm = 1\n",
    "                yy += 1\n",
    "            else:\n",
    "                mm +=1 \n",
    "            dd %= 31\n",
    "        return str(dd) + \":\" + str(mm) + \":\" + str(yy)      \n",
    "    else:\n",
    "        return \"Kiritilgan sana xato!!!\"\n",
    "d = int(input(\"kun = \"))\n",
    "m = int(input(\"oy  = \"))\n",
    "y = int(input(\"yil = \"))\n",
    "print(NextDate(d, m, y))"
   ]
  },
  {
   "cell_type": "code",
   "execution_count": 8,
   "id": "8c1d70bd",
   "metadata": {},
   "outputs": [
    {
     "name": "stdout",
     "output_type": "stream",
     "text": [
      "Ax = 5\n",
      "Ay = 4\n",
      "Bx = 10\n",
      "By = 12\n",
      "Cx = 1\n",
      "Cy = 2\n",
      "Dx = 20\n",
      "Dy = 25\n",
      "|AB| =  3.605551275463989\n",
      "|AC| =  2.449489742783178\n",
      "|AD| =  6.0\n"
     ]
    }
   ],
   "source": [
    "# 56\n",
    "def Leng(x1,y1, x2, y2):\n",
    "    return (abs(x1-x2)**2 + abs(y1-y2)**2)**0.5\n",
    "Ax = int(input(\"Ax = \"))\n",
    "Ay = int(input(\"Ay = \"))\n",
    "Bx = int(input(\"Bx = \"))\n",
    "By = int(input(\"By = \"))\n",
    "Cx = int(input(\"Cx = \"))\n",
    "Cy = int(input(\"Cy = \"))\n",
    "Dx = int(input(\"Dx = \"))\n",
    "Dy = int(input(\"Dy = \"))\n",
    "print(\"|AB| = \", Leng(Ax, Ay, Bx, By))\n",
    "print(\"|AC| = \", Leng(Ax, Ay, Cx, Cy))\n",
    "print(\"|AD| = \", Leng(Ax, Ay, Dx, Dy))"
   ]
  },
  {
   "cell_type": "code",
   "execution_count": 9,
   "id": "fa08995f",
   "metadata": {},
   "outputs": [
    {
     "name": "stdout",
     "output_type": "stream",
     "text": [
      "Ax = 0\n",
      "Ay = 0\n",
      "Bx = 0\n",
      "By = 3\n",
      "Cx = 4\n",
      "Cy = 0\n",
      "12.0\n"
     ]
    }
   ],
   "source": [
    "# 57\n",
    "def Perim(Ax, Ay, Bx, By, Cx, Cy):\n",
    "    AB = (abs(Ax - Bx)**2 + abs(Ay + By)**2)**0.5\n",
    "    AC = (abs(Ax - Cx)**2 + abs(Ay + Cy)**2)**0.5\n",
    "    BC = (abs(Cx - Bx)**2 + abs(Cy + By)**2)**0.5\n",
    "    if AB + AC > BC and AB + BC > AC and AC + BC > AB:\n",
    "        return AB + AC + BC\n",
    "    else:\n",
    "        return \"Bu koordinatalardan uchburchak qurib bo'lmaydi!!!\"\n",
    "\n",
    "Ax = int(input(\"Ax = \"))\n",
    "Ay = int(input(\"Ay = \"))\n",
    "Bx = int(input(\"Bx = \"))\n",
    "By = int(input(\"By = \"))\n",
    "Cx = int(input(\"Cx = \"))\n",
    "Cy = int(input(\"Cy = \"))\n",
    "print(Perim(Ax, Ay, Bx, By, Cx, Cy))"
   ]
  },
  {
   "cell_type": "code",
   "execution_count": 10,
   "id": "a374b265",
   "metadata": {},
   "outputs": [
    {
     "name": "stdout",
     "output_type": "stream",
     "text": [
      "Ax = 0\n",
      "Ay = 0\n",
      "Bx = 0\n",
      "By = 3\n",
      "Cx = 4\n",
      "Cy = 0\n",
      "6.0\n"
     ]
    }
   ],
   "source": [
    "# 58\n",
    "def Area(Ax, Ay, Bx, By, Cx, Cy):\n",
    "    AB = (abs(Ax - Bx)**2 + abs(Ay + By)**2)**0.5\n",
    "    AC = (abs(Ax - Cx)**2 + abs(Ay + Cy)**2)**0.5\n",
    "    BC = (abs(Cx - Bx)**2 + abs(Cy + By)**2)**0.5\n",
    "    if AB + AC > BC or AB + BC > AC or AC + BC > AB:\n",
    "        p =  (AB + AC + BC)/2\n",
    "        return (p*(p-AB)*(p-AC)*(p-BC))**0.5\n",
    "    else:\n",
    "        return \"Bu koordinatalardan uchburchak qurib bo'lmaydi!!!\"\n",
    "Ax = int(input(\"Ax = \"))\n",
    "Ay = int(input(\"Ay = \"))\n",
    "Bx = int(input(\"Bx = \"))\n",
    "By = int(input(\"By = \"))\n",
    "Cx = int(input(\"Cx = \"))\n",
    "Cy = int(input(\"Cy = \"))\n",
    "print(Area(Ax, Ay, Bx, By, Cx, Cy))"
   ]
  },
  {
   "cell_type": "code",
   "execution_count": 13,
   "id": "41242ae1",
   "metadata": {},
   "outputs": [
    {
     "name": "stdout",
     "output_type": "stream",
     "text": [
      "Ax = 0\n",
      "Ay = 0\n",
      "Bx = 0\n",
      "By = 3\n",
      "Px = 4\n",
      "Py = 0\n",
      "4.0\n"
     ]
    }
   ],
   "source": [
    "# 59\n",
    "def Dist(Ax, Ay, Bx, By, Px, Py):\n",
    "    AB = (abs(Ax - Bx)**2 + abs(Ay + By)**2)**0.5\n",
    "    AC = (abs(Ax - Px)**2 + abs(Ay + Py)**2)**0.5\n",
    "    BC = (abs(Px - Bx)**2 + abs(Py + By)**2)**0.5\n",
    "    if AB + AC > BC or AB + BC > AC or AC + BC > AB:\n",
    "        p =  (AB + AC + BC)/2\n",
    "        S = (p*(p-AB)*(p-AC)*(p-BC))**0.5\n",
    "        return 2*S/AB\n",
    "    else:\n",
    "        return \"Kiritilgan koordinatalar xato!!!\"\n",
    "\n",
    "Ax = int(input(\"Ax = \"))\n",
    "Ay = int(input(\"Ay = \"))\n",
    "Bx = int(input(\"Bx = \"))\n",
    "By = int(input(\"By = \"))\n",
    "Cx = int(input(\"Px = \"))\n",
    "Cy = int(input(\"Py = \"))\n",
    "print(Dist(Ax, Ay, Bx, By, Cx, Cy))"
   ]
  },
  {
   "cell_type": "code",
   "execution_count": 2,
   "id": "cfd094b4",
   "metadata": {},
   "outputs": [
    {
     "name": "stdout",
     "output_type": "stream",
     "text": [
      "Ax = 0\n",
      "Ay = 0\n",
      "Bx = 0\n",
      "By = 3\n",
      "Cx = 4\n",
      "Cy = 0\n",
      "(4.0, 3.0, 2.4)\n"
     ]
    }
   ],
   "source": [
    "# Funksiya 60\n",
    "def Leng(x1,y1, x2, y2):\n",
    "    return (abs(x1-x2)**2 + abs(y1-y2)**2)**0.5\n",
    "\n",
    "def Perim(AB, AC , BC):    \n",
    "    if AB + AC > BC and AB + BC > AC and AC + BC > AB:\n",
    "        return AB + AC + BC\n",
    "    else:\n",
    "        return 0\n",
    "    \n",
    "def Area(AB,AC,BC):\n",
    "    if AB + AC > BC or AB + BC > AC or AC + BC > AB:\n",
    "        p =  Perim(AB,AC,BC)/2\n",
    "        return (p*(p-AB)*(p-AC)*(p-BC))**0.5\n",
    "    else:\n",
    "        return 0\n",
    "    \n",
    "def Dist(AB,AC,P):\n",
    "    return 2*Area(AB,AC,P)/AB   \n",
    "    \n",
    "def Heights(Ax, Ay, Bx, By, Cx, Cy):\n",
    "    AB = Leng(Ax,Ay,Bx,By)\n",
    "    AC = Leng(Ax,Ay,Cx,Cy)\n",
    "    BC = Leng(Cx,Cy,Bx,By)\n",
    "    return 2*Area(AB,AC,BC)/AB, 2*Area(AB,AC,BC)/AC, 2*Area(AB,AC,BC)/BC\n",
    "  \n",
    "    \n",
    "Ax = int(input(\"Ax = \"))\n",
    "Ay = int(input(\"Ay = \"))\n",
    "Bx = int(input(\"Bx = \"))\n",
    "By = int(input(\"By = \"))\n",
    "Cx = int(input(\"Cx = \"))\n",
    "Cy = int(input(\"Cy = \"))\n",
    "print(Heights(Ax, Ay, Bx, By, Cx, Cy))"
   ]
  }
 ],
 "metadata": {
  "kernelspec": {
   "display_name": "Python 3 (ipykernel)",
   "language": "python",
   "name": "python3"
  },
  "language_info": {
   "codemirror_mode": {
    "name": "ipython",
    "version": 3
   },
   "file_extension": ".py",
   "mimetype": "text/x-python",
   "name": "python",
   "nbconvert_exporter": "python",
   "pygments_lexer": "ipython3",
   "version": "3.9.7"
  }
 },
 "nbformat": 4,
 "nbformat_minor": 5
}
