{
 "cells": [
  {
   "cell_type": "code",
   "execution_count": 33,
   "id": "167dee92",
   "metadata": {},
   "outputs": [
    {
     "name": "stdout",
     "output_type": "stream",
     "text": [
      "1<= n <n 10**8\n",
      "111111111\n",
      "bir yuz on bir million bir yuz on bir ming bir yuz on bir "
     ]
    }
   ],
   "source": [
    "print(\"1<= n <n 10**8\")\n",
    "n = int(input())\n",
    "a = len(str(n))-1\n",
    "i = a +1\n",
    "b = n % 10**2 != 0 # yuzlik\n",
    "c = n % 10**4!=0 # minglik\n",
    "d = n % 10**9 != 0 # million\n",
    "while i > 0:\n",
    "    k = n // 10**a\n",
    "    if (i==1 or i==3 or i==4 or i==6 or i ==7 or i==9):\n",
    "        if k == 1:\n",
    "            print(\"bir\", end=\" \")\n",
    "        elif k == 2:\n",
    "            print(\"ikki\", end=\" \")\n",
    "        elif k == 3:\n",
    "            print(\"uch\", end=\" \")\n",
    "        elif k == 4:\n",
    "            print(\"to'rt\", end=\" \")\n",
    "        elif k ==5:\n",
    "            print(\"besh\", end=\" \")\n",
    "        elif k ==6:\n",
    "            print(\"olti\", end=\" \")\n",
    "        elif k ==7:\n",
    "            print(\"yetti\", end=\" \")\n",
    "        elif k == 8:\n",
    "            print(\"sakkiz\", end=\" \")\n",
    "        elif k == 9:\n",
    "            print(\"toqqiz\", end=\" \")\n",
    "        if i == 9 and d or i == 6 and c or i == 3 and b:\n",
    "            print(\"yuz\", end=\" \")\n",
    "        if i == 4 and c:\n",
    "            print(\"ming\", end=\" \")\n",
    "        if i == 7 and d:\n",
    "            print(\"million\", end=\" \")      \n",
    "        \n",
    "    else:\n",
    "        if k == 1:\n",
    "            print(\"on\", end=\" \")\n",
    "        elif k == 2:\n",
    "            print(\"yigirma\", end=\" \")\n",
    "        elif k == 3:\n",
    "            print(\"ottiz\", end=\" \")\n",
    "        elif k == 4:\n",
    "            print(\"qirq\", end=\" \")\n",
    "        elif k ==5:\n",
    "            print(\"ellik\", end=\" \")\n",
    "        elif k ==6:\n",
    "            print(\"oltmush\", end=\" \")\n",
    "        elif k ==7:\n",
    "            print(\"yetmush\", end=\" \")\n",
    "        elif k == 8:\n",
    "            print(\"sakson\", end=\" \")\n",
    "        elif k == 9:\n",
    "            print(\"toqson\", end=\" \")\n",
    "    \n",
    "    n %= 10**a\n",
    "    a -= 1\n",
    "    i -= 1\n",
    "    n %= 10**(a+1)\n",
    "    \n"
   ]
  },
  {
   "cell_type": "code",
   "execution_count": 1,
   "id": "b4ba97cf",
   "metadata": {},
   "outputs": [
    {
     "name": "stdout",
     "output_type": "stream",
     "text": [
      "kun = 28\n",
      "oy = 2\n",
      "yil = 2000\n",
      "29.2.2000\n"
     ]
    }
   ],
   "source": [
    "# berilgan kundan keyingi kunni topish\n",
    "k = int(input(\"kun = \"))\n",
    "o = int(input(\"oy = \"))\n",
    "y = int(input(\"yil = \"))\n",
    "\n",
    "kabisa = False\n",
    "if y % 4 == 0 and y % 100 != 0 or y % 100 == 0 and y % 400 == 0:\n",
    "    kabisa = True\n",
    "o30 = o == 4 or o ==6 or 0 == 11 or o==9\n",
    "o28 = o == 2\n",
    "\n",
    "if not o30 and not o28 and k == 31:\n",
    "    if 0 ==12:\n",
    "        k = 1\n",
    "        o = 1\n",
    "        y +=1\n",
    "    else:\n",
    "        o += 1\n",
    "        k = 1\n",
    "elif o30 and k == 30:\n",
    "    o +=1\n",
    "    k = 1\n",
    "elif o28:\n",
    "    if kabisa and k == 28:\n",
    "        k +=1\n",
    "    elif kabisa and k == 29:\n",
    "        k = 1\n",
    "        o += 1\n",
    "    elif k==28:\n",
    "        k = 1\n",
    "        o +=1\n",
    "    else:\n",
    "        k+=1\n",
    "else:\n",
    "    k += 1\n",
    "\n",
    "        \n",
    "print(k , o, y, sep=\".\")\n",
    "    "
   ]
  },
  {
   "cell_type": "code",
   "execution_count": 29,
   "id": "9a2a80a5",
   "metadata": {},
   "outputs": [
    {
     "name": "stdout",
     "output_type": "stream",
     "text": [
      "0\n"
     ]
    }
   ],
   "source": [
    "print(1010000 %10**4)"
   ]
  },
  {
   "cell_type": "code",
   "execution_count": null,
   "id": "f51bb75c",
   "metadata": {},
   "outputs": [],
   "source": []
  }
 ],
 "metadata": {
  "kernelspec": {
   "display_name": "Python 3",
   "language": "python",
   "name": "python3"
  },
  "language_info": {
   "codemirror_mode": {
    "name": "ipython",
    "version": 3
   },
   "file_extension": ".py",
   "mimetype": "text/x-python",
   "name": "python",
   "nbconvert_exporter": "python",
   "pygments_lexer": "ipython3",
   "version": "3.8.8"
  }
 },
 "nbformat": 4,
 "nbformat_minor": 5
}
