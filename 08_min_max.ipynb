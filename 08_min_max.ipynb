{
 "cells": [
  {
   "cell_type": "markdown",
   "id": "9d470dc9",
   "metadata": {},
   "source": [
    "# Minimum va maksimium"
   ]
  },
  {
   "cell_type": "code",
   "execution_count": 2,
   "id": "2ffb5841",
   "metadata": {},
   "outputs": [
    {
     "name": "stdout",
     "output_type": "stream",
     "text": [
      "4\n",
      "1\n",
      "2\n",
      "3\n",
      "4\n",
      "Max :  4  Min :  1\n"
     ]
    }
   ],
   "source": [
    "# 1\n",
    "n = int(input(\"n = \"))\n",
    "print(\" n ta sondan iborat sonlar toplamini kiriting :\")\n",
    "\n",
    "a = int(input())\n",
    "min_son = a\n",
    "max_son = a\n",
    "\n",
    "for i in range(n-1):\n",
    "    a = int(input())\n",
    "    \n",
    "    if(min_son > a):\n",
    "        min_son = a\n",
    "        \n",
    "    if(max_son < a):\n",
    "        max_son = a\n",
    "        \n",
    "print(\"Max : \", max_son, \" Min : \", min_son)\n",
    "        \n",
    "    "
   ]
  },
  {
   "cell_type": "code",
   "execution_count": 7,
   "id": "b623c87c",
   "metadata": {},
   "outputs": [
    {
     "name": "stdout",
     "output_type": "stream",
     "text": [
      "n = 2\n",
      "1 chi to'g'ri burchakli uchburchakning a va b tomonini kiriting:\n",
      "a = 3\n",
      "b = 4\n",
      "2 chi to'g'ri burchakli uchburchakning a va b tomonini kiriting:\n",
      "a = 12\n",
      "b = 13\n",
      "Min S =  6.25  Max P =  42.69180601295413\n"
     ]
    }
   ],
   "source": [
    "# 2, 3\n",
    "from math import *\n",
    "n = int(input(\"n = \"))\n",
    "\n",
    "S = 0\n",
    "P = 0\n",
    "\n",
    "for i in range(n):\n",
    "    print(i+1, \"chi to'g'ri burchakli uchburchakning a va b tomonini kiriting:\")\n",
    "    a = int(input(\"a = \"))\n",
    "    b = int(input(\"b = \"))\n",
    "    c = sqrt(a**2 + b**2)\n",
    "    P = a + b + c\n",
    "    S = (c ** 2)/4\n",
    "    if(i == 0): \n",
    "        max_P = P\n",
    "        mix_S = S\n",
    "        \n",
    "    if(P > max_P):\n",
    "        max_P = P\n",
    "        \n",
    "    if(S < mix_S):\n",
    "        min_S = S\n",
    "        \n",
    "print(\"Min S = \", mix_S, \" Max P = \", max_P )\n",
    "    \n"
   ]
  },
  {
   "cell_type": "code",
   "execution_count": 10,
   "id": "c91bcb3d",
   "metadata": {},
   "outputs": [
    {
     "name": "stdout",
     "output_type": "stream",
     "text": [
      "n = 4\n",
      " n ta sondan iborat sonlar toplamini kiriting :\n",
      "3\n",
      "2\n",
      "1\n",
      "5\n",
      "Eng kichik element o'rni :  3\n"
     ]
    }
   ],
   "source": [
    "# 4\n",
    "n = int(input(\"n = \"))\n",
    "j = 0\n",
    "print(\" n ta sondan iborat sonlar toplamini kiriting :\")\n",
    "\n",
    "for i in range(n):\n",
    "    a = int(input())\n",
    "    \n",
    "    if(i == 0):\n",
    "        min_son = a\n",
    "        max_son = a\n",
    "    \n",
    "    if(min_son > a):\n",
    "        min_son = a\n",
    "        j = i\n",
    "print(\"Eng kichik element o'rni : \", j)"
   ]
  },
  {
   "cell_type": "code",
   "execution_count": null,
   "id": "9e143fb1",
   "metadata": {},
   "outputs": [],
   "source": [
    "# 5\n",
    "n = int(input(\"n = \"))\n",
    "i = 1\n",
    "while i <= n:\n",
    "    m = float(input(\"m = \"))\n",
    "    v = float(input(\"v = \"))\n",
    "    if i == 1:\n",
    "        max_m_v = m / v\n",
    "    \n",
    "    if max_m_v < m/v:\n",
    "        max_m_v = m / v\n",
    "print(max_m_v)"
   ]
  },
  {
   "cell_type": "code",
   "execution_count": null,
   "id": "ee91379a",
   "metadata": {},
   "outputs": [],
   "source": [
    "# 6\n",
    "n = int(input(\"n = \"))\n",
    "\n",
    "x = True\n",
    "\n",
    "for i in range(1,n+1):\n",
    "    k = int(input(\"son = \"))\n",
    "    if x:\n",
    "        maxi = k\n",
    "        mini = k\n",
    "        x = False\n",
    "    if k >= maxi:\n",
    "        maxi = k\n",
    "        sanoq1 = i\n",
    "    elif k < mini:\n",
    "        mini = k\n",
    "        sanoq2 = i\n",
    "        \n",
    "print(sanoq2,sanoq1)"
   ]
  },
  {
   "cell_type": "code",
   "execution_count": 8,
   "id": "d5753fc7",
   "metadata": {},
   "outputs": [
    {
     "name": "stdout",
     "output_type": "stream",
     "text": [
      "n = 3\n",
      "son = 1\n",
      "son = 2\n",
      "son = 3\n",
      "3 1\n"
     ]
    }
   ],
   "source": [
    "# 7\n",
    "n = int(input(\"n = \"))\n",
    "\n",
    "x = True\n",
    "\n",
    "for i in range(1,n+1):\n",
    "    k = int(input(\"son = \"))\n",
    "    if x:\n",
    "        maxi = k\n",
    "        mini = k\n",
    "        x = False\n",
    "    if k > maxi:\n",
    "        maxi = k\n",
    "        n1 = i\n",
    "    if k <= mini:\n",
    "        mini = k\n",
    "        n2 = i\n",
    "        \n",
    "print(n1,n2)"
   ]
  },
  {
   "cell_type": "code",
   "execution_count": null,
   "id": "d348b291",
   "metadata": {},
   "outputs": [],
   "source": [
    "# 8\n",
    "n = int(input(\"n = \"))\n",
    "\n",
    "x = True\n",
    "\n",
    "for i in range(1,n+1):\n",
    "    k = int(input(f\"k{i} = \"))\n",
    "    if x:\n",
    "        mini = k\n",
    "        x = False\n",
    "        \n",
    "    if k <= mini:\n",
    "        n1 = i\n",
    "        \n",
    "    if k < mini:\n",
    "        mini = k\n",
    "        n2 = i\n",
    "print(n1,n2)"
   ]
  },
  {
   "cell_type": "code",
   "execution_count": 7,
   "id": "773dbd97",
   "metadata": {},
   "outputs": [
    {
     "name": "stdout",
     "output_type": "stream",
     "text": [
      "n = 8\n",
      "son = 1\n",
      "son = 2\n",
      "son = 3\n",
      "son = 4\n",
      "son = 45\n",
      "son = 2\n",
      "son = 45\n",
      "son = 2\n",
      "7 5\n"
     ]
    }
   ],
   "source": [
    "# 9\n",
    "n = int(input(\"n = \"))\n",
    "\n",
    "x = True\n",
    "\n",
    "for i in range(1,n+1):\n",
    "    k = int(input(\"son = \"))\n",
    "    if x:\n",
    "        maxi = k\n",
    "        x = False\n",
    "        \n",
    "    if k >= maxi:\n",
    "        n1 = i\n",
    "        \n",
    "    if k > maxi:\n",
    "        maxi = k\n",
    "        n2 = i\n",
    "        \n",
    "print(n1,n2)"
   ]
  },
  {
   "cell_type": "code",
   "execution_count": 67,
   "id": "aac745b6",
   "metadata": {},
   "outputs": [
    {
     "name": "stdout",
     "output_type": "stream",
     "text": [
      "n = 5\n",
      "son = 1\n",
      "son = 2\n",
      "son = 3\n",
      "son = 4\n",
      "son = 5\n",
      "1\n"
     ]
    }
   ],
   "source": [
    "# 10\n",
    "n = int(input(\"n = \"))\n",
    "x = True\n",
    "\n",
    "for i in range(1,n+1):\n",
    "    a = int(input(\"son = \"))\n",
    "    \n",
    "    if i == 1:\n",
    "        mini = a\n",
    "        maxi = a\n",
    "        index1 = i\n",
    "        index2 = i\n",
    "        \n",
    "    if mini > a:\n",
    "        mini = a\n",
    "        index1 = i\n",
    "        \n",
    "    if maxi < a:\n",
    "        maxi = a\n",
    "        index2 = i\n",
    "        \n",
    "if index1 > index2:\n",
    "    print(index2)\n",
    "else:\n",
    "    print(index1)"
   ]
  },
  {
   "cell_type": "code",
   "execution_count": 63,
   "id": "a26a63f6",
   "metadata": {},
   "outputs": [
    {
     "name": "stdout",
     "output_type": "stream",
     "text": [
      "n = 5\n",
      "son = 1\n",
      "son = 2\n",
      "son = 3\n",
      "son = 4\n",
      "son = 5\n",
      "4\n"
     ]
    }
   ],
   "source": [
    "# 11\n",
    "n = int(input(\"n = \"))\n",
    "\n",
    "for i in range(1,n+1):\n",
    "    \n",
    "    a = int(input(\"son = \"))\n",
    "    \n",
    "    if i == 0:\n",
    "        mini = a\n",
    "        maxi = a\n",
    "        \n",
    "    if mini > a:\n",
    "        mini = a\n",
    "        index = i\n",
    "        \n",
    "    if maxi < a:\n",
    "        maxi = a\n",
    "        index = i\n",
    "        \n",
    "print(i)\n",
    "        "
   ]
  },
  {
   "cell_type": "code",
   "execution_count": 62,
   "id": "6421cbac",
   "metadata": {},
   "outputs": [
    {
     "name": "stdout",
     "output_type": "stream",
     "text": [
      "n = 5\n",
      "n = -1\n",
      "n = 1\n",
      "n = -2\n",
      "n = -3\n",
      "n = -4\n",
      "1\n"
     ]
    }
   ],
   "source": [
    "# 12\n",
    "n = int(input((\"n = \")))\n",
    "x = True\n",
    "mini = 0\n",
    "for i in range(n):\n",
    "    a = int(input(\"son = \"))\n",
    "    \n",
    "    if a > 0 and x:\n",
    "        mini = a\n",
    "        x = 0\n",
    "        \n",
    "    if mini > a and a > 0:\n",
    "        mini = a\n",
    "        \n",
    "print(mini)\n",
    "    "
   ]
  },
  {
   "cell_type": "code",
   "execution_count": null,
   "id": "b1f1c19e",
   "metadata": {},
   "outputs": [],
   "source": [
    "# 13\n",
    "n = int(input(\"n = \"))\n",
    "j = 0\n",
    "\n",
    "for i in range(1, n+1):\n",
    "    a = int(input())\n",
    "    \n",
    "    if(i == 1):\n",
    "        max_toq = a\n",
    "    \n",
    "    if(a % 2 != 0 & max_toq < a):\n",
    "        max_toq = a\n",
    "    \n",
    "if(max_toq % 2 != 0):\n",
    "    print(max_toq)\n",
    "else:\n",
    "    print(\"0\")"
   ]
  },
  {
   "cell_type": "code",
   "execution_count": 59,
   "id": "ee2f8b77",
   "metadata": {},
   "outputs": [
    {
     "name": "stdout",
     "output_type": "stream",
     "text": [
      "b = 5\n",
      "1 son =  1\n",
      "2 son =  2\n",
      "3 son =  3\n",
      "4 son =  4\n",
      "5 son =  5\n",
      "6 son =  6\n",
      "7 son =  7\n",
      "8 son =  8\n",
      "9 son =  90\n",
      "10 son =  0\n",
      "6\n"
     ]
    }
   ],
   "source": [
    "# 14\n",
    "b = int(input(\"b = \"))\n",
    "j = 0\n",
    "n1 = 0\n",
    "x = True\n",
    "for i in range(1,11):\n",
    "    \n",
    "    n = int(input(f\"{i} son =  \"))\n",
    "    \n",
    "    if n > b and x:\n",
    "        j = i\n",
    "        n1 = n\n",
    "        x = False\n",
    "        \n",
    "    if n1 > n and n > b:\n",
    "        n1 = n\n",
    "        j = i\n",
    "        \n",
    "    \n",
    "if j :\n",
    "    print(j)\n",
    "else:\n",
    "    print(\"0\")\n",
    "\n"
   ]
  },
  {
   "cell_type": "code",
   "execution_count": 49,
   "id": "956dc198",
   "metadata": {},
   "outputs": [
    {
     "name": "stdout",
     "output_type": "stream",
     "text": [
      "0 < b < c\n",
      "b = 5\n",
      "c = 25\n",
      "1 son = 3\n",
      "2 son = 4\n",
      "3 son = 5\n",
      "4 son = 6\n",
      "5 son = 6\n",
      "6 son = 7\n",
      "7 son = 8\n",
      "8 son = 6\n",
      "9 son = 4\n",
      "10 son = 4\n",
      "7\n"
     ]
    }
   ],
   "source": [
    "# 15\n",
    "print(\"0 < b < c\")\n",
    "\n",
    "b = int(input(\"b = \"))\n",
    "c = int(input(\"c = \"))\n",
    "\n",
    "j = 0\n",
    "for i in range(10):\n",
    "    n = int(input(f\"{i+1} son = \"))\n",
    "    \n",
    "    if(n > b and n < c):\n",
    "        j = i \n",
    "\n",
    "if(j != 0):\n",
    "    print(j)\n",
    "else:\n",
    "    print(\"0\")\n",
    "        \n",
    "        \n",
    "    \n",
    "    \n"
   ]
  },
  {
   "cell_type": "code",
   "execution_count": 48,
   "id": "421739a9",
   "metadata": {},
   "outputs": [
    {
     "name": "stdout",
     "output_type": "stream",
     "text": [
      "n = 5\n",
      "a = 3\n",
      "a = 2\n",
      "a = 1\n",
      "a = 4\n",
      "a = 5\n",
      "2\n"
     ]
    }
   ],
   "source": [
    "# 16\n",
    "n = int(input(\"n = \"))\n",
    "index = 0\n",
    "for i in range(1,n+1):\n",
    "    \n",
    "    a =int(input(\"a = \"))\n",
    "    \n",
    "    if i == 1:\n",
    "        mini = a\n",
    "        \n",
    "    if a < mini:\n",
    "        mini = a\n",
    "        index = i\n",
    "        \n",
    "print(index-1)"
   ]
  },
  {
   "cell_type": "code",
   "execution_count": 46,
   "id": "572b30f0",
   "metadata": {},
   "outputs": [
    {
     "name": "stdout",
     "output_type": "stream",
     "text": [
      "n = 5\n",
      "son = 1\n",
      "son = 2\n",
      "son = 3\n",
      "son = 2\n",
      "son = 1\n",
      "2\n"
     ]
    }
   ],
   "source": [
    "# 17\n",
    "n = int(input(\"n = \"))\n",
    "\n",
    "index = 0\n",
    "for i in range(1, n+1):\n",
    "    \n",
    "    a = int(input(\"son = \"))\n",
    "    \n",
    "    if i == 1:\n",
    "        maxi = a\n",
    "        \n",
    "    if maxi < a:\n",
    "        maxi = a\n",
    "        index = i\n",
    "print(n-index)\n",
    "        "
   ]
  },
  {
   "cell_type": "code",
   "execution_count": 45,
   "id": "27eb8320",
   "metadata": {},
   "outputs": [
    {
     "name": "stdout",
     "output_type": "stream",
     "text": [
      "n = 10\n",
      "son = 1\n",
      "son = 2\n",
      "son = 3\n",
      "son = 4\n",
      "son = 5\n",
      "son = 4\n",
      "son = 3\n",
      "son = 2\n",
      "son = 5\n",
      "son = 1\n",
      "3\n"
     ]
    }
   ],
   "source": [
    "# 18\n",
    "n = int(input(\"n = \"))\n",
    "index1, index2 = 0,0\n",
    "for i in range(n):\n",
    "    \n",
    "    a = int(input(\"son = \"))\n",
    "    \n",
    "    if i == 0:\n",
    "        maxi = a\n",
    "    \n",
    "    if maxi < a:\n",
    "        maxi = a\n",
    "        index1 = i\n",
    "        \n",
    "    if maxi == a:\n",
    "        index2 = i\n",
    "        \n",
    "if not index2:\n",
    "    print(0)\n",
    "else:\n",
    "    print(index2-index1-1)\n",
    "    "
   ]
  },
  {
   "cell_type": "code",
   "execution_count": 38,
   "id": "dfdea793",
   "metadata": {},
   "outputs": [
    {
     "name": "stdout",
     "output_type": "stream",
     "text": [
      "n = 6\n",
      "son = 1\n",
      "son = 1\n",
      "son = 1\n",
      "son = 2\n",
      "son = 3\n",
      "son = 4\n",
      "3\n"
     ]
    }
   ],
   "source": [
    "# 19\n",
    "\n",
    "n = int(input(\"n = \"))\n",
    "\n",
    "for i in range(n):\n",
    "    \n",
    "    a = int(input(\"son = \"))\n",
    "    \n",
    "    if i == 0:\n",
    "        mini = a\n",
    "        s = 0\n",
    "    if mini > a:\n",
    "        mini = a\n",
    "        s = 1\n",
    "    elif mini == a:\n",
    "        s += 1\n",
    "        \n",
    "print(s)\n",
    "    "
   ]
  },
  {
   "cell_type": "code",
   "execution_count": 36,
   "id": "f8006a85",
   "metadata": {},
   "outputs": [
    {
     "name": "stdout",
     "output_type": "stream",
     "text": [
      "n = 3\n",
      "a = 1\n",
      "a = 1\n",
      "a = 1\n",
      "3 0\n"
     ]
    }
   ],
   "source": [
    "# 20\n",
    "\n",
    "n = int(input(\"n = \"))\n",
    "\n",
    "for i in range(n):\n",
    "    \n",
    "    a = int(input(\"a = \"))\n",
    "    \n",
    "    if i == 0:\n",
    "        mini = a\n",
    "        S_min = 0\n",
    "        maxi = a\n",
    "        S_max = 0\n",
    "        \n",
    "    if mini > a:\n",
    "        mini = a\n",
    "        S_min = 0\n",
    "        \n",
    "    if a == mini:\n",
    "        S_min +=1\n",
    "        \n",
    "    if maxi < a:\n",
    "        maxi = a\n",
    "        S_max = 0\n",
    "        \n",
    "    if mini==maxi:\n",
    "        continue\n",
    "        \n",
    "    if maxi == a:\n",
    "        S_max += 1\n",
    "        \n",
    "    \n",
    "                \n",
    "print(S_min + S_max)"
   ]
  },
  {
   "cell_type": "code",
   "execution_count": 50,
   "id": "4c595deb",
   "metadata": {},
   "outputs": [
    {
     "name": "stdout",
     "output_type": "stream",
     "text": [
      "n = 5\n",
      "son = 1\n",
      "son = 2\n",
      "son = 3\n",
      "son = 4\n",
      "son = 5\n",
      "To'plam orta qiymati : 3.0\n"
     ]
    }
   ],
   "source": [
    "# 21\n",
    "n = int(input(\"n = \"))\n",
    "s = 0\n",
    "\n",
    "for i in range(n):\n",
    "    a = int(input(\"son = \"))\n",
    "    if i == 0:\n",
    "        mini = a\n",
    "        maxi = a\n",
    "    if maxi < a:\n",
    "        maxi = a\n",
    "    if mini > a:\n",
    "        mini = a\n",
    "        \n",
    "    s += a\n",
    "    \n",
    "s -= (mini + maxi)\n",
    "\n",
    "print(\"To'plam orta qiymati :\", s/(n-2) )"
   ]
  },
  {
   "cell_type": "code",
   "execution_count": 19,
   "id": "e85428f6",
   "metadata": {},
   "outputs": [
    {
     "name": "stdout",
     "output_type": "stream",
     "text": [
      "n = 5\n",
      "son = 1\n",
      "son = 1\n",
      "son = 2\n",
      "son = 3\n",
      "son = 4\n",
      "1 1\n"
     ]
    }
   ],
   "source": [
    "# 22\n",
    "n = int(input(\"n = \"))\n",
    "\n",
    "min_son1 = int(input(\"son = \"))\n",
    "min_son2 = int(input(\"son = \"))\n",
    "\n",
    "if min_son1 < min_son2:\n",
    "    min_son1, min_son2 = min_son2, min_son1\n",
    "    \n",
    "for i in range(2,n):\n",
    "    a =  int(input(\"son = \"))\n",
    "    \n",
    "    if a <= min_son1:\n",
    "        min_son2 = min_son1\n",
    "        min_son1 =  a\n",
    "        \n",
    "    elif a <= min_son2:\n",
    "        min_son2 = a\n",
    "    \n",
    "print(min_son1, min_son2)"
   ]
  },
  {
   "cell_type": "code",
   "execution_count": 14,
   "id": "20ee4dbd",
   "metadata": {},
   "outputs": [
    {
     "name": "stdout",
     "output_type": "stream",
     "text": [
      "n = 5\n",
      "son = 1\n",
      "son = 2\n",
      "son = 2\n",
      "son = 2\n",
      "son = 1\n",
      "2 2 2\n"
     ]
    }
   ],
   "source": [
    "# 23\n",
    "n = int(input(\"n = \"))\n",
    "\n",
    "max_son1 = int(input(\"son = \"))\n",
    "max_son2 = int(input(\"son = \"))\n",
    "max_son3 = int(input(\"son = \"))\n",
    "\n",
    "if max_son1 < max_son2:\n",
    "    max_son1, max_son2 = max_son2, max_son1\n",
    "if max_son3 > max_son1:\n",
    "    max_son1, max_son3 = max_son3, max_son1\n",
    "if max_son3 > max_son2:\n",
    "    max_son2, max_son3 = max_son3, max_son2\n",
    "\n",
    "\n",
    "for i in range(4, n+1):\n",
    "    \n",
    "    a = int(input(\"son = \"))\n",
    "    \n",
    "    if a >= max_son1:\n",
    "        max_son3 = max_son2\n",
    "        max_son2 = max_son1\n",
    "        max_son1 = a\n",
    "    elif a >= max_son2:\n",
    "        max_son3 = max_son2\n",
    "        max_son2 = a\n",
    "    elif a >= max_son3:\n",
    "        max_son3 = a\n",
    "        \n",
    "print(max_son1, max_son2, max_son3)"
   ]
  },
  {
   "cell_type": "code",
   "execution_count": 32,
   "id": "24171e28",
   "metadata": {},
   "outputs": [
    {
     "name": "stdout",
     "output_type": "stream",
     "text": [
      "n = 5\n",
      "3\n",
      "2\n",
      "1\n",
      "5\n",
      "4\n",
      "9\n"
     ]
    }
   ],
   "source": [
    "# 24\n",
    "n = int(input(\"n = \"))\n",
    "\n",
    "\n",
    "for i in range(n):\n",
    "    b = a\n",
    "    a = int(input(\"son = \"))  \n",
    "    s = a + b\n",
    "    if i == 0:\n",
    "        max_s = a + b\n",
    "        \n",
    "    if max_s < s:\n",
    "        max_s = s\n",
    "        \n",
    "        \n",
    "print(\"Yig'indsi eng katta elementlar : \",max_s)"
   ]
  },
  {
   "cell_type": "code",
   "execution_count": 31,
   "id": "c182f089",
   "metadata": {},
   "outputs": [
    {
     "name": "stdout",
     "output_type": "stream",
     "text": [
      "n = 5\n",
      "4\n",
      "3\n",
      "2\n",
      "3\n",
      "4\n",
      "kopaytmasi eng kichik ketmaketlik indekslari  2 3\n"
     ]
    }
   ],
   "source": [
    "# 25\n",
    "n = int(input(\"n = \"))\n",
    "\n",
    "\n",
    "b = 0\n",
    "p = 0\n",
    "p1 = 0\n",
    "\n",
    "for i in range(n):\n",
    "    b = a\n",
    "    a = int(input(\"son = \"))  \n",
    "    \n",
    "    if b != 0:\n",
    "        p = a * b\n",
    "        \n",
    "    if i == 1:\n",
    "        p1 = p\n",
    "        \n",
    "    if p1 > p:\n",
    "        i1 = i\n",
    "        \n",
    "        \n",
    "        \n",
    "print(\"kopaytmasi eng kichik ketmaketlik indekslari : \",i1-1, i1)"
   ]
  },
  {
   "cell_type": "code",
   "execution_count": 10,
   "id": "d5564aa4",
   "metadata": {},
   "outputs": [
    {
     "name": "stdout",
     "output_type": "stream",
     "text": [
      "n = 5\n",
      "son = 2\n",
      "son = 4\n",
      "son = 5\n",
      "son = 6\n",
      "son = 4\n",
      "ketma-ket kelgan max juft sonlar :  2\n"
     ]
    }
   ],
   "source": [
    "# 26\n",
    "\n",
    "n = int(input(\"n = \"))\n",
    "max_juft = 0\n",
    "j = 0\n",
    "\n",
    "for i in range(n):\n",
    "    a = int(input(\"son = \"))  \n",
    "    if a % 2 == 0:\n",
    "        j += 1\n",
    "        \n",
    "    else:\n",
    "        if max_juft < j:\n",
    "            max_juft = j    \n",
    "        j = 0\n",
    "        \n",
    "print(\"ketma-ket kelgan max juft sonlar : \",max_juft)"
   ]
  },
  {
   "cell_type": "code",
   "execution_count": 113,
   "id": "2607a53c",
   "metadata": {},
   "outputs": [
    {
     "name": "stdout",
     "output_type": "stream",
     "text": [
      "n > 1\n",
      "n = 5\n",
      "faqat 1 va 0 sonlarini kiriting\n",
      "0\n",
      "1\n",
      "0\n",
      "1\n",
      "1\n",
      "5 1\n"
     ]
    }
   ],
   "source": [
    "# 27\n",
    "n = int(input(\"n = \"))\n",
    "i = 1\n",
    "index = 0\n",
    "j = 0\n",
    "j1 = 0\n",
    "while i <= n:\n",
    "    \n",
    "    a = int(input(\"son = \"))\n",
    "    \n",
    "    if a == 1:\n",
    "        if j1 == 0:\n",
    "            index1 = i\n",
    "        j1 += 1\n",
    "    else:\n",
    "        if j < j1:\n",
    "            index = index1\n",
    "            j = j1\n",
    "        index1 = 0\n",
    "        j1 = 0\n",
    "        \n",
    "    \n",
    "    \n",
    "    \n",
    "    i += 1\n",
    "print(\"indeksi :\",index, \"\\nketmaketlik soni :\" ,j, sep=\" \")"
   ]
  },
  {
   "cell_type": "code",
   "execution_count": 22,
   "id": "f2616305",
   "metadata": {},
   "outputs": [
    {
     "name": "stdout",
     "output_type": "stream",
     "text": [
      "n = 10\n",
      "son = 1\n",
      "son = 1\n",
      "son = 0\n",
      "son = 1\n",
      "son = 1\n",
      "son = 1\n",
      "son = 0\n",
      "son = 1\n",
      "son = 1\n",
      "son = 1\n",
      "indeksi : 4 \n",
      "ketmaketlik soni : 3\n"
     ]
    }
   ],
   "source": [
    "# 28\n",
    "n = int(input(\"n = \"))\n",
    "i = 1\n",
    "index = 0\n",
    "j = 0\n",
    "j1 = 0\n",
    "while i <= n:\n",
    "    \n",
    "    a = int(input(\"son = \"))\n",
    "    \n",
    "    if a == 1:\n",
    "        if j1 == 0:\n",
    "            index1 = i\n",
    "        j1 += 1\n",
    "    else:\n",
    "        if j < j1:\n",
    "            index = index1\n",
    "            j = j1\n",
    "        index1 = 0\n",
    "        j1 = 0\n",
    "        \n",
    "    \n",
    "    \n",
    "    \n",
    "    i += 1\n",
    "if j != 0:\n",
    "    print(\"indeksi :\",index, \"\\nketmaketlik soni :\" ,j, sep=\" \")\n",
    "else:\n",
    "    print(0)"
   ]
  },
  {
   "cell_type": "code",
   "execution_count": 71,
   "id": "315b5edf",
   "metadata": {},
   "outputs": [
    {
     "name": "stdout",
     "output_type": "stream",
     "text": [
      "n = 5\n",
      "son = 1\n",
      "son = 0\n",
      "son = 1\n",
      "son = 0\n",
      "son = 0\n",
      "2\n"
     ]
    }
   ],
   "source": [
    "# 29\n",
    "n = int(input(\"n = \"))\n",
    "son = 0\n",
    "i = 1\n",
    "index = 0\n",
    "while i <= n:\n",
    "    a = int(input(\"son = \"))\n",
    "    \n",
    "    if i == 1:\n",
    "        kichik = a\n",
    "        son = 1\n",
    "        index = i\n",
    "        \n",
    "    if a < kichik:\n",
    "        kichik = a\n",
    "        son = 1\n",
    "        index = i\n",
    "        \n",
    "    if a == kichik and index != i-1:\n",
    "        son = 1\n",
    "        index = i\n",
    "        \n",
    "    if a == kichik and index == i-1:\n",
    "        son += 1\n",
    "        index = i\n",
    "    \n",
    "    i += 1\n",
    "print(son)"
   ]
  },
  {
   "cell_type": "code",
   "execution_count": 5,
   "id": "0b0ce23d",
   "metadata": {
    "scrolled": false
   },
   "outputs": [
    {
     "name": "stdout",
     "output_type": "stream",
     "text": [
      "n = 8\n",
      "son = 2\n",
      "son = 1\n",
      "son = 2\n",
      "son = 2\n",
      "son = 1\n",
      "son = 2\n",
      "son = 2\n",
      "son = 2\n",
      "1\n"
     ]
    }
   ],
   "source": [
    "# 30\n",
    "n = int(input(\"n = \"))\n",
    "sana = 0\n",
    "min_sana = n\n",
    "index1 = 0\n",
    "i = 1\n",
    "while i <= n:\n",
    "    \n",
    "    a = int(input(\"son = \"))\n",
    "    \n",
    "    if i == 1:\n",
    "        katta = a\n",
    "        sana = 1\n",
    "        index = i\n",
    "        \n",
    "    if a > katta:\n",
    "        katta = a\n",
    "        sana = 1\n",
    "        index = i\n",
    "        min_sana = n - i\n",
    "    \n",
    "    if a == katta and i - 1 == index:\n",
    "        sana += 1\n",
    "        index = i\n",
    "        \n",
    "        \n",
    "    if a == katta and i - 1 != index:\n",
    "        index = i\n",
    "        if sana < min_sana:\n",
    "            min_sana = sana\n",
    "        sana = 1\n",
    "    i += 1\n",
    "    \n",
    "if sana < min_sana:\n",
    "            min_sana = sana\n",
    "        \n",
    "print(min_sana)\n",
    "    "
   ]
  },
  {
   "cell_type": "code",
   "execution_count": null,
   "id": "56eb915f",
   "metadata": {},
   "outputs": [],
   "source": []
  }
 ],
 "metadata": {
  "kernelspec": {
   "display_name": "Python 3 (ipykernel)",
   "language": "python",
   "name": "python3"
  },
  "language_info": {
   "codemirror_mode": {
    "name": "ipython",
    "version": 3
   },
   "file_extension": ".py",
   "mimetype": "text/x-python",
   "name": "python",
   "nbconvert_exporter": "python",
   "pygments_lexer": "ipython3",
   "version": "3.9.7"
  }
 },
 "nbformat": 4,
 "nbformat_minor": 5
}
